{
 "cells": [
  {
   "cell_type": "code",
   "execution_count": null,
   "id": "oriented-breath",
   "metadata": {},
   "outputs": [],
   "source": [
    "import tensorflow as tf\n",
    "from tensorflow.keras.layers import Flatten, Dense, Dropout, Activation\n",
    "\n",
    "class CustomDense(tf.keras.layers.Layer):\n",
    "    def __init__(self, num_units, activation=\"relu\"):\n",
    "        super(CustomDense, self).__init__()\n",
    "        self.num_units = num_units\n",
    "        self.activation = Activation(activation)\n",
    "\n",
    "    def build(self, input_shape):\n",
    "        ## (32, 784) * (784, 10) + (10)\n",
    "        self.weight = self.add_weight(shape=[input_shape[-1], self.num_units])\n",
    "        self.bias = self.add_weight(shape=[self.num_units])\n",
    "\n",
    "    def call(self, input):\n",
    "        y = tf.matmul(input, self.weight) + self.bias\n",
    "        y = self.activation(y)\n",
    "        return y\n",
    "\n",
    "if __name__ == \"__main__\":\n",
    "    mnist = tf.keras.datasets.mnist\n",
    "    (x_train, y_train), (x_test, y_test) = mnist.load_data()\n",
    "    x_train = x_train/255.0\n",
    "    x_test = x_test/255.0\n",
    "\n",
    "    model = tf.keras.models.Sequential([\n",
    "        Flatten(input_shape=(28, 28)),\n",
    "        CustomDense(128, activation=\"relu\"),\n",
    "        Dropout(0.3),\n",
    "        CustomDense(10, activation=\"softmax\")\n",
    "    ])\n",
    "\n",
    "    model.compile(optimizer=\"adam\", loss=\"sparse_categorical_crossentropy\",\n",
    "        metrics=[\"acc\"])\n",
    "    model.fit(x_train, y_train, epochs=5, batch_size=32)\n",
    "    model.evaluate(x_test, y_test)"
   ]
  }
 ],
 "metadata": {
  "kernelspec": {
   "display_name": "Python 3",
   "language": "python",
   "name": "python3"
  },
  "language_info": {
   "codemirror_mode": {
    "name": "ipython",
    "version": 3
   },
   "file_extension": ".py",
   "mimetype": "text/x-python",
   "name": "python",
   "nbconvert_exporter": "python",
   "pygments_lexer": "ipython3",
   "version": "3.7.1"
  },
  "latex_envs": {
   "LaTeX_envs_menu_present": true,
   "autoclose": false,
   "autocomplete": true,
   "bibliofile": "biblio.bib",
   "cite_by": "apalike",
   "current_citInitial": 1,
   "eqLabelWithNumbers": true,
   "eqNumInitial": 1,
   "hotkeys": {
    "equation": "Ctrl-E",
    "itemize": "Ctrl-I"
   },
   "labels_anchors": false,
   "latex_user_defs": false,
   "report_style_numbering": false,
   "user_envs_cfg": false
  }
 },
 "nbformat": 4,
 "nbformat_minor": 5
}
