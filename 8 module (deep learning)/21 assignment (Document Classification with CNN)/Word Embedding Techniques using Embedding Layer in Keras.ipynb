{
 "cells": [
  {
   "cell_type": "markdown",
   "id": "overhead-ethernet",
   "metadata": {},
   "source": [
    "# Character Embedding"
   ]
  },
  {
   "cell_type": "code",
   "execution_count": 107,
   "id": "primary-shipping",
   "metadata": {
    "scrolled": true
   },
   "outputs": [
    {
     "name": "stdout",
     "output_type": "stream",
     "text": [
      "Vocabulary Size: 38\n",
      "Model: \"sequential_1\"\n",
      "_________________________________________________________________\n",
      "Layer (type)                 Output Shape              Param #   \n",
      "=================================================================\n",
      "lstm_1 (LSTM)                (None, 75)                34200     \n",
      "_________________________________________________________________\n",
      "dense_1 (Dense)              (None, 38)                2888      \n",
      "=================================================================\n",
      "Total params: 37,088\n",
      "Trainable params: 37,088\n",
      "Non-trainable params: 0\n",
      "_________________________________________________________________\n",
      "None\n",
      "Epoch 1/100\n"
     ]
    },
    {
     "ename": "InternalError",
     "evalue": " Blas GEMM launch failed : a.shape=(32, 75), b.shape=(75, 300), m=32, n=300, k=75\n\t [[{{node lstm_1/while/body/_1/MatMul_1}}]] [Op:__inference_keras_scratch_graph_1660]\n\nFunction call stack:\nkeras_scratch_graph\n",
     "output_type": "error",
     "traceback": [
      "\u001b[1;31m---------------------------------------------------------------------------\u001b[0m",
      "\u001b[1;31mInternalError\u001b[0m                             Traceback (most recent call last)",
      "\u001b[1;32m<ipython-input-107-2752cd2f7b66>\u001b[0m in \u001b[0;36m<module>\u001b[1;34m\u001b[0m\n\u001b[0;32m     50\u001b[0m \u001b[0mmodel\u001b[0m\u001b[1;33m.\u001b[0m\u001b[0mcompile\u001b[0m\u001b[1;33m(\u001b[0m\u001b[0mloss\u001b[0m\u001b[1;33m=\u001b[0m\u001b[1;34m'categorical_crossentropy'\u001b[0m\u001b[1;33m,\u001b[0m \u001b[0moptimizer\u001b[0m\u001b[1;33m=\u001b[0m\u001b[1;34m'adam'\u001b[0m\u001b[1;33m,\u001b[0m \u001b[0mmetrics\u001b[0m\u001b[1;33m=\u001b[0m\u001b[1;33m[\u001b[0m\u001b[1;34m'accuracy'\u001b[0m\u001b[1;33m]\u001b[0m\u001b[1;33m)\u001b[0m\u001b[1;33m\u001b[0m\u001b[1;33m\u001b[0m\u001b[0m\n\u001b[0;32m     51\u001b[0m \u001b[1;31m# fit model\u001b[0m\u001b[1;33m\u001b[0m\u001b[1;33m\u001b[0m\u001b[1;33m\u001b[0m\u001b[0m\n\u001b[1;32m---> 52\u001b[1;33m \u001b[0mmodel\u001b[0m\u001b[1;33m.\u001b[0m\u001b[0mfit\u001b[0m\u001b[1;33m(\u001b[0m\u001b[0mX\u001b[0m\u001b[1;33m,\u001b[0m \u001b[0my\u001b[0m\u001b[1;33m,\u001b[0m \u001b[0mepochs\u001b[0m\u001b[1;33m=\u001b[0m\u001b[1;36m100\u001b[0m\u001b[1;33m,\u001b[0m \u001b[0mverbose\u001b[0m\u001b[1;33m=\u001b[0m\u001b[1;36m2\u001b[0m\u001b[1;33m)\u001b[0m\u001b[1;33m\u001b[0m\u001b[1;33m\u001b[0m\u001b[0m\n\u001b[0m\u001b[0;32m     53\u001b[0m \u001b[1;33m\u001b[0m\u001b[0m\n\u001b[0;32m     54\u001b[0m \u001b[1;31m# save the model to file\u001b[0m\u001b[1;33m\u001b[0m\u001b[1;33m\u001b[0m\u001b[1;33m\u001b[0m\u001b[0m\n",
      "\u001b[1;32m~\\Anaconda3\\lib\\site-packages\\keras\\engine\\training.py\u001b[0m in \u001b[0;36mfit\u001b[1;34m(self, x, y, batch_size, epochs, verbose, callbacks, validation_split, validation_data, shuffle, class_weight, sample_weight, initial_epoch, steps_per_epoch, validation_steps, validation_freq, max_queue_size, workers, use_multiprocessing, **kwargs)\u001b[0m\n\u001b[0;32m   1237\u001b[0m                                         \u001b[0msteps_per_epoch\u001b[0m\u001b[1;33m=\u001b[0m\u001b[0msteps_per_epoch\u001b[0m\u001b[1;33m,\u001b[0m\u001b[1;33m\u001b[0m\u001b[1;33m\u001b[0m\u001b[0m\n\u001b[0;32m   1238\u001b[0m                                         \u001b[0mvalidation_steps\u001b[0m\u001b[1;33m=\u001b[0m\u001b[0mvalidation_steps\u001b[0m\u001b[1;33m,\u001b[0m\u001b[1;33m\u001b[0m\u001b[1;33m\u001b[0m\u001b[0m\n\u001b[1;32m-> 1239\u001b[1;33m                                         validation_freq=validation_freq)\n\u001b[0m\u001b[0;32m   1240\u001b[0m \u001b[1;33m\u001b[0m\u001b[0m\n\u001b[0;32m   1241\u001b[0m     def evaluate(self,\n",
      "\u001b[1;32m~\\Anaconda3\\lib\\site-packages\\keras\\engine\\training_arrays.py\u001b[0m in \u001b[0;36mfit_loop\u001b[1;34m(model, fit_function, fit_inputs, out_labels, batch_size, epochs, verbose, callbacks, val_function, val_inputs, shuffle, initial_epoch, steps_per_epoch, validation_steps, validation_freq)\u001b[0m\n\u001b[0;32m    194\u001b[0m                     \u001b[0mins_batch\u001b[0m\u001b[1;33m[\u001b[0m\u001b[0mi\u001b[0m\u001b[1;33m]\u001b[0m \u001b[1;33m=\u001b[0m \u001b[0mins_batch\u001b[0m\u001b[1;33m[\u001b[0m\u001b[0mi\u001b[0m\u001b[1;33m]\u001b[0m\u001b[1;33m.\u001b[0m\u001b[0mtoarray\u001b[0m\u001b[1;33m(\u001b[0m\u001b[1;33m)\u001b[0m\u001b[1;33m\u001b[0m\u001b[1;33m\u001b[0m\u001b[0m\n\u001b[0;32m    195\u001b[0m \u001b[1;33m\u001b[0m\u001b[0m\n\u001b[1;32m--> 196\u001b[1;33m                 \u001b[0mouts\u001b[0m \u001b[1;33m=\u001b[0m \u001b[0mfit_function\u001b[0m\u001b[1;33m(\u001b[0m\u001b[0mins_batch\u001b[0m\u001b[1;33m)\u001b[0m\u001b[1;33m\u001b[0m\u001b[1;33m\u001b[0m\u001b[0m\n\u001b[0m\u001b[0;32m    197\u001b[0m                 \u001b[0mouts\u001b[0m \u001b[1;33m=\u001b[0m \u001b[0mto_list\u001b[0m\u001b[1;33m(\u001b[0m\u001b[0mouts\u001b[0m\u001b[1;33m)\u001b[0m\u001b[1;33m\u001b[0m\u001b[1;33m\u001b[0m\u001b[0m\n\u001b[0;32m    198\u001b[0m                 \u001b[1;32mfor\u001b[0m \u001b[0ml\u001b[0m\u001b[1;33m,\u001b[0m \u001b[0mo\u001b[0m \u001b[1;32min\u001b[0m \u001b[0mzip\u001b[0m\u001b[1;33m(\u001b[0m\u001b[0mout_labels\u001b[0m\u001b[1;33m,\u001b[0m \u001b[0mouts\u001b[0m\u001b[1;33m)\u001b[0m\u001b[1;33m:\u001b[0m\u001b[1;33m\u001b[0m\u001b[1;33m\u001b[0m\u001b[0m\n",
      "\u001b[1;32m~\\Anaconda3\\lib\\site-packages\\tensorflow_core\\python\\keras\\backend.py\u001b[0m in \u001b[0;36m__call__\u001b[1;34m(self, inputs)\u001b[0m\n\u001b[0;32m   3738\u001b[0m         \u001b[0mvalue\u001b[0m \u001b[1;33m=\u001b[0m \u001b[0mmath_ops\u001b[0m\u001b[1;33m.\u001b[0m\u001b[0mcast\u001b[0m\u001b[1;33m(\u001b[0m\u001b[0mvalue\u001b[0m\u001b[1;33m,\u001b[0m \u001b[0mtensor\u001b[0m\u001b[1;33m.\u001b[0m\u001b[0mdtype\u001b[0m\u001b[1;33m)\u001b[0m\u001b[1;33m\u001b[0m\u001b[1;33m\u001b[0m\u001b[0m\n\u001b[0;32m   3739\u001b[0m       \u001b[0mconverted_inputs\u001b[0m\u001b[1;33m.\u001b[0m\u001b[0mappend\u001b[0m\u001b[1;33m(\u001b[0m\u001b[0mvalue\u001b[0m\u001b[1;33m)\u001b[0m\u001b[1;33m\u001b[0m\u001b[1;33m\u001b[0m\u001b[0m\n\u001b[1;32m-> 3740\u001b[1;33m     \u001b[0moutputs\u001b[0m \u001b[1;33m=\u001b[0m \u001b[0mself\u001b[0m\u001b[1;33m.\u001b[0m\u001b[0m_graph_fn\u001b[0m\u001b[1;33m(\u001b[0m\u001b[1;33m*\u001b[0m\u001b[0mconverted_inputs\u001b[0m\u001b[1;33m)\u001b[0m\u001b[1;33m\u001b[0m\u001b[1;33m\u001b[0m\u001b[0m\n\u001b[0m\u001b[0;32m   3741\u001b[0m \u001b[1;33m\u001b[0m\u001b[0m\n\u001b[0;32m   3742\u001b[0m     \u001b[1;31m# EagerTensor.numpy() will often make a copy to ensure memory safety.\u001b[0m\u001b[1;33m\u001b[0m\u001b[1;33m\u001b[0m\u001b[1;33m\u001b[0m\u001b[0m\n",
      "\u001b[1;32m~\\Anaconda3\\lib\\site-packages\\tensorflow_core\\python\\eager\\function.py\u001b[0m in \u001b[0;36m__call__\u001b[1;34m(self, *args, **kwargs)\u001b[0m\n\u001b[0;32m   1079\u001b[0m       \u001b[0mTypeError\u001b[0m\u001b[1;33m:\u001b[0m \u001b[0mFor\u001b[0m \u001b[0minvalid\u001b[0m \u001b[0mpositional\u001b[0m\u001b[1;33m/\u001b[0m\u001b[0mkeyword\u001b[0m \u001b[0margument\u001b[0m \u001b[0mcombinations\u001b[0m\u001b[1;33m.\u001b[0m\u001b[1;33m\u001b[0m\u001b[1;33m\u001b[0m\u001b[0m\n\u001b[0;32m   1080\u001b[0m     \"\"\"\n\u001b[1;32m-> 1081\u001b[1;33m     \u001b[1;32mreturn\u001b[0m \u001b[0mself\u001b[0m\u001b[1;33m.\u001b[0m\u001b[0m_call_impl\u001b[0m\u001b[1;33m(\u001b[0m\u001b[0margs\u001b[0m\u001b[1;33m,\u001b[0m \u001b[0mkwargs\u001b[0m\u001b[1;33m)\u001b[0m\u001b[1;33m\u001b[0m\u001b[1;33m\u001b[0m\u001b[0m\n\u001b[0m\u001b[0;32m   1082\u001b[0m \u001b[1;33m\u001b[0m\u001b[0m\n\u001b[0;32m   1083\u001b[0m   \u001b[1;32mdef\u001b[0m \u001b[0m_call_impl\u001b[0m\u001b[1;33m(\u001b[0m\u001b[0mself\u001b[0m\u001b[1;33m,\u001b[0m \u001b[0margs\u001b[0m\u001b[1;33m,\u001b[0m \u001b[0mkwargs\u001b[0m\u001b[1;33m,\u001b[0m \u001b[0mcancellation_manager\u001b[0m\u001b[1;33m=\u001b[0m\u001b[1;32mNone\u001b[0m\u001b[1;33m)\u001b[0m\u001b[1;33m:\u001b[0m\u001b[1;33m\u001b[0m\u001b[1;33m\u001b[0m\u001b[0m\n",
      "\u001b[1;32m~\\Anaconda3\\lib\\site-packages\\tensorflow_core\\python\\eager\\function.py\u001b[0m in \u001b[0;36m_call_impl\u001b[1;34m(self, args, kwargs, cancellation_manager)\u001b[0m\n\u001b[0;32m   1119\u001b[0m       raise TypeError(\"Keyword arguments {} unknown. Expected {}.\".format(\n\u001b[0;32m   1120\u001b[0m           list(kwargs.keys()), list(self._arg_keywords)))\n\u001b[1;32m-> 1121\u001b[1;33m     \u001b[1;32mreturn\u001b[0m \u001b[0mself\u001b[0m\u001b[1;33m.\u001b[0m\u001b[0m_call_flat\u001b[0m\u001b[1;33m(\u001b[0m\u001b[0margs\u001b[0m\u001b[1;33m,\u001b[0m \u001b[0mself\u001b[0m\u001b[1;33m.\u001b[0m\u001b[0mcaptured_inputs\u001b[0m\u001b[1;33m,\u001b[0m \u001b[0mcancellation_manager\u001b[0m\u001b[1;33m)\u001b[0m\u001b[1;33m\u001b[0m\u001b[1;33m\u001b[0m\u001b[0m\n\u001b[0m\u001b[0;32m   1122\u001b[0m \u001b[1;33m\u001b[0m\u001b[0m\n\u001b[0;32m   1123\u001b[0m   \u001b[1;32mdef\u001b[0m \u001b[0m_filtered_call\u001b[0m\u001b[1;33m(\u001b[0m\u001b[0mself\u001b[0m\u001b[1;33m,\u001b[0m \u001b[0margs\u001b[0m\u001b[1;33m,\u001b[0m \u001b[0mkwargs\u001b[0m\u001b[1;33m)\u001b[0m\u001b[1;33m:\u001b[0m\u001b[1;33m\u001b[0m\u001b[1;33m\u001b[0m\u001b[0m\n",
      "\u001b[1;32m~\\Anaconda3\\lib\\site-packages\\tensorflow_core\\python\\eager\\function.py\u001b[0m in \u001b[0;36m_call_flat\u001b[1;34m(self, args, captured_inputs, cancellation_manager)\u001b[0m\n\u001b[0;32m   1222\u001b[0m     \u001b[1;32mif\u001b[0m \u001b[0mexecuting_eagerly\u001b[0m\u001b[1;33m:\u001b[0m\u001b[1;33m\u001b[0m\u001b[1;33m\u001b[0m\u001b[0m\n\u001b[0;32m   1223\u001b[0m       flat_outputs = forward_function.call(\n\u001b[1;32m-> 1224\u001b[1;33m           ctx, args, cancellation_manager=cancellation_manager)\n\u001b[0m\u001b[0;32m   1225\u001b[0m     \u001b[1;32melse\u001b[0m\u001b[1;33m:\u001b[0m\u001b[1;33m\u001b[0m\u001b[1;33m\u001b[0m\u001b[0m\n\u001b[0;32m   1226\u001b[0m       \u001b[0mgradient_name\u001b[0m \u001b[1;33m=\u001b[0m \u001b[0mself\u001b[0m\u001b[1;33m.\u001b[0m\u001b[0m_delayed_rewrite_functions\u001b[0m\u001b[1;33m.\u001b[0m\u001b[0mregister\u001b[0m\u001b[1;33m(\u001b[0m\u001b[1;33m)\u001b[0m\u001b[1;33m\u001b[0m\u001b[1;33m\u001b[0m\u001b[0m\n",
      "\u001b[1;32m~\\Anaconda3\\lib\\site-packages\\tensorflow_core\\python\\eager\\function.py\u001b[0m in \u001b[0;36mcall\u001b[1;34m(self, ctx, args, cancellation_manager)\u001b[0m\n\u001b[0;32m    509\u001b[0m               \u001b[0minputs\u001b[0m\u001b[1;33m=\u001b[0m\u001b[0margs\u001b[0m\u001b[1;33m,\u001b[0m\u001b[1;33m\u001b[0m\u001b[1;33m\u001b[0m\u001b[0m\n\u001b[0;32m    510\u001b[0m               \u001b[0mattrs\u001b[0m\u001b[1;33m=\u001b[0m\u001b[1;33m(\u001b[0m\u001b[1;34m\"executor_type\"\u001b[0m\u001b[1;33m,\u001b[0m \u001b[0mexecutor_type\u001b[0m\u001b[1;33m,\u001b[0m \u001b[1;34m\"config_proto\"\u001b[0m\u001b[1;33m,\u001b[0m \u001b[0mconfig\u001b[0m\u001b[1;33m)\u001b[0m\u001b[1;33m,\u001b[0m\u001b[1;33m\u001b[0m\u001b[1;33m\u001b[0m\u001b[0m\n\u001b[1;32m--> 511\u001b[1;33m               ctx=ctx)\n\u001b[0m\u001b[0;32m    512\u001b[0m         \u001b[1;32melse\u001b[0m\u001b[1;33m:\u001b[0m\u001b[1;33m\u001b[0m\u001b[1;33m\u001b[0m\u001b[0m\n\u001b[0;32m    513\u001b[0m           outputs = execute.execute_with_cancellation(\n",
      "\u001b[1;32m~\\Anaconda3\\lib\\site-packages\\tensorflow_core\\python\\eager\\execute.py\u001b[0m in \u001b[0;36mquick_execute\u001b[1;34m(op_name, num_outputs, inputs, attrs, ctx, name)\u001b[0m\n\u001b[0;32m     65\u001b[0m     \u001b[1;32melse\u001b[0m\u001b[1;33m:\u001b[0m\u001b[1;33m\u001b[0m\u001b[1;33m\u001b[0m\u001b[0m\n\u001b[0;32m     66\u001b[0m       \u001b[0mmessage\u001b[0m \u001b[1;33m=\u001b[0m \u001b[0me\u001b[0m\u001b[1;33m.\u001b[0m\u001b[0mmessage\u001b[0m\u001b[1;33m\u001b[0m\u001b[1;33m\u001b[0m\u001b[0m\n\u001b[1;32m---> 67\u001b[1;33m     \u001b[0msix\u001b[0m\u001b[1;33m.\u001b[0m\u001b[0mraise_from\u001b[0m\u001b[1;33m(\u001b[0m\u001b[0mcore\u001b[0m\u001b[1;33m.\u001b[0m\u001b[0m_status_to_exception\u001b[0m\u001b[1;33m(\u001b[0m\u001b[0me\u001b[0m\u001b[1;33m.\u001b[0m\u001b[0mcode\u001b[0m\u001b[1;33m,\u001b[0m \u001b[0mmessage\u001b[0m\u001b[1;33m)\u001b[0m\u001b[1;33m,\u001b[0m \u001b[1;32mNone\u001b[0m\u001b[1;33m)\u001b[0m\u001b[1;33m\u001b[0m\u001b[1;33m\u001b[0m\u001b[0m\n\u001b[0m\u001b[0;32m     68\u001b[0m   \u001b[1;32mexcept\u001b[0m \u001b[0mTypeError\u001b[0m \u001b[1;32mas\u001b[0m \u001b[0me\u001b[0m\u001b[1;33m:\u001b[0m\u001b[1;33m\u001b[0m\u001b[1;33m\u001b[0m\u001b[0m\n\u001b[0;32m     69\u001b[0m     keras_symbolic_tensors = [\n",
      "\u001b[1;32m~\\Anaconda3\\lib\\site-packages\\six.py\u001b[0m in \u001b[0;36mraise_from\u001b[1;34m(value, from_value)\u001b[0m\n",
      "\u001b[1;31mInternalError\u001b[0m:  Blas GEMM launch failed : a.shape=(32, 75), b.shape=(75, 300), m=32, n=300, k=75\n\t [[{{node lstm_1/while/body/_1/MatMul_1}}]] [Op:__inference_keras_scratch_graph_1660]\n\nFunction call stack:\nkeras_scratch_graph\n"
     ]
    }
   ],
   "source": [
    "from numpy import array\n",
    "from pickle import dump\n",
    "from keras.utils import to_categorical\n",
    "from keras.models import Sequential\n",
    "from keras.layers import Dense\n",
    "from keras.layers import LSTM\n",
    "\n",
    "# load doc into memory\n",
    "def load_doc(filename):\n",
    "\t# open the file as read only\n",
    "\tfile = open(filename, 'r')\n",
    "\t# read all text\n",
    "\ttext = file.read()\n",
    "\t# close the file\n",
    "\tfile.close()\n",
    "\treturn text\n",
    "\n",
    "# load\n",
    "in_filename = 'char_sequences.txt'\n",
    "raw_text = load_doc(in_filename)\n",
    "lines = raw_text.split('\\n')\n",
    "\n",
    "# integer encode sequences of characters\n",
    "chars = sorted(list(set(raw_text)))\n",
    "mapping = dict((c, i) for i, c in enumerate(chars))\n",
    "sequences = list()\n",
    "for line in lines:\n",
    "\t# integer encode line\n",
    "\tencoded_seq = [mapping[char] for char in line]\n",
    "\t# store\n",
    "\tsequences.append(encoded_seq)\n",
    "\n",
    "# vocabulary size\n",
    "vocab_size = len(mapping)\n",
    "print('Vocabulary Size: %d' % vocab_size)\n",
    "\n",
    "# separate into input and output\n",
    "sequences = array(sequences)\n",
    "X, y = sequences[:,:-1], sequences[:,-1]\n",
    "sequences = [to_categorical(x, num_classes=vocab_size) for x in X]\n",
    "X = array(sequences)\n",
    "y = to_categorical(y, num_classes=vocab_size)\n",
    "\n",
    "# define model\n",
    "model = Sequential()\n",
    "model.add(LSTM(75, input_shape=(X.shape[1], X.shape[2])))\n",
    "model.add(Dense(vocab_size, activation='softmax'))\n",
    "print(model.summary())\n",
    "# compile model\n",
    "model.compile(loss='categorical_crossentropy', optimizer='adam', metrics=['accuracy'])\n",
    "# fit model\n",
    "model.fit(X, y, epochs=100, verbose=2)\n",
    "\n",
    "# save the model to file\n",
    "model.save('model.h5')\n",
    "# save the mapping\n",
    "dump(mapping, open('mapping.pkl', 'wb'))"
   ]
  },
  {
   "cell_type": "code",
   "execution_count": null,
   "id": "quantitative-component",
   "metadata": {},
   "outputs": [],
   "source": []
  },
  {
   "cell_type": "code",
   "execution_count": null,
   "id": "generic-database",
   "metadata": {},
   "outputs": [],
   "source": []
  },
  {
   "cell_type": "code",
   "execution_count": null,
   "id": "everyday-peripheral",
   "metadata": {},
   "outputs": [],
   "source": []
  },
  {
   "cell_type": "code",
   "execution_count": null,
   "id": "intelligent-clearance",
   "metadata": {},
   "outputs": [],
   "source": []
  },
  {
   "cell_type": "code",
   "execution_count": null,
   "id": "indie-advocacy",
   "metadata": {},
   "outputs": [],
   "source": []
  },
  {
   "cell_type": "code",
   "execution_count": 92,
   "id": "daily-biodiversity",
   "metadata": {
    "collapsed": true
   },
   "outputs": [
    {
     "name": "stdout",
     "output_type": "stream",
     "text": [
      "Sing a song of sixpence,\n",
      "A pocket full of rye.\n",
      "Four and twenty blackbirds,\n",
      "Baked in a pie.\n",
      "\n",
      "When the pie was opened\n",
      "The birds began to sing;\n",
      "Wasn't that a dainty dish,\n",
      "To set before the king.\n",
      "\n",
      "The king was in his counting house,\n",
      "Counting out his money;\n",
      "The queen was in the parlour,\n",
      "Eating bread and honey.\n",
      "\n",
      "The maid was in the garden,\n",
      "Hanging out the clothes,\n",
      "When down came a blackbird\n",
      "And pecked off her nose.\n"
     ]
    }
   ],
   "source": [
    "# load doc into memory\n",
    "def load_doc(filename):\n",
    "    with open(filename, 'r') as file:\n",
    "        text = file.read()\n",
    "        return text\n",
    "\n",
    "raw_text = load_doc('rhyme.txt')\n",
    "print(raw_text)"
   ]
  },
  {
   "cell_type": "code",
   "execution_count": 93,
   "id": "honey-classification",
   "metadata": {},
   "outputs": [],
   "source": [
    "# clean\n",
    "tokens = raw_text.split()\n",
    "raw_text = ' '.join(tokens)"
   ]
  },
  {
   "cell_type": "code",
   "execution_count": 94,
   "id": "knowing-values",
   "metadata": {},
   "outputs": [
    {
     "name": "stdout",
     "output_type": "stream",
     "text": [
      "Total Sequences: 399\n"
     ]
    }
   ],
   "source": [
    "# organize into sequences of characters\n",
    "length = 10\n",
    "sequences = list()\n",
    "for i in range(length, len(raw_text)):\n",
    "\t# select sequence of tokens\n",
    "\tseq = raw_text[i-length:i+1]\n",
    "\t# store\n",
    "\tsequences.append(seq)\n",
    "print('Total Sequences: %d' % len(sequences))"
   ]
  },
  {
   "cell_type": "code",
   "execution_count": 95,
   "id": "comic-campbell",
   "metadata": {},
   "outputs": [],
   "source": [
    "# save tokens to file, one dialog per line\n",
    "def save_doc(lines, filename):\n",
    "    data = '\\n'.join(lines)\n",
    "    with open(filename, 'w') as file:\n",
    "        file.write(data)\n",
    "        \n",
    "# save sequences to file\n",
    "out_filename = 'char_sequences.txt'\n",
    "save_doc(sequences, out_filename)"
   ]
  },
  {
   "cell_type": "code",
   "execution_count": 96,
   "id": "formal-scenario",
   "metadata": {
    "collapsed": true
   },
   "outputs": [
    {
     "data": {
      "text/plain": [
       "['Sing a song',\n",
       " 'ing a song ',\n",
       " 'ng a song o',\n",
       " 'g a song of',\n",
       " ' a song of ',\n",
       " 'a song of s',\n",
       " ' song of si',\n",
       " 'song of six',\n",
       " 'ong of sixp',\n",
       " 'ng of sixpe',\n",
       " 'g of sixpen',\n",
       " ' of sixpenc',\n",
       " 'of sixpence',\n",
       " 'f sixpence,',\n",
       " ' sixpence, ',\n",
       " 'sixpence, A',\n",
       " 'ixpence, A ',\n",
       " 'xpence, A p',\n",
       " 'pence, A po',\n",
       " 'ence, A poc',\n",
       " 'nce, A pock',\n",
       " 'ce, A pocke',\n",
       " 'e, A pocket',\n",
       " ', A pocket ',\n",
       " ' A pocket f',\n",
       " 'A pocket fu',\n",
       " ' pocket ful',\n",
       " 'pocket full',\n",
       " 'ocket full ',\n",
       " 'cket full o',\n",
       " 'ket full of',\n",
       " 'et full of ',\n",
       " 't full of r',\n",
       " ' full of ry',\n",
       " 'full of rye',\n",
       " 'ull of rye.',\n",
       " 'll of rye. ',\n",
       " 'l of rye. F',\n",
       " ' of rye. Fo',\n",
       " 'of rye. Fou',\n",
       " 'f rye. Four',\n",
       " ' rye. Four ',\n",
       " 'rye. Four a',\n",
       " 'ye. Four an',\n",
       " 'e. Four and',\n",
       " '. Four and ',\n",
       " ' Four and t',\n",
       " 'Four and tw',\n",
       " 'our and twe',\n",
       " 'ur and twen',\n",
       " 'r and twent',\n",
       " ' and twenty',\n",
       " 'and twenty ',\n",
       " 'nd twenty b',\n",
       " 'd twenty bl',\n",
       " ' twenty bla',\n",
       " 'twenty blac',\n",
       " 'wenty black',\n",
       " 'enty blackb',\n",
       " 'nty blackbi',\n",
       " 'ty blackbir',\n",
       " 'y blackbird',\n",
       " ' blackbirds',\n",
       " 'blackbirds,',\n",
       " 'lackbirds, ',\n",
       " 'ackbirds, B',\n",
       " 'ckbirds, Ba',\n",
       " 'kbirds, Bak',\n",
       " 'birds, Bake',\n",
       " 'irds, Baked',\n",
       " 'rds, Baked ',\n",
       " 'ds, Baked i',\n",
       " 's, Baked in',\n",
       " ', Baked in ',\n",
       " ' Baked in a',\n",
       " 'Baked in a ',\n",
       " 'aked in a p',\n",
       " 'ked in a pi',\n",
       " 'ed in a pie',\n",
       " 'd in a pie.',\n",
       " ' in a pie. ',\n",
       " 'in a pie. W',\n",
       " 'n a pie. Wh',\n",
       " ' a pie. Whe',\n",
       " 'a pie. When',\n",
       " ' pie. When ',\n",
       " 'pie. When t',\n",
       " 'ie. When th',\n",
       " 'e. When the',\n",
       " '. When the ',\n",
       " ' When the p',\n",
       " 'When the pi',\n",
       " 'hen the pie',\n",
       " 'en the pie ',\n",
       " 'n the pie w',\n",
       " ' the pie wa',\n",
       " 'the pie was',\n",
       " 'he pie was ',\n",
       " 'e pie was o',\n",
       " ' pie was op',\n",
       " 'pie was ope',\n",
       " 'ie was open',\n",
       " 'e was opene',\n",
       " ' was opened',\n",
       " 'was opened ',\n",
       " 'as opened T',\n",
       " 's opened Th',\n",
       " ' opened The',\n",
       " 'opened The ',\n",
       " 'pened The b',\n",
       " 'ened The bi',\n",
       " 'ned The bir',\n",
       " 'ed The bird',\n",
       " 'd The birds',\n",
       " ' The birds ',\n",
       " 'The birds b',\n",
       " 'he birds be',\n",
       " 'e birds beg',\n",
       " ' birds bega',\n",
       " 'birds began',\n",
       " 'irds began ',\n",
       " 'rds began t',\n",
       " 'ds began to',\n",
       " 's began to ',\n",
       " ' began to s',\n",
       " 'began to si',\n",
       " 'egan to sin',\n",
       " 'gan to sing',\n",
       " 'an to sing;',\n",
       " 'n to sing; ',\n",
       " ' to sing; W',\n",
       " 'to sing; Wa',\n",
       " 'o sing; Was',\n",
       " ' sing; Wasn',\n",
       " \"sing; Wasn'\",\n",
       " \"ing; Wasn't\",\n",
       " \"ng; Wasn't \",\n",
       " \"g; Wasn't t\",\n",
       " \"; Wasn't th\",\n",
       " \" Wasn't tha\",\n",
       " \"Wasn't that\",\n",
       " \"asn't that \",\n",
       " \"sn't that a\",\n",
       " \"n't that a \",\n",
       " \"'t that a d\",\n",
       " 't that a da',\n",
       " ' that a dai',\n",
       " 'that a dain',\n",
       " 'hat a daint',\n",
       " 'at a dainty',\n",
       " 't a dainty ',\n",
       " ' a dainty d',\n",
       " 'a dainty di',\n",
       " ' dainty dis',\n",
       " 'dainty dish',\n",
       " 'ainty dish,',\n",
       " 'inty dish, ',\n",
       " 'nty dish, T',\n",
       " 'ty dish, To',\n",
       " 'y dish, To ',\n",
       " ' dish, To s',\n",
       " 'dish, To se',\n",
       " 'ish, To set',\n",
       " 'sh, To set ',\n",
       " 'h, To set b',\n",
       " ', To set be',\n",
       " ' To set bef',\n",
       " 'To set befo',\n",
       " 'o set befor',\n",
       " ' set before',\n",
       " 'set before ',\n",
       " 'et before t',\n",
       " 't before th',\n",
       " ' before the',\n",
       " 'before the ',\n",
       " 'efore the k',\n",
       " 'fore the ki',\n",
       " 'ore the kin',\n",
       " 're the king',\n",
       " 'e the king.',\n",
       " ' the king. ',\n",
       " 'the king. T',\n",
       " 'he king. Th',\n",
       " 'e king. The',\n",
       " ' king. The ',\n",
       " 'king. The k',\n",
       " 'ing. The ki',\n",
       " 'ng. The kin',\n",
       " 'g. The king',\n",
       " '. The king ',\n",
       " ' The king w',\n",
       " 'The king wa',\n",
       " 'he king was',\n",
       " 'e king was ',\n",
       " ' king was i',\n",
       " 'king was in',\n",
       " 'ing was in ',\n",
       " 'ng was in h',\n",
       " 'g was in hi',\n",
       " ' was in his',\n",
       " 'was in his ',\n",
       " 'as in his c',\n",
       " 's in his co',\n",
       " ' in his cou',\n",
       " 'in his coun',\n",
       " 'n his count',\n",
       " ' his counti',\n",
       " 'his countin',\n",
       " 'is counting',\n",
       " 's counting ',\n",
       " ' counting h',\n",
       " 'counting ho',\n",
       " 'ounting hou',\n",
       " 'unting hous',\n",
       " 'nting house',\n",
       " 'ting house,',\n",
       " 'ing house, ',\n",
       " 'ng house, C',\n",
       " 'g house, Co',\n",
       " ' house, Cou',\n",
       " 'house, Coun',\n",
       " 'ouse, Count',\n",
       " 'use, Counti',\n",
       " 'se, Countin',\n",
       " 'e, Counting',\n",
       " ', Counting ',\n",
       " ' Counting o',\n",
       " 'Counting ou',\n",
       " 'ounting out',\n",
       " 'unting out ',\n",
       " 'nting out h',\n",
       " 'ting out hi',\n",
       " 'ing out his',\n",
       " 'ng out his ',\n",
       " 'g out his m',\n",
       " ' out his mo',\n",
       " 'out his mon',\n",
       " 'ut his mone',\n",
       " 't his money',\n",
       " ' his money;',\n",
       " 'his money; ',\n",
       " 'is money; T',\n",
       " 's money; Th',\n",
       " ' money; The',\n",
       " 'money; The ',\n",
       " 'oney; The q',\n",
       " 'ney; The qu',\n",
       " 'ey; The que',\n",
       " 'y; The quee',\n",
       " '; The queen',\n",
       " ' The queen ',\n",
       " 'The queen w',\n",
       " 'he queen wa',\n",
       " 'e queen was',\n",
       " ' queen was ',\n",
       " 'queen was i',\n",
       " 'ueen was in',\n",
       " 'een was in ',\n",
       " 'en was in t',\n",
       " 'n was in th',\n",
       " ' was in the',\n",
       " 'was in the ',\n",
       " 'as in the p',\n",
       " 's in the pa',\n",
       " ' in the par',\n",
       " 'in the parl',\n",
       " 'n the parlo',\n",
       " ' the parlou',\n",
       " 'the parlour',\n",
       " 'he parlour,',\n",
       " 'e parlour, ',\n",
       " ' parlour, E',\n",
       " 'parlour, Ea',\n",
       " 'arlour, Eat',\n",
       " 'rlour, Eati',\n",
       " 'lour, Eatin',\n",
       " 'our, Eating',\n",
       " 'ur, Eating ',\n",
       " 'r, Eating b',\n",
       " ', Eating br',\n",
       " ' Eating bre',\n",
       " 'Eating brea',\n",
       " 'ating bread',\n",
       " 'ting bread ',\n",
       " 'ing bread a',\n",
       " 'ng bread an',\n",
       " 'g bread and',\n",
       " ' bread and ',\n",
       " 'bread and h',\n",
       " 'read and ho',\n",
       " 'ead and hon',\n",
       " 'ad and hone',\n",
       " 'd and honey',\n",
       " ' and honey.',\n",
       " 'and honey. ',\n",
       " 'nd honey. T',\n",
       " 'd honey. Th',\n",
       " ' honey. The',\n",
       " 'honey. The ',\n",
       " 'oney. The m',\n",
       " 'ney. The ma',\n",
       " 'ey. The mai',\n",
       " 'y. The maid',\n",
       " '. The maid ',\n",
       " ' The maid w',\n",
       " 'The maid wa',\n",
       " 'he maid was',\n",
       " 'e maid was ',\n",
       " ' maid was i',\n",
       " 'maid was in',\n",
       " 'aid was in ',\n",
       " 'id was in t',\n",
       " 'd was in th',\n",
       " ' was in the',\n",
       " 'was in the ',\n",
       " 'as in the g',\n",
       " 's in the ga',\n",
       " ' in the gar',\n",
       " 'in the gard',\n",
       " 'n the garde',\n",
       " ' the garden',\n",
       " 'the garden,',\n",
       " 'he garden, ',\n",
       " 'e garden, H',\n",
       " ' garden, Ha',\n",
       " 'garden, Han',\n",
       " 'arden, Hang',\n",
       " 'rden, Hangi',\n",
       " 'den, Hangin',\n",
       " 'en, Hanging',\n",
       " 'n, Hanging ',\n",
       " ', Hanging o',\n",
       " ' Hanging ou',\n",
       " 'Hanging out',\n",
       " 'anging out ',\n",
       " 'nging out t',\n",
       " 'ging out th',\n",
       " 'ing out the',\n",
       " 'ng out the ',\n",
       " 'g out the c',\n",
       " ' out the cl',\n",
       " 'out the clo',\n",
       " 'ut the clot',\n",
       " 't the cloth',\n",
       " ' the clothe',\n",
       " 'the clothes',\n",
       " 'he clothes,',\n",
       " 'e clothes, ',\n",
       " ' clothes, W',\n",
       " 'clothes, Wh',\n",
       " 'lothes, Whe',\n",
       " 'othes, When',\n",
       " 'thes, When ',\n",
       " 'hes, When d',\n",
       " 'es, When do',\n",
       " 's, When dow',\n",
       " ', When down',\n",
       " ' When down ',\n",
       " 'When down c',\n",
       " 'hen down ca',\n",
       " 'en down cam',\n",
       " 'n down came',\n",
       " ' down came ',\n",
       " 'down came a',\n",
       " 'own came a ',\n",
       " 'wn came a b',\n",
       " 'n came a bl',\n",
       " ' came a bla',\n",
       " 'came a blac',\n",
       " 'ame a black',\n",
       " 'me a blackb',\n",
       " 'e a blackbi',\n",
       " ' a blackbir',\n",
       " 'a blackbird',\n",
       " ' blackbird ',\n",
       " 'blackbird A',\n",
       " 'lackbird An',\n",
       " 'ackbird And',\n",
       " 'ckbird And ',\n",
       " 'kbird And p',\n",
       " 'bird And pe',\n",
       " 'ird And pec',\n",
       " 'rd And peck',\n",
       " 'd And pecke',\n",
       " ' And pecked',\n",
       " 'And pecked ',\n",
       " 'nd pecked o',\n",
       " 'd pecked of',\n",
       " ' pecked off',\n",
       " 'pecked off ',\n",
       " 'ecked off h',\n",
       " 'cked off he',\n",
       " 'ked off her',\n",
       " 'ed off her ',\n",
       " 'd off her n',\n",
       " ' off her no',\n",
       " 'off her nos',\n",
       " 'ff her nose',\n",
       " 'f her nose.']"
      ]
     },
     "execution_count": 96,
     "metadata": {},
     "output_type": "execute_result"
    }
   ],
   "source": [
    "in_filename = 'char_sequences.txt'\n",
    "raw_text = load_doc(in_filename)\n",
    "lines = raw_text.split('\\n')\n",
    "lines"
   ]
  },
  {
   "cell_type": "code",
   "execution_count": 97,
   "id": "focused-partner",
   "metadata": {
    "scrolled": true
   },
   "outputs": [
    {
     "name": "stdout",
     "output_type": "stream",
     "text": [
      "{'\\n': 0, ' ': 1, \"'\": 2, ',': 3, '.': 4, ';': 5, 'A': 6, 'B': 7, 'C': 8, 'E': 9, 'F': 10, 'H': 11, 'S': 12, 'T': 13, 'W': 14, 'a': 15, 'b': 16, 'c': 17, 'd': 18, 'e': 19, 'f': 20, 'g': 21, 'h': 22, 'i': 23, 'k': 24, 'l': 25, 'm': 26, 'n': 27, 'o': 28, 'p': 29, 'q': 30, 'r': 31, 's': 32, 't': 33, 'u': 34, 'w': 35, 'x': 36, 'y': 37}\n"
     ]
    }
   ],
   "source": [
    "chars = sorted(list(set(raw_text)))\n",
    "mapping = dict((c, i) for i, c in enumerate(chars))\n",
    "print(mapping)"
   ]
  },
  {
   "cell_type": "code",
   "execution_count": 98,
   "id": "postal-uruguay",
   "metadata": {
    "collapsed": true
   },
   "outputs": [
    {
     "data": {
      "text/plain": [
       "[[12, 23, 27, 21, 1, 15, 1, 32, 28, 27, 21],\n",
       " [23, 27, 21, 1, 15, 1, 32, 28, 27, 21, 1],\n",
       " [27, 21, 1, 15, 1, 32, 28, 27, 21, 1, 28],\n",
       " [21, 1, 15, 1, 32, 28, 27, 21, 1, 28, 20],\n",
       " [1, 15, 1, 32, 28, 27, 21, 1, 28, 20, 1],\n",
       " [15, 1, 32, 28, 27, 21, 1, 28, 20, 1, 32],\n",
       " [1, 32, 28, 27, 21, 1, 28, 20, 1, 32, 23],\n",
       " [32, 28, 27, 21, 1, 28, 20, 1, 32, 23, 36],\n",
       " [28, 27, 21, 1, 28, 20, 1, 32, 23, 36, 29],\n",
       " [27, 21, 1, 28, 20, 1, 32, 23, 36, 29, 19],\n",
       " [21, 1, 28, 20, 1, 32, 23, 36, 29, 19, 27],\n",
       " [1, 28, 20, 1, 32, 23, 36, 29, 19, 27, 17],\n",
       " [28, 20, 1, 32, 23, 36, 29, 19, 27, 17, 19],\n",
       " [20, 1, 32, 23, 36, 29, 19, 27, 17, 19, 3],\n",
       " [1, 32, 23, 36, 29, 19, 27, 17, 19, 3, 1],\n",
       " [32, 23, 36, 29, 19, 27, 17, 19, 3, 1, 6],\n",
       " [23, 36, 29, 19, 27, 17, 19, 3, 1, 6, 1],\n",
       " [36, 29, 19, 27, 17, 19, 3, 1, 6, 1, 29],\n",
       " [29, 19, 27, 17, 19, 3, 1, 6, 1, 29, 28],\n",
       " [19, 27, 17, 19, 3, 1, 6, 1, 29, 28, 17],\n",
       " [27, 17, 19, 3, 1, 6, 1, 29, 28, 17, 24],\n",
       " [17, 19, 3, 1, 6, 1, 29, 28, 17, 24, 19],\n",
       " [19, 3, 1, 6, 1, 29, 28, 17, 24, 19, 33],\n",
       " [3, 1, 6, 1, 29, 28, 17, 24, 19, 33, 1],\n",
       " [1, 6, 1, 29, 28, 17, 24, 19, 33, 1, 20],\n",
       " [6, 1, 29, 28, 17, 24, 19, 33, 1, 20, 34],\n",
       " [1, 29, 28, 17, 24, 19, 33, 1, 20, 34, 25],\n",
       " [29, 28, 17, 24, 19, 33, 1, 20, 34, 25, 25],\n",
       " [28, 17, 24, 19, 33, 1, 20, 34, 25, 25, 1],\n",
       " [17, 24, 19, 33, 1, 20, 34, 25, 25, 1, 28],\n",
       " [24, 19, 33, 1, 20, 34, 25, 25, 1, 28, 20],\n",
       " [19, 33, 1, 20, 34, 25, 25, 1, 28, 20, 1],\n",
       " [33, 1, 20, 34, 25, 25, 1, 28, 20, 1, 31],\n",
       " [1, 20, 34, 25, 25, 1, 28, 20, 1, 31, 37],\n",
       " [20, 34, 25, 25, 1, 28, 20, 1, 31, 37, 19],\n",
       " [34, 25, 25, 1, 28, 20, 1, 31, 37, 19, 4],\n",
       " [25, 25, 1, 28, 20, 1, 31, 37, 19, 4, 1],\n",
       " [25, 1, 28, 20, 1, 31, 37, 19, 4, 1, 10],\n",
       " [1, 28, 20, 1, 31, 37, 19, 4, 1, 10, 28],\n",
       " [28, 20, 1, 31, 37, 19, 4, 1, 10, 28, 34],\n",
       " [20, 1, 31, 37, 19, 4, 1, 10, 28, 34, 31],\n",
       " [1, 31, 37, 19, 4, 1, 10, 28, 34, 31, 1],\n",
       " [31, 37, 19, 4, 1, 10, 28, 34, 31, 1, 15],\n",
       " [37, 19, 4, 1, 10, 28, 34, 31, 1, 15, 27],\n",
       " [19, 4, 1, 10, 28, 34, 31, 1, 15, 27, 18],\n",
       " [4, 1, 10, 28, 34, 31, 1, 15, 27, 18, 1],\n",
       " [1, 10, 28, 34, 31, 1, 15, 27, 18, 1, 33],\n",
       " [10, 28, 34, 31, 1, 15, 27, 18, 1, 33, 35],\n",
       " [28, 34, 31, 1, 15, 27, 18, 1, 33, 35, 19],\n",
       " [34, 31, 1, 15, 27, 18, 1, 33, 35, 19, 27],\n",
       " [31, 1, 15, 27, 18, 1, 33, 35, 19, 27, 33],\n",
       " [1, 15, 27, 18, 1, 33, 35, 19, 27, 33, 37],\n",
       " [15, 27, 18, 1, 33, 35, 19, 27, 33, 37, 1],\n",
       " [27, 18, 1, 33, 35, 19, 27, 33, 37, 1, 16],\n",
       " [18, 1, 33, 35, 19, 27, 33, 37, 1, 16, 25],\n",
       " [1, 33, 35, 19, 27, 33, 37, 1, 16, 25, 15],\n",
       " [33, 35, 19, 27, 33, 37, 1, 16, 25, 15, 17],\n",
       " [35, 19, 27, 33, 37, 1, 16, 25, 15, 17, 24],\n",
       " [19, 27, 33, 37, 1, 16, 25, 15, 17, 24, 16],\n",
       " [27, 33, 37, 1, 16, 25, 15, 17, 24, 16, 23],\n",
       " [33, 37, 1, 16, 25, 15, 17, 24, 16, 23, 31],\n",
       " [37, 1, 16, 25, 15, 17, 24, 16, 23, 31, 18],\n",
       " [1, 16, 25, 15, 17, 24, 16, 23, 31, 18, 32],\n",
       " [16, 25, 15, 17, 24, 16, 23, 31, 18, 32, 3],\n",
       " [25, 15, 17, 24, 16, 23, 31, 18, 32, 3, 1],\n",
       " [15, 17, 24, 16, 23, 31, 18, 32, 3, 1, 7],\n",
       " [17, 24, 16, 23, 31, 18, 32, 3, 1, 7, 15],\n",
       " [24, 16, 23, 31, 18, 32, 3, 1, 7, 15, 24],\n",
       " [16, 23, 31, 18, 32, 3, 1, 7, 15, 24, 19],\n",
       " [23, 31, 18, 32, 3, 1, 7, 15, 24, 19, 18],\n",
       " [31, 18, 32, 3, 1, 7, 15, 24, 19, 18, 1],\n",
       " [18, 32, 3, 1, 7, 15, 24, 19, 18, 1, 23],\n",
       " [32, 3, 1, 7, 15, 24, 19, 18, 1, 23, 27],\n",
       " [3, 1, 7, 15, 24, 19, 18, 1, 23, 27, 1],\n",
       " [1, 7, 15, 24, 19, 18, 1, 23, 27, 1, 15],\n",
       " [7, 15, 24, 19, 18, 1, 23, 27, 1, 15, 1],\n",
       " [15, 24, 19, 18, 1, 23, 27, 1, 15, 1, 29],\n",
       " [24, 19, 18, 1, 23, 27, 1, 15, 1, 29, 23],\n",
       " [19, 18, 1, 23, 27, 1, 15, 1, 29, 23, 19],\n",
       " [18, 1, 23, 27, 1, 15, 1, 29, 23, 19, 4],\n",
       " [1, 23, 27, 1, 15, 1, 29, 23, 19, 4, 1],\n",
       " [23, 27, 1, 15, 1, 29, 23, 19, 4, 1, 14],\n",
       " [27, 1, 15, 1, 29, 23, 19, 4, 1, 14, 22],\n",
       " [1, 15, 1, 29, 23, 19, 4, 1, 14, 22, 19],\n",
       " [15, 1, 29, 23, 19, 4, 1, 14, 22, 19, 27],\n",
       " [1, 29, 23, 19, 4, 1, 14, 22, 19, 27, 1],\n",
       " [29, 23, 19, 4, 1, 14, 22, 19, 27, 1, 33],\n",
       " [23, 19, 4, 1, 14, 22, 19, 27, 1, 33, 22],\n",
       " [19, 4, 1, 14, 22, 19, 27, 1, 33, 22, 19],\n",
       " [4, 1, 14, 22, 19, 27, 1, 33, 22, 19, 1],\n",
       " [1, 14, 22, 19, 27, 1, 33, 22, 19, 1, 29],\n",
       " [14, 22, 19, 27, 1, 33, 22, 19, 1, 29, 23],\n",
       " [22, 19, 27, 1, 33, 22, 19, 1, 29, 23, 19],\n",
       " [19, 27, 1, 33, 22, 19, 1, 29, 23, 19, 1],\n",
       " [27, 1, 33, 22, 19, 1, 29, 23, 19, 1, 35],\n",
       " [1, 33, 22, 19, 1, 29, 23, 19, 1, 35, 15],\n",
       " [33, 22, 19, 1, 29, 23, 19, 1, 35, 15, 32],\n",
       " [22, 19, 1, 29, 23, 19, 1, 35, 15, 32, 1],\n",
       " [19, 1, 29, 23, 19, 1, 35, 15, 32, 1, 28],\n",
       " [1, 29, 23, 19, 1, 35, 15, 32, 1, 28, 29],\n",
       " [29, 23, 19, 1, 35, 15, 32, 1, 28, 29, 19],\n",
       " [23, 19, 1, 35, 15, 32, 1, 28, 29, 19, 27],\n",
       " [19, 1, 35, 15, 32, 1, 28, 29, 19, 27, 19],\n",
       " [1, 35, 15, 32, 1, 28, 29, 19, 27, 19, 18],\n",
       " [35, 15, 32, 1, 28, 29, 19, 27, 19, 18, 1],\n",
       " [15, 32, 1, 28, 29, 19, 27, 19, 18, 1, 13],\n",
       " [32, 1, 28, 29, 19, 27, 19, 18, 1, 13, 22],\n",
       " [1, 28, 29, 19, 27, 19, 18, 1, 13, 22, 19],\n",
       " [28, 29, 19, 27, 19, 18, 1, 13, 22, 19, 1],\n",
       " [29, 19, 27, 19, 18, 1, 13, 22, 19, 1, 16],\n",
       " [19, 27, 19, 18, 1, 13, 22, 19, 1, 16, 23],\n",
       " [27, 19, 18, 1, 13, 22, 19, 1, 16, 23, 31],\n",
       " [19, 18, 1, 13, 22, 19, 1, 16, 23, 31, 18],\n",
       " [18, 1, 13, 22, 19, 1, 16, 23, 31, 18, 32],\n",
       " [1, 13, 22, 19, 1, 16, 23, 31, 18, 32, 1],\n",
       " [13, 22, 19, 1, 16, 23, 31, 18, 32, 1, 16],\n",
       " [22, 19, 1, 16, 23, 31, 18, 32, 1, 16, 19],\n",
       " [19, 1, 16, 23, 31, 18, 32, 1, 16, 19, 21],\n",
       " [1, 16, 23, 31, 18, 32, 1, 16, 19, 21, 15],\n",
       " [16, 23, 31, 18, 32, 1, 16, 19, 21, 15, 27],\n",
       " [23, 31, 18, 32, 1, 16, 19, 21, 15, 27, 1],\n",
       " [31, 18, 32, 1, 16, 19, 21, 15, 27, 1, 33],\n",
       " [18, 32, 1, 16, 19, 21, 15, 27, 1, 33, 28],\n",
       " [32, 1, 16, 19, 21, 15, 27, 1, 33, 28, 1],\n",
       " [1, 16, 19, 21, 15, 27, 1, 33, 28, 1, 32],\n",
       " [16, 19, 21, 15, 27, 1, 33, 28, 1, 32, 23],\n",
       " [19, 21, 15, 27, 1, 33, 28, 1, 32, 23, 27],\n",
       " [21, 15, 27, 1, 33, 28, 1, 32, 23, 27, 21],\n",
       " [15, 27, 1, 33, 28, 1, 32, 23, 27, 21, 5],\n",
       " [27, 1, 33, 28, 1, 32, 23, 27, 21, 5, 1],\n",
       " [1, 33, 28, 1, 32, 23, 27, 21, 5, 1, 14],\n",
       " [33, 28, 1, 32, 23, 27, 21, 5, 1, 14, 15],\n",
       " [28, 1, 32, 23, 27, 21, 5, 1, 14, 15, 32],\n",
       " [1, 32, 23, 27, 21, 5, 1, 14, 15, 32, 27],\n",
       " [32, 23, 27, 21, 5, 1, 14, 15, 32, 27, 2],\n",
       " [23, 27, 21, 5, 1, 14, 15, 32, 27, 2, 33],\n",
       " [27, 21, 5, 1, 14, 15, 32, 27, 2, 33, 1],\n",
       " [21, 5, 1, 14, 15, 32, 27, 2, 33, 1, 33],\n",
       " [5, 1, 14, 15, 32, 27, 2, 33, 1, 33, 22],\n",
       " [1, 14, 15, 32, 27, 2, 33, 1, 33, 22, 15],\n",
       " [14, 15, 32, 27, 2, 33, 1, 33, 22, 15, 33],\n",
       " [15, 32, 27, 2, 33, 1, 33, 22, 15, 33, 1],\n",
       " [32, 27, 2, 33, 1, 33, 22, 15, 33, 1, 15],\n",
       " [27, 2, 33, 1, 33, 22, 15, 33, 1, 15, 1],\n",
       " [2, 33, 1, 33, 22, 15, 33, 1, 15, 1, 18],\n",
       " [33, 1, 33, 22, 15, 33, 1, 15, 1, 18, 15],\n",
       " [1, 33, 22, 15, 33, 1, 15, 1, 18, 15, 23],\n",
       " [33, 22, 15, 33, 1, 15, 1, 18, 15, 23, 27],\n",
       " [22, 15, 33, 1, 15, 1, 18, 15, 23, 27, 33],\n",
       " [15, 33, 1, 15, 1, 18, 15, 23, 27, 33, 37],\n",
       " [33, 1, 15, 1, 18, 15, 23, 27, 33, 37, 1],\n",
       " [1, 15, 1, 18, 15, 23, 27, 33, 37, 1, 18],\n",
       " [15, 1, 18, 15, 23, 27, 33, 37, 1, 18, 23],\n",
       " [1, 18, 15, 23, 27, 33, 37, 1, 18, 23, 32],\n",
       " [18, 15, 23, 27, 33, 37, 1, 18, 23, 32, 22],\n",
       " [15, 23, 27, 33, 37, 1, 18, 23, 32, 22, 3],\n",
       " [23, 27, 33, 37, 1, 18, 23, 32, 22, 3, 1],\n",
       " [27, 33, 37, 1, 18, 23, 32, 22, 3, 1, 13],\n",
       " [33, 37, 1, 18, 23, 32, 22, 3, 1, 13, 28],\n",
       " [37, 1, 18, 23, 32, 22, 3, 1, 13, 28, 1],\n",
       " [1, 18, 23, 32, 22, 3, 1, 13, 28, 1, 32],\n",
       " [18, 23, 32, 22, 3, 1, 13, 28, 1, 32, 19],\n",
       " [23, 32, 22, 3, 1, 13, 28, 1, 32, 19, 33],\n",
       " [32, 22, 3, 1, 13, 28, 1, 32, 19, 33, 1],\n",
       " [22, 3, 1, 13, 28, 1, 32, 19, 33, 1, 16],\n",
       " [3, 1, 13, 28, 1, 32, 19, 33, 1, 16, 19],\n",
       " [1, 13, 28, 1, 32, 19, 33, 1, 16, 19, 20],\n",
       " [13, 28, 1, 32, 19, 33, 1, 16, 19, 20, 28],\n",
       " [28, 1, 32, 19, 33, 1, 16, 19, 20, 28, 31],\n",
       " [1, 32, 19, 33, 1, 16, 19, 20, 28, 31, 19],\n",
       " [32, 19, 33, 1, 16, 19, 20, 28, 31, 19, 1],\n",
       " [19, 33, 1, 16, 19, 20, 28, 31, 19, 1, 33],\n",
       " [33, 1, 16, 19, 20, 28, 31, 19, 1, 33, 22],\n",
       " [1, 16, 19, 20, 28, 31, 19, 1, 33, 22, 19],\n",
       " [16, 19, 20, 28, 31, 19, 1, 33, 22, 19, 1],\n",
       " [19, 20, 28, 31, 19, 1, 33, 22, 19, 1, 24],\n",
       " [20, 28, 31, 19, 1, 33, 22, 19, 1, 24, 23],\n",
       " [28, 31, 19, 1, 33, 22, 19, 1, 24, 23, 27],\n",
       " [31, 19, 1, 33, 22, 19, 1, 24, 23, 27, 21],\n",
       " [19, 1, 33, 22, 19, 1, 24, 23, 27, 21, 4],\n",
       " [1, 33, 22, 19, 1, 24, 23, 27, 21, 4, 1],\n",
       " [33, 22, 19, 1, 24, 23, 27, 21, 4, 1, 13],\n",
       " [22, 19, 1, 24, 23, 27, 21, 4, 1, 13, 22],\n",
       " [19, 1, 24, 23, 27, 21, 4, 1, 13, 22, 19],\n",
       " [1, 24, 23, 27, 21, 4, 1, 13, 22, 19, 1],\n",
       " [24, 23, 27, 21, 4, 1, 13, 22, 19, 1, 24],\n",
       " [23, 27, 21, 4, 1, 13, 22, 19, 1, 24, 23],\n",
       " [27, 21, 4, 1, 13, 22, 19, 1, 24, 23, 27],\n",
       " [21, 4, 1, 13, 22, 19, 1, 24, 23, 27, 21],\n",
       " [4, 1, 13, 22, 19, 1, 24, 23, 27, 21, 1],\n",
       " [1, 13, 22, 19, 1, 24, 23, 27, 21, 1, 35],\n",
       " [13, 22, 19, 1, 24, 23, 27, 21, 1, 35, 15],\n",
       " [22, 19, 1, 24, 23, 27, 21, 1, 35, 15, 32],\n",
       " [19, 1, 24, 23, 27, 21, 1, 35, 15, 32, 1],\n",
       " [1, 24, 23, 27, 21, 1, 35, 15, 32, 1, 23],\n",
       " [24, 23, 27, 21, 1, 35, 15, 32, 1, 23, 27],\n",
       " [23, 27, 21, 1, 35, 15, 32, 1, 23, 27, 1],\n",
       " [27, 21, 1, 35, 15, 32, 1, 23, 27, 1, 22],\n",
       " [21, 1, 35, 15, 32, 1, 23, 27, 1, 22, 23],\n",
       " [1, 35, 15, 32, 1, 23, 27, 1, 22, 23, 32],\n",
       " [35, 15, 32, 1, 23, 27, 1, 22, 23, 32, 1],\n",
       " [15, 32, 1, 23, 27, 1, 22, 23, 32, 1, 17],\n",
       " [32, 1, 23, 27, 1, 22, 23, 32, 1, 17, 28],\n",
       " [1, 23, 27, 1, 22, 23, 32, 1, 17, 28, 34],\n",
       " [23, 27, 1, 22, 23, 32, 1, 17, 28, 34, 27],\n",
       " [27, 1, 22, 23, 32, 1, 17, 28, 34, 27, 33],\n",
       " [1, 22, 23, 32, 1, 17, 28, 34, 27, 33, 23],\n",
       " [22, 23, 32, 1, 17, 28, 34, 27, 33, 23, 27],\n",
       " [23, 32, 1, 17, 28, 34, 27, 33, 23, 27, 21],\n",
       " [32, 1, 17, 28, 34, 27, 33, 23, 27, 21, 1],\n",
       " [1, 17, 28, 34, 27, 33, 23, 27, 21, 1, 22],\n",
       " [17, 28, 34, 27, 33, 23, 27, 21, 1, 22, 28],\n",
       " [28, 34, 27, 33, 23, 27, 21, 1, 22, 28, 34],\n",
       " [34, 27, 33, 23, 27, 21, 1, 22, 28, 34, 32],\n",
       " [27, 33, 23, 27, 21, 1, 22, 28, 34, 32, 19],\n",
       " [33, 23, 27, 21, 1, 22, 28, 34, 32, 19, 3],\n",
       " [23, 27, 21, 1, 22, 28, 34, 32, 19, 3, 1],\n",
       " [27, 21, 1, 22, 28, 34, 32, 19, 3, 1, 8],\n",
       " [21, 1, 22, 28, 34, 32, 19, 3, 1, 8, 28],\n",
       " [1, 22, 28, 34, 32, 19, 3, 1, 8, 28, 34],\n",
       " [22, 28, 34, 32, 19, 3, 1, 8, 28, 34, 27],\n",
       " [28, 34, 32, 19, 3, 1, 8, 28, 34, 27, 33],\n",
       " [34, 32, 19, 3, 1, 8, 28, 34, 27, 33, 23],\n",
       " [32, 19, 3, 1, 8, 28, 34, 27, 33, 23, 27],\n",
       " [19, 3, 1, 8, 28, 34, 27, 33, 23, 27, 21],\n",
       " [3, 1, 8, 28, 34, 27, 33, 23, 27, 21, 1],\n",
       " [1, 8, 28, 34, 27, 33, 23, 27, 21, 1, 28],\n",
       " [8, 28, 34, 27, 33, 23, 27, 21, 1, 28, 34],\n",
       " [28, 34, 27, 33, 23, 27, 21, 1, 28, 34, 33],\n",
       " [34, 27, 33, 23, 27, 21, 1, 28, 34, 33, 1],\n",
       " [27, 33, 23, 27, 21, 1, 28, 34, 33, 1, 22],\n",
       " [33, 23, 27, 21, 1, 28, 34, 33, 1, 22, 23],\n",
       " [23, 27, 21, 1, 28, 34, 33, 1, 22, 23, 32],\n",
       " [27, 21, 1, 28, 34, 33, 1, 22, 23, 32, 1],\n",
       " [21, 1, 28, 34, 33, 1, 22, 23, 32, 1, 26],\n",
       " [1, 28, 34, 33, 1, 22, 23, 32, 1, 26, 28],\n",
       " [28, 34, 33, 1, 22, 23, 32, 1, 26, 28, 27],\n",
       " [34, 33, 1, 22, 23, 32, 1, 26, 28, 27, 19],\n",
       " [33, 1, 22, 23, 32, 1, 26, 28, 27, 19, 37],\n",
       " [1, 22, 23, 32, 1, 26, 28, 27, 19, 37, 5],\n",
       " [22, 23, 32, 1, 26, 28, 27, 19, 37, 5, 1],\n",
       " [23, 32, 1, 26, 28, 27, 19, 37, 5, 1, 13],\n",
       " [32, 1, 26, 28, 27, 19, 37, 5, 1, 13, 22],\n",
       " [1, 26, 28, 27, 19, 37, 5, 1, 13, 22, 19],\n",
       " [26, 28, 27, 19, 37, 5, 1, 13, 22, 19, 1],\n",
       " [28, 27, 19, 37, 5, 1, 13, 22, 19, 1, 30],\n",
       " [27, 19, 37, 5, 1, 13, 22, 19, 1, 30, 34],\n",
       " [19, 37, 5, 1, 13, 22, 19, 1, 30, 34, 19],\n",
       " [37, 5, 1, 13, 22, 19, 1, 30, 34, 19, 19],\n",
       " [5, 1, 13, 22, 19, 1, 30, 34, 19, 19, 27],\n",
       " [1, 13, 22, 19, 1, 30, 34, 19, 19, 27, 1],\n",
       " [13, 22, 19, 1, 30, 34, 19, 19, 27, 1, 35],\n",
       " [22, 19, 1, 30, 34, 19, 19, 27, 1, 35, 15],\n",
       " [19, 1, 30, 34, 19, 19, 27, 1, 35, 15, 32],\n",
       " [1, 30, 34, 19, 19, 27, 1, 35, 15, 32, 1],\n",
       " [30, 34, 19, 19, 27, 1, 35, 15, 32, 1, 23],\n",
       " [34, 19, 19, 27, 1, 35, 15, 32, 1, 23, 27],\n",
       " [19, 19, 27, 1, 35, 15, 32, 1, 23, 27, 1],\n",
       " [19, 27, 1, 35, 15, 32, 1, 23, 27, 1, 33],\n",
       " [27, 1, 35, 15, 32, 1, 23, 27, 1, 33, 22],\n",
       " [1, 35, 15, 32, 1, 23, 27, 1, 33, 22, 19],\n",
       " [35, 15, 32, 1, 23, 27, 1, 33, 22, 19, 1],\n",
       " [15, 32, 1, 23, 27, 1, 33, 22, 19, 1, 29],\n",
       " [32, 1, 23, 27, 1, 33, 22, 19, 1, 29, 15],\n",
       " [1, 23, 27, 1, 33, 22, 19, 1, 29, 15, 31],\n",
       " [23, 27, 1, 33, 22, 19, 1, 29, 15, 31, 25],\n",
       " [27, 1, 33, 22, 19, 1, 29, 15, 31, 25, 28],\n",
       " [1, 33, 22, 19, 1, 29, 15, 31, 25, 28, 34],\n",
       " [33, 22, 19, 1, 29, 15, 31, 25, 28, 34, 31],\n",
       " [22, 19, 1, 29, 15, 31, 25, 28, 34, 31, 3],\n",
       " [19, 1, 29, 15, 31, 25, 28, 34, 31, 3, 1],\n",
       " [1, 29, 15, 31, 25, 28, 34, 31, 3, 1, 9],\n",
       " [29, 15, 31, 25, 28, 34, 31, 3, 1, 9, 15],\n",
       " [15, 31, 25, 28, 34, 31, 3, 1, 9, 15, 33],\n",
       " [31, 25, 28, 34, 31, 3, 1, 9, 15, 33, 23],\n",
       " [25, 28, 34, 31, 3, 1, 9, 15, 33, 23, 27],\n",
       " [28, 34, 31, 3, 1, 9, 15, 33, 23, 27, 21],\n",
       " [34, 31, 3, 1, 9, 15, 33, 23, 27, 21, 1],\n",
       " [31, 3, 1, 9, 15, 33, 23, 27, 21, 1, 16],\n",
       " [3, 1, 9, 15, 33, 23, 27, 21, 1, 16, 31],\n",
       " [1, 9, 15, 33, 23, 27, 21, 1, 16, 31, 19],\n",
       " [9, 15, 33, 23, 27, 21, 1, 16, 31, 19, 15],\n",
       " [15, 33, 23, 27, 21, 1, 16, 31, 19, 15, 18],\n",
       " [33, 23, 27, 21, 1, 16, 31, 19, 15, 18, 1],\n",
       " [23, 27, 21, 1, 16, 31, 19, 15, 18, 1, 15],\n",
       " [27, 21, 1, 16, 31, 19, 15, 18, 1, 15, 27],\n",
       " [21, 1, 16, 31, 19, 15, 18, 1, 15, 27, 18],\n",
       " [1, 16, 31, 19, 15, 18, 1, 15, 27, 18, 1],\n",
       " [16, 31, 19, 15, 18, 1, 15, 27, 18, 1, 22],\n",
       " [31, 19, 15, 18, 1, 15, 27, 18, 1, 22, 28],\n",
       " [19, 15, 18, 1, 15, 27, 18, 1, 22, 28, 27],\n",
       " [15, 18, 1, 15, 27, 18, 1, 22, 28, 27, 19],\n",
       " [18, 1, 15, 27, 18, 1, 22, 28, 27, 19, 37],\n",
       " [1, 15, 27, 18, 1, 22, 28, 27, 19, 37, 4],\n",
       " [15, 27, 18, 1, 22, 28, 27, 19, 37, 4, 1],\n",
       " [27, 18, 1, 22, 28, 27, 19, 37, 4, 1, 13],\n",
       " [18, 1, 22, 28, 27, 19, 37, 4, 1, 13, 22],\n",
       " [1, 22, 28, 27, 19, 37, 4, 1, 13, 22, 19],\n",
       " [22, 28, 27, 19, 37, 4, 1, 13, 22, 19, 1],\n",
       " [28, 27, 19, 37, 4, 1, 13, 22, 19, 1, 26],\n",
       " [27, 19, 37, 4, 1, 13, 22, 19, 1, 26, 15],\n",
       " [19, 37, 4, 1, 13, 22, 19, 1, 26, 15, 23],\n",
       " [37, 4, 1, 13, 22, 19, 1, 26, 15, 23, 18],\n",
       " [4, 1, 13, 22, 19, 1, 26, 15, 23, 18, 1],\n",
       " [1, 13, 22, 19, 1, 26, 15, 23, 18, 1, 35],\n",
       " [13, 22, 19, 1, 26, 15, 23, 18, 1, 35, 15],\n",
       " [22, 19, 1, 26, 15, 23, 18, 1, 35, 15, 32],\n",
       " [19, 1, 26, 15, 23, 18, 1, 35, 15, 32, 1],\n",
       " [1, 26, 15, 23, 18, 1, 35, 15, 32, 1, 23],\n",
       " [26, 15, 23, 18, 1, 35, 15, 32, 1, 23, 27],\n",
       " [15, 23, 18, 1, 35, 15, 32, 1, 23, 27, 1],\n",
       " [23, 18, 1, 35, 15, 32, 1, 23, 27, 1, 33],\n",
       " [18, 1, 35, 15, 32, 1, 23, 27, 1, 33, 22],\n",
       " [1, 35, 15, 32, 1, 23, 27, 1, 33, 22, 19],\n",
       " [35, 15, 32, 1, 23, 27, 1, 33, 22, 19, 1],\n",
       " [15, 32, 1, 23, 27, 1, 33, 22, 19, 1, 21],\n",
       " [32, 1, 23, 27, 1, 33, 22, 19, 1, 21, 15],\n",
       " [1, 23, 27, 1, 33, 22, 19, 1, 21, 15, 31],\n",
       " [23, 27, 1, 33, 22, 19, 1, 21, 15, 31, 18],\n",
       " [27, 1, 33, 22, 19, 1, 21, 15, 31, 18, 19],\n",
       " [1, 33, 22, 19, 1, 21, 15, 31, 18, 19, 27],\n",
       " [33, 22, 19, 1, 21, 15, 31, 18, 19, 27, 3],\n",
       " [22, 19, 1, 21, 15, 31, 18, 19, 27, 3, 1],\n",
       " [19, 1, 21, 15, 31, 18, 19, 27, 3, 1, 11],\n",
       " [1, 21, 15, 31, 18, 19, 27, 3, 1, 11, 15],\n",
       " [21, 15, 31, 18, 19, 27, 3, 1, 11, 15, 27],\n",
       " [15, 31, 18, 19, 27, 3, 1, 11, 15, 27, 21],\n",
       " [31, 18, 19, 27, 3, 1, 11, 15, 27, 21, 23],\n",
       " [18, 19, 27, 3, 1, 11, 15, 27, 21, 23, 27],\n",
       " [19, 27, 3, 1, 11, 15, 27, 21, 23, 27, 21],\n",
       " [27, 3, 1, 11, 15, 27, 21, 23, 27, 21, 1],\n",
       " [3, 1, 11, 15, 27, 21, 23, 27, 21, 1, 28],\n",
       " [1, 11, 15, 27, 21, 23, 27, 21, 1, 28, 34],\n",
       " [11, 15, 27, 21, 23, 27, 21, 1, 28, 34, 33],\n",
       " [15, 27, 21, 23, 27, 21, 1, 28, 34, 33, 1],\n",
       " [27, 21, 23, 27, 21, 1, 28, 34, 33, 1, 33],\n",
       " [21, 23, 27, 21, 1, 28, 34, 33, 1, 33, 22],\n",
       " [23, 27, 21, 1, 28, 34, 33, 1, 33, 22, 19],\n",
       " [27, 21, 1, 28, 34, 33, 1, 33, 22, 19, 1],\n",
       " [21, 1, 28, 34, 33, 1, 33, 22, 19, 1, 17],\n",
       " [1, 28, 34, 33, 1, 33, 22, 19, 1, 17, 25],\n",
       " [28, 34, 33, 1, 33, 22, 19, 1, 17, 25, 28],\n",
       " [34, 33, 1, 33, 22, 19, 1, 17, 25, 28, 33],\n",
       " [33, 1, 33, 22, 19, 1, 17, 25, 28, 33, 22],\n",
       " [1, 33, 22, 19, 1, 17, 25, 28, 33, 22, 19],\n",
       " [33, 22, 19, 1, 17, 25, 28, 33, 22, 19, 32],\n",
       " [22, 19, 1, 17, 25, 28, 33, 22, 19, 32, 3],\n",
       " [19, 1, 17, 25, 28, 33, 22, 19, 32, 3, 1],\n",
       " [1, 17, 25, 28, 33, 22, 19, 32, 3, 1, 14],\n",
       " [17, 25, 28, 33, 22, 19, 32, 3, 1, 14, 22],\n",
       " [25, 28, 33, 22, 19, 32, 3, 1, 14, 22, 19],\n",
       " [28, 33, 22, 19, 32, 3, 1, 14, 22, 19, 27],\n",
       " [33, 22, 19, 32, 3, 1, 14, 22, 19, 27, 1],\n",
       " [22, 19, 32, 3, 1, 14, 22, 19, 27, 1, 18],\n",
       " [19, 32, 3, 1, 14, 22, 19, 27, 1, 18, 28],\n",
       " [32, 3, 1, 14, 22, 19, 27, 1, 18, 28, 35],\n",
       " [3, 1, 14, 22, 19, 27, 1, 18, 28, 35, 27],\n",
       " [1, 14, 22, 19, 27, 1, 18, 28, 35, 27, 1],\n",
       " [14, 22, 19, 27, 1, 18, 28, 35, 27, 1, 17],\n",
       " [22, 19, 27, 1, 18, 28, 35, 27, 1, 17, 15],\n",
       " [19, 27, 1, 18, 28, 35, 27, 1, 17, 15, 26],\n",
       " [27, 1, 18, 28, 35, 27, 1, 17, 15, 26, 19],\n",
       " [1, 18, 28, 35, 27, 1, 17, 15, 26, 19, 1],\n",
       " [18, 28, 35, 27, 1, 17, 15, 26, 19, 1, 15],\n",
       " [28, 35, 27, 1, 17, 15, 26, 19, 1, 15, 1],\n",
       " [35, 27, 1, 17, 15, 26, 19, 1, 15, 1, 16],\n",
       " [27, 1, 17, 15, 26, 19, 1, 15, 1, 16, 25],\n",
       " [1, 17, 15, 26, 19, 1, 15, 1, 16, 25, 15],\n",
       " [17, 15, 26, 19, 1, 15, 1, 16, 25, 15, 17],\n",
       " [15, 26, 19, 1, 15, 1, 16, 25, 15, 17, 24],\n",
       " [26, 19, 1, 15, 1, 16, 25, 15, 17, 24, 16],\n",
       " [19, 1, 15, 1, 16, 25, 15, 17, 24, 16, 23],\n",
       " [1, 15, 1, 16, 25, 15, 17, 24, 16, 23, 31],\n",
       " [15, 1, 16, 25, 15, 17, 24, 16, 23, 31, 18],\n",
       " [1, 16, 25, 15, 17, 24, 16, 23, 31, 18, 1],\n",
       " [16, 25, 15, 17, 24, 16, 23, 31, 18, 1, 6],\n",
       " [25, 15, 17, 24, 16, 23, 31, 18, 1, 6, 27],\n",
       " [15, 17, 24, 16, 23, 31, 18, 1, 6, 27, 18],\n",
       " [17, 24, 16, 23, 31, 18, 1, 6, 27, 18, 1],\n",
       " [24, 16, 23, 31, 18, 1, 6, 27, 18, 1, 29],\n",
       " [16, 23, 31, 18, 1, 6, 27, 18, 1, 29, 19],\n",
       " [23, 31, 18, 1, 6, 27, 18, 1, 29, 19, 17],\n",
       " [31, 18, 1, 6, 27, 18, 1, 29, 19, 17, 24],\n",
       " [18, 1, 6, 27, 18, 1, 29, 19, 17, 24, 19],\n",
       " [1, 6, 27, 18, 1, 29, 19, 17, 24, 19, 18],\n",
       " [6, 27, 18, 1, 29, 19, 17, 24, 19, 18, 1],\n",
       " [27, 18, 1, 29, 19, 17, 24, 19, 18, 1, 28],\n",
       " [18, 1, 29, 19, 17, 24, 19, 18, 1, 28, 20],\n",
       " [1, 29, 19, 17, 24, 19, 18, 1, 28, 20, 20],\n",
       " [29, 19, 17, 24, 19, 18, 1, 28, 20, 20, 1],\n",
       " [19, 17, 24, 19, 18, 1, 28, 20, 20, 1, 22],\n",
       " [17, 24, 19, 18, 1, 28, 20, 20, 1, 22, 19],\n",
       " [24, 19, 18, 1, 28, 20, 20, 1, 22, 19, 31],\n",
       " [19, 18, 1, 28, 20, 20, 1, 22, 19, 31, 1],\n",
       " [18, 1, 28, 20, 20, 1, 22, 19, 31, 1, 27],\n",
       " [1, 28, 20, 20, 1, 22, 19, 31, 1, 27, 28],\n",
       " [28, 20, 20, 1, 22, 19, 31, 1, 27, 28, 32],\n",
       " [20, 20, 1, 22, 19, 31, 1, 27, 28, 32, 19],\n",
       " [20, 1, 22, 19, 31, 1, 27, 28, 32, 19, 4]]"
      ]
     },
     "execution_count": 98,
     "metadata": {},
     "output_type": "execute_result"
    }
   ],
   "source": [
    "sequences = list()\n",
    "for line in lines:\n",
    "    encoded_seq = [mapping[char] for char in line]\n",
    "    sequences.append(encoded_seq)\n",
    "sequences"
   ]
  },
  {
   "cell_type": "code",
   "execution_count": 99,
   "id": "radio-airline",
   "metadata": {},
   "outputs": [
    {
     "name": "stdout",
     "output_type": "stream",
     "text": [
      "Vocabulary Size: 38\n"
     ]
    }
   ],
   "source": [
    "# vocabulary size\n",
    "vocab_size = len(mapping)\n",
    "print('Vocabulary Size: %d' % vocab_size)"
   ]
  },
  {
   "cell_type": "code",
   "execution_count": 100,
   "id": "sorted-interim",
   "metadata": {},
   "outputs": [],
   "source": [
    "import numpy as np\n",
    "sequences = np.array(sequences)"
   ]
  },
  {
   "cell_type": "code",
   "execution_count": 101,
   "id": "chronic-chain",
   "metadata": {},
   "outputs": [
    {
     "name": "stdout",
     "output_type": "stream",
     "text": [
      "[[12 23 27 ... 28 27 21]\n",
      " [23 27 21 ... 27 21  1]\n",
      " [27 21  1 ... 21  1 28]\n",
      " ...\n",
      " [28 20 20 ... 27 28 32]\n",
      " [20 20  1 ... 28 32 19]\n",
      " [20  1 22 ... 32 19  4]]\n"
     ]
    }
   ],
   "source": [
    "print(sequences)"
   ]
  },
  {
   "cell_type": "code",
   "execution_count": 102,
   "id": "impaired-microphone",
   "metadata": {},
   "outputs": [
    {
     "name": "stdout",
     "output_type": "stream",
     "text": [
      "[[12 23 27 ... 32 28 27]\n",
      " [23 27 21 ... 28 27 21]\n",
      " [27 21  1 ... 27 21  1]\n",
      " ...\n",
      " [28 20 20 ...  1 27 28]\n",
      " [20 20  1 ... 27 28 32]\n",
      " [20  1 22 ... 28 32 19]]\n"
     ]
    }
   ],
   "source": [
    "X, y = sequences[:,:-1], sequences[:,-1]\n",
    "print(X)"
   ]
  },
  {
   "cell_type": "code",
   "execution_count": 103,
   "id": "alien-consumer",
   "metadata": {},
   "outputs": [],
   "source": [
    "from keras.utils import to_categorical\n",
    "sequences = [to_categorical(x, num_classes=vocab_size) for x in X]\n",
    "X = np.array(sequences)\n",
    "y = to_categorical(y, num_classes=vocab_size)"
   ]
  },
  {
   "cell_type": "code",
   "execution_count": 105,
   "id": "outstanding-couple",
   "metadata": {},
   "outputs": [
    {
     "data": {
      "text/plain": [
       "(10, 38)"
      ]
     },
     "execution_count": 105,
     "metadata": {},
     "output_type": "execute_result"
    }
   ],
   "source": [
    "X[0].shape"
   ]
  },
  {
   "cell_type": "code",
   "execution_count": 106,
   "id": "prerequisite-might",
   "metadata": {},
   "outputs": [
    {
     "data": {
      "text/plain": [
       "(399, 10, 38)"
      ]
     },
     "execution_count": 106,
     "metadata": {},
     "output_type": "execute_result"
    }
   ],
   "source": [
    "X.shape"
   ]
  },
  {
   "cell_type": "code",
   "execution_count": 109,
   "id": "boring-louisiana",
   "metadata": {},
   "outputs": [],
   "source": [
    "# na = 'nehal ahamad ansari'\n",
    "# print(list(na))"
   ]
  },
  {
   "cell_type": "code",
   "execution_count": null,
   "id": "continuous-ecology",
   "metadata": {},
   "outputs": [],
   "source": []
  },
  {
   "cell_type": "code",
   "execution_count": null,
   "id": "dynamic-shopping",
   "metadata": {},
   "outputs": [],
   "source": []
  },
  {
   "cell_type": "code",
   "execution_count": null,
   "id": "placed-dream",
   "metadata": {},
   "outputs": [],
   "source": []
  },
  {
   "cell_type": "code",
   "execution_count": null,
   "id": "plastic-trace",
   "metadata": {},
   "outputs": [],
   "source": []
  },
  {
   "cell_type": "markdown",
   "id": "disabled-montana",
   "metadata": {},
   "source": [
    "# Character Embedding"
   ]
  },
  {
   "cell_type": "code",
   "execution_count": null,
   "id": "nasty-dublin",
   "metadata": {},
   "outputs": [],
   "source": [
    "### Libraries USed Tensorflow> 2.0  and keras"
   ]
  },
  {
   "cell_type": "code",
   "execution_count": 1,
   "id": "waiting-speaking",
   "metadata": {},
   "outputs": [
    {
     "name": "stdout",
     "output_type": "stream",
     "text": [
      "2.0.0\n"
     ]
    }
   ],
   "source": [
    "import tensorflow as tf\n",
    "print(tf.__version__)"
   ]
  },
  {
   "cell_type": "code",
   "execution_count": 3,
   "id": "dominant-lemon",
   "metadata": {},
   "outputs": [],
   "source": [
    "##tensorflow >2.0\n",
    "from tensorflow.keras.preprocessing.text import one_hot"
   ]
  },
  {
   "cell_type": "code",
   "execution_count": 23,
   "id": "miniature-proposition",
   "metadata": {},
   "outputs": [
    {
     "data": {
      "text/plain": [
       "['the glass of milk',\n",
       " 'the glass of juice',\n",
       " 'the cup of tea',\n",
       " 'I am a good boy',\n",
       " 'I am a good developer',\n",
       " 'understand the meaning of words',\n",
       " 'your videos are good']"
      ]
     },
     "execution_count": 23,
     "metadata": {},
     "output_type": "execute_result"
    }
   ],
   "source": [
    "### sentences\n",
    "sent=['the glass of milk',\n",
    "      'the glass of juice',\n",
    "      'the cup of tea',\n",
    "      'I am a good boy',\n",
    "      'I am a good developer',\n",
    "      'understand the meaning of words',\n",
    "      'your videos are good',]\n",
    "sent"
   ]
  },
  {
   "cell_type": "code",
   "execution_count": 6,
   "id": "outer-twelve",
   "metadata": {},
   "outputs": [],
   "source": [
    "### Vocabulary size\n",
    "voc_size = 10000"
   ]
  },
  {
   "cell_type": "markdown",
   "id": "acute-vancouver",
   "metadata": {},
   "source": [
    "#### One Hot Representation"
   ]
  },
  {
   "cell_type": "code",
   "execution_count": 7,
   "id": "heated-telling",
   "metadata": {},
   "outputs": [
    {
     "name": "stdout",
     "output_type": "stream",
     "text": [
      "[[7732, 4553, 9598, 4768], [7732, 4553, 9598, 277], [7732, 1910, 9598, 4754], [1025, 5929, 4305, 5857, 6579], [1025, 5929, 4305, 5857, 3115], [3837, 7732, 2739, 9598, 4242], [3073, 7764, 1056, 5857]]\n"
     ]
    }
   ],
   "source": [
    "onehot_repr = [one_hot(words, voc_size) for words in sent] \n",
    "print(onehot_repr)"
   ]
  },
  {
   "cell_type": "markdown",
   "id": "posted-radiation",
   "metadata": {},
   "source": [
    "#### Word Embedding Represntation"
   ]
  },
  {
   "cell_type": "code",
   "execution_count": 8,
   "id": "recent-tattoo",
   "metadata": {},
   "outputs": [],
   "source": [
    "from tensorflow.keras.layers import Embedding\n",
    "from tensorflow.keras.preprocessing.sequence import pad_sequences\n",
    "from tensorflow.keras.models import Sequential\n",
    "import numpy as np"
   ]
  },
  {
   "cell_type": "code",
   "execution_count": 9,
   "id": "material-pharmaceutical",
   "metadata": {},
   "outputs": [
    {
     "name": "stdout",
     "output_type": "stream",
     "text": [
      "[[   0    0    0    0 7732 4553 9598 4768]\n",
      " [   0    0    0    0 7732 4553 9598  277]\n",
      " [   0    0    0    0 7732 1910 9598 4754]\n",
      " [   0    0    0 1025 5929 4305 5857 6579]\n",
      " [   0    0    0 1025 5929 4305 5857 3115]\n",
      " [   0    0    0 3837 7732 2739 9598 4242]\n",
      " [   0    0    0    0 3073 7764 1056 5857]]\n"
     ]
    }
   ],
   "source": [
    "sent_length = 8\n",
    "\n",
    "embedded_docs = pad_sequences(onehot_repr, padding='pre', maxlen=sent_length)\n",
    "print(embedded_docs)"
   ]
  },
  {
   "cell_type": "code",
   "execution_count": 20,
   "id": "reliable-profile",
   "metadata": {},
   "outputs": [],
   "source": [
    "dim = 10"
   ]
  },
  {
   "cell_type": "code",
   "execution_count": 21,
   "id": "quick-scale",
   "metadata": {},
   "outputs": [],
   "source": [
    "model = Sequential()\n",
    "model.add(Embedding(voc_size, 10, input_length=sent_length))\n",
    "model.compile('adam','mse')"
   ]
  },
  {
   "cell_type": "code",
   "execution_count": 22,
   "id": "exciting-nancy",
   "metadata": {},
   "outputs": [
    {
     "name": "stdout",
     "output_type": "stream",
     "text": [
      "Model: \"sequential_2\"\n",
      "_________________________________________________________________\n",
      "Layer (type)                 Output Shape              Param #   \n",
      "=================================================================\n",
      "embedding_2 (Embedding)      (None, 8, 10)             100000    \n",
      "=================================================================\n",
      "Total params: 100,000\n",
      "Trainable params: 100,000\n",
      "Non-trainable params: 0\n",
      "_________________________________________________________________\n"
     ]
    }
   ],
   "source": [
    "model.summary()"
   ]
  },
  {
   "cell_type": "code",
   "execution_count": 17,
   "id": "universal-sitting",
   "metadata": {
    "collapsed": true
   },
   "outputs": [
    {
     "name": "stdout",
     "output_type": "stream",
     "text": [
      "[[[-0.04594135 -0.03731829  0.03933686 -0.01965104 -0.02525681\n",
      "   -0.02359327  0.00281694 -0.00398745 -0.04358212  0.00718329]\n",
      "  [-0.04594135 -0.03731829  0.03933686 -0.01965104 -0.02525681\n",
      "   -0.02359327  0.00281694 -0.00398745 -0.04358212  0.00718329]\n",
      "  [-0.04594135 -0.03731829  0.03933686 -0.01965104 -0.02525681\n",
      "   -0.02359327  0.00281694 -0.00398745 -0.04358212  0.00718329]\n",
      "  [-0.04594135 -0.03731829  0.03933686 -0.01965104 -0.02525681\n",
      "   -0.02359327  0.00281694 -0.00398745 -0.04358212  0.00718329]\n",
      "  [-0.01867181  0.0138929   0.03154982 -0.00793622 -0.02706308\n",
      "   -0.02240345  0.0373024   0.04962545  0.03349898  0.03614878]\n",
      "  [-0.01783334  0.01297748 -0.04288355 -0.01727451 -0.04122944\n",
      "   -0.04575149  0.03622301  0.00517515  0.01988683 -0.0035219 ]\n",
      "  [-0.03130613  0.01277229 -0.0463866  -0.01891569 -0.0043784\n",
      "   -0.0398315  -0.03118    -0.03685899 -0.03824515 -0.00927491]\n",
      "  [ 0.00883367  0.00552231  0.00674702  0.02879259  0.02292639\n",
      "    0.03772236 -0.00447749 -0.01918666 -0.03373426 -0.04931277]]\n",
      "\n",
      " [[-0.04594135 -0.03731829  0.03933686 -0.01965104 -0.02525681\n",
      "   -0.02359327  0.00281694 -0.00398745 -0.04358212  0.00718329]\n",
      "  [-0.04594135 -0.03731829  0.03933686 -0.01965104 -0.02525681\n",
      "   -0.02359327  0.00281694 -0.00398745 -0.04358212  0.00718329]\n",
      "  [-0.04594135 -0.03731829  0.03933686 -0.01965104 -0.02525681\n",
      "   -0.02359327  0.00281694 -0.00398745 -0.04358212  0.00718329]\n",
      "  [-0.04594135 -0.03731829  0.03933686 -0.01965104 -0.02525681\n",
      "   -0.02359327  0.00281694 -0.00398745 -0.04358212  0.00718329]\n",
      "  [-0.01867181  0.0138929   0.03154982 -0.00793622 -0.02706308\n",
      "   -0.02240345  0.0373024   0.04962545  0.03349898  0.03614878]\n",
      "  [-0.01783334  0.01297748 -0.04288355 -0.01727451 -0.04122944\n",
      "   -0.04575149  0.03622301  0.00517515  0.01988683 -0.0035219 ]\n",
      "  [-0.03130613  0.01277229 -0.0463866  -0.01891569 -0.0043784\n",
      "   -0.0398315  -0.03118    -0.03685899 -0.03824515 -0.00927491]\n",
      "  [ 0.00585989  0.0330246   0.00981768  0.01935906 -0.01112679\n",
      "   -0.04375016  0.02646159  0.03142751  0.02114679 -0.04868129]]\n",
      "\n",
      " [[-0.04594135 -0.03731829  0.03933686 -0.01965104 -0.02525681\n",
      "   -0.02359327  0.00281694 -0.00398745 -0.04358212  0.00718329]\n",
      "  [-0.04594135 -0.03731829  0.03933686 -0.01965104 -0.02525681\n",
      "   -0.02359327  0.00281694 -0.00398745 -0.04358212  0.00718329]\n",
      "  [-0.04594135 -0.03731829  0.03933686 -0.01965104 -0.02525681\n",
      "   -0.02359327  0.00281694 -0.00398745 -0.04358212  0.00718329]\n",
      "  [-0.04594135 -0.03731829  0.03933686 -0.01965104 -0.02525681\n",
      "   -0.02359327  0.00281694 -0.00398745 -0.04358212  0.00718329]\n",
      "  [-0.01867181  0.0138929   0.03154982 -0.00793622 -0.02706308\n",
      "   -0.02240345  0.0373024   0.04962545  0.03349898  0.03614878]\n",
      "  [ 0.04422751 -0.02641941 -0.02517049 -0.01118774  0.04110267\n",
      "    0.01789567 -0.03994001 -0.02903469 -0.02057377  0.04745854]\n",
      "  [-0.03130613  0.01277229 -0.0463866  -0.01891569 -0.0043784\n",
      "   -0.0398315  -0.03118    -0.03685899 -0.03824515 -0.00927491]\n",
      "  [-0.04755541 -0.02431362 -0.03633758  0.01334563 -0.03326732\n",
      "    0.01888989 -0.01865009  0.02553665  0.03222436  0.01388777]]\n",
      "\n",
      " [[-0.04594135 -0.03731829  0.03933686 -0.01965104 -0.02525681\n",
      "   -0.02359327  0.00281694 -0.00398745 -0.04358212  0.00718329]\n",
      "  [-0.04594135 -0.03731829  0.03933686 -0.01965104 -0.02525681\n",
      "   -0.02359327  0.00281694 -0.00398745 -0.04358212  0.00718329]\n",
      "  [-0.04594135 -0.03731829  0.03933686 -0.01965104 -0.02525681\n",
      "   -0.02359327  0.00281694 -0.00398745 -0.04358212  0.00718329]\n",
      "  [-0.03345682 -0.02494165 -0.04575875  0.03441644 -0.04335539\n",
      "    0.03697893  0.00749413 -0.0322802   0.00295335  0.04086118]\n",
      "  [-0.02419732  0.0267411  -0.0484992  -0.00428398 -0.02876612\n",
      "   -0.03901182 -0.03417646 -0.02615546  0.00938562 -0.01504948]\n",
      "  [ 0.01459254  0.00066234 -0.02438922 -0.04924089  0.03830189\n",
      "   -0.0272535  -0.03674985  0.03719255 -0.01675168  0.03428013]\n",
      "  [-0.04086492 -0.03623433 -0.00803692  0.04256615  0.04799147\n",
      "    0.02224127  0.00380453  0.02916535 -0.01016252  0.041693  ]\n",
      "  [-0.01307227  0.04582639 -0.01842303 -0.04687784  0.04439019\n",
      "    0.03596767 -0.03256897 -0.01263259  0.02245096 -0.04966114]]\n",
      "\n",
      " [[-0.04594135 -0.03731829  0.03933686 -0.01965104 -0.02525681\n",
      "   -0.02359327  0.00281694 -0.00398745 -0.04358212  0.00718329]\n",
      "  [-0.04594135 -0.03731829  0.03933686 -0.01965104 -0.02525681\n",
      "   -0.02359327  0.00281694 -0.00398745 -0.04358212  0.00718329]\n",
      "  [-0.04594135 -0.03731829  0.03933686 -0.01965104 -0.02525681\n",
      "   -0.02359327  0.00281694 -0.00398745 -0.04358212  0.00718329]\n",
      "  [-0.03345682 -0.02494165 -0.04575875  0.03441644 -0.04335539\n",
      "    0.03697893  0.00749413 -0.0322802   0.00295335  0.04086118]\n",
      "  [-0.02419732  0.0267411  -0.0484992  -0.00428398 -0.02876612\n",
      "   -0.03901182 -0.03417646 -0.02615546  0.00938562 -0.01504948]\n",
      "  [ 0.01459254  0.00066234 -0.02438922 -0.04924089  0.03830189\n",
      "   -0.0272535  -0.03674985  0.03719255 -0.01675168  0.03428013]\n",
      "  [-0.04086492 -0.03623433 -0.00803692  0.04256615  0.04799147\n",
      "    0.02224127  0.00380453  0.02916535 -0.01016252  0.041693  ]\n",
      "  [ 0.00281749 -0.03437318 -0.01903371 -0.04430458  0.00932783\n",
      "    0.03777461 -0.04936665 -0.03582963  0.01616093  0.01729455]]\n",
      "\n",
      " [[-0.04594135 -0.03731829  0.03933686 -0.01965104 -0.02525681\n",
      "   -0.02359327  0.00281694 -0.00398745 -0.04358212  0.00718329]\n",
      "  [-0.04594135 -0.03731829  0.03933686 -0.01965104 -0.02525681\n",
      "   -0.02359327  0.00281694 -0.00398745 -0.04358212  0.00718329]\n",
      "  [-0.04594135 -0.03731829  0.03933686 -0.01965104 -0.02525681\n",
      "   -0.02359327  0.00281694 -0.00398745 -0.04358212  0.00718329]\n",
      "  [-0.03438972 -0.04865867  0.01455927 -0.04090892  0.04580447\n",
      "   -0.04041632 -0.04295686 -0.03787508  0.01353394 -0.04580503]\n",
      "  [-0.01867181  0.0138929   0.03154982 -0.00793622 -0.02706308\n",
      "   -0.02240345  0.0373024   0.04962545  0.03349898  0.03614878]\n",
      "  [ 0.04021933  0.03045258  0.02012526 -0.03259823  0.02850992\n",
      "    0.00985677 -0.04386795 -0.01626641  0.03766259 -0.01905283]\n",
      "  [-0.03130613  0.01277229 -0.0463866  -0.01891569 -0.0043784\n",
      "   -0.0398315  -0.03118    -0.03685899 -0.03824515 -0.00927491]\n",
      "  [-0.0386284  -0.01394912 -0.01203348 -0.00882147  0.00112497\n",
      "   -0.03750948 -0.00380104 -0.0499025  -0.02744297  0.02693239]]\n",
      "\n",
      " [[-0.04594135 -0.03731829  0.03933686 -0.01965104 -0.02525681\n",
      "   -0.02359327  0.00281694 -0.00398745 -0.04358212  0.00718329]\n",
      "  [-0.04594135 -0.03731829  0.03933686 -0.01965104 -0.02525681\n",
      "   -0.02359327  0.00281694 -0.00398745 -0.04358212  0.00718329]\n",
      "  [-0.04594135 -0.03731829  0.03933686 -0.01965104 -0.02525681\n",
      "   -0.02359327  0.00281694 -0.00398745 -0.04358212  0.00718329]\n",
      "  [-0.04594135 -0.03731829  0.03933686 -0.01965104 -0.02525681\n",
      "   -0.02359327  0.00281694 -0.00398745 -0.04358212  0.00718329]\n",
      "  [ 0.01383204  0.00173157  0.04600239 -0.01500931  0.04985756\n",
      "   -0.02026684  0.00606967  0.01868672  0.04666836 -0.00551858]\n",
      "  [-0.04151662  0.03126282 -0.02515483 -0.01775882  0.02097763\n",
      "   -0.0278253   0.03690844 -0.04859547 -0.01832099  0.02574332]\n",
      "  [-0.00512165  0.01530531  0.03506033 -0.01898055 -0.03838568\n",
      "    0.04522144 -0.01045348 -0.04384143 -0.03722186 -0.04006721]\n",
      "  [-0.04086492 -0.03623433 -0.00803692  0.04256615  0.04799147\n",
      "    0.02224127  0.00380453  0.02916535 -0.01016252  0.041693  ]]]\n"
     ]
    }
   ],
   "source": [
    "print(model.predict(embedded_docs))"
   ]
  },
  {
   "cell_type": "code",
   "execution_count": 18,
   "id": "focused-university",
   "metadata": {},
   "outputs": [
    {
     "data": {
      "text/plain": [
       "array([   0,    0,    0,    0, 7732, 4553, 9598, 4768])"
      ]
     },
     "execution_count": 18,
     "metadata": {},
     "output_type": "execute_result"
    }
   ],
   "source": [
    "embedded_docs[0]"
   ]
  },
  {
   "cell_type": "code",
   "execution_count": 19,
   "id": "formal-template",
   "metadata": {},
   "outputs": [
    {
     "name": "stdout",
     "output_type": "stream",
     "text": [
      "[[-0.04594135 -0.03731829  0.03933686 -0.01965104 -0.02525681 -0.02359327\n",
      "   0.00281694 -0.00398745 -0.04358212  0.00718329]\n",
      " [-0.04594135 -0.03731829  0.03933686 -0.01965104 -0.02525681 -0.02359327\n",
      "   0.00281694 -0.00398745 -0.04358212  0.00718329]\n",
      " [-0.04594135 -0.03731829  0.03933686 -0.01965104 -0.02525681 -0.02359327\n",
      "   0.00281694 -0.00398745 -0.04358212  0.00718329]\n",
      " [-0.04594135 -0.03731829  0.03933686 -0.01965104 -0.02525681 -0.02359327\n",
      "   0.00281694 -0.00398745 -0.04358212  0.00718329]\n",
      " [-0.01867181  0.0138929   0.03154982 -0.00793622 -0.02706308 -0.02240345\n",
      "   0.0373024   0.04962545  0.03349898  0.03614878]\n",
      " [-0.01783334  0.01297748 -0.04288355 -0.01727451 -0.04122944 -0.04575149\n",
      "   0.03622301  0.00517515  0.01988683 -0.0035219 ]\n",
      " [-0.03130613  0.01277229 -0.0463866  -0.01891569 -0.0043784  -0.0398315\n",
      "  -0.03118    -0.03685899 -0.03824515 -0.00927491]\n",
      " [ 0.00883367  0.00552231  0.00674702  0.02879259  0.02292639  0.03772236\n",
      "  -0.00447749 -0.01918666 -0.03373426 -0.04931277]]\n"
     ]
    }
   ],
   "source": [
    "print(model.predict(embedded_docs)[0])"
   ]
  },
  {
   "cell_type": "code",
   "execution_count": 29,
   "id": "surrounded-immunology",
   "metadata": {},
   "outputs": [
    {
     "name": "stdout",
     "output_type": "stream",
     "text": [
      "nehal <h<a>al> ahamad<jam>\n",
      "nehal al> ahamad\n"
     ]
    }
   ],
   "source": [
    "import re\n",
    "te = 'nehal <h<a>al> ahamad<jam>'\n",
    "print(te)\n",
    "\n",
    "te = re.sub('\\<.*?\\>', '', te)\n",
    "print(te)"
   ]
  },
  {
   "cell_type": "code",
   "execution_count": 5,
   "id": "fiscal-korea",
   "metadata": {},
   "outputs": [
    {
     "data": {
      "text/plain": [
       "['nehalahamad', 'com']"
      ]
     },
     "execution_count": 5,
     "metadata": {},
     "output_type": "execute_result"
    }
   ],
   "source": [
    "import re\n",
    "mm = 'nehalahamad.com'\n",
    "re.split('\\.', mm)"
   ]
  },
  {
   "cell_type": "code",
   "execution_count": 6,
   "id": "phantom-biology",
   "metadata": {},
   "outputs": [
    {
     "name": "stdout",
     "output_type": "stream",
     "text": [
      "From: mathew <mathew@mantis.co.uk>\n",
      "Subject: Alt.Atheism FAQ: Atheist Resources\n",
      "\n",
      "Archive-name: atheism/resources\n",
      "Alt-atheism-archive-name: resources\n",
      "Last-modified: 11 December 1992\n",
      "Version: 1.0\n",
      "\n",
      "                              Atheist Resources\n",
      "\n",
      "                      Addresses of Atheist Organizations\n",
      "\n",
      "                                     USA\n",
      "\n",
      "FREEDOM FROM RELIGION FOUNDATION\n",
      "\n",
      "Darwin fish bumper stickers and assorted other atheist paraphernalia are\n",
      "available from the Freedom From Religion Foundation in the US.\n",
      "\n",
      "Write to:  FFRF, P.O. Box 750, Madison, WI 53701.\n",
      "Telephone: (608) 256-8900\n",
      "\n",
      "EVOLUTION DESIGNS\n",
      "\n",
      "Evolution Designs sell the \"Darwin fish\".  It's a fish symbol, like the ones\n",
      "Christians stick on their cars, but with feet and the word \"Darwin\" written\n",
      "inside.  The deluxe moulded 3D plastic fish is $4.95 postpaid in the US.\n",
      "\n",
      "Write to:  Evolution Designs, 7119 Laurel Canyon #4, North Hollywood,\n",
      "           CA 91605.\n",
      "\n",
      "People in the San Francisco Bay area can get Darwin Fish from Lynn Gold --\n",
      "try mailing <figmo@netcom.com>.  For net people who go to Lynn directly, the\n",
      "price is $4.95 per fish.\n",
      "\n",
      "AMERICAN ATHEIST PRESS\n",
      "\n",
      "AAP publish various atheist books -- critiques of the Bible, lists of\n",
      "Biblical contradictions, and so on.  One such book is:\n",
      "\n",
      "\"The Bible Handbook\" by W.P. Ball and G.W. Foote.  American Atheist Press.\n",
      "372 pp.  ISBN 0-910309-26-4, 2nd edition, 1986.  Bible contradictions,\n",
      "absurdities, atrocities, immoralities... contains Ball, Foote: \"The Bible\n",
      "Contradicts Itself\", AAP.  Based on the King James version of the Bible.\n",
      "\n",
      "Write to:  American Atheist Press, P.O. Box 140195, Austin, TX 78714-0195.\n",
      "      or:  7215 Cameron Road, Austin, TX 78752-2973.\n",
      "Telephone: (512) 458-1244\n",
      "Fax:       (512) 467-9525\n",
      "\n",
      "PROMETHEUS BOOKS\n",
      "\n",
      "Sell books including Haught's \"Holy Horrors\" (see below).\n",
      "\n",
      "Write to:  700 East Amherst Street, Buffalo, New York 14215.\n",
      "Telephone: (716) 837-2475.\n",
      "\n",
      "An alternate address (which may be newer or older) is:\n",
      "Prometheus Books, 59 Glenn Drive, Buffalo, NY 14228-2197.\n",
      "\n",
      "AFRICAN-AMERICANS FOR HUMANISM\n",
      "\n",
      "An organization promoting black secular humanism and uncovering the history of\n",
      "black freethought.  They publish a quarterly newsletter, AAH EXAMINER.\n",
      "\n",
      "Write to:  Norm R. Allen, Jr., African Americans for Humanism, P.O. Box 664,\n",
      "           Buffalo, NY 14226.\n",
      "\n",
      "                                United Kingdom\n",
      "\n",
      "Rationalist Press Association          National Secular Society\n",
      "88 Islington High Street               702 Holloway Road\n",
      "London N1 8EW                          London N19 3NL\n",
      "071 226 7251                           071 272 1266\n",
      "\n",
      "British Humanist Association           South Place Ethical Society\n",
      "14 Lamb's Conduit Passage              Conway Hall\n",
      "London WC1R 4RH                        Red Lion Square\n",
      "071 430 0908                           London WC1R 4RL\n",
      "fax 071 430 1271                       071 831 7723\n",
      "\n",
      "The National Secular Society publish \"The Freethinker\", a monthly magazine\n",
      "founded in 1881.\n",
      "\n",
      "                                   Germany\n",
      "\n",
      "IBKA e.V.\n",
      "Internationaler Bund der Konfessionslosen und Atheisten\n",
      "Postfach 880, D-1000 Berlin 41. Germany.\n",
      "\n",
      "IBKA publish a journal:\n",
      "MIZ. (Materialien und Informationen zur Zeit. Politisches\n",
      "Journal der Konfessionslosesn und Atheisten. Hrsg. IBKA e.V.)\n",
      "MIZ-Vertrieb, Postfach 880, D-1000 Berlin 41. Germany.\n",
      "\n",
      "For atheist books, write to:\n",
      "\n",
      "IBDK, Internationaler B\"ucherdienst der Konfessionslosen\n",
      "Postfach 3005, D-3000 Hannover 1. Germany.\n",
      "Telephone: 0511/211216\n",
      "\n",
      "\n",
      "                               Books -- Fiction\n",
      "\n",
      "THOMAS M. DISCH\n",
      "\n",
      "\"The Santa Claus Compromise\"\n",
      "Short story.  The ultimate proof that Santa exists.  All characters and \n",
      "events are fictitious.  Any similarity to living or dead gods -- uh, well...\n",
      "\n",
      "WALTER M. MILLER, JR\n",
      "\n",
      "\"A Canticle for Leibowitz\"\n",
      "One gem in this post atomic doomsday novel is the monks who spent their lives\n",
      "copying blueprints from \"Saint Leibowitz\", filling the sheets of paper with\n",
      "ink and leaving white lines and letters.\n",
      "\n",
      "EDGAR PANGBORN\n",
      "\n",
      "\"Davy\"\n",
      "Post atomic doomsday novel set in clerical states.  The church, for example,\n",
      "forbids that anyone \"produce, describe or use any substance containing...\n",
      "atoms\". \n",
      "\n",
      "PHILIP K. DICK\n",
      "\n",
      "Philip K. Dick Dick wrote many philosophical and thought-provoking short \n",
      "stories and novels.  His stories are bizarre at times, but very approachable.\n",
      "He wrote mainly SF, but he wrote about people, truth and religion rather than\n",
      "technology.  Although he often believed that he had met some sort of God, he\n",
      "remained sceptical.  Amongst his novels, the following are of some relevance:\n",
      "\n",
      "\"Galactic Pot-Healer\"\n",
      "A fallible alien deity summons a group of Earth craftsmen and women to a\n",
      "remote planet to raise a giant cathedral from beneath the oceans.  When the\n",
      "deity begins to demand faith from the earthers, pot-healer Joe Fernwright is\n",
      "unable to comply.  A polished, ironic and amusing novel.\n",
      "\n",
      "\"A Maze of Death\"\n",
      "Noteworthy for its description of a technology-based religion.\n",
      "\n",
      "\"VALIS\"\n",
      "The schizophrenic hero searches for the hidden mysteries of Gnostic\n",
      "Christianity after reality is fired into his brain by a pink laser beam of\n",
      "unknown but possibly divine origin.  He is accompanied by his dogmatic and\n",
      "dismissively atheist friend and assorted other odd characters.\n",
      "\n",
      "\"The Divine Invasion\"\n",
      "God invades Earth by making a young woman pregnant as she returns from\n",
      "another star system.  Unfortunately she is terminally ill, and must be\n",
      "assisted by a dead man whose brain is wired to 24-hour easy listening music.\n",
      "\n",
      "MARGARET ATWOOD\n",
      "\n",
      "\"The Handmaid's Tale\"\n",
      "A story based on the premise that the US Congress is mysteriously\n",
      "assassinated, and fundamentalists quickly take charge of the nation to set it\n",
      "\"right\" again.  The book is the diary of a woman's life as she tries to live\n",
      "under the new Christian theocracy.  Women's right to own property is revoked,\n",
      "and their bank accounts are closed; sinful luxuries are outlawed, and the\n",
      "radio is only used for readings from the Bible.  Crimes are punished\n",
      "retroactively: doctors who performed legal abortions in the \"old world\" are\n",
      "hunted down and hanged.  Atwood's writing style is difficult to get used to\n",
      "at first, but the tale grows more and more chilling as it goes on.\n",
      "\n",
      "VARIOUS AUTHORS\n",
      "\n",
      "\"The Bible\"\n",
      "This somewhat dull and rambling work has often been criticized.  However, it\n",
      "is probably worth reading, if only so that you'll know what all the fuss is\n",
      "about.  It exists in many different versions, so make sure you get the one\n",
      "true version.\n",
      "\n",
      "                             Books -- Non-fiction\n",
      "\n",
      "PETER DE ROSA\n",
      "\n",
      "\"Vicars of Christ\", Bantam Press, 1988\n",
      "Although de Rosa seems to be Christian or even Catholic this is a very\n",
      "enlighting history of papal immoralities, adulteries, fallacies etc.\n",
      "(German translation: \"Gottes erste Diener. Die dunkle Seite des Papsttums\",\n",
      "Droemer-Knaur, 1989)\n",
      "\n",
      "MICHAEL MARTIN\n",
      "\n",
      "\"Atheism: A Philosophical Justification\", Temple University Press,\n",
      " Philadelphia, USA.\n",
      "A detailed and scholarly justification of atheism.  Contains an outstanding\n",
      "appendix defining terminology and usage in this (necessarily) tendentious\n",
      "area.  Argues both for \"negative atheism\" (i.e. the \"non-belief in the\n",
      "existence of god(s)\") and also for \"positive atheism\" (\"the belief in the\n",
      "non-existence of god(s)\").  Includes great refutations of the most\n",
      "challenging arguments for god; particular attention is paid to refuting\n",
      "contempory theists such as Platinga and Swinburne.\n",
      "541 pages. ISBN 0-87722-642-3 (hardcover; paperback also available)\n",
      "\n",
      "\"The Case Against Christianity\", Temple University Press\n",
      "A comprehensive critique of Christianity, in which he considers\n",
      "the best contemporary defences of Christianity and (ultimately)\n",
      "demonstrates that they are unsupportable and/or incoherent.\n",
      "273 pages. ISBN 0-87722-767-5\n",
      "\n",
      "JAMES TURNER\n",
      "\n",
      "\"Without God, Without Creed\", The Johns Hopkins University Press, Baltimore,\n",
      " MD, USA\n",
      "Subtitled \"The Origins of Unbelief in America\".  Examines the way in which\n",
      "unbelief (whether agnostic or atheistic)  became a mainstream alternative\n",
      "world-view.  Focusses on the period 1770-1900, and while considering France\n",
      "and Britain the emphasis is on American, and particularly New England\n",
      "developments.  \"Neither a religious history of secularization or atheism,\n",
      "Without God, Without Creed is, rather, the intellectual history of the fate\n",
      "of a single idea, the belief that God exists.\" \n",
      "316 pages. ISBN (hardcover) 0-8018-2494-X (paper) 0-8018-3407-4\n",
      "\n",
      "GEORGE SELDES (Editor)\n",
      "\n",
      "\"The great thoughts\", Ballantine Books, New York, USA\n",
      "A \"dictionary of quotations\" of a different kind, concentrating on statements\n",
      "and writings which, explicitly or implicitly, present the person's philosophy\n",
      "and world-view.  Includes obscure (and often suppressed) opinions from many\n",
      "people.  For some popular observations, traces the way in which various\n",
      "people expressed and twisted the idea over the centuries.  Quite a number of\n",
      "the quotations are derived from Cardiff's \"What Great Men Think of Religion\"\n",
      "and Noyes' \"Views of Religion\".\n",
      "490 pages. ISBN (paper) 0-345-29887-X.\n",
      "\n",
      "RICHARD SWINBURNE\n",
      "\n",
      "\"The Existence of God (Revised Edition)\", Clarendon Paperbacks, Oxford\n",
      "This book is the second volume in a trilogy that began with \"The Coherence of\n",
      "Theism\" (1977) and was concluded with \"Faith and Reason\" (1981).  In this\n",
      "work, Swinburne attempts to construct a series of inductive arguments for the\n",
      "existence of God.  His arguments, which are somewhat tendentious and rely\n",
      "upon the imputation of late 20th century western Christian values and\n",
      "aesthetics to a God which is supposedly as simple as can be conceived, were\n",
      "decisively rejected in Mackie's \"The Miracle of Theism\".  In the revised\n",
      "edition of \"The Existence of God\", Swinburne includes an Appendix in which he\n",
      "makes a somewhat incoherent attempt to rebut Mackie.\n",
      "\n",
      "J. L. MACKIE\n",
      "\n",
      "\"The Miracle of Theism\", Oxford\n",
      "This (posthumous) volume contains a comprehensive review of the principal\n",
      "arguments for and against the existence of God.  It ranges from the classical\n",
      "philosophical positions of Descartes, Anselm, Berkeley, Hume et al, through\n",
      "the moral arguments of Newman, Kant and Sidgwick, to the recent restatements\n",
      "of the classical theses by Plantinga and Swinburne.  It also addresses those\n",
      "positions which push the concept of God beyond the realm of the rational,\n",
      "such as those of Kierkegaard, Kung and Philips, as well as \"replacements for\n",
      "God\" such as Lelie's axiarchism.  The book is a delight to read - less\n",
      "formalistic and better written than Martin's works, and refreshingly direct\n",
      "when compared with the hand-waving of Swinburne.\n",
      "\n",
      "JAMES A. HAUGHT\n",
      "\n",
      "\"Holy Horrors: An Illustrated History of Religious Murder and Madness\",\n",
      " Prometheus Books\n",
      "Looks at religious persecution from ancient times to the present day -- and\n",
      "not only by Christians.\n",
      "Library of Congress Catalog Card Number 89-64079. 1990.\n",
      "\n",
      "NORM R. ALLEN, JR.\n",
      "\n",
      "\"African American Humanism: an Anthology\"\n",
      "See the listing for African Americans for Humanism above.\n",
      "\n",
      "GORDON STEIN\n",
      "\n",
      "\"An Anthology of Atheism and Rationalism\", Prometheus Books\n",
      "An anthology covering a wide range of subjects, including 'The Devil, Evil\n",
      "and Morality' and 'The History of Freethought'.  Comprehensive bibliography.\n",
      "\n",
      "EDMUND D. COHEN\n",
      "\n",
      "\"The Mind of The Bible-Believer\", Prometheus Books\n",
      "A study of why people become Christian fundamentalists, and what effect it\n",
      "has on them.\n",
      "\n",
      "                                Net Resources\n",
      "\n",
      "There's a small mail-based archive server at mantis.co.uk which carries\n",
      "archives of old alt.atheism.moderated articles and assorted other files.  For\n",
      "more information, send mail to archive-server@mantis.co.uk saying\n",
      "\n",
      "   help\n",
      "   send atheism/index\n",
      "\n",
      "and it will mail back a reply.\n",
      "\n",
      "\n",
      "mathew\n",
      "ÿ\n",
      "\n"
     ]
    }
   ],
   "source": [
    "with open('documents/alt.atheism_49960.txt', 'r') as f:\n",
    "    Input_Text = f.read()\n",
    "    print(Input_Text)"
   ]
  },
  {
   "cell_type": "code",
   "execution_count": 8,
   "id": "threatened-yahoo",
   "metadata": {},
   "outputs": [],
   "source": [
    "subject = re.search(r'Subject:.*', Input_Text)\n",
    "subject = Input_Text[subject.start():subject.end()]"
   ]
  },
  {
   "cell_type": "code",
   "execution_count": 9,
   "id": "light-lecture",
   "metadata": {},
   "outputs": [
    {
     "data": {
      "text/plain": [
       "'Subject: Alt.Atheism FAQ: Atheist Resources'"
      ]
     },
     "execution_count": 9,
     "metadata": {},
     "output_type": "execute_result"
    }
   ],
   "source": [
    "subject"
   ]
  },
  {
   "cell_type": "markdown",
   "id": "canadian-federal",
   "metadata": {},
   "source": [
    "## Manual Embedding"
   ]
  },
  {
   "cell_type": "code",
   "execution_count": 11,
   "id": "verbal-feeling",
   "metadata": {},
   "outputs": [],
   "source": [
    "import numpy as np\n",
    "# define documents\n",
    "docs = ['Well done!',\n",
    "\t\t'Good work',\n",
    "\t\t'Great effort',\n",
    "\t\t'nice work',\n",
    "\t\t'Excellent!',\n",
    "\t\t'Weak',\n",
    "\t\t'Poor effort!',\n",
    "\t\t'not good',\n",
    "\t\t'poor work',\n",
    "\t\t'Could have done better.']\n",
    "# define class labels\n",
    "labels = np.array([1,1,1,1,1,0,0,0,0,0])"
   ]
  },
  {
   "cell_type": "code",
   "execution_count": 13,
   "id": "sustainable-finder",
   "metadata": {},
   "outputs": [
    {
     "name": "stdout",
     "output_type": "stream",
     "text": [
      "[[25, 4], [13, 37], [22, 1], [6, 37], [7], [11], [6, 1], [44, 13], [6, 37], [19, 28, 4, 47]]\n"
     ]
    }
   ],
   "source": [
    "from tensorflow.keras.preprocessing.text import one_hot\n",
    "# integer encode the documents\n",
    "vocab_size = 50\n",
    "encoded_docs = [one_hot(d, vocab_size) for d in docs]\n",
    "print(encoded_docs)"
   ]
  },
  {
   "cell_type": "code",
   "execution_count": 16,
   "id": "requested-basket",
   "metadata": {},
   "outputs": [
    {
     "name": "stdout",
     "output_type": "stream",
     "text": [
      "[[25  4  0  0]\n",
      " [13 37  0  0]\n",
      " [22  1  0  0]\n",
      " [ 6 37  0  0]\n",
      " [ 7  0  0  0]\n",
      " [11  0  0  0]\n",
      " [ 6  1  0  0]\n",
      " [44 13  0  0]\n",
      " [ 6 37  0  0]\n",
      " [19 28  4 47]]\n"
     ]
    }
   ],
   "source": [
    "from tensorflow.keras.preprocessing.sequence import pad_sequences\n",
    "# pad documents to a max length of 4 words\n",
    "max_length = max([len(i) for i in encoded_docs])\n",
    "padded_docs = pad_sequences(encoded_docs, maxlen=max_length, padding='post')\n",
    "print(padded_docs)"
   ]
  },
  {
   "cell_type": "code",
   "execution_count": 20,
   "id": "clear-taxation",
   "metadata": {
    "collapsed": true
   },
   "outputs": [
    {
     "data": {
      "image/png": "[encoded data removed]",
      "text/plain": [
       "<IPython.core.display.Image object>"
      ]
     },
     "execution_count": 20,
     "metadata": {},
     "output_type": "execute_result"
    }
   ],
   "source": [
    "from tensorflow.keras import Sequential\n",
    "from tensorflow.keras.layers import Embedding, Flatten, Dense\n",
    "# define the model\n",
    "model = Sequential()\n",
    "model.add(Embedding(vocab_size, 8, input_length=max_length))\n",
    "model.add(Flatten())\n",
    "model.add(Dense(1, activation='sigmoid'))\n",
    "\n",
    "\n",
    "from tensorflow.keras.utils import plot_model\n",
    "\n",
    "plot_model(model, 'model.png', show_shapes=True)"
   ]
  },
  {
   "cell_type": "code",
   "execution_count": 23,
   "id": "incorporated-runner",
   "metadata": {},
   "outputs": [
    {
     "name": "stdout",
     "output_type": "stream",
     "text": [
      "Model: \"sequential\"\n",
      "_________________________________________________________________\n",
      "Layer (type)                 Output Shape              Param #   \n",
      "=================================================================\n",
      "embedding (Embedding)        (None, 4, 8)              400       \n",
      "_________________________________________________________________\n",
      "flatten (Flatten)            (None, 32)                0         \n",
      "_________________________________________________________________\n",
      "dense (Dense)                (None, 1)                 33        \n",
      "=================================================================\n",
      "Total params: 433\n",
      "Trainable params: 433\n",
      "Non-trainable params: 0\n",
      "_________________________________________________________________\n",
      "None\n"
     ]
    }
   ],
   "source": [
    "# compile the model\n",
    "model.compile(optimizer='adam', loss='binary_crossentropy', metrics=['accuracy'])\n",
    "# summarize the model\n",
    "print(model.summary())"
   ]
  },
  {
   "cell_type": "code",
   "execution_count": 29,
   "id": "illegal-shoulder",
   "metadata": {},
   "outputs": [
    {
     "name": "stdout",
     "output_type": "stream",
     "text": [
      "Accuracy: 89.999998\n"
     ]
    }
   ],
   "source": [
    "# fit the model\n",
    "model.fit(padded_docs, labels, epochs=50, verbose=0)\n",
    "# evaluate the model\n",
    "loss, accuracy = model.evaluate(padded_docs, labels, verbose=0)\n",
    "print('Accuracy: %f' % (accuracy*100))"
   ]
  },
  {
   "cell_type": "markdown",
   "id": "twelve-theater",
   "metadata": {},
   "source": [
    "# Keras Embedding"
   ]
  },
  {
   "cell_type": "code",
   "execution_count": 66,
   "id": "arctic-coupon",
   "metadata": {
    "code_folding": [
     0
    ]
   },
   "outputs": [],
   "source": [
    "# importing liberaries\n",
    "import numpy as np\n",
    "from keras.preprocessing.text import Tokenizer\n",
    "from keras.preprocessing.sequence import pad_sequences\n",
    "from keras.models import Sequential\n",
    "from keras.layers import Dense\n",
    "from keras.layers import Flatten\n",
    "from keras.layers import Embedding, Conv1D"
   ]
  },
  {
   "cell_type": "code",
   "execution_count": 70,
   "id": "irish-advice",
   "metadata": {},
   "outputs": [
    {
     "name": "stdout",
     "output_type": "stream",
     "text": [
      "vocabe size:  15\n",
      "{'work': 1, 'done': 2, 'good': 3, 'effort': 4, 'poor': 5, 'well': 6, 'great': 7, 'nice': 8, 'excellent': 9, 'weak': 10, 'not': 11, 'could': 12, 'have': 13, 'better': 14}\n"
     ]
    }
   ],
   "source": [
    "# prepare tokenizer\n",
    "t = Tokenizer()\n",
    "t.fit_on_texts(docs)\n",
    "vocab_size = len(t.word_index) + 1\n",
    "\n",
    "print('vocabe size: ', vocab_size)\n",
    "print(t.word_index)"
   ]
  },
  {
   "cell_type": "code",
   "execution_count": 56,
   "id": "random-overhead",
   "metadata": {},
   "outputs": [
    {
     "name": "stdout",
     "output_type": "stream",
     "text": [
      "[[6, 2], [3, 1], [7, 4], [8, 1], [9], [10], [5, 4], [11, 3], [5, 1], [12, 13, 2, 14]]\n"
     ]
    }
   ],
   "source": [
    "# integer encode the documents\n",
    "encoded_docs = t.texts_to_sequences(docs)\n",
    "print(encoded_docs)"
   ]
  },
  {
   "cell_type": "code",
   "execution_count": 58,
   "id": "objective-fluid",
   "metadata": {},
   "outputs": [
    {
     "name": "stdout",
     "output_type": "stream",
     "text": [
      "[[ 6  2  0  0]\n",
      " [ 3  1  0  0]\n",
      " [ 7  4  0  0]\n",
      " [ 8  1  0  0]\n",
      " [ 9  0  0  0]\n",
      " [10  0  0  0]\n",
      " [ 5  4  0  0]\n",
      " [11  3  0  0]\n",
      " [ 5  1  0  0]\n",
      " [12 13  2 14]]\n"
     ]
    }
   ],
   "source": [
    "# pad documents to a max length of 4 words\n",
    "max_length = 4\n",
    "padded_docs = pad_sequences(encoded_docs, maxlen=max_length, padding='post')\n",
    "print(padded_docs)"
   ]
  },
  {
   "cell_type": "code",
   "execution_count": 71,
   "id": "judicial-restriction",
   "metadata": {},
   "outputs": [
    {
     "name": "stdout",
     "output_type": "stream",
     "text": [
      "embedding matrix shape:  (15, 300)\n"
     ]
    }
   ],
   "source": [
    "# load the whole embedding into memory\n",
    "with open('glove_vectors', 'rb') as f:\n",
    "    embeddings_index = pickle.load(f)\n",
    "\n",
    "\n",
    "# create a weight matrix for words in training docs\n",
    "embedding_matrix = np.zeros((vocab_size, 300))\n",
    "\n",
    "for word, i in t.word_index.items():\n",
    "\tembedding_vector = embeddings_index.get(word)\n",
    "\tif embedding_vector is not None:\n",
    "\t\tembedding_matrix[i] = embedding_vector\n",
    "        \n",
    "print('embedding matrix shape: ', embedding_matrix.shape)"
   ]
  },
  {
   "cell_type": "code",
   "execution_count": 75,
   "id": "pharmaceutical-commodity",
   "metadata": {},
   "outputs": [
    {
     "name": "stdout",
     "output_type": "stream",
     "text": [
      "Model: \"sequential_6\"\n",
      "_________________________________________________________________\n",
      "Layer (type)                 Output Shape              Param #   \n",
      "=================================================================\n",
      "embedding_4 (Embedding)      (None, 4, 300)            4500      \n",
      "_________________________________________________________________\n",
      "flatten_3 (Flatten)          (None, 1200)              0         \n",
      "_________________________________________________________________\n",
      "dense_3 (Dense)              (None, 1)                 1201      \n",
      "=================================================================\n",
      "Total params: 5,701\n",
      "Trainable params: 1,201\n",
      "Non-trainable params: 4,500\n",
      "_________________________________________________________________\n",
      "None\n"
     ]
    }
   ],
   "source": [
    "# define model\n",
    "model = Sequential()\n",
    "e = Embedding(vocab_size, 300, weights=[embedding_matrix], input_length=4, trainable=False)\n",
    "model.add(e)\n",
    "model.add(Flatten())\n",
    "model.add(Dense(1, activation='sigmoid'))\n",
    "\n",
    "# compile the model\n",
    "model.compile(optimizer='adam', loss='binary_crossentropy', metrics=['accuracy'])\n",
    "\n",
    "# summarize the model\n",
    "print(model.summary())"
   ]
  },
  {
   "cell_type": "code",
   "execution_count": 76,
   "id": "timely-jacob",
   "metadata": {},
   "outputs": [
    {
     "data": {
      "image/png": "[encoded data removed]",
      "text/plain": [
       "<IPython.core.display.Image object>"
      ]
     },
     "execution_count": 76,
     "metadata": {},
     "output_type": "execute_result"
    }
   ],
   "source": [
    "from tensorflow.keras.utils import plot_model\n",
    "\n",
    "plot_model(model, 'model.png', show_shapes=True)"
   ]
  },
  {
   "cell_type": "code",
   "execution_count": 77,
   "id": "dental-radio",
   "metadata": {},
   "outputs": [
    {
     "name": "stdout",
     "output_type": "stream",
     "text": [
      "Accuracy: 100.000000\n"
     ]
    }
   ],
   "source": [
    "# fit the model\n",
    "model.fit(padded_docs, labels, epochs=50, verbose=0)\n",
    "\n",
    "# evaluate the model\n",
    "loss, accuracy = model.evaluate(padded_docs, labels, verbose=0)\n",
    "print('Accuracy: %f' % (accuracy*100))"
   ]
  },
  {
   "cell_type": "code",
   "execution_count": null,
   "id": "cellular-johns",
   "metadata": {},
   "outputs": [],
   "source": []
  },
  {
   "cell_type": "code",
   "execution_count": null,
   "id": "running-xerox",
   "metadata": {},
   "outputs": [],
   "source": []
  },
  {
   "cell_type": "code",
   "execution_count": null,
   "id": "aware-laptop",
   "metadata": {},
   "outputs": [],
   "source": []
  },
  {
   "cell_type": "code",
   "execution_count": null,
   "id": "successful-annotation",
   "metadata": {},
   "outputs": [],
   "source": []
  },
  {
   "cell_type": "code",
   "execution_count": 67,
   "id": "rational-cheese",
   "metadata": {},
   "outputs": [],
   "source": [
    "def evaluate_model(trainX, trainy, testX, testy):\n",
    "    verbose, epochs, batch_size = 0, 10, 32\n",
    "    n_timesteps, n_features, n_outputs = trainX.shape[1], trainX.shape[2], trainy.shape[1]\n",
    "    \n",
    "    model = Sequential()\n",
    "    model.add(Conv1D(filters=64, kernel_size=3, activation='relu', input_shape=(n_timesteps,n_features)))\n",
    "    model.add(Conv1D(filters=64, kernel_size=3, activation='relu'))\n",
    "    model.add(Dropout(0.5))\n",
    "    model.add(MaxPooling1D(pool_size=2))\n",
    "    model.add(Flatten())\n",
    "    model.add(Dense(100, activation='relu'))\n",
    "    model.add(Dense(n_outputs, activation='softmax'))\n",
    "    model.compile(loss='categorical_crossentropy', optimizer='adam', metrics=['accuracy'])\n",
    "    \n",
    "    print(model.summary())\n",
    "    \n",
    "    # fit network\n",
    "#     model.fit(trainX, trainy, epochs=epochs, batch_size=batch_size, verbose=verbose)\n",
    "    # evaluate model\n",
    "#     _, accuracy = model.evaluate(testX, testy, batch_size=batch_size, verbose=0)\n",
    "#     return accuracy\n",
    "\n"
   ]
  },
  {
   "cell_type": "code",
   "execution_count": 69,
   "id": "broke-indiana",
   "metadata": {},
   "outputs": [],
   "source": [
    "def load_dataset(prefix=''):\n",
    "\t# load all train\n",
    "\ttrainX, trainy = load_dataset_group('train', prefix + 'HARDataset/')\n",
    "\tprint(trainX.shape, trainy.shape)\n",
    "\t# load all test\n",
    "\ttestX, testy = load_dataset_group('test', prefix + 'HARDataset/')\n",
    "\tprint(testX.shape, testy.shape)\n",
    "\t# zero-offset class values\n",
    "\ttrainy = trainy - 1\n",
    "\ttesty = testy - 1\n",
    "\t# one hot encode y\n",
    "\ttrainy = to_categorical(trainy)\n",
    "\ttesty = to_categorical(testy)\n",
    "\tprint(trainX.shape, trainy.shape, testX.shape, testy.shape)\n",
    "\treturn trainX, trainy, testX, testy"
   ]
  },
  {
   "cell_type": "code",
   "execution_count": 68,
   "id": "naval-reset",
   "metadata": {},
   "outputs": [
    {
     "ename": "NameError",
     "evalue": "name 'n_timesteps' is not defined",
     "output_type": "error",
     "traceback": [
      "\u001b[1;31m---------------------------------------------------------------------------\u001b[0m",
      "\u001b[1;31mNameError\u001b[0m                                 Traceback (most recent call last)",
      "\u001b[1;32m<ipython-input-68-eb8e84cdfb4f>\u001b[0m in \u001b[0;36m<module>\u001b[1;34m\u001b[0m\n\u001b[0;32m      1\u001b[0m \u001b[0mmodel\u001b[0m \u001b[1;33m=\u001b[0m \u001b[0mSequential\u001b[0m\u001b[1;33m(\u001b[0m\u001b[1;33m)\u001b[0m\u001b[1;33m\u001b[0m\u001b[1;33m\u001b[0m\u001b[0m\n\u001b[1;32m----> 2\u001b[1;33m \u001b[0mmodel\u001b[0m\u001b[1;33m.\u001b[0m\u001b[0madd\u001b[0m\u001b[1;33m(\u001b[0m\u001b[0mConv1D\u001b[0m\u001b[1;33m(\u001b[0m\u001b[0mfilters\u001b[0m\u001b[1;33m=\u001b[0m\u001b[1;36m64\u001b[0m\u001b[1;33m,\u001b[0m \u001b[0mkernel_size\u001b[0m\u001b[1;33m=\u001b[0m\u001b[1;36m3\u001b[0m\u001b[1;33m,\u001b[0m \u001b[0mactivation\u001b[0m\u001b[1;33m=\u001b[0m\u001b[1;34m'relu'\u001b[0m\u001b[1;33m,\u001b[0m \u001b[0minput_shape\u001b[0m\u001b[1;33m=\u001b[0m\u001b[1;33m(\u001b[0m\u001b[0mn_timesteps\u001b[0m\u001b[1;33m,\u001b[0m\u001b[0mn_features\u001b[0m\u001b[1;33m)\u001b[0m\u001b[1;33m)\u001b[0m\u001b[1;33m)\u001b[0m\u001b[1;33m\u001b[0m\u001b[1;33m\u001b[0m\u001b[0m\n\u001b[0m\u001b[0;32m      3\u001b[0m \u001b[0mmodel\u001b[0m\u001b[1;33m.\u001b[0m\u001b[0madd\u001b[0m\u001b[1;33m(\u001b[0m\u001b[0mConv1D\u001b[0m\u001b[1;33m(\u001b[0m\u001b[0mfilters\u001b[0m\u001b[1;33m=\u001b[0m\u001b[1;36m64\u001b[0m\u001b[1;33m,\u001b[0m \u001b[0mkernel_size\u001b[0m\u001b[1;33m=\u001b[0m\u001b[1;36m3\u001b[0m\u001b[1;33m,\u001b[0m \u001b[0mactivation\u001b[0m\u001b[1;33m=\u001b[0m\u001b[1;34m'relu'\u001b[0m\u001b[1;33m)\u001b[0m\u001b[1;33m)\u001b[0m\u001b[1;33m\u001b[0m\u001b[1;33m\u001b[0m\u001b[0m\n\u001b[0;32m      4\u001b[0m \u001b[0mmodel\u001b[0m\u001b[1;33m.\u001b[0m\u001b[0madd\u001b[0m\u001b[1;33m(\u001b[0m\u001b[0mDropout\u001b[0m\u001b[1;33m(\u001b[0m\u001b[1;36m0.5\u001b[0m\u001b[1;33m)\u001b[0m\u001b[1;33m)\u001b[0m\u001b[1;33m\u001b[0m\u001b[1;33m\u001b[0m\u001b[0m\n\u001b[0;32m      5\u001b[0m \u001b[0mmodel\u001b[0m\u001b[1;33m.\u001b[0m\u001b[0madd\u001b[0m\u001b[1;33m(\u001b[0m\u001b[0mMaxPooling1D\u001b[0m\u001b[1;33m(\u001b[0m\u001b[0mpool_size\u001b[0m\u001b[1;33m=\u001b[0m\u001b[1;36m2\u001b[0m\u001b[1;33m)\u001b[0m\u001b[1;33m)\u001b[0m\u001b[1;33m\u001b[0m\u001b[1;33m\u001b[0m\u001b[0m\n",
      "\u001b[1;31mNameError\u001b[0m: name 'n_timesteps' is not defined"
     ]
    }
   ],
   "source": [
    "model = Sequential()\n",
    "model.add(Conv1D(filters=64, kernel_size=3, activation='relu', input_shape=(n_timesteps,n_features)))\n",
    "model.add(Conv1D(filters=64, kernel_size=3, activation='relu'))\n",
    "model.add(Dropout(0.5))\n",
    "model.add(MaxPooling1D(pool_size=2))\n",
    "model.add(Flatten())\n",
    "model.add(Dense(100, activation='relu'))\n",
    "model.add(Dense(n_outputs, activation='softmax'))\n",
    "model.compile(loss='categorical_crossentropy', optimizer='adam', metrics=['accuracy'])\n",
    "\n",
    "print(model.summary())"
   ]
  },
  {
   "cell_type": "code",
   "execution_count": 80,
   "id": "accredited-fault",
   "metadata": {},
   "outputs": [
    {
     "name": "stdout",
     "output_type": "stream",
     "text": [
      "yes\n"
     ]
    }
   ],
   "source": [
    "import os\n",
    "if not os.path.isfile('preprocessed_document'):\n",
    "    print('no')\n",
    "else:\n",
    "    print('yes')"
   ]
  },
  {
   "cell_type": "code",
   "execution_count": null,
   "id": "burning-borough",
   "metadata": {},
   "outputs": [],
   "source": []
  },
  {
   "cell_type": "code",
   "execution_count": null,
   "id": "fatty-cleaning",
   "metadata": {},
   "outputs": [],
   "source": []
  }
 ],
 "metadata": {
  "kernelspec": {
   "display_name": "Python 3",
   "language": "python",
   "name": "python3"
  },
  "language_info": {
   "codemirror_mode": {
    "name": "ipython",
    "version": 3
   },
   "file_extension": ".py",
   "mimetype": "text/x-python",
   "name": "python",
   "nbconvert_exporter": "python",
   "pygments_lexer": "ipython3",
   "version": "3.7.1"
  },
  "latex_envs": {
   "LaTeX_envs_menu_present": true,
   "autoclose": false,
   "autocomplete": true,
   "bibliofile": "biblio.bib",
   "cite_by": "apalike",
   "current_citInitial": 1,
   "eqLabelWithNumbers": true,
   "eqNumInitial": 1,
   "hotkeys": {
    "equation": "Ctrl-E",
    "itemize": "Ctrl-I"
   },
   "labels_anchors": false,
   "latex_user_defs": false,
   "report_style_numbering": false,
   "user_envs_cfg": false
  }
 },
 "nbformat": 4,
 "nbformat_minor": 5
}
