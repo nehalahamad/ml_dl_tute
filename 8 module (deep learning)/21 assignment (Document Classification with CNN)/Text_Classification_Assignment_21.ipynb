{
 "cells": [
  {
   "cell_type": "markdown",
   "metadata": {
    "id": "mDMgSstPYv0P"
   },
   "source": [
    "# Text Classification:\n",
    "\n",
    "## Data\n",
    "<pre>\n",
    "1. we have total of 20 types of documents(Text files) and total 18828 documents(text files).\n",
    "2. You can download data from this <a href='https://drive.google.com/open?id=1rxD15nyeIPIAZ-J2VYPrDRZI66-TBWvM'>link</a>, in that you will get documents.rar folder. <br>If you unzip that, you will get total of 18828 documnets. document name is defined as'ClassLabel_DocumentNumberInThatLabel'. \n",
    "so from document name, you can extract the label for that document.\n",
    "4. Now our problem is to classify all the documents into any one of the class.\n",
    "5. Below we provided count plot of all the labels in our data. \n",
    "</pre>"
   ]
  },
  {
   "cell_type": "code",
   "execution_count": 1,
   "metadata": {
    "id": "ON64JqGLNvzL"
   },
   "outputs": [],
   "source": [
    "import re\n",
    "import os\n",
    "import matplotlib.pyplot as plt\n",
    "from collections import Counter\n",
    "import nltk\n",
    "import numpy as np\n",
    "import pandas as pd\n",
    "import pickle"
   ]
  },
  {
   "cell_type": "code",
   "execution_count": 2,
   "metadata": {
    "colab": {
     "base_uri": "https://localhost:8080/"
    },
    "id": "vs-xEOlZ3WCL",
    "outputId": "70fb341d-bac2-468d-86c1-5eaf2ab6a8d8"
   },
   "outputs": [
    {
     "name": "stdout",
     "output_type": "stream",
     "text": [
      "Requirement already satisfied: tensorflow-addons in /usr/local/lib/python3.7/dist-packages (0.12.1)\n",
      "Requirement already satisfied: typeguard>=2.7 in /usr/local/lib/python3.7/dist-packages (from tensorflow-addons) (2.7.1)\n"
     ]
    }
   ],
   "source": [
    "pip install tensorflow-addons"
   ]
  },
  {
   "cell_type": "code",
   "execution_count": 3,
   "metadata": {
    "colab": {
     "base_uri": "https://localhost:8080/"
    },
    "id": "pZa7rek6NvzM",
    "outputId": "2fe0758a-6277-453b-deae-b338e430ce72"
   },
   "outputs": [
    {
     "name": "stdout",
     "output_type": "stream",
     "text": [
      "2.4.1\n"
     ]
    }
   ],
   "source": [
    "from tensorflow.keras.preprocessing.text import Tokenizer\n",
    "from tensorflow.keras.preprocessing.sequence import pad_sequences\n",
    "\n",
    "from tensorflow.keras.layers import Input, Dense, Flatten, Embedding, Conv1D, Concatenate, MaxPool1D, Dropout\n",
    "from tensorflow.keras.models import Model\n",
    "from tensorflow.python.keras.callbacks import Callback, ModelCheckpoint, EarlyStopping\n",
    "import tensorflow_addons as tfa\n",
    "import tensorflow as tf\n",
    "print(tf.__version__)"
   ]
  },
  {
   "cell_type": "code",
   "execution_count": 2,
   "metadata": {
    "colab": {
     "base_uri": "https://localhost:8080/",
     "height": 197
    },
    "id": "sIIp1FvLNvzO",
    "outputId": "bcb85d93-a928-4974-86bb-e82d5a7ace08"
   },
   "outputs": [
    {
     "name": "stdout",
     "output_type": "stream",
     "text": [
      "Number of documents: 18828\n"
     ]
    }
   ],
   "source": [
    "file_names = os.listdir('documents')\n",
    "\n",
    "print('Number of documents:', len(file_names))"
   ]
  },
  {
   "cell_type": "code",
   "execution_count": null,
   "metadata": {
    "id": "hDpl7kJnNvzP"
   },
   "outputs": [],
   "source": [
    "class_labels = [re.split('_', f)[0] for f in file_names]\n",
    "file_name_dict = Counter(class_labels)\n",
    "name = file_name_dict.keys()\n",
    "count = file_name_dict.values()\n",
    "print('Number of types of documents:', len(name))"
   ]
  },
  {
   "cell_type": "code",
   "execution_count": null,
   "metadata": {
    "id": "16FHz_2_NvzP",
    "outputId": "d66dceca-0226-4e68-a859-78b9598bfce7"
   },
   "outputs": [
    {
     "data": {
      "image/png": "[encoded data removed]",
      "text/plain": [
       "<Figure size 864x504 with 1 Axes>"
      ]
     },
     "metadata": {
      "tags": []
     },
     "output_type": "display_data"
    }
   ],
   "source": [
    "plt.figure(figsize=(12,7))\n",
    "plt.bar(name, count, edgecolor='black')\n",
    "plt.xticks(rotation=90);"
   ]
  },
  {
   "cell_type": "markdown",
   "metadata": {
    "id": "2mK4TJOFYv0h"
   },
   "source": [
    "## Assignment:"
   ]
  },
  {
   "cell_type": "markdown",
   "metadata": {
    "id": "VlqYFVI3Yv0k"
   },
   "source": [
    "#### sample document\n",
    "<pre>\n",
    "<font color='blue'>\n",
    "Subject: A word of advice\n",
    "From: jcopelan@nyx.cs.du.edu (The One and Only)\n",
    "\n",
    "In article < 65882@mimsy.umd.edu > mangoe@cs.umd.edu (Charley Wingate) writes:\n",
    ">\n",
    ">I've said 100 times that there is no \"alternative\" that should think you\n",
    ">might have caught on by now.  And there is no \"alternative\", but the point\n",
    ">is, \"rationality\" isn't an alternative either.  The problems of metaphysical\n",
    ">and religious knowledge are unsolvable-- or I should say, humans cannot\n",
    ">solve them.\n",
    "\n",
    "How does that saying go: Those who say it can't be done shouldn't interrupt\n",
    "those who are doing it.\n",
    "\n",
    "Jim\n",
    "--\n",
    "Have you washed your brain today?\n",
    "</font>\n",
    "</pre>"
   ]
  },
  {
   "cell_type": "markdown",
   "metadata": {
    "id": "KAR5HoR1Yv0m"
   },
   "source": [
    "### Preprocessing:\n",
    "<pre>\n",
    "useful links: <a href='http://www.pyregex.com/'>http://www.pyregex.com/</a>\n",
    "\n",
    "<font color='blue'><b>1.</b></font> Find all emails in the document and then get the text after the \"@\". and then split those texts by '.' \n",
    "after that remove the words whose length is less than or equal to 2 and also remove'com' word and then combine those words by space. \n",
    "In one doc, if we have 2 or more mails, get all.\n",
    "<b>Eg:[test@dm1.d.com, test2@dm2.dm3.com]-->[dm1.d.com, dm3.dm4.com]-->[dm1,d,com,dm2,dm3,com]-->[dm1,dm2,dm3]-->\"dm1 dm2 dm3\" </b> \n",
    "append all those into one list/array. ( This will give length of 18828 sentences i.e one list for each of the document). \n",
    "Some sample output was shown below. \n",
    "\n",
    "> In the above sample document there are emails [jcopelan@nyx.cs.du.edu, 65882@mimsy.umd.edu, mangoe@cs.umd.edu]\n",
    "\n",
    "preprocessing:\n",
    "[jcopelan@nyx.cs.du.edu, 65882@mimsy.umd.edu, mangoe@cs.umd.edu] ==> [nyx cs du edu mimsy umd edu cs umd edu] ==> \n",
    "[nyx edu mimsy umd edu umd edu]\n",
    "\n",
    "<font color='blue'><b>2.</b></font> Replace all the emails by space in the original text. \n",
    "</pre>"
   ]
  },
  {
   "cell_type": "markdown",
   "metadata": {
    "id": "zIovFDQzYv03"
   },
   "source": [
    "<pre>\n",
    "<font color='blue'><b>3.</b></font> Get subject of the text i.e. get the total lines where \"Subject:\" occur and remove \n",
    "the word which are before the \":\" remove the newlines, tabs, punctuations, any special chars.\n",
    "<b>Eg: if we have sentance like \"Subject: Re: Gospel Dating @ \\r\\r\\n\" --> You have to get \"Gospel Dating\"</b> \n",
    "Save all this data into another list/array. \n",
    "\n",
    "<font color='blue'><b>4.</b></font> After you store it in the list, Replace those sentances in original text by space.\n",
    "\n",
    "<font color='blue'><b>5.</b></font> Delete all the sentances where sentence starts with <b>\"Write to:\"</b> or <b>\"From:\"</b>.\n",
    "> In the above sample document check the 2nd line, we should remove that\n",
    "\n",
    "<font color='blue'><b>6.</b></font> Delete all the tags like \"< anyword >\"\n",
    "> In the above sample document check the 4nd line, we should remove that \"< 65882@mimsy.umd.edu >\"\n",
    "\n",
    "\n",
    "<font color='blue'><b>7.</b></font> Delete all the data which are present in the brackets. \n",
    "In many text data, we observed that, they maintained the explanation of sentence \n",
    "or translation of sentence to another language in brackets so remove all those.\n",
    "<b>Eg: \"AAIC-The course that gets you HIRED(AAIC - Der Kurs, der Sie anstellt)\" --> \"AAIC-The course that gets you HIRED\"</b>\n",
    "\n",
    "> In the above sample document check the 4nd line, we should remove that \"(Charley Wingate)\"\n",
    "\n",
    "\n",
    "<font color='blue'><b>8.</b></font> Remove all the newlines('\\n'), tabs('\\t'), \"-\", \"\\\".\n",
    "\n",
    "<font color='blue'><b>9.</b></font> Remove all the words which ends with <b>\":\"</b>.\n",
    "<b>Eg: \"Anyword:\"</b>\n",
    "> In the above sample document check the 4nd line, we should remove that \"writes:\"\n",
    "\n",
    "\n",
    "<font color='blue'><b>10.</b></font> Decontractions, replace words like below to full words. \n",
    "please check the donors choose preprocessing for this \n",
    "<b>Eg: can't -> can not, 's -> is, i've -> i have, i'm -> i am, you're -> you are, i'll --> i will </b>\n",
    "\n",
    "<b> There is no order to do point 6 to 10. but you have to get final output correctly</b>\n",
    "\n",
    "<font color='blue'><b>11.</b></font> Do chunking on the text you have after above preprocessing. \n",
    "Text chunking, also referred to as shallow parsing, is a task that \n",
    "follows Part-Of-Speech Tagging and that adds more structure to the sentence.\n",
    "So it combines the some phrases, named entities into single word.\n",
    "So after that combine all those phrases/named entities by separating <b>\"_\"</b>. \n",
    "And remove the phrases/named entities if that is a \"Person\". \n",
    "You can use <b>nltk.ne_chunk</b> to get these. \n",
    "Below we have given one example. please go through it. \n",
    "\n",
    "useful links: \n",
    "<a href='https://www.nltk.org/book/ch07.html'>https://www.nltk.org/book/ch07.html</a>\n",
    "<a href='https://stackoverflow.com/a/31837224/4084039'>https://stackoverflow.com/a/31837224/4084039</a>\n",
    "<a href='http://www.nltk.org/howto/tree.html'>http://www.nltk.org/howto/tree.html</a>\n",
    "<a href='https://stackoverflow.com/a/44294377/4084039'>https://stackoverflow.com/a/44294377/4084039</a>\n",
    "</pre>"
   ]
  },
  {
   "cell_type": "markdown",
   "metadata": {
    "id": "XV8gzLUjYv0-"
   },
   "source": [
    "<pre>We did chunking for above two lines and then We got one list where each word is mapped to a \n",
    "POS(parts of speech) and also if you see \"New York\" and \"Srikanth Varma\", \n",
    "they got combined and represented as a tree and \"New York\" was referred as \"GPE\" and \"Srikanth Varma\" was referred as \"PERSON\". \n",
    "so now you have to Combine the \"New York\" with <b>\"_\"</b> i.e \"New_York\"\n",
    "and remove the \"Srikanth Varma\" from the above sentence because it is a person.</pre>"
   ]
  },
  {
   "cell_type": "markdown",
   "metadata": {
    "id": "VpaC-KF3Yv1A"
   },
   "source": [
    "<pre>\n",
    "<font color='blue'><b>13.</b></font> Replace all the digits with space i.e delete all the digits. \n",
    "> In the above sample document, the 6th line have digit 100, so we have to remove that.\n",
    "\n",
    "<font color='blue'><b>14.</b></font> After doing above points, we observed there might be few word's like\n",
    " <b> \"_word_\" (i.e starting and ending with the _), \"_word\" (i.e starting with the _),\n",
    "  \"word_\" (i.e ending with the _)</b> remove the <b>_</b> from these type of words. \n",
    "\n",
    "<font color='blue'><b>15.</b></font>  We also observed some words like <b> \"OneLetter_word\"- eg: d_berlin, \n",
    "\"TwoLetters_word\" - eg: dr_berlin </b>, in these words we remove the \"OneLetter_\" (d_berlin ==> berlin) and \n",
    "\"TwoLetters_\" (de_berlin ==> berlin). i.e remove the words \n",
    "which are length less than or equal to 2 after spliiting those words by \"_\". \n",
    "\n",
    "<font color='blue'><b>16.</b></font> Convert all the words into lower case and lowe case \n",
    "and remove the words which are greater than or equal to 15 or less than or equal to 2.\n",
    "\n",
    "<font color='blue'><b>17.</b></font> replace all the words except \"A-Za-z_\" with space. \n",
    "\n",
    "<font color='blue'><b>18.</b></font> Now You got Preprocessed Text, email, subject. create a dataframe with those. \n",
    "Below are the columns of the df. \n",
    "</pre>"
   ]
  },
  {
   "cell_type": "code",
   "execution_count": 4,
   "metadata": {
    "colab": {
     "base_uri": "https://localhost:8080/"
    },
    "id": "peEFM3iPOW9F",
    "outputId": "eb03a714-e591-46f6-eff2-f121fb651c80"
   },
   "outputs": [
    {
     "name": "stdout",
     "output_type": "stream",
     "text": [
      "Mounted at /content/drive\n"
     ]
    }
   ],
   "source": [
    "from google.colab import drive\n",
    "drive.mount('/content/drive', force_remount=True)"
   ]
  },
  {
   "cell_type": "code",
   "execution_count": 3,
   "metadata": {
    "colab": {
     "base_uri": "https://localhost:8080/",
     "height": 306
    },
    "id": "fEds3OmGNvzY",
    "outputId": "0c50e66a-c4af-4f1d-b454-b2d7865c5cf4"
   },
   "outputs": [
    {
     "name": "stdout",
     "output_type": "stream",
     "text": [
      "(18828, 5)\n"
     ]
    },
    {
     "data": {
      "text/html": [
       "<div>\n",
       "<style scoped>\n",
       "    .dataframe tbody tr th:only-of-type {\n",
       "        vertical-align: middle;\n",
       "    }\n",
       "\n",
       "    .dataframe tbody tr th {\n",
       "        vertical-align: top;\n",
       "    }\n",
       "\n",
       "    .dataframe thead th {\n",
       "        text-align: right;\n",
       "    }\n",
       "</style>\n",
       "<table border=\"1\" class=\"dataframe\">\n",
       "  <thead>\n",
       "    <tr style=\"text-align: right;\">\n",
       "      <th></th>\n",
       "      <th>text</th>\n",
       "      <th>class</th>\n",
       "      <th>preprocessed_text</th>\n",
       "      <th>preprocessed_subject</th>\n",
       "      <th>preprocessed_email</th>\n",
       "    </tr>\n",
       "  </thead>\n",
       "  <tbody>\n",
       "    <tr>\n",
       "      <th>0</th>\n",
       "      <td>From: mathew &lt;mathew@mantis.co.uk&gt;\\nSubject: A...</td>\n",
       "      <td>alt.atheism</td>\n",
       "      <td>archive alt atheism archive resources last dec...</td>\n",
       "      <td>Atheist Resources</td>\n",
       "      <td>mantis netcom mantis</td>\n",
       "    </tr>\n",
       "    <tr>\n",
       "      <th>1</th>\n",
       "      <td>From: mathew &lt;mathew@mantis.co.uk&gt;\\nSubject: A...</td>\n",
       "      <td>alt.atheism</td>\n",
       "      <td>archive alt atheism archive introduction last ...</td>\n",
       "      <td>Introduction to Atheism</td>\n",
       "      <td>mantis mantis mantis</td>\n",
       "    </tr>\n",
       "    <tr>\n",
       "      <th>2</th>\n",
       "      <td>From: I3150101@dbstu1.rz.tu-bs.de (Benedikt Ro...</td>\n",
       "      <td>alt.atheism</td>\n",
       "      <td>article well has quite different not necessari...</td>\n",
       "      <td>Gospel Dating</td>\n",
       "      <td>dbstu1 mimsy umd edu umd edu</td>\n",
       "    </tr>\n",
       "    <tr>\n",
       "      <th>3</th>\n",
       "      <td>From: mathew &lt;mathew@mantis.co.uk&gt;\\nSubject: R...</td>\n",
       "      <td>alt.atheism</td>\n",
       "      <td>recently have been ordered and none have resis...</td>\n",
       "      <td>university violating separation of churchstate</td>\n",
       "      <td>mantis kepler unh edu</td>\n",
       "    </tr>\n",
       "    <tr>\n",
       "      <th>4</th>\n",
       "      <td>From: strom@Watson.Ibm.Com (Rob Strom)\\nSubjec...</td>\n",
       "      <td>alt.atheism</td>\n",
       "      <td>article p.ida.org however hate economic terror...</td>\n",
       "      <td>socmotss et al Princeton axes matching funds f...</td>\n",
       "      <td>Watson Ibm Com harder ccr harder ccr watson ibm</td>\n",
       "    </tr>\n",
       "  </tbody>\n",
       "</table>\n",
       "</div>"
      ],
      "text/plain": [
       "                                                text        class  \\\n",
       "0  From: mathew <mathew@mantis.co.uk>\\nSubject: A...  alt.atheism   \n",
       "1  From: mathew <mathew@mantis.co.uk>\\nSubject: A...  alt.atheism   \n",
       "2  From: I3150101@dbstu1.rz.tu-bs.de (Benedikt Ro...  alt.atheism   \n",
       "3  From: mathew <mathew@mantis.co.uk>\\nSubject: R...  alt.atheism   \n",
       "4  From: strom@Watson.Ibm.Com (Rob Strom)\\nSubjec...  alt.atheism   \n",
       "\n",
       "                                   preprocessed_text  \\\n",
       "0  archive alt atheism archive resources last dec...   \n",
       "1  archive alt atheism archive introduction last ...   \n",
       "2  article well has quite different not necessari...   \n",
       "3  recently have been ordered and none have resis...   \n",
       "4  article p.ida.org however hate economic terror...   \n",
       "\n",
       "                                preprocessed_subject  \\\n",
       "0                                  Atheist Resources   \n",
       "1                            Introduction to Atheism   \n",
       "2                                      Gospel Dating   \n",
       "3     university violating separation of churchstate   \n",
       "4  socmotss et al Princeton axes matching funds f...   \n",
       "\n",
       "                                preprocessed_email  \n",
       "0                             mantis netcom mantis  \n",
       "1                             mantis mantis mantis  \n",
       "2                     dbstu1 mimsy umd edu umd edu  \n",
       "3                            mantis kepler unh edu  \n",
       "4  Watson Ibm Com harder ccr harder ccr watson ibm  "
      ]
     },
     "execution_count": 3,
     "metadata": {},
     "output_type": "execute_result"
    }
   ],
   "source": [
    "def decontracted(phrase):\n",
    "    # specific\n",
    "    phrase = re.sub(r\"won't\", \"will not\", phrase)\n",
    "    phrase = re.sub(r\"can\\'t\", \"can not\", phrase)\n",
    "\n",
    "    # general\n",
    "    phrase = re.sub(r\"n\\'t\", \" not\", phrase)\n",
    "    phrase = re.sub(r\"\\'re\", \" are\", phrase)\n",
    "    phrase = re.sub(r\"\\'s\", \" is\", phrase)\n",
    "    phrase = re.sub(r\"\\'d\", \" would\", phrase)\n",
    "    phrase = re.sub(r\"\\'ll\", \" will\", phrase)\n",
    "    phrase = re.sub(r\"\\'ve\", \" have\", phrase)\n",
    "    phrase = re.sub(r\"\\'m\", \" am\", phrase)\n",
    "    return phrase\n",
    "\n",
    "def preprocess(mail):\n",
    "    # 1\n",
    "    pattern = r'[a-zA-z0-9._-]*@[a-zA-z0-9.]*'\n",
    "    mail_list = re.findall(pattern, mail)\n",
    "    mail_list = [re.split('@', mail)[1] for mail in mail_list]\n",
    "    mail_list = [word for mail in mail_list for word in re.split('\\.', mail) if len(word)>2 and word!='com']\n",
    "    preprocess_mail = ' '.join(mail_list)\n",
    "    # 2 removing all mail address\n",
    "    mail = re.sub(pattern, ' ', mail)\n",
    "    # 3\n",
    "    subject = re.search(r'Subject:.*', mail)\n",
    "    subject = mail[subject.start():subject.end()]\n",
    "\n",
    "    subject = re.split(' :', subject[::-1])[0][::-1]\n",
    "    subject = re.sub(r'[^a-zA-Z0-9 ]|\\n|\\t', '', subject)\n",
    "    # 4 removing all Subject:\n",
    "    mail = re.sub(r'Subject:.*\\n', '', mail)\n",
    "    \n",
    "    # 5 removing all 'From:' or 'Write to:'\n",
    "    mail = re.sub(r'(From:|Write to:).*', '', mail)\n",
    "    # 6 removing all <anything> tags\n",
    "    mail = re.sub(r'\\<.*?\\>', '', mail)\n",
    "    # 7 removing all (anything) paranthesis\n",
    "    mail = re.sub(r'\\(.*?\\)', '', mail)\n",
    "    # 8 removing all \\n \\t - \\\n",
    "    mail = re.sub(r'\\n|\\t|-|\\\\', ' ', mail)\n",
    "    # 9 removing all words which ends with colon :\n",
    "    mail = re.sub(r'\\b\\S+:', '', mail)\n",
    "    # 10 decontraction\n",
    "    mail = decontracted(mail)\n",
    "\n",
    "    # 11 Chunking\n",
    "    word = nltk.word_tokenize(mail)   \n",
    "    pos_tag = nltk.pos_tag(word)\n",
    "    chunk = nltk.ne_chunk(pos_tag)  \n",
    "\n",
    "    l1 = []\n",
    "    for ele in chunk:\n",
    "        if isinstance(ele, nltk.Tree):\n",
    "            if ele.label() == 'GPE':\n",
    "                l1.append('_'.join([w for w,t in list(ele)]))\n",
    "        else:\n",
    "            l1.append(ele[0])\n",
    "    mail = ' '.join(l1)\n",
    "    \n",
    "    # 13 removing all the digit character\n",
    "    mail = re.sub(r'\\d', '', mail)\n",
    "\n",
    "    # removing white spaces\n",
    "    mail = re.sub(r'\\s+', ' ', mail)\n",
    "    # 14 removing all starting or ending _\n",
    "    mail = re.sub(' _+|_+ ', ' ', mail)\n",
    "    # 15 \n",
    "    mail = re.sub(' [a-zA-Z]{1,2}_', ' ', mail)\n",
    "    # 16\n",
    "    mail = ' '.join([w.lower() for w in mail.split() if len(w)>2 and len(w)<15])\n",
    "    return (mail, subject, preprocess_mail)\n",
    "# -----------------------------------------------------------------\n",
    "path = '/content/drive/MyDrive/Deep Learning/24 (document classification with CNN)/preprocessed_document'\n",
    "path = 'preprocessed_document'\n",
    "\n",
    "if not os.path.isfile(path):\n",
    "    mails = []\n",
    "    for file_name in file_names:\n",
    "        with open('documents/'+file_name, 'r') as f:\n",
    "            mail = f.read()\n",
    "            mails.append(mail)\n",
    "            \n",
    "    data = pd.DataFrame({'text':mails, 'class':class_labels})\n",
    "    data[['preprocessed_text', 'preprocessed_subject', 'preprocessed_email']] = data.text.apply(lambda x: preprocess(x) ).apply(pd.Series)\n",
    "    \n",
    "    with open(path, 'wb') as f:\n",
    "        pickle.dump(data, f)\n",
    "    \n",
    "else:\n",
    "    with open(path, 'rb') as f:\n",
    "        data = pickle.load(f)\n",
    "\n",
    "print(data.shape)\n",
    "data.head()"
   ]
  },
  {
   "cell_type": "markdown",
   "metadata": {
    "id": "rfWUeIN1Yv1N"
   },
   "source": [
    "### To get above mentioned data frame --> Try to Write Total Preprocessing steps in One Function Named Preprocess as below. "
   ]
  },
  {
   "cell_type": "code",
   "execution_count": 6,
   "metadata": {
    "id": "uEGEHTNQYv1N"
   },
   "outputs": [],
   "source": [
    "# def preprocess(Input_Text):\n",
    "#     \"\"\"Do all the Preprocessing as shown above and\n",
    "#     return a tuple contain preprocess_email,preprocess_subject,preprocess_text for that Text_data\"\"\"\n",
    "#     return (list_of_preproessed_emails,subject,text)"
   ]
  },
  {
   "cell_type": "markdown",
   "metadata": {
    "id": "ceASjKizYv1U"
   },
   "source": [
    "### Code checking:\n",
    "\n",
    "<font color='red' size=4>\n",
    "After Writing preprocess function. call that functoin with the input text of 'alt.atheism_49960' doc and print the output of the preprocess function\n",
    "<br>\n",
    "This will help us to evaluate faster, based on the output we can suggest you if there are any changes.\n",
    "</font>"
   ]
  },
  {
   "cell_type": "code",
   "execution_count": 4,
   "metadata": {
    "id": "si0Da0xDNvzc"
   },
   "outputs": [
    {
     "name": "stdout",
     "output_type": "stream",
     "text": [
      "From: mathew <mathew@mantis.co.uk>\n",
      "Subject: Alt.Atheism FAQ: Atheist Resources\n",
      "\n",
      "Archive-name: atheism/resources\n",
      "Alt-atheism-archive-name: resources\n",
      "Last-modified: 11 December 1992\n",
      "Version: 1.0\n",
      "\n",
      "                              Atheist Resources\n",
      "\n",
      "                      Addresses of Atheist Organizations\n",
      "\n",
      "                                     USA\n",
      "\n",
      "FREEDOM FROM RELIGION FOUNDATION\n",
      "\n",
      "Darwin fish bumper stickers and assorted other atheist paraphernalia are\n",
      "available from the Freedom From Religion Foundation in the US.\n",
      "\n",
      "Write to:  FFRF, P.O. Box 750, Madison, WI 53701.\n",
      "Telephone: (608) 256-8900\n",
      "\n",
      "EVOLUTION DESIGNS\n",
      "\n",
      "Evolution Designs sell the \"Darwin fish\".  It's a fish symbol, like the ones\n",
      "Christians stick on their cars, but with feet and the word \"Darwin\" written\n",
      "inside.  The deluxe moulded 3D plastic fish is $4.95 postpaid in the US.\n",
      "\n",
      "Write to:  Evolution Designs, 7119 Laurel Canyon #4, North Hollywood,\n",
      "           CA 91605.\n",
      "\n",
      "People in the San Francisco Bay area can get Darwin Fish from Lynn Gold --\n",
      "try mailing <figmo@netcom.com>.  For net people who go to Lynn directly, the\n",
      "price is $4.95 per fish.\n",
      "\n",
      "AMERICAN ATHEIST PRESS\n",
      "\n",
      "AAP publish various atheist books -- critiques of the Bible, lists of\n",
      "Biblical contradictions, and so on.  One such book is:\n",
      "\n",
      "\"The Bible Handbook\" by W.P. Ball and G.W. Foote.  American Atheist Press.\n",
      "372 pp.  ISBN 0-910309-26-4, 2nd edition, 1986.  Bible contradictions,\n",
      "absurdities, atrocities, immoralities... contains Ball, Foote: \"The Bible\n",
      "Contradicts Itself\", AAP.  Based on the King James version of the Bible.\n",
      "\n",
      "Write to:  American Atheist Press, P.O. Box 140195, Austin, TX 78714-0195.\n",
      "      or:  7215 Cameron Road, Austin, TX 78752-2973.\n",
      "Telephone: (512) 458-1244\n",
      "Fax:       (512) 467-9525\n",
      "\n",
      "PROMETHEUS BOOKS\n",
      "\n",
      "Sell books including Haught's \"Holy Horrors\" (see below).\n",
      "\n",
      "Write to:  700 East Amherst Street, Buffalo, New York 14215.\n",
      "Telephone: (716) 837-2475.\n",
      "\n",
      "An alternate address (which may be newer or older) is:\n",
      "Prometheus Books, 59 Glenn Drive, Buffalo, NY 14228-2197.\n",
      "\n",
      "AFRICAN-AMERICANS FOR HUMANISM\n",
      "\n",
      "An organization promoting black secular humanism and uncovering the history of\n",
      "black freethought.  They publish a quarterly newsletter, AAH EXAMINER.\n",
      "\n",
      "Write to:  Norm R. Allen, Jr., African Americans for Humanism, P.O. Box 664,\n",
      "           Buffalo, NY 14226.\n",
      "\n",
      "                                United Kingdom\n",
      "\n",
      "Rationalist Press Association          National Secular Society\n",
      "88 Islington High Street               702 Holloway Road\n",
      "London N1 8EW                          London N19 3NL\n",
      "071 226 7251                           071 272 1266\n",
      "\n",
      "British Humanist Association           South Place Ethical Society\n",
      "14 Lamb's Conduit Passage              Conway Hall\n",
      "London WC1R 4RH                        Red Lion Square\n",
      "071 430 0908                           London WC1R 4RL\n",
      "fax 071 430 1271                       071 831 7723\n",
      "\n",
      "The National Secular Society publish \"The Freethinker\", a monthly magazine\n",
      "founded in 1881.\n",
      "\n",
      "                                   Germany\n",
      "\n",
      "IBKA e.V.\n",
      "Internationaler Bund der Konfessionslosen und Atheisten\n",
      "Postfach 880, D-1000 Berlin 41. Germany.\n",
      "\n",
      "IBKA publish a journal:\n",
      "MIZ. (Materialien und Informationen zur Zeit. Politisches\n",
      "Journal der Konfessionslosesn und Atheisten. Hrsg. IBKA e.V.)\n",
      "MIZ-Vertrieb, Postfach 880, D-1000 Berlin 41. Germany.\n",
      "\n",
      "For atheist books, write to:\n",
      "\n",
      "IBDK, Internationaler B\"ucherdienst der Konfessionslosen\n",
      "Postfach 3005, D-3000 Hannover 1. Germany.\n",
      "Telephone: 0511/211216\n",
      "\n",
      "\n",
      "                               Books -- Fiction\n",
      "\n",
      "THOMAS M. DISCH\n",
      "\n",
      "\"The Santa Claus Compromise\"\n",
      "Short story.  The ultimate proof that Santa exists.  All characters and \n",
      "events are fictitious.  Any similarity to living or dead gods -- uh, well...\n",
      "\n",
      "WALTER M. MILLER, JR\n",
      "\n",
      "\"A Canticle for Leibowitz\"\n",
      "One gem in this post atomic doomsday novel is the monks who spent their lives\n",
      "copying blueprints from \"Saint Leibowitz\", filling the sheets of paper with\n",
      "ink and leaving white lines and letters.\n",
      "\n",
      "EDGAR PANGBORN\n",
      "\n",
      "\"Davy\"\n",
      "Post atomic doomsday novel set in clerical states.  The church, for example,\n",
      "forbids that anyone \"produce, describe or use any substance containing...\n",
      "atoms\". \n",
      "\n",
      "PHILIP K. DICK\n",
      "\n",
      "Philip K. Dick Dick wrote many philosophical and thought-provoking short \n",
      "stories and novels.  His stories are bizarre at times, but very approachable.\n",
      "He wrote mainly SF, but he wrote about people, truth and religion rather than\n",
      "technology.  Although he often believed that he had met some sort of God, he\n",
      "remained sceptical.  Amongst his novels, the following are of some relevance:\n",
      "\n",
      "\"Galactic Pot-Healer\"\n",
      "A fallible alien deity summons a group of Earth craftsmen and women to a\n",
      "remote planet to raise a giant cathedral from beneath the oceans.  When the\n",
      "deity begins to demand faith from the earthers, pot-healer Joe Fernwright is\n",
      "unable to comply.  A polished, ironic and amusing novel.\n",
      "\n",
      "\"A Maze of Death\"\n",
      "Noteworthy for its description of a technology-based religion.\n",
      "\n",
      "\"VALIS\"\n",
      "The schizophrenic hero searches for the hidden mysteries of Gnostic\n",
      "Christianity after reality is fired into his brain by a pink laser beam of\n",
      "unknown but possibly divine origin.  He is accompanied by his dogmatic and\n",
      "dismissively atheist friend and assorted other odd characters.\n",
      "\n",
      "\"The Divine Invasion\"\n",
      "God invades Earth by making a young woman pregnant as she returns from\n",
      "another star system.  Unfortunately she is terminally ill, and must be\n",
      "assisted by a dead man whose brain is wired to 24-hour easy listening music.\n",
      "\n",
      "MARGARET ATWOOD\n",
      "\n",
      "\"The Handmaid's Tale\"\n",
      "A story based on the premise that the US Congress is mysteriously\n",
      "assassinated, and fundamentalists quickly take charge of the nation to set it\n",
      "\"right\" again.  The book is the diary of a woman's life as she tries to live\n",
      "under the new Christian theocracy.  Women's right to own property is revoked,\n",
      "and their bank accounts are closed; sinful luxuries are outlawed, and the\n",
      "radio is only used for readings from the Bible.  Crimes are punished\n",
      "retroactively: doctors who performed legal abortions in the \"old world\" are\n",
      "hunted down and hanged.  Atwood's writing style is difficult to get used to\n",
      "at first, but the tale grows more and more chilling as it goes on.\n",
      "\n",
      "VARIOUS AUTHORS\n",
      "\n",
      "\"The Bible\"\n",
      "This somewhat dull and rambling work has often been criticized.  However, it\n",
      "is probably worth reading, if only so that you'll know what all the fuss is\n",
      "about.  It exists in many different versions, so make sure you get the one\n",
      "true version.\n",
      "\n",
      "                             Books -- Non-fiction\n",
      "\n",
      "PETER DE ROSA\n",
      "\n",
      "\"Vicars of Christ\", Bantam Press, 1988\n",
      "Although de Rosa seems to be Christian or even Catholic this is a very\n",
      "enlighting history of papal immoralities, adulteries, fallacies etc.\n",
      "(German translation: \"Gottes erste Diener. Die dunkle Seite des Papsttums\",\n",
      "Droemer-Knaur, 1989)\n",
      "\n",
      "MICHAEL MARTIN\n",
      "\n",
      "\"Atheism: A Philosophical Justification\", Temple University Press,\n",
      " Philadelphia, USA.\n",
      "A detailed and scholarly justification of atheism.  Contains an outstanding\n",
      "appendix defining terminology and usage in this (necessarily) tendentious\n",
      "area.  Argues both for \"negative atheism\" (i.e. the \"non-belief in the\n",
      "existence of god(s)\") and also for \"positive atheism\" (\"the belief in the\n",
      "non-existence of god(s)\").  Includes great refutations of the most\n",
      "challenging arguments for god; particular attention is paid to refuting\n",
      "contempory theists such as Platinga and Swinburne.\n",
      "541 pages. ISBN 0-87722-642-3 (hardcover; paperback also available)\n",
      "\n",
      "\"The Case Against Christianity\", Temple University Press\n",
      "A comprehensive critique of Christianity, in which he considers\n",
      "the best contemporary defences of Christianity and (ultimately)\n",
      "demonstrates that they are unsupportable and/or incoherent.\n",
      "273 pages. ISBN 0-87722-767-5\n",
      "\n",
      "JAMES TURNER\n",
      "\n",
      "\"Without God, Without Creed\", The Johns Hopkins University Press, Baltimore,\n",
      " MD, USA\n",
      "Subtitled \"The Origins of Unbelief in America\".  Examines the way in which\n",
      "unbelief (whether agnostic or atheistic)  became a mainstream alternative\n",
      "world-view.  Focusses on the period 1770-1900, and while considering France\n",
      "and Britain the emphasis is on American, and particularly New England\n",
      "developments.  \"Neither a religious history of secularization or atheism,\n",
      "Without God, Without Creed is, rather, the intellectual history of the fate\n",
      "of a single idea, the belief that God exists.\" \n",
      "316 pages. ISBN (hardcover) 0-8018-2494-X (paper) 0-8018-3407-4\n",
      "\n",
      "GEORGE SELDES (Editor)\n",
      "\n",
      "\"The great thoughts\", Ballantine Books, New York, USA\n",
      "A \"dictionary of quotations\" of a different kind, concentrating on statements\n",
      "and writings which, explicitly or implicitly, present the person's philosophy\n",
      "and world-view.  Includes obscure (and often suppressed) opinions from many\n",
      "people.  For some popular observations, traces the way in which various\n",
      "people expressed and twisted the idea over the centuries.  Quite a number of\n",
      "the quotations are derived from Cardiff's \"What Great Men Think of Religion\"\n",
      "and Noyes' \"Views of Religion\".\n",
      "490 pages. ISBN (paper) 0-345-29887-X.\n",
      "\n",
      "RICHARD SWINBURNE\n",
      "\n",
      "\"The Existence of God (Revised Edition)\", Clarendon Paperbacks, Oxford\n",
      "This book is the second volume in a trilogy that began with \"The Coherence of\n",
      "Theism\" (1977) and was concluded with \"Faith and Reason\" (1981).  In this\n",
      "work, Swinburne attempts to construct a series of inductive arguments for the\n",
      "existence of God.  His arguments, which are somewhat tendentious and rely\n",
      "upon the imputation of late 20th century western Christian values and\n",
      "aesthetics to a God which is supposedly as simple as can be conceived, were\n",
      "decisively rejected in Mackie's \"The Miracle of Theism\".  In the revised\n",
      "edition of \"The Existence of God\", Swinburne includes an Appendix in which he\n",
      "makes a somewhat incoherent attempt to rebut Mackie.\n",
      "\n",
      "J. L. MACKIE\n",
      "\n",
      "\"The Miracle of Theism\", Oxford\n",
      "This (posthumous) volume contains a comprehensive review of the principal\n",
      "arguments for and against the existence of God.  It ranges from the classical\n",
      "philosophical positions of Descartes, Anselm, Berkeley, Hume et al, through\n",
      "the moral arguments of Newman, Kant and Sidgwick, to the recent restatements\n",
      "of the classical theses by Plantinga and Swinburne.  It also addresses those\n",
      "positions which push the concept of God beyond the realm of the rational,\n",
      "such as those of Kierkegaard, Kung and Philips, as well as \"replacements for\n",
      "God\" such as Lelie's axiarchism.  The book is a delight to read - less\n",
      "formalistic and better written than Martin's works, and refreshingly direct\n",
      "when compared with the hand-waving of Swinburne.\n",
      "\n",
      "JAMES A. HAUGHT\n",
      "\n",
      "\"Holy Horrors: An Illustrated History of Religious Murder and Madness\",\n",
      " Prometheus Books\n",
      "Looks at religious persecution from ancient times to the present day -- and\n",
      "not only by Christians.\n",
      "Library of Congress Catalog Card Number 89-64079. 1990.\n",
      "\n",
      "NORM R. ALLEN, JR.\n",
      "\n",
      "\"African American Humanism: an Anthology\"\n",
      "See the listing for African Americans for Humanism above.\n",
      "\n",
      "GORDON STEIN\n",
      "\n",
      "\"An Anthology of Atheism and Rationalism\", Prometheus Books\n",
      "An anthology covering a wide range of subjects, including 'The Devil, Evil\n",
      "and Morality' and 'The History of Freethought'.  Comprehensive bibliography.\n",
      "\n",
      "EDMUND D. COHEN\n",
      "\n",
      "\"The Mind of The Bible-Believer\", Prometheus Books\n",
      "A study of why people become Christian fundamentalists, and what effect it\n",
      "has on them.\n",
      "\n",
      "                                Net Resources\n",
      "\n",
      "There's a small mail-based archive server at mantis.co.uk which carries\n",
      "archives of old alt.atheism.moderated articles and assorted other files.  For\n",
      "more information, send mail to archive-server@mantis.co.uk saying\n",
      "\n",
      "   help\n",
      "   send atheism/index\n",
      "\n",
      "and it will mail back a reply.\n",
      "\n",
      "\n",
      "mathew\n",
      "ÿ\n",
      "\n"
     ]
    }
   ],
   "source": [
    "with open('documents/alt.atheism_49960.txt', 'r') as f:\n",
    "    Input_Text = f.read()\n",
    "    print(Input_Text)"
   ]
  },
  {
   "cell_type": "code",
   "execution_count": 5,
   "metadata": {
    "id": "06k4jAPENvze",
    "scrolled": true
   },
   "outputs": [
    {
     "name": "stdout",
     "output_type": "stream",
     "text": [
      "archive alt atheism archive resources last december usa freedom from foundation darwin fish bumper stickers and assorted other atheist paraphernalia are available from the the designs evolution designs sell the fish fish symbol like the ones christians stick their cars but with feet and the word written inside the deluxe moulded plastic fish postpaid the people the area can get from try mailing for net people who directly the price per fish press aap publish various atheist books critiques the lists biblical contradictions and one such book the w.p and g.w press isbn edition bible contradictions absurdities atrocities immoralities ... contains ball the based the king version the austin books including alternate address prometheus books african humanism organization promoting black secular humanism and uncovering the history black freethought they publish quarterly newsletter examiner press association national secular society street holloway road london london british society lamb wcr red lion square london wcr fax the publish the freethinker monthly magazine founded e.v der und berlin germany publish und zur zeit politisches journal der und e.v postfach berlin germany for atheist books write ucherdienst der hannover germany thomas disch the short story the ultimate proof that exists all characters and events are fictitious any similarity living dead gods well ... miller canticle for one gem this post atomic doomsday novel the monks who spent their lives copying blueprints from saint leibowitz filling the sheets paper with ink and leaving white lines and letters pangborn davy post atomic doomsday novel set clerical states the church for example forbids that anyone produce describe use any substance containing ... atoms dick wrote many philosophical and thought provoking short stories and novels his stories are bizarre times but very approachable wrote mainly but wrote about people truth and religion rather than technology although often believed that had met some sort god remained sceptical amongst his novels the following are some fallible alien deity summons group earth craftsmen and women remote planet raise giant cathedral from beneath the oceans when the deity begins demand faith from the earthers pot healer unable comply polished ironic and amusing novel maze death noteworthy for its description technology based religion valis the schizophrenic hero searches for the hidden mysteries christianity after reality fired into his brain pink laser beam unknown but possibly divine origin accompanied his dogmatic and dismissively atheist friend and assorted other odd characters the god invades making young woman pregnant she returns from another star system unfortunately she terminally ill and must assisted dead man whose brain wired hour easy listening music atwood the story based the premise that the mysteriously assassinated and quickly take charge the nation set right again the book the diary woman life she tries live under the new christian theocracy women right own property revoked and their bank accounts are closed sinful luxuries are outlawed and the radio only used for readings from the crimes are punished doctors who performed legal abortions the old world are hunted down and hanged writing style difficult get used first but the tale grows more and more chilling goes authors the this somewhat dull and rambling work has often been criticized however probably worth reading only that you will know what all the fuss about exists many different versions make sure you get the one true version fiction rosa vicars christ although seems even this very enlighting history papal immoralities adulteries fallacies etc german gottes erste dunkle des martin philosophical justification detailed and scholarly justification atheism contains outstanding appendix defining terminology and usage this tendentious area argues both for negative atheism i.e the non belief the existence god and also for positive atheism the belief the non existence god includes great refutations the most challenging arguments for god particular attention paid refuting contempory theists such and swinburne pages isbn the christianity press comprehensive critique christianity which considers the best contemporary defences and demonstrates that they are unsupportable and/or incoherent pages isbn turner the baltimore subtitled the unbelief america examines the way which unbelief became mainstream alternative world view focusses the period and while considering france and britain the emphasis american and particularly new_england developments neither religious history secularization atheism without god rather the intellectual history the fate single idea the belief that exists pages isbn seldes the great thoughts new_york dictionary quotations different kind concentrating statements and writings which explicitly implicitly present the person philosophy and world view includes obscure opinions from many people for some popular observations traces the way which various people expressed and twisted the idea over the centuries quite number the quotations are derived from cardiff what religion and views religion pages isbn swinburne the god oxford this book the second volume trilogy that began with the theism and was concluded with and this work swinburne attempts construct series inductive arguments for the existence god his arguments which are somewhat tendentious and rely upon the imputation late century western christian values and aesthetics god which supposedly simple can conceived were decisively rejected mackie the theism the revised edition the god swinburne includes appendix which makes somewhat incoherent attempt rebut mackie the theism oxford this volume contains comprehensive review the principal arguments for and against the existence god ranges from the classical philosophical positions descartes anselm through the moral arguments newman and the recent restatements the classical theses and swinburne also addresses those positions which push the concept god beyond the realm the rational such those kierkegaard and well replacements for god such axiarchism the book delight read less formalistic and better written than works and refreshingly direct when compared with the hand waving swinburne haught holy illustrated history and religious persecution from ancient times the present day and not only library number allen jr. anthology see the listing for for humanism above stein anthology atheism and rationalism anthology covering wide range subjects including 'the devil and and 'the history freethought comprehensive bibliography cohen the the study why people become christian and what effect has them there small mail based archive server mantis.co.uk which carries archives old articles and assorted other files for more information send mail saying help send atheism/index and will mail back reply mathew \n",
      "\n",
      "Atheist Resources \n",
      "\n",
      "mantis netcom mantis \n",
      "\n"
     ]
    }
   ],
   "source": [
    "for w in preprocess(Input_Text):\n",
    "    print(w, '\\n')"
   ]
  },
  {
   "cell_type": "markdown",
   "metadata": {
    "id": "2x3og_iaYv1S"
   },
   "source": [
    "### After writing Preprocess function, call the function for each of the document(18828 docs) and then create a dataframe as mentioned above."
   ]
  },
  {
   "cell_type": "markdown",
   "metadata": {
    "id": "n3ucJLtWYv1V"
   },
   "source": [
    "### Training The models to Classify: \n",
    "\n",
    "<pre>\n",
    "1. Combine \"preprocessed_text\", \"preprocessed_subject\", \"preprocessed_emails\" into one column. use that column to model. \n",
    "\n",
    "2. Now Split the data into Train and test. use 25% for test also do a stratify split. \n",
    "\n",
    "3. Analyze your text data and pad the sequnce if required. \n",
    "Sequnce length is not restricted, you can use anything of your choice. \n",
    "you need to give the reasoning\n",
    "\n",
    "4. Do Tokenizer i.e convert text into numbers. please be careful while doing it. \n",
    "if you are using tf.keras \"Tokenizer\" API, it removes the <b>\"_\"</b>, but we need that.\n",
    "\n",
    "5. code the model's ( Model-1, Model-2 ) as discussed below \n",
    "and try to optimize that models.  \n",
    "\n",
    "6. For every model use predefined Glove vectors. \n",
    "<b>Don't train any word vectors while Training the model.</b>\n",
    "\n",
    "7. Use \"categorical_crossentropy\" as Loss. \n",
    "\n",
    "8. Use <b>Accuracy and Micro Avgeraged F1 score</b> as your as Key metrics to evaluate your model. \n",
    "\n",
    "9.  Use Tensorboard to plot the loss and Metrics based on the epoches.\n",
    "\n",
    "10. Please save your best model weights in to <b>'best_model_L.h5' ( L = 1 or 2 )</b>. \n",
    "\n",
    "11. You are free to choose any Activation function, learning rate, optimizer.\n",
    "But have to use the same architecture which we are giving below.\n",
    "\n",
    "12. You can add some layer to our architecture but you <b>deletion</b> of layer is not acceptable.\n",
    "\n",
    "13. Try to use <b>Early Stopping</b> technique or any of the callback techniques that you did in the previous assignments.\n",
    "\n",
    "14. For Every model save your model to image ( Plot the model) with shapes \n",
    "and inlcude those images in the notebook markdown cell, \n",
    "upload those imgages to Classroom. You can use \"plot_model\" \n",
    "please refer <a href='https://www.tensorflow.org/api_docs/python/tf/keras/utils/plot_model'>this</a> if you don't know how to plot the model with shapes. \n",
    "\n",
    "</pre>"
   ]
  },
  {
   "cell_type": "code",
   "execution_count": 9,
   "metadata": {
    "colab": {
     "base_uri": "https://localhost:8080/"
    },
    "id": "_MMv3wilNvzg",
    "outputId": "16b60d0c-f865-4b30-a73b-850a4a9dca51"
   },
   "outputs": [
    {
     "name": "stdout",
     "output_type": "stream",
     "text": [
      "train size: (14121,) (14121,)\n",
      "test  size: (4707,) (4707,)\n"
     ]
    },
    {
     "data": {
      "text/plain": [
       "18616    solntze wpd sgi fido asd sgi solntze wpd sgi A...\n",
       "9553     ugcs caltech edu cs1 bradley edu cs1 bradley e...\n",
       "10254    woods ulowell edu woods ulowell edu Bleep Brui...\n",
       "6339     desire wright edu desire wright edu Olymypus S...\n",
       "13469    vms ocom okstate edu usenet INS CWRU Edu CWRU ...\n",
       "Name: preprocessed_text_subject_email, dtype: object"
      ]
     },
     "execution_count": 9,
     "metadata": {
      "tags": []
     },
     "output_type": "execute_result"
    }
   ],
   "source": [
    "from sklearn.model_selection import train_test_split\n",
    "\n",
    "data['preprocessed_text_subject_email'] = data['preprocessed_email']+' '+data['preprocessed_subject']+' '+data['preprocessed_text']\n",
    "\n",
    "X_train, X_test, y_train, y_test = train_test_split(data['preprocessed_text_subject_email'], data['class'], random_state=42)\n",
    "print('train size:', X_train.shape, y_train.shape)\n",
    "print('test  size:', X_test.shape, y_test.shape)\n",
    "\n",
    "X_train.head()"
   ]
  },
  {
   "cell_type": "code",
   "execution_count": 10,
   "metadata": {
    "colab": {
     "base_uri": "https://localhost:8080/"
    },
    "id": "VYwwpGXmNvzh",
    "outputId": "5a35c4f9-8006-4746-f643-55c85de5420f"
   },
   "outputs": [
    {
     "name": "stdout",
     "output_type": "stream",
     "text": [
      "(14121, 20)\n"
     ]
    }
   ],
   "source": [
    "from sklearn.feature_extraction.text import CountVectorizer\n",
    "\n",
    "y_train = [re.sub('\\.|-','_', cl) for cl in y_train]\n",
    "y_test = [re.sub('\\.|-','_', cl) for cl in y_test]\n",
    "\n",
    "le = CountVectorizer()\n",
    "le.fit(y_train)\n",
    "\n",
    "y_train = le.transform(y_train).toarray()\n",
    "y_test = le.transform(y_test).toarray()\n",
    "\n",
    "print(y_train.shape)"
   ]
  },
  {
   "cell_type": "code",
   "execution_count": 11,
   "metadata": {
    "id": "W7_CXnE1Nvzi",
    "scrolled": true
   },
   "outputs": [],
   "source": [
    "# https://www.kdnuggets.com/2020/03/tensorflow-keras-tokenization-text-data-prep.html\n",
    "\n",
    "num_words = 5000\n",
    "filters='!\"#$%&()*+,-./:;<=>?@[\\\\]^`{|}~\\t\\n'\n",
    "\n",
    "# Tokenize our training data\n",
    "tokenizer = Tokenizer(num_words=num_words, oov_token='<UNK>', filters=filters)\n",
    "tokenizer.fit_on_texts(X_train)\n",
    "\n",
    "# Get our training data word index\n",
    "word_index = tokenizer.word_index"
   ]
  },
  {
   "cell_type": "code",
   "execution_count": 12,
   "metadata": {
    "colab": {
     "base_uri": "https://localhost:8080/"
    },
    "id": "ZzqPYen9Nvzi",
    "outputId": "c3e05153-c7e7-4863-f10b-523b68fb042f"
   },
   "outputs": [
    {
     "name": "stdout",
     "output_type": "stream",
     "text": [
      "vocab size: 82250\n"
     ]
    }
   ],
   "source": [
    "vocab_size = len(word_index) + 1\n",
    "print('vocab size:', vocab_size)"
   ]
  },
  {
   "cell_type": "code",
   "execution_count": 13,
   "metadata": {
    "colab": {
     "base_uri": "https://localhost:8080/"
    },
    "id": "iXzSimakNvzj",
    "outputId": "47b51f77-601a-4ff3-d03e-b0b5edb38379"
   },
   "outputs": [
    {
     "name": "stdout",
     "output_type": "stream",
     "text": [
      "maxlen:  188\n",
      "Padded training shape: (14121, 188)\n",
      "Training sequences data type: <class 'list'>\n",
      "Padded Training sequences data type: <class 'numpy.ndarray'>\n"
     ]
    }
   ],
   "source": [
    "# Encode training data sentences into sequences\n",
    "train_sequences = tokenizer.texts_to_sequences(X_train)\n",
    "\n",
    "# Get max training sequence length\n",
    "maxlen = int(np.mean([len(x) for x in train_sequences]))\n",
    "\n",
    "# Pad the training sequences\n",
    "train_padded = pad_sequences(train_sequences, padding='post', truncating='post', maxlen=maxlen)\n",
    "\n",
    "print('maxlen: ', maxlen)\n",
    "print(\"Padded training shape:\", train_padded.shape)\n",
    "print(\"Training sequences data type:\", type(train_sequences))\n",
    "print(\"Padded Training sequences data type:\", type(train_padded))"
   ]
  },
  {
   "cell_type": "code",
   "execution_count": 15,
   "metadata": {
    "colab": {
     "base_uri": "https://localhost:8080/"
    },
    "id": "YovyTAwyNvzj",
    "outputId": "35c07ea8-d85a-4f7f-92e0-018babff9be2"
   },
   "outputs": [
    {
     "name": "stdout",
     "output_type": "stream",
     "text": [
      "\n",
      "Padded testing shape: (4707, 188)\n"
     ]
    }
   ],
   "source": [
    "# Encode testing data sentences into sequences\n",
    "test_sequences = tokenizer.texts_to_sequences(X_test)\n",
    "# Pad the testing sequences\n",
    "test_padded = pad_sequences(test_sequences, padding='post', truncating='post', maxlen=maxlen)\n",
    "\n",
    "print(\"\\nPadded testing shape:\", test_padded.shape)"
   ]
  },
  {
   "cell_type": "code",
   "execution_count": 16,
   "metadata": {
    "colab": {
     "base_uri": "https://localhost:8080/"
    },
    "id": "oy8gJJQ8Nvzj",
    "outputId": "48a55ecd-6b70-4468-baca-0a8d2a6bf38e"
   },
   "outputs": [
    {
     "name": "stdout",
     "output_type": "stream",
     "text": [
      "embedding matrix shape:  (82250, 300)\n"
     ]
    }
   ],
   "source": [
    "# load the whole embedding into memory\n",
    "import numpy as np\n",
    "with open('/content/drive/MyDrive/Colab Notebooks/AAIC/glove_vectors', 'rb') as f:\n",
    "    embeddings_index = pickle.load(f)\n",
    "\n",
    "\n",
    "# create a weight matrix for words in training docs\n",
    "embedding_matrix = np.zeros((vocab_size, 300))\n",
    "\n",
    "for word, i in tokenizer.word_index.items():\n",
    "    embedding_vector = embeddings_index.get(word)\n",
    "    if embedding_vector is not None:\n",
    "        embedding_matrix[i] = embedding_vector\n",
    "        \n",
    "print('embedding matrix shape: ', embedding_matrix.shape)"
   ]
  },
  {
   "cell_type": "code",
   "execution_count": 17,
   "metadata": {
    "colab": {
     "base_uri": "https://localhost:8080/"
    },
    "id": "P6GKSZDDNvzk",
    "outputId": "c36e7f80-5847-4a8c-ae1b-bbbe375b965f"
   },
   "outputs": [
    {
     "data": {
      "text/plain": [
       "0.3292279635258359"
      ]
     },
     "execution_count": 17,
     "metadata": {
      "tags": []
     },
     "output_type": "execute_result"
    }
   ],
   "source": [
    "nonzero_elements = np.count_nonzero(np.count_nonzero(embedding_matrix, axis=1))\n",
    "nonzero_elements / vocab_size"
   ]
  },
  {
   "cell_type": "markdown",
   "metadata": {
    "id": "c0mwdtcvYv1X"
   },
   "source": [
    "# Model-1: Using 1D convolutions with word embeddings"
   ]
  },
  {
   "cell_type": "markdown",
   "metadata": {
    "id": "gXPPsovJ3ePk"
   },
   "source": [
    "<pre>\n",
    "<b>Encoding of the Text </b> --> For a given text data create a Matrix with Embedding layer as shown Below. \n",
    "In the example we have considered d = 5, but in this assignment we will get d = dimension of Word vectors we are using.\n",
    " i.e if we have maximum of 350 words in a sentence and embedding of 300 dim word vector, \n",
    " we result in 350*300 dimensional matrix for each sentance as output after embedding layer\n",
    "<img src='https://i.imgur.com/kiVQuk1.png'>\n",
    "Ref: https://i.imgur.com/kiVQuk1.png\n",
    "\n",
    "<b>Reference:</b>\n",
    "<a href='https://stackoverflow.com/a/43399308/4084039'>https://stackoverflow.com/a/43399308/4084039</a>\n",
    "<a href='https://missinglink.ai/guides/keras/keras-conv1d-working-1d-convolutional-neural-networks-keras/'>https://missinglink.ai/guides/keras/keras-conv1d-working-1d-convolutional-neural-networks-keras/</a>\n",
    "\n",
    "<b><a href='https://stats.stackexchange.com/questions/270546/how-does-keras-embedding-layer-work'>How EMBEDDING LAYER WORKS </a></b>\n",
    "\n",
    "</pre>\n",
    "\n",
    "### Go through this blog, if you have any doubt on using predefined Embedding values in Embedding layer - https://machinelearningmastery.com/use-word-embedding-layers-deep-learning-keras/"
   ]
  },
  {
   "cell_type": "markdown",
   "metadata": {
    "id": "wGVQKge3Yv1e"
   },
   "source": [
    "# <img src='https://i.imgur.com/fv1GvFJ.png'>\n",
    "# ref: 'https://i.imgur.com/fv1GvFJ.png'"
   ]
  },
  {
   "cell_type": "markdown",
   "metadata": {
    "id": "GC6SBG5AYv1f"
   },
   "source": [
    "<pre>\n",
    "1. all are Conv1D layers with any number of filter and filter sizes, there is no restriction on this.\n",
    "\n",
    "2. use concatenate layer is to concatenate all the filters/channels. \n",
    "\n",
    "3. You can use any pool size and stride for maxpooling layer.\n",
    "\n",
    "4. Don't use more than 16 filters in one Conv layer becuase it will increase the no of params. \n",
    "( Only recommendation if you have less computing power )\n",
    "\n",
    "5. You can use any number of layers after the Flatten Layer.\n",
    "</pre>"
   ]
  },
  {
   "cell_type": "code",
   "execution_count": 33,
   "metadata": {
    "colab": {
     "base_uri": "https://localhost:8080/"
    },
    "id": "NRFNOQp6Nvzl",
    "outputId": "cf79d57e-1f91-4bb7-906a-4c8af7467774"
   },
   "outputs": [
    {
     "name": "stdout",
     "output_type": "stream",
     "text": [
      "Model: \"model_2\"\n",
      "__________________________________________________________________________________________________\n",
      "Layer (type)                    Output Shape         Param #     Connected to                     \n",
      "==================================================================================================\n",
      "Input_Layer (InputLayer)        [(None, 188)]        0                                            \n",
      "__________________________________________________________________________________________________\n",
      "embedding_2 (Embedding)         (None, 188, 300)     24675000    Input_Layer[0][0]                \n",
      "__________________________________________________________________________________________________\n",
      "conv1d_14 (Conv1D)              (None, 37, 27)       56727       embedding_2[0][0]                \n",
      "__________________________________________________________________________________________________\n",
      "conv1d_15 (Conv1D)              (None, 31, 27)       64827       embedding_2[0][0]                \n",
      "__________________________________________________________________________________________________\n",
      "conv1d_16 (Conv1D)              (None, 26, 27)       72927       embedding_2[0][0]                \n",
      "__________________________________________________________________________________________________\n",
      "concatenate_4 (Concatenate)     (None, 94, 27)       0           conv1d_14[0][0]                  \n",
      "                                                                 conv1d_15[0][0]                  \n",
      "                                                                 conv1d_16[0][0]                  \n",
      "__________________________________________________________________________________________________\n",
      "max_pooling1d_4 (MaxPooling1D)  (None, 47, 27)       0           concatenate_4[0][0]              \n",
      "__________________________________________________________________________________________________\n",
      "conv1d_17 (Conv1D)              (None, 11, 23)       3749        max_pooling1d_4[0][0]            \n",
      "__________________________________________________________________________________________________\n",
      "conv1d_18 (Conv1D)              (None, 9, 23)        4370        max_pooling1d_4[0][0]            \n",
      "__________________________________________________________________________________________________\n",
      "conv1d_19 (Conv1D)              (None, 7, 23)        4991        max_pooling1d_4[0][0]            \n",
      "__________________________________________________________________________________________________\n",
      "concatenate_5 (Concatenate)     (None, 27, 23)       0           conv1d_17[0][0]                  \n",
      "                                                                 conv1d_18[0][0]                  \n",
      "                                                                 conv1d_19[0][0]                  \n",
      "__________________________________________________________________________________________________\n",
      "max_pooling1d_5 (MaxPooling1D)  (None, 13, 23)       0           concatenate_5[0][0]              \n",
      "__________________________________________________________________________________________________\n",
      "conv1d_20 (Conv1D)              (None, 11, 17)       1190        max_pooling1d_5[0][0]            \n",
      "__________________________________________________________________________________________________\n",
      "flatten_2 (Flatten)             (None, 187)          0           conv1d_20[0][0]                  \n",
      "__________________________________________________________________________________________________\n",
      "dropout_2 (Dropout)             (None, 187)          0           flatten_2[0][0]                  \n",
      "__________________________________________________________________________________________________\n",
      "dense_2 (Dense)                 (None, 64)           12032       dropout_2[0][0]                  \n",
      "__________________________________________________________________________________________________\n",
      "dropout_3 (Dropout)             (None, 64)           0           dense_2[0][0]                    \n",
      "__________________________________________________________________________________________________\n",
      "Output (Dense)                  (None, 20)           1300        dropout_3[0][0]                  \n",
      "==================================================================================================\n",
      "Total params: 24,897,113\n",
      "Trainable params: 24,897,113\n",
      "Non-trainable params: 0\n",
      "__________________________________________________________________________________________________\n"
     ]
    }
   ],
   "source": [
    "input_layer = Input(shape=(maxlen,), name='Input_Layer')   # maxlen = 11732\n",
    "embd_layer = Embedding(vocab_size, 300, weights=[embedding_matrix], input_length=maxlen)(input_layer)  # vocab_size = 82250\n",
    "\n",
    "c1d1 = Conv1D(filters=27, kernel_size=7, strides=5, activation='relu')(embd_layer)\n",
    "c1d2 = Conv1D(filters=27, kernel_size=8, strides=6, activation='relu')(embd_layer)\n",
    "c1d3 = Conv1D(filters=27, kernel_size=9, strides=7, activation='relu')(embd_layer)\n",
    "caocat1 = Concatenate(axis=1)([c1d1, c1d2, c1d3])\n",
    "mpool1 = MaxPool1D(pool_size=2)(caocat1)\n",
    "\n",
    "c1d4 = Conv1D(filters=23, kernel_size=6, strides=4, activation='relu')(mpool1)\n",
    "c1d5 = Conv1D(filters=23, kernel_size=7, strides=5, activation='relu')(mpool1)\n",
    "c1d6 = Conv1D(filters=23, kernel_size=8, strides=6, activation='relu')(mpool1)\n",
    "caocat2 = Concatenate(axis=1)([c1d4, c1d5, c1d6])\n",
    "mpool2 = MaxPool1D(pool_size=2)(caocat2)\n",
    "\n",
    "c1d7 = Conv1D(filters=17, kernel_size=3, strides=1, activation='relu')(mpool2)\n",
    "\n",
    "flat1 = Flatten()(c1d7) \n",
    "\n",
    "dropout1 = Dropout(0.5)(flat1)\n",
    "\n",
    "dense2 = Dense(units=64, activation='relu')(dropout1)\n",
    "\n",
    "dropout2 = Dropout(0.5)(dense2)\n",
    "\n",
    "output_layer = Dense(units=20, activation='softmax', name='Output')(dropout2)\n",
    "\n",
    "model1 = Model(inputs=input_layer, outputs=output_layer)\n",
    "\n",
    "model1.summary()"
   ]
  },
  {
   "cell_type": "code",
   "execution_count": 41,
   "metadata": {
    "colab": {
     "base_uri": "https://localhost:8080/",
     "height": 1000
    },
    "id": "AeHBk-fyNvzm",
    "outputId": "74f7e48f-c4b2-4663-ea8a-15b49c7d5cc4"
   },
   "outputs": [
    {
     "data": {
      "image/png": "[encoded data removed]",
      "text/plain": [
       "<IPython.core.display.Image object>"
      ]
     },
     "execution_count": 41,
     "metadata": {
      "tags": []
     },
     "output_type": "execute_result"
    }
   ],
   "source": [
    "from tensorflow.keras.utils import plot_model\n",
    "\n",
    "plot_model(model1, 'model.png', show_shapes=True)"
   ]
  },
  {
   "cell_type": "code",
   "execution_count": 34,
   "metadata": {
    "id": "tzsWOsJCNvzl"
   },
   "outputs": [],
   "source": [
    "model1.compile(optimizer=tf.keras.optimizers.Adam(lr=0.01),\n",
    "              loss='categorical_crossentropy',\n",
    "              metrics=['accuracy', tfa.metrics.F1Score(num_classes=20, threshold=0.5, average='micro')],\n",
    "               )"
   ]
  },
  {
   "cell_type": "code",
   "execution_count": 36,
   "metadata": {
    "colab": {
     "base_uri": "https://localhost:8080/"
    },
    "id": "utJpIIm5Nvzl",
    "outputId": "2c84cfb7-6e8d-4709-be6d-65268243671e"
   },
   "outputs": [
    {
     "name": "stdout",
     "output_type": "stream",
     "text": [
      "Epoch 1/40\n",
      "7/7 [==============================] - 4s 631ms/step - loss: 0.2441 - accuracy: 0.9181 - f1_score: 0.9165 - val_loss: 1.8639 - val_accuracy: 0.6998 - val_f1_score: 0.7105\n",
      "Epoch 2/40\n",
      "7/7 [==============================] - 4s 547ms/step - loss: 0.2200 - accuracy: 0.9273 - f1_score: 0.9270 - val_loss: 1.9855 - val_accuracy: 0.7049 - val_f1_score: 0.7112\n",
      "Epoch 3/40\n",
      "7/7 [==============================] - 4s 547ms/step - loss: 0.2131 - accuracy: 0.9342 - f1_score: 0.9328 - val_loss: 2.0226 - val_accuracy: 0.7085 - val_f1_score: 0.7172\n",
      "Epoch 4/40\n",
      "7/7 [==============================] - 4s 537ms/step - loss: 0.2008 - accuracy: 0.9351 - f1_score: 0.9343 - val_loss: 2.0761 - val_accuracy: 0.7119 - val_f1_score: 0.7197\n",
      "Epoch 5/40\n",
      "7/7 [==============================] - 4s 545ms/step - loss: 0.1982 - accuracy: 0.9360 - f1_score: 0.9340 - val_loss: 2.0491 - val_accuracy: 0.7155 - val_f1_score: 0.7244\n",
      "Epoch 6/40\n",
      "7/7 [==============================] - 4s 550ms/step - loss: 0.1754 - accuracy: 0.9437 - f1_score: 0.9444 - val_loss: 2.1431 - val_accuracy: 0.7111 - val_f1_score: 0.7183\n",
      "Epoch 7/40\n",
      "7/7 [==============================] - 4s 543ms/step - loss: 0.1608 - accuracy: 0.9479 - f1_score: 0.9478 - val_loss: 2.3425 - val_accuracy: 0.7115 - val_f1_score: 0.7168\n",
      "Epoch 8/40\n",
      "7/7 [==============================] - 4s 540ms/step - loss: 0.1596 - accuracy: 0.9492 - f1_score: 0.9493 - val_loss: 2.2634 - val_accuracy: 0.7202 - val_f1_score: 0.7264\n",
      "Epoch 9/40\n",
      "7/7 [==============================] - 4s 551ms/step - loss: 0.1582 - accuracy: 0.9516 - f1_score: 0.9514 - val_loss: 2.2358 - val_accuracy: 0.7147 - val_f1_score: 0.7223\n",
      "Epoch 10/40\n",
      "7/7 [==============================] - 4s 540ms/step - loss: 0.1498 - accuracy: 0.9525 - f1_score: 0.9525 - val_loss: 2.3673 - val_accuracy: 0.7096 - val_f1_score: 0.7168\n",
      "Epoch 11/40\n",
      "7/7 [==============================] - 4s 544ms/step - loss: 0.1643 - accuracy: 0.9486 - f1_score: 0.9487 - val_loss: 2.2437 - val_accuracy: 0.7200 - val_f1_score: 0.7258\n",
      "Epoch 12/40\n",
      "7/7 [==============================] - 4s 549ms/step - loss: 0.1607 - accuracy: 0.9514 - f1_score: 0.9510 - val_loss: 2.1605 - val_accuracy: 0.7174 - val_f1_score: 0.7230\n",
      "Epoch 13/40\n",
      "7/7 [==============================] - 4s 548ms/step - loss: 0.1521 - accuracy: 0.9569 - f1_score: 0.9569 - val_loss: 2.2012 - val_accuracy: 0.7230 - val_f1_score: 0.7307\n",
      "Epoch 14/40\n",
      "7/7 [==============================] - 4s 550ms/step - loss: 0.1420 - accuracy: 0.9587 - f1_score: 0.9581 - val_loss: 2.3120 - val_accuracy: 0.7215 - val_f1_score: 0.7282\n",
      "Epoch 15/40\n",
      "7/7 [==============================] - 4s 541ms/step - loss: 0.1396 - accuracy: 0.9603 - f1_score: 0.9605 - val_loss: 2.2372 - val_accuracy: 0.7236 - val_f1_score: 0.7301\n",
      "Epoch 16/40\n",
      "7/7 [==============================] - 4s 549ms/step - loss: 0.1169 - accuracy: 0.9660 - f1_score: 0.9649 - val_loss: 2.3615 - val_accuracy: 0.7217 - val_f1_score: 0.7273\n",
      "Epoch 17/40\n",
      "7/7 [==============================] - 4s 534ms/step - loss: 0.1086 - accuracy: 0.9685 - f1_score: 0.9687 - val_loss: 2.3163 - val_accuracy: 0.7259 - val_f1_score: 0.7334\n",
      "Epoch 18/40\n",
      "7/7 [==============================] - 4s 535ms/step - loss: 0.1069 - accuracy: 0.9692 - f1_score: 0.9690 - val_loss: 2.5104 - val_accuracy: 0.7253 - val_f1_score: 0.7305\n",
      "Epoch 19/40\n",
      "7/7 [==============================] - 4s 546ms/step - loss: 0.1104 - accuracy: 0.9686 - f1_score: 0.9690 - val_loss: 2.5117 - val_accuracy: 0.7251 - val_f1_score: 0.7314\n",
      "Epoch 20/40\n",
      "7/7 [==============================] - 4s 533ms/step - loss: 0.0981 - accuracy: 0.9703 - f1_score: 0.9703 - val_loss: 2.4991 - val_accuracy: 0.7264 - val_f1_score: 0.7330\n",
      "Epoch 21/40\n",
      "7/7 [==============================] - 4s 544ms/step - loss: 0.0956 - accuracy: 0.9725 - f1_score: 0.9725 - val_loss: 2.4870 - val_accuracy: 0.7310 - val_f1_score: 0.7353\n",
      "Epoch 22/40\n",
      "7/7 [==============================] - 4s 550ms/step - loss: 0.1084 - accuracy: 0.9681 - f1_score: 0.9685 - val_loss: 2.4652 - val_accuracy: 0.7268 - val_f1_score: 0.7327\n",
      "Epoch 23/40\n",
      "7/7 [==============================] - 4s 539ms/step - loss: 0.0926 - accuracy: 0.9712 - f1_score: 0.9717 - val_loss: 2.6751 - val_accuracy: 0.7236 - val_f1_score: 0.7296\n",
      "Epoch 24/40\n",
      "7/7 [==============================] - 4s 546ms/step - loss: 0.0899 - accuracy: 0.9733 - f1_score: 0.9736 - val_loss: 2.8534 - val_accuracy: 0.7291 - val_f1_score: 0.7341\n",
      "Epoch 25/40\n",
      "7/7 [==============================] - 4s 530ms/step - loss: 0.0997 - accuracy: 0.9727 - f1_score: 0.9727 - val_loss: 2.7636 - val_accuracy: 0.7298 - val_f1_score: 0.7332\n",
      "Epoch 26/40\n",
      "7/7 [==============================] - 4s 542ms/step - loss: 0.0962 - accuracy: 0.9703 - f1_score: 0.9708 - val_loss: 2.6271 - val_accuracy: 0.7351 - val_f1_score: 0.7415\n",
      "Epoch 27/40\n",
      "7/7 [==============================] - 4s 549ms/step - loss: 0.1093 - accuracy: 0.9705 - f1_score: 0.9701 - val_loss: 2.6312 - val_accuracy: 0.7215 - val_f1_score: 0.7249\n",
      "Epoch 28/40\n",
      "7/7 [==============================] - 4s 548ms/step - loss: 0.1090 - accuracy: 0.9674 - f1_score: 0.9671 - val_loss: 2.5150 - val_accuracy: 0.7317 - val_f1_score: 0.7361\n",
      "Epoch 29/40\n",
      "7/7 [==============================] - 4s 545ms/step - loss: 0.0955 - accuracy: 0.9717 - f1_score: 0.9718 - val_loss: 2.4883 - val_accuracy: 0.7296 - val_f1_score: 0.7357\n",
      "Epoch 30/40\n",
      "7/7 [==============================] - 4s 543ms/step - loss: 0.0915 - accuracy: 0.9736 - f1_score: 0.9733 - val_loss: 2.6143 - val_accuracy: 0.7302 - val_f1_score: 0.7366\n",
      "Epoch 31/40\n",
      "7/7 [==============================] - 4s 535ms/step - loss: 0.0908 - accuracy: 0.9740 - f1_score: 0.9743 - val_loss: 2.6267 - val_accuracy: 0.7317 - val_f1_score: 0.7355\n",
      "Epoch 32/40\n",
      "7/7 [==============================] - 4s 543ms/step - loss: 0.0855 - accuracy: 0.9768 - f1_score: 0.9769 - val_loss: 2.9111 - val_accuracy: 0.7264 - val_f1_score: 0.7323\n",
      "Epoch 33/40\n",
      "7/7 [==============================] - 4s 536ms/step - loss: 0.0832 - accuracy: 0.9742 - f1_score: 0.9745 - val_loss: 2.8742 - val_accuracy: 0.7374 - val_f1_score: 0.7428\n",
      "Epoch 34/40\n",
      "7/7 [==============================] - 4s 543ms/step - loss: 0.0825 - accuracy: 0.9754 - f1_score: 0.9752 - val_loss: 2.7645 - val_accuracy: 0.7431 - val_f1_score: 0.7466\n",
      "Epoch 35/40\n",
      "7/7 [==============================] - 4s 547ms/step - loss: 0.0786 - accuracy: 0.9759 - f1_score: 0.9758 - val_loss: 2.7704 - val_accuracy: 0.7344 - val_f1_score: 0.7405\n",
      "Epoch 36/40\n",
      "7/7 [==============================] - 4s 541ms/step - loss: 0.0855 - accuracy: 0.9766 - f1_score: 0.9768 - val_loss: 2.6556 - val_accuracy: 0.7393 - val_f1_score: 0.7437\n",
      "Epoch 37/40\n",
      "7/7 [==============================] - 4s 551ms/step - loss: 0.0775 - accuracy: 0.9766 - f1_score: 0.9764 - val_loss: 2.7941 - val_accuracy: 0.7361 - val_f1_score: 0.7417\n",
      "Epoch 38/40\n",
      "7/7 [==============================] - 4s 543ms/step - loss: 0.0776 - accuracy: 0.9793 - f1_score: 0.9790 - val_loss: 2.8610 - val_accuracy: 0.7344 - val_f1_score: 0.7393\n",
      "Epoch 39/40\n",
      "7/7 [==============================] - 4s 542ms/step - loss: 0.0830 - accuracy: 0.9763 - f1_score: 0.9763 - val_loss: 2.8323 - val_accuracy: 0.7344 - val_f1_score: 0.7394\n",
      "Epoch 40/40\n",
      "7/7 [==============================] - 4s 528ms/step - loss: 0.0798 - accuracy: 0.9773 - f1_score: 0.9770 - val_loss: 2.8229 - val_accuracy: 0.7406 - val_f1_score: 0.7450\n"
     ]
    },
    {
     "data": {
      "text/plain": [
       "<tensorflow.python.keras.callbacks.History at 0x7faa8aa23750>"
      ]
     },
     "execution_count": 36,
     "metadata": {
      "tags": []
     },
     "output_type": "execute_result"
    }
   ],
   "source": [
    "log_dir=\"model1.3\"\n",
    "tensorboard_callback = tf.keras.callbacks.TensorBoard(log_dir=log_dir, histogram_freq=1)\n",
    "\n",
    "# filepath=\"model_save/model1/weights-{epoch:02d}-{val_acc:.4f}.hdf5\"\n",
    "# checkpoint = ModelCheckpoint(filepath=filepath, monitor='val_acc', save_best_only=True, mode='auto')\n",
    "\n",
    "# earlystop = EarlyStopping(monitor='val_loss', min_delta=0, patience=2, verbose=1)\n",
    "\n",
    "callbacks_list = [tensorboard_callback]\n",
    "\n",
    "model1.fit(train_padded,\n",
    "           y_train,\n",
    "           batch_size=2048,\n",
    "           epochs=40,\n",
    "           verbose=1,\n",
    "           validation_data=(test_padded, y_test),\n",
    "           callbacks=callbacks_list,\n",
    "          )"
   ]
  },
  {
   "cell_type": "code",
   "execution_count": 37,
   "metadata": {
    "colab": {
     "base_uri": "https://localhost:8080/"
    },
    "id": "CSodqXbLKEk3",
    "outputId": "70788268-63f1-4b3d-c6f4-257afabed9b7"
   },
   "outputs": [
    {
     "name": "stdout",
     "output_type": "stream",
     "text": [
      "The tensorboard extension is already loaded. To reload it, use:\n",
      "  %reload_ext tensorboard\n"
     ]
    }
   ],
   "source": [
    "tf.keras.backend.clear_session()\n",
    "%load_ext tensorboard"
   ]
  },
  {
   "cell_type": "code",
   "execution_count": 40,
   "metadata": {
    "id": "t8xqQob13tDz"
   },
   "outputs": [],
   "source": [
    "# %tensorboard --logdir 'model1.3'"
   ]
  },
  {
   "cell_type": "markdown",
   "metadata": {
    "id": "9cg4L1V4Yv1d"
   },
   "source": [
    "# Model-2 : Using 1D convolutions with character embedding"
   ]
  },
  {
   "cell_type": "markdown",
   "metadata": {
    "id": "2Djg4YVA3oQx"
   },
   "source": [
    "<pre>\n",
    "<pre><img src=\"https://i.ytimg.com/vi/CNY8VjJt-iQ/maxresdefault.jpg\" width=\"70%\">\n",
    "Here are the some papers based on Char-CNN\n",
    " 1. Xiang Zhang, Junbo Zhao, Yann LeCun. <a href=\"http://arxiv.org/abs/1509.01626\">Character-level Convolutional Networks for Text Classification</a>.NIPS 2015\n",
    " 2. Yoon Kim, Yacine Jernite, David Sontag, Alexander M. Rush. <a href=\"https://arxiv.org/abs/1508.06615\">Character-Aware Neural Language Models</a>. AAAI 2016\n",
    " 3. Shaojie Bai, J. Zico Kolter, Vladlen Koltun. <a href=\"https://arxiv.org/pdf/1803.01271.pdf\">An Empirical Evaluation of Generic Convolutional and Recurrent Networks for Sequence Modeling</a>\n",
    " 4. Use the pratrained char embeddings <a href='https://github.com/minimaxir/char-embeddings/blob/master/glove.840B.300d-char.txt'>https://github.com/minimaxir/char-embeddings/blob/master/glove.840B.300d-char.txt</a>\n",
    "</pre>"
   ]
  },
  {
   "cell_type": "markdown",
   "metadata": {
    "id": "VXvKSEIeSvN5"
   },
   "source": [
    "<img src='https://i.imgur.com/EuuoJtr.png'>"
   ]
  },
  {
   "cell_type": "code",
   "execution_count": 17,
   "metadata": {
    "colab": {
     "base_uri": "https://localhost:8080/"
    },
    "id": "cgYVqhUNNvzt",
    "outputId": "9833929d-ad85-4ab8-9d01-3fe0ad0fe223"
   },
   "outputs": [
    {
     "name": "stdout",
     "output_type": "stream",
     "text": [
      "vocab size: 78\n"
     ]
    }
   ],
   "source": [
    "# https://www.kdnuggets.com/2020/03/tensorflow-keras-tokenization-text-data-prep.html\n",
    "\n",
    "# Tokenize our training data\n",
    "tokenizer = Tokenizer(oov_token='<UNK>',\n",
    "                      char_level=True,\n",
    "                     )\n",
    "tokenizer.fit_on_texts(X_train)\n",
    "\n",
    "# Get our training data word index\n",
    "word_index = tokenizer.word_index\n",
    "\n",
    "vocab_size = len(word_index) + 1\n",
    "print('vocab size:', vocab_size)\n",
    "# print('word index: ', word_index)"
   ]
  },
  {
   "cell_type": "code",
   "execution_count": 18,
   "metadata": {
    "colab": {
     "base_uri": "https://localhost:8080/"
    },
    "id": "6CHILyiNNvzt",
    "outputId": "0d379228-23d3-4cfb-cd34-b6c316924ec2"
   },
   "outputs": [
    {
     "name": "stdout",
     "output_type": "stream",
     "text": [
      "maxlen:  1145\n",
      "Padded training shape: (14121, 1145)\n",
      "Training sequences data type: <class 'list'>\n",
      "Padded Training sequences data type: <class 'numpy.ndarray'>\n"
     ]
    }
   ],
   "source": [
    "# Encode training data characters into sequences\n",
    "train_sequences = tokenizer.texts_to_sequences(X_train)\n",
    "\n",
    "# Get max training sequence length\n",
    "maxlen = int(np.mean([len(x) for x in train_sequences]))\n",
    "\n",
    "# Pad the training sequences\n",
    "train_padded = pad_sequences(train_sequences, padding='post', truncating='post', maxlen=maxlen)\n",
    "\n",
    "print('maxlen: ', maxlen)\n",
    "print(\"Padded training shape:\", train_padded.shape)\n",
    "print(\"Training sequences data type:\", type(train_sequences))\n",
    "print(\"Padded Training sequences data type:\", type(train_padded))"
   ]
  },
  {
   "cell_type": "code",
   "execution_count": 19,
   "metadata": {
    "colab": {
     "base_uri": "https://localhost:8080/"
    },
    "id": "0X_yWyH3Nvzt",
    "outputId": "8fb25300-be38-4c75-9ba8-61c9f66b9016"
   },
   "outputs": [
    {
     "name": "stdout",
     "output_type": "stream",
     "text": [
      "\n",
      "Padded testing shape: (4707, 1145)\n"
     ]
    }
   ],
   "source": [
    "# Encode testing data sentences into sequences\n",
    "test_sequences = tokenizer.texts_to_sequences(X_test)\n",
    "\n",
    "# Pad the testing sequences\n",
    "test_padded = pad_sequences(test_sequences, padding='post', truncating='post', maxlen=maxlen)\n",
    "\n",
    "print(\"\\nPadded testing shape:\", test_padded.shape)"
   ]
  },
  {
   "cell_type": "code",
   "execution_count": 20,
   "metadata": {
    "colab": {
     "base_uri": "https://localhost:8080/"
    },
    "id": "2EGi595UNvzu",
    "outputId": "b855fc22-66eb-46a8-f9d4-948e338b4137"
   },
   "outputs": [
    {
     "name": "stdout",
     "output_type": "stream",
     "text": [
      "embedding matrix shape:  (78, 300)\n"
     ]
    }
   ],
   "source": [
    "embeddings_index = dict()\n",
    "with open('/content/drive/MyDrive/Deep Learning/24 (document classification with CNN)/glove.840B.300d-char.txt', 'r') as file:\n",
    "    glove_char = file.read()\n",
    "\n",
    "for line in glove_char.split('\\n'):\n",
    "    line_list = line.split()\n",
    "    embeddings_index[line_list[0]] = np.array(list(map(float, line_list[1:])))\n",
    "\n",
    "# create a weight matrix for words in training docs\n",
    "embedding_matrix = np.zeros((vocab_size, 300))\n",
    "\n",
    "for word, i in tokenizer.word_index.items():\n",
    "    embedding_vector = embeddings_index.get(word)\n",
    "    if embedding_vector is not None:\n",
    "        embedding_matrix[i] = embedding_vector\n",
    "        \n",
    "print('embedding matrix shape: ', embedding_matrix.shape)"
   ]
  },
  {
   "cell_type": "code",
   "execution_count": 21,
   "metadata": {
    "colab": {
     "base_uri": "https://localhost:8080/"
    },
    "id": "EOBAB-gvNvzu",
    "outputId": "53082847-471d-4fb5-9f9f-7f7e99c5edb8"
   },
   "outputs": [
    {
     "data": {
      "text/plain": [
       "0.6666666666666666"
      ]
     },
     "execution_count": 21,
     "metadata": {
      "tags": []
     },
     "output_type": "execute_result"
    }
   ],
   "source": [
    "nonzero_elements = np.count_nonzero(np.count_nonzero(embedding_matrix, axis=1))\n",
    "nonzero_elements / vocab_size"
   ]
  },
  {
   "cell_type": "code",
   "execution_count": 22,
   "metadata": {
    "colab": {
     "base_uri": "https://localhost:8080/"
    },
    "id": "74-p1XV66sHD",
    "outputId": "fa93b0bf-907d-416d-c2e5-dfee434a6dac"
   },
   "outputs": [
    {
     "name": "stdout",
     "output_type": "stream",
     "text": [
      "Model: \"model\"\n",
      "_________________________________________________________________\n",
      "Layer (type)                 Output Shape              Param #   \n",
      "=================================================================\n",
      "Input_Layer (InputLayer)     [(None, 1145)]            0         \n",
      "_________________________________________________________________\n",
      "embedding (Embedding)        (None, 1145, 300)         23400     \n",
      "_________________________________________________________________\n",
      "conv1d (Conv1D)              (None, 380, 15)           31515     \n",
      "_________________________________________________________________\n",
      "conv1d_1 (Conv1D)            (None, 188, 13)           988       \n",
      "_________________________________________________________________\n",
      "max_pooling1d (MaxPooling1D) (None, 94, 13)            0         \n",
      "_________________________________________________________________\n",
      "conv1d_2 (Conv1D)            (None, 30, 9)             594       \n",
      "_________________________________________________________________\n",
      "conv1d_3 (Conv1D)            (None, 28, 7)             196       \n",
      "_________________________________________________________________\n",
      "max_pooling1d_1 (MaxPooling1 (None, 14, 7)             0         \n",
      "_________________________________________________________________\n",
      "flatten (Flatten)            (None, 98)                0         \n",
      "_________________________________________________________________\n",
      "dropout (Dropout)            (None, 98)                0         \n",
      "_________________________________________________________________\n",
      "dense (Dense)                (None, 64)                6336      \n",
      "_________________________________________________________________\n",
      "Output (Dense)               (None, 20)                1300      \n",
      "=================================================================\n",
      "Total params: 64,329\n",
      "Trainable params: 64,329\n",
      "Non-trainable params: 0\n",
      "_________________________________________________________________\n"
     ]
    }
   ],
   "source": [
    "# https://machinelearningmastery.com/develop-character-based-neural-language-model-keras/\n",
    "\n",
    "input_layer = Input(shape=(maxlen,), name='Input_Layer')   # maxlen = 49697\n",
    "\n",
    "embd_layer = Embedding(vocab_size, 300, weights=[embedding_matrix], input_length=maxlen)(input_layer)  # vocab_size = 78\n",
    "\n",
    "c1d1 = Conv1D(filters=15, kernel_size=7, strides=3, activation='relu')(embd_layer)\n",
    "c1d2 = Conv1D(filters=13, kernel_size=5, strides=2, activation='relu')(c1d1)\n",
    "mpool1 = MaxPool1D(pool_size=2)(c1d2)\n",
    "\n",
    "c1d3 = Conv1D(filters=9, kernel_size=5, strides=3, activation='relu')(mpool1)\n",
    "c1d4 = Conv1D(filters=7, kernel_size=3, strides=1, activation='relu')(c1d3)\n",
    "mpool2 = MaxPool1D(pool_size=2)(c1d4)\n",
    "\n",
    "\n",
    "flat1 = Flatten()(mpool2) \n",
    "dropout1 = Dropout(0.3)(flat1)\n",
    "\n",
    "dense4 = Dense(units=64, activation='relu')(dropout1)\n",
    "\n",
    "output_layer = Dense(units=20, activation='softmax', name='Output')(dense4)\n",
    "\n",
    "model2 = Model(inputs=input_layer, outputs=output_layer)\n",
    "\n",
    "model2.summary()"
   ]
  },
  {
   "cell_type": "code",
   "execution_count": 28,
   "metadata": {
    "colab": {
     "base_uri": "https://localhost:8080/",
     "height": 1000
    },
    "id": "Yyb3hkjo-O8q",
    "outputId": "27720454-1508-419e-9712-b904cb075b62"
   },
   "outputs": [
    {
     "data": {
      "image/png": "[encoded data removed]",
      "text/plain": [
       "<IPython.core.display.Image object>"
      ]
     },
     "execution_count": 28,
     "metadata": {
      "tags": []
     },
     "output_type": "execute_result"
    }
   ],
   "source": [
    "from tensorflow.keras.utils import plot_model\n",
    "\n",
    "plot_model(model2, 'model2.png', show_shapes=True)"
   ]
  },
  {
   "cell_type": "code",
   "execution_count": 24,
   "metadata": {
    "id": "4bjZnaEo6r3x"
   },
   "outputs": [],
   "source": [
    "model2.compile(optimizer=tf.keras.optimizers.Adam(lr=0.01),\n",
    "              loss='categorical_crossentropy',\n",
    "              metrics=['accuracy', tfa.metrics.F1Score(num_classes=20, threshold=0.5, average='micro')],\n",
    "               )"
   ]
  },
  {
   "cell_type": "code",
   "execution_count": 25,
   "metadata": {
    "colab": {
     "base_uri": "https://localhost:8080/"
    },
    "id": "NfN83mxx6r9E",
    "outputId": "53596aaa-15d3-46e1-f298-8c381538515c"
   },
   "outputs": [
    {
     "name": "stdout",
     "output_type": "stream",
     "text": [
      "Epoch 1/100\n",
      "7/7 [==============================] - 24s 2s/step - loss: 2.9987 - accuracy: 0.0542 - f1_score: 0.0000e+00 - val_loss: 2.9553 - val_accuracy: 0.0616 - val_f1_score: 0.0000e+00\n",
      "Epoch 2/100\n",
      "7/7 [==============================] - 10s 1s/step - loss: 2.9569 - accuracy: 0.0690 - f1_score: 0.0000e+00 - val_loss: 2.9355 - val_accuracy: 0.0799 - val_f1_score: 0.0000e+00\n",
      "Epoch 3/100\n",
      "7/7 [==============================] - 10s 1s/step - loss: 2.9400 - accuracy: 0.0834 - f1_score: 0.0000e+00 - val_loss: 2.9313 - val_accuracy: 0.0867 - val_f1_score: 0.0000e+00\n",
      "Epoch 4/100\n",
      "7/7 [==============================] - 10s 1s/step - loss: 2.9298 - accuracy: 0.0813 - f1_score: 0.0000e+00 - val_loss: 2.9273 - val_accuracy: 0.0856 - val_f1_score: 0.0000e+00\n",
      "Epoch 5/100\n",
      "7/7 [==============================] - 10s 1s/step - loss: 2.9234 - accuracy: 0.0815 - f1_score: 0.0000e+00 - val_loss: 2.9231 - val_accuracy: 0.0905 - val_f1_score: 0.0000e+00\n",
      "Epoch 6/100\n",
      "7/7 [==============================] - 10s 1s/step - loss: 2.9187 - accuracy: 0.0870 - f1_score: 0.0000e+00 - val_loss: 2.9176 - val_accuracy: 0.0865 - val_f1_score: 0.0000e+00\n",
      "Epoch 7/100\n",
      "7/7 [==============================] - 10s 1s/step - loss: 2.9141 - accuracy: 0.0877 - f1_score: 3.5406e-05 - val_loss: 2.9082 - val_accuracy: 0.0937 - val_f1_score: 0.0000e+00\n",
      "Epoch 8/100\n",
      "7/7 [==============================] - 10s 1s/step - loss: 2.9002 - accuracy: 0.0960 - f1_score: 1.4604e-04 - val_loss: 2.8968 - val_accuracy: 0.0962 - val_f1_score: 4.2481e-04\n",
      "Epoch 9/100\n",
      "7/7 [==============================] - 10s 1s/step - loss: 2.8999 - accuracy: 0.0896 - f1_score: 6.7312e-04 - val_loss: 2.9137 - val_accuracy: 0.0894 - val_f1_score: 8.4926e-04\n",
      "Epoch 10/100\n",
      "7/7 [==============================] - 10s 1s/step - loss: 2.8962 - accuracy: 0.0927 - f1_score: 0.0019 - val_loss: 2.8899 - val_accuracy: 0.0956 - val_f1_score: 8.4944e-04\n",
      "Epoch 11/100\n",
      "7/7 [==============================] - 10s 1s/step - loss: 2.8833 - accuracy: 0.0983 - f1_score: 0.0017 - val_loss: 2.8515 - val_accuracy: 0.1037 - val_f1_score: 0.0017\n",
      "Epoch 12/100\n",
      "7/7 [==============================] - 10s 1s/step - loss: 2.8783 - accuracy: 0.0978 - f1_score: 0.0021 - val_loss: 2.8739 - val_accuracy: 0.1022 - val_f1_score: 4.2481e-04\n",
      "Epoch 13/100\n",
      "7/7 [==============================] - 10s 1s/step - loss: 2.8873 - accuracy: 0.0966 - f1_score: 5.8427e-04 - val_loss: 2.8830 - val_accuracy: 0.0871 - val_f1_score: 0.0021\n",
      "Epoch 14/100\n",
      "7/7 [==============================] - 10s 1s/step - loss: 2.8640 - accuracy: 0.1011 - f1_score: 0.0016 - val_loss: 2.8537 - val_accuracy: 0.0971 - val_f1_score: 0.0030\n",
      "Epoch 15/100\n",
      "7/7 [==============================] - 10s 1s/step - loss: 2.8304 - accuracy: 0.1075 - f1_score: 0.0051 - val_loss: 2.8222 - val_accuracy: 0.1075 - val_f1_score: 0.0025\n",
      "Epoch 16/100\n",
      "7/7 [==============================] - 10s 1s/step - loss: 2.8092 - accuracy: 0.1133 - f1_score: 0.0040 - val_loss: 2.8100 - val_accuracy: 0.1143 - val_f1_score: 8.4926e-04\n",
      "Epoch 17/100\n",
      "7/7 [==============================] - 10s 1s/step - loss: 2.7892 - accuracy: 0.1175 - f1_score: 0.0039 - val_loss: 2.8013 - val_accuracy: 0.1185 - val_f1_score: 0.0034\n",
      "Epoch 18/100\n",
      "7/7 [==============================] - 10s 1s/step - loss: 2.7660 - accuracy: 0.1278 - f1_score: 0.0059 - val_loss: 2.8017 - val_accuracy: 0.1219 - val_f1_score: 0.0025\n",
      "Epoch 19/100\n",
      "7/7 [==============================] - 10s 1s/step - loss: 2.7486 - accuracy: 0.1306 - f1_score: 0.0104 - val_loss: 2.7476 - val_accuracy: 0.1296 - val_f1_score: 0.0017\n",
      "Epoch 20/100\n",
      "7/7 [==============================] - 10s 1s/step - loss: 2.7201 - accuracy: 0.1374 - f1_score: 0.0097 - val_loss: 2.7560 - val_accuracy: 0.1256 - val_f1_score: 0.0013\n",
      "Epoch 21/100\n",
      "7/7 [==============================] - 10s 1s/step - loss: 2.7276 - accuracy: 0.1320 - f1_score: 0.0066 - val_loss: 2.9837 - val_accuracy: 0.0928 - val_f1_score: 0.0142\n",
      "Epoch 22/100\n",
      "7/7 [==============================] - 10s 1s/step - loss: 2.8839 - accuracy: 0.1091 - f1_score: 0.0107 - val_loss: 2.8913 - val_accuracy: 0.0979 - val_f1_score: 0.0021\n",
      "Epoch 23/100\n",
      "7/7 [==============================] - 10s 1s/step - loss: 2.8372 - accuracy: 0.1077 - f1_score: 0.0058 - val_loss: 2.8365 - val_accuracy: 0.1069 - val_f1_score: 0.0063\n",
      "Epoch 24/100\n",
      "7/7 [==============================] - 10s 1s/step - loss: 2.7826 - accuracy: 0.1243 - f1_score: 0.0144 - val_loss: 2.7860 - val_accuracy: 0.1226 - val_f1_score: 0.0034\n",
      "Epoch 25/100\n",
      "7/7 [==============================] - 10s 1s/step - loss: 2.7362 - accuracy: 0.1346 - f1_score: 0.0129 - val_loss: 2.7456 - val_accuracy: 0.1379 - val_f1_score: 0.0101\n",
      "Epoch 26/100\n",
      "7/7 [==============================] - 10s 1s/step - loss: 2.6923 - accuracy: 0.1403 - f1_score: 0.0149 - val_loss: 2.7108 - val_accuracy: 0.1370 - val_f1_score: 0.0038\n",
      "Epoch 27/100\n",
      "7/7 [==============================] - 10s 1s/step - loss: 2.6602 - accuracy: 0.1467 - f1_score: 0.0167 - val_loss: 2.7082 - val_accuracy: 0.1381 - val_f1_score: 0.0055\n",
      "Epoch 28/100\n",
      "7/7 [==============================] - 10s 1s/step - loss: 2.6366 - accuracy: 0.1572 - f1_score: 0.0153 - val_loss: 2.6771 - val_accuracy: 0.1504 - val_f1_score: 0.0105\n",
      "Epoch 29/100\n",
      "7/7 [==============================] - 10s 1s/step - loss: 2.6103 - accuracy: 0.1635 - f1_score: 0.0227 - val_loss: 2.6873 - val_accuracy: 0.1434 - val_f1_score: 0.0105\n",
      "Epoch 30/100\n",
      "7/7 [==============================] - 10s 1s/step - loss: 2.5970 - accuracy: 0.1585 - f1_score: 0.0207 - val_loss: 2.6568 - val_accuracy: 0.1500 - val_f1_score: 0.0134\n",
      "Epoch 31/100\n",
      "7/7 [==============================] - 10s 1s/step - loss: 2.6063 - accuracy: 0.1594 - f1_score: 0.0228 - val_loss: 2.6694 - val_accuracy: 0.1438 - val_f1_score: 0.0063\n",
      "Epoch 32/100\n",
      "7/7 [==============================] - 10s 1s/step - loss: 2.5811 - accuracy: 0.1669 - f1_score: 0.0240 - val_loss: 2.6877 - val_accuracy: 0.1457 - val_f1_score: 0.0171\n",
      "Epoch 33/100\n",
      "7/7 [==============================] - 10s 1s/step - loss: 2.5685 - accuracy: 0.1685 - f1_score: 0.0251 - val_loss: 2.6407 - val_accuracy: 0.1540 - val_f1_score: 0.0155\n",
      "Epoch 34/100\n",
      "7/7 [==============================] - 10s 1s/step - loss: 2.5266 - accuracy: 0.1770 - f1_score: 0.0299 - val_loss: 2.6172 - val_accuracy: 0.1617 - val_f1_score: 0.0122\n",
      "Epoch 35/100\n",
      "7/7 [==============================] - 10s 1s/step - loss: 2.5202 - accuracy: 0.1772 - f1_score: 0.0267 - val_loss: 2.7498 - val_accuracy: 0.1445 - val_f1_score: 0.0072\n",
      "Epoch 36/100\n",
      "7/7 [==============================] - 10s 1s/step - loss: 2.5488 - accuracy: 0.1819 - f1_score: 0.0239 - val_loss: 2.6153 - val_accuracy: 0.1636 - val_f1_score: 0.0163\n",
      "Epoch 37/100\n",
      "7/7 [==============================] - 10s 1s/step - loss: 2.4796 - accuracy: 0.1889 - f1_score: 0.0378 - val_loss: 2.6338 - val_accuracy: 0.1583 - val_f1_score: 0.0179\n",
      "Epoch 38/100\n",
      "7/7 [==============================] - 10s 1s/step - loss: 2.4810 - accuracy: 0.1933 - f1_score: 0.0323 - val_loss: 2.6166 - val_accuracy: 0.1604 - val_f1_score: 0.0179\n",
      "Epoch 39/100\n",
      "7/7 [==============================] - 10s 1s/step - loss: 2.4722 - accuracy: 0.1921 - f1_score: 0.0409 - val_loss: 2.5895 - val_accuracy: 0.1657 - val_f1_score: 0.0138\n",
      "Epoch 40/100\n",
      "7/7 [==============================] - 10s 1s/step - loss: 2.4418 - accuracy: 0.1981 - f1_score: 0.0352 - val_loss: 2.7567 - val_accuracy: 0.1436 - val_f1_score: 0.0129\n",
      "Epoch 41/100\n",
      "7/7 [==============================] - 10s 1s/step - loss: 2.5115 - accuracy: 0.1864 - f1_score: 0.0309 - val_loss: 2.6063 - val_accuracy: 0.1629 - val_f1_score: 0.0223\n",
      "Epoch 42/100\n",
      "7/7 [==============================] - 10s 1s/step - loss: 2.4310 - accuracy: 0.2031 - f1_score: 0.0455 - val_loss: 2.6049 - val_accuracy: 0.1646 - val_f1_score: 0.0224\n",
      "Epoch 43/100\n",
      "7/7 [==============================] - 10s 1s/step - loss: 2.4100 - accuracy: 0.2043 - f1_score: 0.0423 - val_loss: 2.5862 - val_accuracy: 0.1661 - val_f1_score: 0.0220\n",
      "Epoch 44/100\n",
      "7/7 [==============================] - 10s 1s/step - loss: 2.3854 - accuracy: 0.2179 - f1_score: 0.0454 - val_loss: 2.5954 - val_accuracy: 0.1676 - val_f1_score: 0.0275\n",
      "Epoch 45/100\n",
      "7/7 [==============================] - 10s 1s/step - loss: 2.4154 - accuracy: 0.2025 - f1_score: 0.0460 - val_loss: 2.6329 - val_accuracy: 0.1600 - val_f1_score: 0.0158\n",
      "Epoch 46/100\n",
      "7/7 [==============================] - 10s 1s/step - loss: 2.4277 - accuracy: 0.2105 - f1_score: 0.0425 - val_loss: 2.6004 - val_accuracy: 0.1657 - val_f1_score: 0.0283\n",
      "Epoch 47/100\n",
      "7/7 [==============================] - 10s 1s/step - loss: 2.3867 - accuracy: 0.2174 - f1_score: 0.0467 - val_loss: 2.6021 - val_accuracy: 0.1642 - val_f1_score: 0.0283\n",
      "Epoch 48/100\n",
      "7/7 [==============================] - 10s 1s/step - loss: 2.3694 - accuracy: 0.2258 - f1_score: 0.0570 - val_loss: 2.6169 - val_accuracy: 0.1700 - val_f1_score: 0.0235\n",
      "Epoch 49/100\n",
      "7/7 [==============================] - 10s 1s/step - loss: 2.3439 - accuracy: 0.2314 - f1_score: 0.0593 - val_loss: 2.6333 - val_accuracy: 0.1663 - val_f1_score: 0.0312\n",
      "Epoch 50/100\n",
      "7/7 [==============================] - 10s 1s/step - loss: 2.3699 - accuracy: 0.2265 - f1_score: 0.0582 - val_loss: 2.6050 - val_accuracy: 0.1678 - val_f1_score: 0.0307\n",
      "Epoch 51/100\n",
      "7/7 [==============================] - 10s 1s/step - loss: 2.3262 - accuracy: 0.2360 - f1_score: 0.0625 - val_loss: 2.6081 - val_accuracy: 0.1710 - val_f1_score: 0.0296\n",
      "Epoch 52/100\n",
      "7/7 [==============================] - 10s 1s/step - loss: 2.3146 - accuracy: 0.2375 - f1_score: 0.0636 - val_loss: 2.6263 - val_accuracy: 0.1661 - val_f1_score: 0.0256\n",
      "Epoch 53/100\n",
      "7/7 [==============================] - 10s 1s/step - loss: 2.3209 - accuracy: 0.2419 - f1_score: 0.0584 - val_loss: 2.6216 - val_accuracy: 0.1621 - val_f1_score: 0.0288\n",
      "Epoch 54/100\n",
      "7/7 [==============================] - 10s 1s/step - loss: 2.3102 - accuracy: 0.2380 - f1_score: 0.0631 - val_loss: 2.6087 - val_accuracy: 0.1702 - val_f1_score: 0.0314\n",
      "Epoch 55/100\n",
      "7/7 [==============================] - 10s 1s/step - loss: 2.2900 - accuracy: 0.2406 - f1_score: 0.0664 - val_loss: 2.6638 - val_accuracy: 0.1623 - val_f1_score: 0.0358\n",
      "Epoch 56/100\n",
      "7/7 [==============================] - 10s 1s/step - loss: 2.2927 - accuracy: 0.2406 - f1_score: 0.0717 - val_loss: 2.6170 - val_accuracy: 0.1655 - val_f1_score: 0.0286\n",
      "Epoch 57/100\n",
      "7/7 [==============================] - 10s 1s/step - loss: 2.3462 - accuracy: 0.2312 - f1_score: 0.0667 - val_loss: 2.6160 - val_accuracy: 0.1600 - val_f1_score: 0.0251\n",
      "Epoch 58/100\n",
      "7/7 [==============================] - 10s 1s/step - loss: 2.3272 - accuracy: 0.2339 - f1_score: 0.0610 - val_loss: 2.5998 - val_accuracy: 0.1691 - val_f1_score: 0.0228\n",
      "Epoch 59/100\n",
      "7/7 [==============================] - 10s 1s/step - loss: 2.3024 - accuracy: 0.2313 - f1_score: 0.0606 - val_loss: 2.6322 - val_accuracy: 0.1668 - val_f1_score: 0.0310\n",
      "Epoch 60/100\n",
      "7/7 [==============================] - 10s 1s/step - loss: 2.2656 - accuracy: 0.2529 - f1_score: 0.0745 - val_loss: 2.6189 - val_accuracy: 0.1714 - val_f1_score: 0.0345\n",
      "Epoch 61/100\n",
      "7/7 [==============================] - 10s 1s/step - loss: 2.2492 - accuracy: 0.2510 - f1_score: 0.0734 - val_loss: 2.6338 - val_accuracy: 0.1670 - val_f1_score: 0.0321\n",
      "Epoch 62/100\n",
      "7/7 [==============================] - 10s 1s/step - loss: 2.2448 - accuracy: 0.2519 - f1_score: 0.0793 - val_loss: 2.6371 - val_accuracy: 0.1714 - val_f1_score: 0.0353\n",
      "Epoch 63/100\n",
      "7/7 [==============================] - 10s 1s/step - loss: 2.2340 - accuracy: 0.2525 - f1_score: 0.0813 - val_loss: 2.7110 - val_accuracy: 0.1615 - val_f1_score: 0.0355\n",
      "Epoch 64/100\n",
      "7/7 [==============================] - 10s 1s/step - loss: 2.2806 - accuracy: 0.2512 - f1_score: 0.0806 - val_loss: 2.6399 - val_accuracy: 0.1748 - val_f1_score: 0.0379\n",
      "Epoch 65/100\n",
      "7/7 [==============================] - 10s 1s/step - loss: 2.2232 - accuracy: 0.2640 - f1_score: 0.0849 - val_loss: 2.6625 - val_accuracy: 0.1653 - val_f1_score: 0.0361\n",
      "Epoch 66/100\n",
      "7/7 [==============================] - 10s 1s/step - loss: 2.2377 - accuracy: 0.2477 - f1_score: 0.0822 - val_loss: 2.6583 - val_accuracy: 0.1674 - val_f1_score: 0.0334\n",
      "Epoch 67/100\n",
      "7/7 [==============================] - 10s 1s/step - loss: 2.2177 - accuracy: 0.2665 - f1_score: 0.0853 - val_loss: 2.6855 - val_accuracy: 0.1649 - val_f1_score: 0.0320\n",
      "Epoch 68/100\n",
      "7/7 [==============================] - 10s 1s/step - loss: 2.2245 - accuracy: 0.2646 - f1_score: 0.0877 - val_loss: 2.6635 - val_accuracy: 0.1657 - val_f1_score: 0.0280\n",
      "Epoch 69/100\n",
      "7/7 [==============================] - 10s 1s/step - loss: 2.2146 - accuracy: 0.2608 - f1_score: 0.0848 - val_loss: 2.6612 - val_accuracy: 0.1723 - val_f1_score: 0.0362\n",
      "Epoch 70/100\n",
      "7/7 [==============================] - 10s 1s/step - loss: 2.2114 - accuracy: 0.2624 - f1_score: 0.0921 - val_loss: 2.6592 - val_accuracy: 0.1687 - val_f1_score: 0.0324\n",
      "Epoch 71/100\n",
      "7/7 [==============================] - 10s 1s/step - loss: 2.2312 - accuracy: 0.2633 - f1_score: 0.0852 - val_loss: 2.6428 - val_accuracy: 0.1672 - val_f1_score: 0.0317\n",
      "Epoch 72/100\n",
      "7/7 [==============================] - 10s 1s/step - loss: 2.2191 - accuracy: 0.2607 - f1_score: 0.0889 - val_loss: 2.6502 - val_accuracy: 0.1719 - val_f1_score: 0.0384\n",
      "Epoch 73/100\n",
      "7/7 [==============================] - 10s 1s/step - loss: 2.1805 - accuracy: 0.2734 - f1_score: 0.0977 - val_loss: 2.7040 - val_accuracy: 0.1653 - val_f1_score: 0.0477\n",
      "Epoch 74/100\n",
      "7/7 [==============================] - 10s 1s/step - loss: 2.2353 - accuracy: 0.2562 - f1_score: 0.0927 - val_loss: 2.6945 - val_accuracy: 0.1646 - val_f1_score: 0.0379\n",
      "Epoch 75/100\n",
      "7/7 [==============================] - 10s 1s/step - loss: 2.1819 - accuracy: 0.2719 - f1_score: 0.0978 - val_loss: 2.6815 - val_accuracy: 0.1687 - val_f1_score: 0.0361\n",
      "Epoch 76/100\n",
      "7/7 [==============================] - 10s 1s/step - loss: 2.1638 - accuracy: 0.2720 - f1_score: 0.1039 - val_loss: 2.6826 - val_accuracy: 0.1680 - val_f1_score: 0.0363\n",
      "Epoch 77/100\n",
      "7/7 [==============================] - 10s 1s/step - loss: 2.1697 - accuracy: 0.2794 - f1_score: 0.0992 - val_loss: 2.6942 - val_accuracy: 0.1598 - val_f1_score: 0.0360\n",
      "Epoch 78/100\n",
      "7/7 [==============================] - 10s 1s/step - loss: 2.1870 - accuracy: 0.2675 - f1_score: 0.0967 - val_loss: 2.6996 - val_accuracy: 0.1710 - val_f1_score: 0.0398\n",
      "Epoch 79/100\n",
      "7/7 [==============================] - 10s 1s/step - loss: 2.1770 - accuracy: 0.2726 - f1_score: 0.0933 - val_loss: 2.6789 - val_accuracy: 0.1740 - val_f1_score: 0.0475\n",
      "Epoch 80/100\n",
      "7/7 [==============================] - 10s 1s/step - loss: 2.1676 - accuracy: 0.2808 - f1_score: 0.1111 - val_loss: 2.6896 - val_accuracy: 0.1748 - val_f1_score: 0.0378\n",
      "Epoch 81/100\n",
      "7/7 [==============================] - 10s 1s/step - loss: 2.1655 - accuracy: 0.2777 - f1_score: 0.1066 - val_loss: 2.7245 - val_accuracy: 0.1653 - val_f1_score: 0.0397\n",
      "Epoch 82/100\n",
      "7/7 [==============================] - 10s 1s/step - loss: 2.1958 - accuracy: 0.2694 - f1_score: 0.0926 - val_loss: 2.6726 - val_accuracy: 0.1727 - val_f1_score: 0.0478\n",
      "Epoch 83/100\n",
      "7/7 [==============================] - 10s 1s/step - loss: 2.1959 - accuracy: 0.2675 - f1_score: 0.1013 - val_loss: 2.7209 - val_accuracy: 0.1566 - val_f1_score: 0.0396\n",
      "Epoch 84/100\n",
      "7/7 [==============================] - 10s 1s/step - loss: 2.1709 - accuracy: 0.2724 - f1_score: 0.1019 - val_loss: 2.6979 - val_accuracy: 0.1595 - val_f1_score: 0.0406\n",
      "Epoch 85/100\n",
      "7/7 [==============================] - 10s 1s/step - loss: 2.1629 - accuracy: 0.2762 - f1_score: 0.1057 - val_loss: 2.7111 - val_accuracy: 0.1661 - val_f1_score: 0.0506\n",
      "Epoch 86/100\n",
      "7/7 [==============================] - 10s 1s/step - loss: 2.1485 - accuracy: 0.2770 - f1_score: 0.1057 - val_loss: 2.7194 - val_accuracy: 0.1646 - val_f1_score: 0.0390\n",
      "Epoch 87/100\n",
      "7/7 [==============================] - 10s 1s/step - loss: 2.1701 - accuracy: 0.2670 - f1_score: 0.1081 - val_loss: 2.7013 - val_accuracy: 0.1774 - val_f1_score: 0.0445\n",
      "Epoch 88/100\n",
      "7/7 [==============================] - 10s 1s/step - loss: 2.1632 - accuracy: 0.2810 - f1_score: 0.1075 - val_loss: 2.6847 - val_accuracy: 0.1685 - val_f1_score: 0.0422\n",
      "Epoch 89/100\n",
      "7/7 [==============================] - 10s 1s/step - loss: 2.1467 - accuracy: 0.2798 - f1_score: 0.1098 - val_loss: 2.6973 - val_accuracy: 0.1717 - val_f1_score: 0.0463\n",
      "Epoch 90/100\n",
      "7/7 [==============================] - 10s 1s/step - loss: 2.1278 - accuracy: 0.2880 - f1_score: 0.1173 - val_loss: 2.7086 - val_accuracy: 0.1655 - val_f1_score: 0.0444\n",
      "Epoch 91/100\n",
      "7/7 [==============================] - 10s 1s/step - loss: 2.1427 - accuracy: 0.2880 - f1_score: 0.1175 - val_loss: 2.7410 - val_accuracy: 0.1644 - val_f1_score: 0.0499\n",
      "Epoch 92/100\n",
      "7/7 [==============================] - 10s 1s/step - loss: 2.1441 - accuracy: 0.2768 - f1_score: 0.1089 - val_loss: 2.7100 - val_accuracy: 0.1646 - val_f1_score: 0.0441\n",
      "Epoch 93/100\n",
      "7/7 [==============================] - 10s 1s/step - loss: 2.1411 - accuracy: 0.2896 - f1_score: 0.1131 - val_loss: 2.7221 - val_accuracy: 0.1723 - val_f1_score: 0.0470\n",
      "Epoch 94/100\n",
      "7/7 [==============================] - 10s 1s/step - loss: 2.1227 - accuracy: 0.2872 - f1_score: 0.1277 - val_loss: 2.7258 - val_accuracy: 0.1717 - val_f1_score: 0.0522\n",
      "Epoch 95/100\n",
      "7/7 [==============================] - 10s 1s/step - loss: 2.1322 - accuracy: 0.2913 - f1_score: 0.1180 - val_loss: 2.7760 - val_accuracy: 0.1608 - val_f1_score: 0.0444\n",
      "Epoch 96/100\n",
      "7/7 [==============================] - 10s 1s/step - loss: 2.1524 - accuracy: 0.2825 - f1_score: 0.1139 - val_loss: 2.7572 - val_accuracy: 0.1627 - val_f1_score: 0.0461\n",
      "Epoch 97/100\n",
      "7/7 [==============================] - 10s 1s/step - loss: 2.1690 - accuracy: 0.2798 - f1_score: 0.1130 - val_loss: 2.7129 - val_accuracy: 0.1674 - val_f1_score: 0.0534\n",
      "Epoch 98/100\n",
      "7/7 [==============================] - 10s 1s/step - loss: 2.1437 - accuracy: 0.2843 - f1_score: 0.1235 - val_loss: 2.7190 - val_accuracy: 0.1625 - val_f1_score: 0.0415\n",
      "Epoch 99/100\n",
      "7/7 [==============================] - 10s 1s/step - loss: 2.1329 - accuracy: 0.2921 - f1_score: 0.1117 - val_loss: 2.7344 - val_accuracy: 0.1697 - val_f1_score: 0.0570\n",
      "Epoch 100/100\n",
      "7/7 [==============================] - 10s 1s/step - loss: 2.1135 - accuracy: 0.2915 - f1_score: 0.1311 - val_loss: 2.7437 - val_accuracy: 0.1740 - val_f1_score: 0.0555\n"
     ]
    },
    {
     "data": {
      "text/plain": [
       "<tensorflow.python.keras.callbacks.History at 0x7fd4ba148610>"
      ]
     },
     "execution_count": 25,
     "metadata": {
      "tags": []
     },
     "output_type": "execute_result"
    }
   ],
   "source": [
    "log_dir=\"logs\\\\model2\\\\\"\n",
    "tensorboard_callback = tf.keras.callbacks.TensorBoard(log_dir=log_dir, histogram_freq=1)\n",
    "\n",
    "filepath=\"model_save/model2/weights-{epoch:02d}-{val_acc:.4f}.hdf5\"\n",
    "checkpoint = ModelCheckpoint(filepath=filepath, monitor='val_acc', save_best_only=True, mode='auto')\n",
    "\n",
    "# earlystop = EarlyStopping(monitor='val_loss', min_delta=0, patience=2, verbose=1)\n",
    "\n",
    "callbacks_list = [tensorboard_callback]\n",
    "\n",
    "model2.fit(train_padded,\n",
    "           y_train,\n",
    "           batch_size=2048,\n",
    "           epochs=100,\n",
    "           verbose=1,\n",
    "           validation_data=(test_padded, y_test),\n",
    "           callbacks=callbacks_list,\n",
    "          )"
   ]
  },
  {
   "cell_type": "code",
   "execution_count": 26,
   "metadata": {
    "id": "gaFNJtRj6r0R"
   },
   "outputs": [],
   "source": [
    "tf.keras.backend.clear_session()\n",
    "%load_ext tensorboard"
   ]
  },
  {
   "cell_type": "code",
   "execution_count": 29,
   "metadata": {
    "id": "qPs5Y8cc6rxC"
   },
   "outputs": [],
   "source": [
    "# %tensorboard --logdir 'logs\\model2\\'"
   ]
  },
  {
   "cell_type": "code",
   "execution_count": null,
   "metadata": {
    "id": "I-J1Hvrk6rj7"
   },
   "outputs": [],
   "source": []
  }
 ],
 "metadata": {
  "accelerator": "GPU",
  "colab": {
   "collapsed_sections": [],
   "name": "Text Classification Assignment-Copy1.ipynb",
   "provenance": []
  },
  "kernelspec": {
   "display_name": "Python 3",
   "language": "python",
   "name": "python3"
  },
  "language_info": {
   "codemirror_mode": {
    "name": "ipython",
    "version": 3
   },
   "file_extension": ".py",
   "mimetype": "text/x-python",
   "name": "python",
   "nbconvert_exporter": "python",
   "pygments_lexer": "ipython3",
   "version": "3.7.1"
  },
  "latex_envs": {
   "LaTeX_envs_menu_present": true,
   "autoclose": false,
   "autocomplete": true,
   "bibliofile": "biblio.bib",
   "cite_by": "apalike",
   "current_citInitial": 1,
   "eqLabelWithNumbers": true,
   "eqNumInitial": 1,
   "hotkeys": {
    "equation": "Ctrl-E",
    "itemize": "Ctrl-I"
   },
   "labels_anchors": false,
   "latex_user_defs": false,
   "report_style_numbering": false,
   "user_envs_cfg": false
  }
 },
 "nbformat": 4,
 "nbformat_minor": 1
}
