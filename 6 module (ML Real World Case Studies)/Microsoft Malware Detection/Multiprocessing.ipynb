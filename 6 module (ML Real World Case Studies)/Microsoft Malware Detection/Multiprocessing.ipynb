{
 "cells": [
  {
   "cell_type": "code",
   "execution_count": 8,
   "metadata": {},
   "outputs": [
    {
     "name": "stdout",
     "output_type": "stream",
     "text": [
      "Done!\n"
     ]
    }
   ],
   "source": [
    "import multiprocessing\n",
    "\n",
    "def print_cube(num):\n",
    "    print(\"Cube: {}\".format(num * num * num))\n",
    "\n",
    "def print_square(num):\n",
    "\tprint(\"Square: {}\".format(num * num))\n",
    "\n",
    "if __name__ == \"__main__\":\n",
    "\t# creating processes\n",
    "\tp1 = multiprocessing.Process(target=print_square, args=(10, ))\n",
    "\tp2 = multiprocessing.Process(target=print_cube, args=(10, ))\n",
    "\n",
    "\tp1.start()\n",
    "\tp2.start()\n",
    "\n",
    "\t# wait until process 1 is finished\n",
    "\tp1.join()\n",
    "\t# wait until process 2 is finished\n",
    "\tp2.join()\n",
    "\n",
    "\tprint(\"Done!\")\n"
   ]
  },
  {
   "cell_type": "code",
   "execution_count": 3,
   "metadata": {},
   "outputs": [
    {
     "name": "stdout",
     "output_type": "stream",
     "text": [
      "ID of main process: 5616\n",
      "ID of process p1: 6604\n",
      "ID of process p2: 7120\n",
      "Both processes finished execution!\n",
      "Process p1 is alive: False\n",
      "Process p2 is alive: False\n"
     ]
    }
   ],
   "source": [
    "# importing the multiprocessing module\n",
    "import multiprocessing\n",
    "import os\n",
    "\n",
    "def worker1():\n",
    "\t# printing process id\n",
    "\tprint(\"ID of process running worker1: {}\".format(os.getpid()))\n",
    "\n",
    "def worker2():\n",
    "\t# printing process id\n",
    "\tprint(\"ID of process running worker2: {}\".format(os.getpid()))\n",
    "\n",
    "if __name__ == \"__main__\":\n",
    "\t# printing main program process id\n",
    "\tprint(\"ID of main process: {}\".format(os.getpid()))\n",
    "\n",
    "\t# creating processes\n",
    "\tp1 = multiprocessing.Process(target=worker1)\n",
    "\tp2 = multiprocessing.Process(target=worker2)\n",
    "\n",
    "\t# starting processes\n",
    "\tp1.start()\n",
    "\tp2.start()\n",
    "\n",
    "\t# process IDs\n",
    "\tprint(\"ID of process p1: {}\".format(p1.pid))\n",
    "\tprint(\"ID of process p2: {}\".format(p2.pid))\n",
    "\n",
    "\t# wait until processes are finished\n",
    "\tp1.join()\n",
    "\tp2.join()\n",
    "\n",
    "\t# both processes finished\n",
    "\tprint(\"Both processes finished execution!\")\n",
    "\n",
    "\t# check if processes are alive\n",
    "\tprint(\"Process p1 is alive: {}\".format(p1.is_alive()))\n",
    "\tprint(\"Process p2 is alive: {}\".format(p2.is_alive()))\n"
   ]
  },
  {
   "cell_type": "code",
   "execution_count": 12,
   "metadata": {},
   "outputs": [],
   "source": [
    "from multiprocessing import Process\n",
    "def display():\n",
    "    print ('Hi !! I am Python')\n",
    "if __name__ == '__main__':\n",
    "    p = Process(target=display)\n",
    "    p.start()\n",
    "    p.join()"
   ]
  },
  {
   "cell_type": "code",
   "execution_count": 13,
   "metadata": {},
   "outputs": [],
   "source": [
    "def display(my_name):\n",
    "    print ('Hi !!!' + \" \" + my_name)\n",
    "if __name__ == '__main__':\n",
    "    p = Process(target=display, args=('Python',))\n",
    "    p.start()\n",
    "    p.join()"
   ]
  },
  {
   "cell_type": "code",
   "execution_count": null,
   "metadata": {},
   "outputs": [],
   "source": [
    "from multiprocessing import Pool\n",
    "\n",
    "def f(x):\n",
    "    return x*x\n",
    "\n",
    "if __name__ == '__main__':\n",
    "    with Pool(5) as p:\n",
    "        print(p.map(f, [1, 2, 3]))"
   ]
  },
  {
   "cell_type": "code",
   "execution_count": null,
   "metadata": {},
   "outputs": [],
   "source": []
  },
  {
   "cell_type": "code",
   "execution_count": null,
   "metadata": {},
   "outputs": [],
   "source": []
  },
  {
   "cell_type": "code",
   "execution_count": null,
   "metadata": {},
   "outputs": [],
   "source": []
  },
  {
   "cell_type": "code",
   "execution_count": null,
   "metadata": {},
   "outputs": [],
   "source": []
  },
  {
   "cell_type": "code",
   "execution_count": null,
   "metadata": {},
   "outputs": [],
   "source": []
  },
  {
   "cell_type": "code",
   "execution_count": null,
   "metadata": {},
   "outputs": [],
   "source": []
  }
 ],
 "metadata": {
  "kernelspec": {
   "display_name": "Python 3",
   "language": "python",
   "name": "python3"
  },
  "language_info": {
   "codemirror_mode": {
    "name": "ipython",
    "version": 3
   },
   "file_extension": ".py",
   "mimetype": "text/x-python",
   "name": "python",
   "nbconvert_exporter": "python",
   "pygments_lexer": "ipython3",
   "version": "3.7.1"
  },
  "latex_envs": {
   "LaTeX_envs_menu_present": true,
   "autoclose": false,
   "autocomplete": true,
   "bibliofile": "biblio.bib",
   "cite_by": "apalike",
   "current_citInitial": 1,
   "eqLabelWithNumbers": true,
   "eqNumInitial": 1,
   "hotkeys": {
    "equation": "Ctrl-E",
    "itemize": "Ctrl-I"
   },
   "labels_anchors": false,
   "latex_user_defs": false,
   "report_style_numbering": false,
   "user_envs_cfg": false
  }
 },
 "nbformat": 4,
 "nbformat_minor": 2
}
