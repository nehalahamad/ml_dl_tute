{
 "cells": [
  {
   "cell_type": "code",
   "execution_count": null,
   "id": "original-senate",
   "metadata": {},
   "outputs": [],
   "source": [
    "# # closeness centrality\n",
    "# if not os.path.isfile('data/fea_sample/closeness_centrality.p'):\n",
    "#     cc = nx.closeness_centrality(train_graph)\n",
    "#     pickle.dump(dc, open('data/fea_sample/closeness_centrality.p','wb'))\n",
    "# else:\n",
    "#     cc = pickle.load(open('data/fea_sample/closeness_centrality.p','rb'))"
   ]
  }
 ],
 "metadata": {
  "kernelspec": {
   "display_name": "Python 3",
   "language": "python",
   "name": "python3"
  },
  "language_info": {
   "codemirror_mode": {
    "name": "ipython",
    "version": 3
   },
   "file_extension": ".py",
   "mimetype": "text/x-python",
   "name": "python",
   "nbconvert_exporter": "python",
   "pygments_lexer": "ipython3",
   "version": "3.7.1"
  },
  "latex_envs": {
   "LaTeX_envs_menu_present": true,
   "autoclose": false,
   "autocomplete": true,
   "bibliofile": "biblio.bib",
   "cite_by": "apalike",
   "current_citInitial": 1,
   "eqLabelWithNumbers": true,
   "eqNumInitial": 1,
   "hotkeys": {
    "equation": "Ctrl-E",
    "itemize": "Ctrl-I"
   },
   "labels_anchors": false,
   "latex_user_defs": false,
   "report_style_numbering": false,
   "user_envs_cfg": false
  }
 },
 "nbformat": 4,
 "nbformat_minor": 5
}
