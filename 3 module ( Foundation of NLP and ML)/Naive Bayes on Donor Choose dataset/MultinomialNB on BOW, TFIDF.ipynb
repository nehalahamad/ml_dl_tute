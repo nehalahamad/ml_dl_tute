{
 "cells": [
  {
   "cell_type": "markdown",
   "metadata": {
    "colab_type": "text",
    "id": "Dnubs-Nnb3cw"
   },
   "source": [
    "# Assignment 6: Apply NB"
   ]
  },
  {
   "cell_type": "markdown",
   "metadata": {
    "colab_type": "text",
    "id": "RW0zYHb5m_wI"
   },
   "source": [
    "<ol>\n",
    "    <li>Minimum data points need to be considered for people having 4GB RAM is <strong>50k</strong> and for 8GB RAM is <strong>100k</strong></li>\n",
    "    <li>When you are using ramdomsearchcv or gridsearchcv you need not split the data into X_train,X_cv,X_test. As the above methods use kfold. The model will learn better if train data is more so splitting to X_train,X_test will suffice.</li>\n",
    "    <li>If you are writing for loops to tune your model then you need split the data into X_train,X_cv,X_test.</li>\n",
    "    <li>While splitting the data explore stratify parameter. </li>\n",
    "    <li><strong>Apply Multinomial NB on these feature sets</strong></li>\n",
    "        <ul>\n",
    "            <li>Features that need to be considered</li> \n",
    "                <dl>\n",
    "                  <dt>essay</dt>\n",
    "                    <dd>while encoding essay, try to experiment with the max_features and n_grams parameter of vectorizers and see if it increases AUC score.</dd>\n",
    "                  <dt>categorical features</dt>\n",
    "                  <dd> - teacher_prefix</dd>\n",
    "                  <dd> - project_grade_category</dd>\n",
    "                  <dd> - school_state</dd>\n",
    "                  <dd> - clean_categories</dd>\n",
    "                  <dd> - clean_subcategories</dd>\n",
    "                  <dt>numerical features</dt>\n",
    "                  <dd> - price</dd>\n",
    "                  <dd> - teacher_number_of_previously_posted_projects</dd>\n",
    "                  <dd>while encoding the numerical features check <a href='https://imgur.com/ldZA1zg'>this</a> and <a href='https://ac-classroom-production.s3.amazonaws.com/public/COMMENT/Annotation_2020-05-21_225912_0lyZzN8.jpg'>this</a></dd>\n",
    "                </dl>    \n",
    "            <li><font color='red'>Set 1</font>: categorical, numerical features + preprocessed_eassay (BOW)</li>\n",
    "            <li><font color='red'>Set 2</font>: categorical, numerical features + preprocessed_eassay (TFIDF)</li>\n",
    "        </ul>\n",
    "    <li><strong>The hyper paramter tuning(find best alpha:smoothing parameter)</strong>\n",
    "        <ul>\n",
    "    <li>Consider alpha values in range: 10^-5 to 10^2 like [0.00001,0.0005, 0.0001,0.005,0.001,0.05,0.01,0.1,0.5,1,5,10,50,100]</li>\n",
    "    <li>Explore class_prior = [0.5, 0.5] parameter which can be present in MultinomialNB function(go through <a href='https://scikit-learn.org/stable/modules/generated/sklearn.naive_bayes.MultinomialNB.html'>this</a> ) then check how results might change.\n",
    "    <li>Find the best hyper parameter which will give the maximum <a href='https://www.appliedaicourse.com/course/applied-ai-course-online/lessons/receiver-operating-characteristic-curve-roc-curve-and-auc-1/'>AUC</a> value</li>\n",
    "    <li>For hyper parameter tuning using k-fold cross validation(use GridsearchCV or RandomsearchCV)/simple cross validation data (write for loop to iterate over hyper parameter values)</li>\n",
    "    <li>You need to plot the performance of model both on train data and cross validation data for each hyper parameter, like shown in the figure\n",
    "    <img src='https://i.imgur.com/hUv6aEy.jpg' width=300px><dd>-while plotting take log(alpha) on your X-axis so that it will be more readable</dd></li>\n",
    "    <li>Once after you found the best hyper parameter, you need to train your model with it, and find the AUC on test data and plot the ROC curve on both train and test.\n",
    "    <img src='https://imgur.com/q2P65L5.jpg' width=300px></li>\n",
    "    <li>Along with plotting ROC curve, you need to print the <a href='https://www.appliedaicourse.com/course/applied-ai-course-online/lessons/confusion-matrix-tpr-fpr-fnr-tnr-1/'>confusion matrix</a> with predicted and original labels of test data points\n",
    "        <img src='https://i.imgur.com/IdN5Ctv.png' width=300px><dd>-plot the confusion matrix in heatmaps, while plotting the confusion matrix go through the <a href='https://stackoverflow.com/questions/61748441/how-to-fix-the-values-displayed-in-a-confusion-matrix-in-exponential-form-to-nor'>link </a>\n",
    "</dd></li>\n",
    "        </ul>\n",
    "<li>find the top 20 features from either from feature <font color='red'>Set 1</font> or feature <font color='red'>Set 2</font> using values of `feature_log_prob_ ` parameter of `MultinomialNB` \n",
    "(https://scikit-learn.org/stable/modules/generated/sklearn.naive_bayes.MultinomialNB.html) and print <strong>BOTH</strong> positive as well as negative corresponding feature names. <dd> - go through the <a href='https://imgur.com/mWvE7gj'>link </a> </dd>\n",
    "    </li>\n",
    "    <li>You need to summarize the results at the end of the notebook, summarize it in the table format\n",
    "        <img src='http://i.imgur.com/YVpIGGE.jpg' width=400px>\n",
    "    </li>\n",
    "</ol>"
   ]
  },
  {
   "cell_type": "markdown",
   "metadata": {
    "colab_type": "text",
    "id": "inzYCIaib3c3"
   },
   "source": [
    "<h1>2. Naive Bayes </h1>"
   ]
  },
  {
   "cell_type": "markdown",
   "metadata": {
    "colab_type": "text",
    "id": "FYqCIxzFb3c5"
   },
   "source": [
    "## 1.1 Loading Data"
   ]
  },
  {
   "cell_type": "code",
   "execution_count": 1,
   "metadata": {},
   "outputs": [],
   "source": [
    "# import liberaries\n",
    "import numpy as np\n",
    "import pandas as pd\n",
    "import matplotlib.pyplot as plt\n",
    "from tqdm import tqdm\n",
    "import pickle\n",
    "\n",
    "from sklearn.feature_extraction.text import CountVectorizer, TfidfVectorizer\n",
    "\n",
    "from sklearn.model_selection import train_test_split, GridSearchCV, StratifiedKFold\n",
    "\n",
    "from sklearn import metrics\n",
    "\n",
    "from sklearn.naive_bayes import MultinomialNB"
   ]
  },
  {
   "cell_type": "code",
   "execution_count": 2,
   "metadata": {
    "colab": {},
    "colab_type": "code",
    "id": "dA1jknyqb3c_"
   },
   "outputs": [
    {
     "data": {
      "text/html": [
       "<div>\n",
       "<style scoped>\n",
       "    .dataframe tbody tr th:only-of-type {\n",
       "        vertical-align: middle;\n",
       "    }\n",
       "\n",
       "    .dataframe tbody tr th {\n",
       "        vertical-align: top;\n",
       "    }\n",
       "\n",
       "    .dataframe thead th {\n",
       "        text-align: right;\n",
       "    }\n",
       "</style>\n",
       "<table border=\"1\" class=\"dataframe\">\n",
       "  <thead>\n",
       "    <tr style=\"text-align: right;\">\n",
       "      <th></th>\n",
       "      <th>school_state</th>\n",
       "      <th>teacher_prefix</th>\n",
       "      <th>project_grade_category</th>\n",
       "      <th>teacher_number_of_previously_posted_projects</th>\n",
       "      <th>project_is_approved</th>\n",
       "      <th>clean_categories</th>\n",
       "      <th>clean_subcategories</th>\n",
       "      <th>essay</th>\n",
       "      <th>price</th>\n",
       "    </tr>\n",
       "  </thead>\n",
       "  <tbody>\n",
       "    <tr>\n",
       "      <th>0</th>\n",
       "      <td>ca</td>\n",
       "      <td>mrs</td>\n",
       "      <td>grades_prek_2</td>\n",
       "      <td>53</td>\n",
       "      <td>1</td>\n",
       "      <td>math_science</td>\n",
       "      <td>appliedsciences health_lifescience</td>\n",
       "      <td>i fortunate enough use fairy tale stem kits cl...</td>\n",
       "      <td>725.05</td>\n",
       "    </tr>\n",
       "    <tr>\n",
       "      <th>1</th>\n",
       "      <td>ut</td>\n",
       "      <td>ms</td>\n",
       "      <td>grades_3_5</td>\n",
       "      <td>4</td>\n",
       "      <td>1</td>\n",
       "      <td>specialneeds</td>\n",
       "      <td>specialneeds</td>\n",
       "      <td>imagine 8 9 years old you third grade classroo...</td>\n",
       "      <td>213.03</td>\n",
       "    </tr>\n",
       "    <tr>\n",
       "      <th>2</th>\n",
       "      <td>ca</td>\n",
       "      <td>mrs</td>\n",
       "      <td>grades_prek_2</td>\n",
       "      <td>10</td>\n",
       "      <td>1</td>\n",
       "      <td>literacy_language</td>\n",
       "      <td>literacy</td>\n",
       "      <td>having class 24 students comes diverse learner...</td>\n",
       "      <td>329.00</td>\n",
       "    </tr>\n",
       "  </tbody>\n",
       "</table>\n",
       "</div>"
      ],
      "text/plain": [
       "  school_state teacher_prefix project_grade_category  \\\n",
       "0           ca            mrs          grades_prek_2   \n",
       "1           ut             ms             grades_3_5   \n",
       "2           ca            mrs          grades_prek_2   \n",
       "\n",
       "   teacher_number_of_previously_posted_projects  project_is_approved  \\\n",
       "0                                            53                    1   \n",
       "1                                             4                    1   \n",
       "2                                            10                    1   \n",
       "\n",
       "    clean_categories                 clean_subcategories  \\\n",
       "0       math_science  appliedsciences health_lifescience   \n",
       "1       specialneeds                        specialneeds   \n",
       "2  literacy_language                            literacy   \n",
       "\n",
       "                                               essay   price  \n",
       "0  i fortunate enough use fairy tale stem kits cl...  725.05  \n",
       "1  imagine 8 9 years old you third grade classroo...  213.03  \n",
       "2  having class 24 students comes diverse learner...  329.00  "
      ]
     },
     "execution_count": 2,
     "metadata": {},
     "output_type": "execute_result"
    }
   ],
   "source": [
    "# Loading the data\n",
    "data = pd.read_csv('preprocessed_data.csv')\n",
    "data.head(3)"
   ]
  },
  {
   "cell_type": "code",
   "execution_count": 3,
   "metadata": {},
   "outputs": [
    {
     "name": "stdout",
     "output_type": "stream",
     "text": [
      "positive class: 84.85830404217927%\n",
      "negative class: 15.141695957820739%\n"
     ]
    }
   ],
   "source": [
    "# counting number of instances in positive and negative classes.\n",
    "clas = data.project_is_approved.value_counts()\n",
    "print('positive class: {}%'.format(clas[1]/(clas[1]+clas[0])*100))\n",
    "print('negative class: {}%'.format(clas[0]/(clas[1]+clas[0])*100))\n",
    "\n",
    "# Ovservation: Imbalance dataset"
   ]
  },
  {
   "cell_type": "code",
   "execution_count": 4,
   "metadata": {},
   "outputs": [
    {
     "data": {
      "text/html": [
       "<div>\n",
       "<style scoped>\n",
       "    .dataframe tbody tr th:only-of-type {\n",
       "        vertical-align: middle;\n",
       "    }\n",
       "\n",
       "    .dataframe tbody tr th {\n",
       "        vertical-align: top;\n",
       "    }\n",
       "\n",
       "    .dataframe thead th {\n",
       "        text-align: right;\n",
       "    }\n",
       "</style>\n",
       "<table border=\"1\" class=\"dataframe\">\n",
       "  <thead>\n",
       "    <tr style=\"text-align: right;\">\n",
       "      <th></th>\n",
       "      <th>school_state</th>\n",
       "      <th>teacher_prefix</th>\n",
       "      <th>project_grade_category</th>\n",
       "      <th>teacher_number_of_previously_posted_projects</th>\n",
       "      <th>clean_categories</th>\n",
       "      <th>clean_subcategories</th>\n",
       "      <th>essay</th>\n",
       "      <th>price</th>\n",
       "    </tr>\n",
       "  </thead>\n",
       "  <tbody>\n",
       "    <tr>\n",
       "      <th>0</th>\n",
       "      <td>ca</td>\n",
       "      <td>mrs</td>\n",
       "      <td>grades_prek_2</td>\n",
       "      <td>53</td>\n",
       "      <td>math_science</td>\n",
       "      <td>appliedsciences health_lifescience</td>\n",
       "      <td>i fortunate enough use fairy tale stem kits cl...</td>\n",
       "      <td>725.05</td>\n",
       "    </tr>\n",
       "    <tr>\n",
       "      <th>1</th>\n",
       "      <td>ut</td>\n",
       "      <td>ms</td>\n",
       "      <td>grades_3_5</td>\n",
       "      <td>4</td>\n",
       "      <td>specialneeds</td>\n",
       "      <td>specialneeds</td>\n",
       "      <td>imagine 8 9 years old you third grade classroo...</td>\n",
       "      <td>213.03</td>\n",
       "    </tr>\n",
       "    <tr>\n",
       "      <th>2</th>\n",
       "      <td>ca</td>\n",
       "      <td>mrs</td>\n",
       "      <td>grades_prek_2</td>\n",
       "      <td>10</td>\n",
       "      <td>literacy_language</td>\n",
       "      <td>literacy</td>\n",
       "      <td>having class 24 students comes diverse learner...</td>\n",
       "      <td>329.00</td>\n",
       "    </tr>\n",
       "  </tbody>\n",
       "</table>\n",
       "</div>"
      ],
      "text/plain": [
       "  school_state teacher_prefix project_grade_category  \\\n",
       "0           ca            mrs          grades_prek_2   \n",
       "1           ut             ms             grades_3_5   \n",
       "2           ca            mrs          grades_prek_2   \n",
       "\n",
       "   teacher_number_of_previously_posted_projects   clean_categories  \\\n",
       "0                                            53       math_science   \n",
       "1                                             4       specialneeds   \n",
       "2                                            10  literacy_language   \n",
       "\n",
       "                  clean_subcategories  \\\n",
       "0  appliedsciences health_lifescience   \n",
       "1                        specialneeds   \n",
       "2                            literacy   \n",
       "\n",
       "                                               essay   price  \n",
       "0  i fortunate enough use fairy tale stem kits cl...  725.05  \n",
       "1  imagine 8 9 years old you third grade classroo...  213.03  \n",
       "2  having class 24 students comes diverse learner...  329.00  "
      ]
     },
     "execution_count": 4,
     "metadata": {},
     "output_type": "execute_result"
    }
   ],
   "source": [
    "# seperating dependent and independent features\n",
    "y = data['project_is_approved'].values\n",
    "X = data.drop(['project_is_approved'], axis=1)\n",
    "X.head(3)"
   ]
  },
  {
   "cell_type": "markdown",
   "metadata": {
    "colab_type": "text",
    "id": "WtVV13Fyb3dH"
   },
   "source": [
    "<h2>1.2 Splitting data into Train and cross validation(or test): Stratified Sampling</h2>"
   ]
  },
  {
   "cell_type": "code",
   "execution_count": 5,
   "metadata": {},
   "outputs": [
    {
     "name": "stdout",
     "output_type": "stream",
     "text": [
      "(73196, 8) (73196,)\n",
      "(36052, 8) (36052,)\n"
     ]
    }
   ],
   "source": [
    "X_train, X_test, y_train, y_test = train_test_split(X, y, test_size=0.33, stratify=y)\n",
    "\n",
    "print(X_train.shape, y_train.shape)\n",
    "print(X_test.shape, y_test.shape)"
   ]
  },
  {
   "cell_type": "markdown",
   "metadata": {
    "colab_type": "text",
    "id": "EnZwVNULb3dO"
   },
   "source": [
    "<h2>1.3 Make Data Model Ready: encoding eassay, and project_title</h2>"
   ]
  },
  {
   "cell_type": "markdown",
   "metadata": {},
   "source": [
    "## ============== BOW vectorizer =============="
   ]
  },
  {
   "cell_type": "code",
   "execution_count": 6,
   "metadata": {
    "colab": {},
    "colab_type": "code",
    "id": "-SczZKiab3dR"
   },
   "outputs": [
    {
     "name": "stdout",
     "output_type": "stream",
     "text": [
      "After vectorizations\n",
      "(73196, 258538) (73196,)\n",
      "(36052, 258538) (36052,)\n"
     ]
    }
   ],
   "source": [
    "# vectorizer = CountVectorizer(min_df=10, ngram_range=(1,4), max_features=5000)\n",
    "vectorizer = CountVectorizer(min_df=10, ngram_range=(1,4))\n",
    "\n",
    "vectorizer.fit(X_train['essay'].values)\n",
    "\n",
    "# we use the fitted CountVectorizer to convert the text to vector\n",
    "X_train_essay_bow = vectorizer.transform(X_train['essay'].values)\n",
    "X_test_essay_bow = vectorizer.transform(X_test['essay'].values)\n",
    "\n",
    "all_featur_names = []\n",
    "all_featur_names.extend(vectorizer.get_feature_names())\n",
    "\n",
    "print(\"After vectorizations\")\n",
    "print(X_train_essay_bow.shape, y_train.shape)\n",
    "print(X_test_essay_bow.shape, y_test.shape)"
   ]
  },
  {
   "cell_type": "markdown",
   "metadata": {
    "colab_type": "text",
    "id": "bGy86kgHb3dX"
   },
   "source": [
    "<h2>1.4 Make Data Model Ready: encoding categorical, numerical features</h2>"
   ]
  },
  {
   "cell_type": "code",
   "execution_count": 7,
   "metadata": {},
   "outputs": [
    {
     "name": "stdout",
     "output_type": "stream",
     "text": [
      "========== After vectorizing all categorical features and horizontally stacking: ==========\n",
      "(73196, 99)\n",
      "(36052, 99)\n"
     ]
    }
   ],
   "source": [
    "import numpy as np\n",
    "from scipy.sparse import hstack, csr_matrix  #https://docs.scipy.org/doc/scipy/reference/generated/scipy.sparse.csr_matrix.html\n",
    "\n",
    "cat_feat = ['school_state', 'teacher_prefix', 'project_grade_category', 'clean_categories', 'clean_subcategories']\n",
    "\n",
    "X_train_cat_feat_ohe = csr_matrix((len(X_train), 0), dtype=np.int64)\n",
    "X_test_cat_feat_ohe = csr_matrix((len(X_test), 0), dtype=np.int64)\n",
    "\n",
    "for cat in cat_feat:\n",
    "    vectorizer = CountVectorizer()\n",
    "    vectorizer.fit(X_train[cat].values)\n",
    "    X_train_cat_feat_ohe = hstack((X_train_cat_feat_ohe, vectorizer.transform(X_train[cat].values))).tocsr()\n",
    "    X_test_cat_feat_ohe = hstack((X_test_cat_feat_ohe, vectorizer.transform(X_test[cat].values))).tocsr()\n",
    "    \n",
    "    all_featur_names.extend(vectorizer.get_feature_names())\n",
    "\n",
    "print(\"=\"*10, 'After vectorizing all categorical features and horizontally stacking:', \"=\"*10)\n",
    "print(X_train_cat_feat_ohe.shape)\n",
    "print(X_test_cat_feat_ohe.shape)"
   ]
  },
  {
   "cell_type": "code",
   "execution_count": 8,
   "metadata": {},
   "outputs": [
    {
     "name": "stdout",
     "output_type": "stream",
     "text": [
      "========== After normalizing all numerical features and horizontally stacking: ==========\n",
      "(73196, 2)\n",
      "(36052, 2)\n"
     ]
    }
   ],
   "source": [
    "from sklearn.preprocessing import Normalizer\n",
    "\n",
    "num_feat = ['teacher_number_of_previously_posted_projects', 'price']\n",
    "\n",
    "X_train_num_feat_norm = np.empty((len(X_train), 0)) #https://stackoverflow.com/questions/18449136/initialize-empty-matrix-in-python\n",
    "X_test_num_feat_norm = np.empty((len(X_test), 0))\n",
    "\n",
    "for num in num_feat:\n",
    "    normalizer = Normalizer()\n",
    "    normalizer.fit(X_train[num].values.reshape(-1,1))\n",
    "    X_train_num_feat_norm = np.hstack((X_train_num_feat_norm, normalizer.transform(X_train[num].values.reshape(-1,1))))\n",
    "    X_test_num_feat_norm = np.hstack((X_test_num_feat_norm, normalizer.transform(X_test[num].values.reshape(-1,1))))\n",
    "    \n",
    "    all_featur_names.append(num)\n",
    "\n",
    "print(\"=\"*10, 'After normalizing all numerical features and horizontally stacking:', \"=\"*10)\n",
    "print(X_train_num_feat_norm.shape)\n",
    "print(X_test_num_feat_norm.shape)"
   ]
  },
  {
   "cell_type": "markdown",
   "metadata": {},
   "source": [
    "### Merging all text data, categorical data after vectorization and numerical data after normalization "
   ]
  },
  {
   "cell_type": "code",
   "execution_count": 9,
   "metadata": {},
   "outputs": [
    {
     "name": "stdout",
     "output_type": "stream",
     "text": [
      "========== Final Data matrix ==========\n",
      "(73196, 258639) (73196,)\n",
      "(36052, 258639) (36052,)\n"
     ]
    }
   ],
   "source": [
    "X_tr = hstack((X_train_essay_bow, X_train_cat_feat_ohe, X_train_num_feat_norm)).tocsr()\n",
    "X_te = hstack((X_test_essay_bow, X_test_cat_feat_ohe, X_test_num_feat_norm)).tocsr()\n",
    "\n",
    "print(\"=\"*10, \"Final Data matrix\", \"=\"*10)\n",
    "print(X_tr.shape, y_train.shape)\n",
    "print(X_te.shape, y_test.shape)"
   ]
  },
  {
   "cell_type": "markdown",
   "metadata": {
    "colab_type": "text",
    "id": "yYHPYadYb3dh"
   },
   "source": [
    "<h2>1.5 Appling NB on different kind of featurization as mentioned in the instructions</h2>\n",
    "\n",
    "<br>Apply NB on different kind of featurization as mentioned in the instructions\n",
    "<br> For Every model that you work on make sure you do the step 2 and step 3 of instrucations"
   ]
  },
  {
   "cell_type": "code",
   "execution_count": 10,
   "metadata": {},
   "outputs": [
    {
     "data": {
      "text/plain": [
       "GridSearchCV(cv=StratifiedKFold(n_splits=10, random_state=None, shuffle=False),\n",
       "             estimator=MultinomialNB(), n_jobs=-1,\n",
       "             param_grid={'alpha': [0.0001, 0.001, 0.01, 0.1, 1, 10, 20, 50, 100,\n",
       "                                   200]},\n",
       "             return_train_score=True, scoring='roc_auc')"
      ]
     },
     "execution_count": 10,
     "metadata": {},
     "output_type": "execute_result"
    }
   ],
   "source": [
    "nb = MultinomialNB()\n",
    "skf = StratifiedKFold(n_splits=10)\n",
    "params = {'alpha':[0.0001, 0.001, 0.01, 0.1, 1, 10, 20, 50, 100, 200]}\n",
    "\n",
    "gs = GridSearchCV(nb, cv=skf, param_grid=params, scoring='roc_auc', n_jobs=-1, return_train_score=True)\n",
    "gs.fit(X_tr, y_train)"
   ]
  },
  {
   "cell_type": "code",
   "execution_count": 11,
   "metadata": {},
   "outputs": [
    {
     "data": {
      "image/png": "[encoded data removed]",
      "text/plain": [
       "<Figure size 432x288 with 1 Axes>"
      ]
     },
     "metadata": {
      "needs_background": "light"
     },
     "output_type": "display_data"
    }
   ],
   "source": [
    "plt.plot(np.log10(params['alpha']), gs.cv_results_['mean_train_score'], label='train AUC')\n",
    "plt.plot(np.log10(params['alpha']), gs.cv_results_['mean_test_score'], label='cv AUC')\n",
    "\n",
    "plt.title('Train vs CV AUC', fontsize=20, fontfamily='serif')\n",
    "plt.xlabel('alpha : hyperparameter', fontsize=16, fontfamily='serif')\n",
    "plt.ylabel('AUC', fontsize=16, fontfamily='serif')\n",
    "plt.grid()\n",
    "plt.legend();"
   ]
  },
  {
   "cell_type": "code",
   "execution_count": 12,
   "metadata": {},
   "outputs": [
    {
     "name": "stdout",
     "output_type": "stream",
     "text": [
      "Train accuracy:  0.9187596888574312\n",
      "Test accuracy:  0.6971941273401605\n"
     ]
    }
   ],
   "source": [
    "best_alpha = 1\n",
    "\n",
    "clf = MultinomialNB(alpha = best_alpha, class_prior=[0.5, 0.5]).fit(X_tr, y_train)\n",
    "\n",
    "y_pred_train = clf.predict_proba(X_tr)[:, 1]\n",
    "y_pred_test = clf.predict_proba(X_te)[:, 1]\n",
    "\n",
    "accuracy_train = metrics.roc_auc_score(y_train, y_pred_train)\n",
    "accuracy_test = metrics.roc_auc_score(y_test, y_pred_test)\n",
    "\n",
    "print('Train accuracy: ', accuracy_train)\n",
    "print('Test accuracy: ', accuracy_test)"
   ]
  },
  {
   "cell_type": "code",
   "execution_count": 13,
   "metadata": {},
   "outputs": [
    {
     "data": {
      "image/png": "[encoded data removed]",
      "text/plain": [
       "<Figure size 432x288 with 1 Axes>"
      ]
     },
     "metadata": {
      "needs_background": "light"
     },
     "output_type": "display_data"
    }
   ],
   "source": [
    "fpr_train, tpr_train, thresholds_train = metrics.roc_curve(y_train, y_pred_train)\n",
    "\n",
    "fpr_test, tpr_test, thresholds_test = metrics.roc_curve(y_test, y_pred_test)\n",
    "\n",
    "plt.plot(fpr_train, tpr_train, label='Train ROC = {}'.format(accuracy_train))\n",
    "plt.plot(fpr_test, tpr_test, label='Test ROC = {}'.format(accuracy_test))\n",
    "\n",
    "plt.title('ROC Curve', fontsize=20, fontfamily='serif')\n",
    "plt.xlabel('FPR', fontsize=16, fontfamily='serif')\n",
    "plt.ylabel('TPR', fontsize=16, fontfamily='serif')\n",
    "plt.grid()\n",
    "plt.legend()\n",
    "plt.show();"
   ]
  },
  {
   "cell_type": "code",
   "execution_count": 14,
   "metadata": {},
   "outputs": [
    {
     "data": {
      "image/png": "[encoded data removed]",
      "text/plain": [
       "<Figure size 432x288 with 2 Axes>"
      ]
     },
     "metadata": {
      "needs_background": "light"
     },
     "output_type": "display_data"
    }
   ],
   "source": [
    "# https://stackoverflow.com/questions/19233771/sklearn-plot-confusion-matrix-with-labels\n",
    "\n",
    "# cm = metrics.confusion_matrix(y_test, clf.predict(X_te))\n",
    "# cmd = metrics.ConfusionMatrixDisplay(cm, display_labels=['0','1'])\n",
    "\n",
    "metrics.plot_confusion_matrix(clf, X_te, y_test, cmap='Blues');"
   ]
  },
  {
   "cell_type": "code",
   "execution_count": 15,
   "metadata": {},
   "outputs": [
    {
     "name": "stdout",
     "output_type": "stream",
     "text": [
      "========== Top 20 positive features ==========\n",
      "['students', 'school', 'my', 'learning', 'classroom', 'the', 'not', 'they', 'my students', 'learn', 'help', 'price', 'many', 'nannan', 'we', 'need', 'work', 'reading', 'use', 'teacher_number_of_previously_posted_projects']\n",
      "\n",
      " ========== Top 20 negative features ==========\n",
      "['students', 'school', 'learning', 'my', 'classroom', 'not', 'learn', 'they', 'the', 'help', 'my students', 'price', 'nannan', 'many', 'we', 'need', 'work', 'teacher_number_of_previously_posted_projects', 'come', 'love']\n"
     ]
    }
   ],
   "source": [
    "all_featur_names = np.array(all_featur_names)\n",
    "\n",
    "print(10*'=', 'Top 20 positive features', 10*'=')\n",
    "top_20_positive_features = all_featur_names[np.argsort(clf.feature_log_prob_[1])[::-1][:20]].tolist()\n",
    "print(top_20_positive_features)\n",
    "\n",
    "print('\\n', 10*'=', 'Top 20 negative features', 10*'=')\n",
    "top_20_negative_features = all_featur_names[np.argsort(clf.feature_log_prob_[0])[::-1][:20]].tolist()\n",
    "print(top_20_negative_features)"
   ]
  },
  {
   "cell_type": "markdown",
   "metadata": {},
   "source": [
    "# ============== TF-IDF vectorizer =============="
   ]
  },
  {
   "cell_type": "code",
   "execution_count": 16,
   "metadata": {},
   "outputs": [
    {
     "name": "stdout",
     "output_type": "stream",
     "text": [
      "After vectorization, shape to 'essay' feature in train and test:\n",
      "(73196, 50000) (73196,)\n"
     ]
    }
   ],
   "source": [
    "# vectorizing text data\n",
    "vectorizer = TfidfVectorizer(min_df=10, ngram_range=(1,4), max_features=50000)\n",
    "\n",
    "vectorizer.fit(X_train['essay'].values)\n",
    "\n",
    "# we use the fitted CountVectorizer to convert the text to vector\n",
    "X_train_essay_tfidf = vectorizer.transform(X_train['essay'].values)\n",
    "X_test_essay_tfidf = vectorizer.transform(X_test['essay'].values)\n",
    "\n",
    "all_featur_names = []\n",
    "all_featur_names.extend(vectorizer.get_feature_names())\n",
    "\n",
    "print(\"After vectorization, shape to 'essay' feature in train and test:\")\n",
    "print(X_train_essay_tfidf.shape, y_train.shape)"
   ]
  },
  {
   "cell_type": "code",
   "execution_count": 17,
   "metadata": {},
   "outputs": [
    {
     "name": "stdout",
     "output_type": "stream",
     "text": [
      "========== After vectorizing all categorical features and horizontally stacking them: ==========\n",
      "(73196, 99)\n",
      "(36052, 99)\n"
     ]
    }
   ],
   "source": [
    "# vectorizing categorical data\n",
    "from scipy.sparse import hstack, csr_matrix  #https://docs.scipy.org/doc/scipy/reference/generated/scipy.sparse.csr_matrix.html\n",
    "\n",
    "cat_feat = ['school_state', 'teacher_prefix', 'project_grade_category', 'clean_categories', 'clean_subcategories']\n",
    "\n",
    "X_train_cat_feat_ohe = csr_matrix((len(X_train), 0), dtype=np.int64)\n",
    "X_test_cat_feat_ohe = csr_matrix((len(X_test), 0), dtype=np.int64)\n",
    "\n",
    "for cat in cat_feat:\n",
    "    vectorizer = CountVectorizer()\n",
    "    vectorizer.fit(X_train[cat].values)\n",
    "    X_train_cat_feat_ohe = hstack((X_train_cat_feat_ohe, vectorizer.transform(X_train[cat].values))).tocsr()\n",
    "    X_test_cat_feat_ohe = hstack((X_test_cat_feat_ohe, vectorizer.transform(X_test[cat].values))).tocsr()\n",
    "    \n",
    "    all_featur_names.extend(vectorizer.get_feature_names())\n",
    "\n",
    "print(\"=\"*10, 'After vectorizing all categorical features and horizontally stacking them:', \"=\"*10)\n",
    "print(X_train_cat_feat_ohe.shape)\n",
    "print(X_test_cat_feat_ohe.shape)"
   ]
  },
  {
   "cell_type": "code",
   "execution_count": 18,
   "metadata": {},
   "outputs": [
    {
     "name": "stdout",
     "output_type": "stream",
     "text": [
      "========== After normalizing all numerical features and horizontally stacking: ==========\n",
      "(73196, 2)\n",
      "(36052, 2)\n"
     ]
    }
   ],
   "source": [
    "# normalizing numerical data\n",
    "from sklearn.preprocessing import Normalizer\n",
    "\n",
    "num_feat = ['teacher_number_of_previously_posted_projects', 'price']\n",
    "\n",
    "X_train_num_feat_norm = np.empty((len(X_train), 0)) #https://stackoverflow.com/questions/18449136/initialize-empty-matrix-in-python\n",
    "X_test_num_feat_norm = np.empty((len(X_test), 0))\n",
    "\n",
    "for num in num_feat:\n",
    "    normalizer = Normalizer()\n",
    "    normalizer.fit(X_train[num].values.reshape(-1,1))\n",
    "    X_train_num_feat_norm = np.hstack((X_train_num_feat_norm, normalizer.transform(X_train[num].values.reshape(-1,1))))\n",
    "    X_test_num_feat_norm = np.hstack((X_test_num_feat_norm, normalizer.transform(X_test[num].values.reshape(-1,1))))\n",
    "    \n",
    "    all_featur_names.append(num)\n",
    "\n",
    "print(\"=\"*10, 'After normalizing all numerical features and horizontally stacking:', \"=\"*10)\n",
    "print(X_train_num_feat_norm.shape)\n",
    "print(X_test_num_feat_norm.shape)"
   ]
  },
  {
   "cell_type": "code",
   "execution_count": 19,
   "metadata": {},
   "outputs": [
    {
     "name": "stdout",
     "output_type": "stream",
     "text": [
      "========== Final Data matrix ==========\n",
      "(73196, 50101) (73196,)\n",
      "(36052, 50101) (36052,)\n"
     ]
    }
   ],
   "source": [
    "# murging all data after vectorizing and normalizing\n",
    "X_tr = hstack((X_train_essay_tfidf, X_train_cat_feat_ohe, X_train_num_feat_norm)).tocsr()\n",
    "X_te = hstack((X_test_essay_tfidf, X_test_cat_feat_ohe, X_test_num_feat_norm)).tocsr()\n",
    "\n",
    "print(\"=\"*10, \"Final Data matrix\", \"=\"*10)\n",
    "print(X_tr.shape, y_train.shape)\n",
    "print(X_te.shape, y_test.shape)"
   ]
  },
  {
   "cell_type": "code",
   "execution_count": 20,
   "metadata": {},
   "outputs": [
    {
     "name": "stderr",
     "output_type": "stream",
     "text": [
      "C:\\Users\\Nehal\\Anaconda3\\lib\\site-packages\\joblib\\externals\\loky\\process_executor.py:691: UserWarning: A worker stopped while some jobs were given to the executor. This can be caused by a too short worker timeout or by a memory leak.\n",
      "  \"timeout or by a memory leak.\", UserWarning\n"
     ]
    },
    {
     "data": {
      "text/plain": [
       "GridSearchCV(cv=StratifiedKFold(n_splits=10, random_state=None, shuffle=False),\n",
       "             estimator=MultinomialNB(), n_jobs=-1,\n",
       "             param_grid={'alpha': [0.0001, 0.001, 0.01, 0.1, 1, 10, 20, 50, 100,\n",
       "                                   200]},\n",
       "             return_train_score=True, scoring='roc_auc')"
      ]
     },
     "execution_count": 20,
     "metadata": {},
     "output_type": "execute_result"
    }
   ],
   "source": [
    "# applying multinomial naive bayes\n",
    "from sklearn.model_selection import GridSearchCV, StratifiedKFold\n",
    "from sklearn.naive_bayes import MultinomialNB\n",
    "\n",
    "nb = MultinomialNB()\n",
    "skf = StratifiedKFold(n_splits=10)\n",
    "params = {'alpha':[0.0001, 0.001, 0.01, 0.1, 1, 10, 20, 50, 100, 200]}\n",
    "\n",
    "gs = GridSearchCV(nb, cv=skf, param_grid=params, scoring='roc_auc', n_jobs=-1, return_train_score=True)\n",
    "gs.fit(X_tr, y_train)"
   ]
  },
  {
   "cell_type": "code",
   "execution_count": 21,
   "metadata": {},
   "outputs": [
    {
     "data": {
      "image/png": "[encoded data removed]",
      "text/plain": [
       "<Figure size 432x288 with 1 Axes>"
      ]
     },
     "metadata": {
      "needs_background": "light"
     },
     "output_type": "display_data"
    }
   ],
   "source": [
    "plt.plot(np.log10(params['alpha']), gs.cv_results_['mean_train_score'], label='train AUC')\n",
    "plt.plot(np.log10(params['alpha']), gs.cv_results_['mean_test_score'], label='cv AUC')\n",
    "\n",
    "plt.title('Train vs CV AUC', fontsize=20, fontfamily='serif')\n",
    "plt.xlabel('alpha : hyperparameter', fontsize=16, fontfamily='serif')\n",
    "plt.ylabel('AUC', fontsize=16, fontfamily='serif')\n",
    "plt.grid()\n",
    "plt.legend();"
   ]
  },
  {
   "cell_type": "code",
   "execution_count": 22,
   "metadata": {},
   "outputs": [
    {
     "name": "stdout",
     "output_type": "stream",
     "text": [
      "Train accuracy:  0.7986015739877272\n",
      "Test accuracy:  0.6892322873506036\n"
     ]
    }
   ],
   "source": [
    "best_alpha = 0.1\n",
    "\n",
    "clf = MultinomialNB(alpha = best_alpha).fit(X_tr, y_train)\n",
    "\n",
    "y_pred_train = clf.predict_proba(X_tr)[:, 1]\n",
    "y_pred_test = clf.predict_proba(X_te)[:, 1]\n",
    "\n",
    "accuracy_train = metrics.roc_auc_score(y_train, y_pred_train)\n",
    "accuracy_test = metrics.roc_auc_score(y_test, y_pred_test)\n",
    "\n",
    "print('Train accuracy: ', accuracy_train)\n",
    "print('Test accuracy: ', accuracy_test)"
   ]
  },
  {
   "cell_type": "code",
   "execution_count": 23,
   "metadata": {},
   "outputs": [
    {
     "data": {
      "image/png": "[encoded data removed]",
      "text/plain": [
       "<Figure size 432x288 with 1 Axes>"
      ]
     },
     "metadata": {
      "needs_background": "light"
     },
     "output_type": "display_data"
    }
   ],
   "source": [
    "fpr_train, tpr_train, thresholds_train = metrics.roc_curve(y_train, y_pred_train)\n",
    "\n",
    "fpr_test, tpr_test, thresholds_test = metrics.roc_curve(y_test, y_pred_test)\n",
    "\n",
    "plt.plot(fpr_train, tpr_train, label='Train ROC = {}'.format(accuracy_train))\n",
    "plt.plot(fpr_test, tpr_test, label='Test ROC = {}'.format(accuracy_test))\n",
    "\n",
    "plt.title('ROC Curve', fontsize=20, fontfamily='serif')\n",
    "plt.xlabel('FPR', fontsize=16, fontfamily='serif')\n",
    "plt.ylabel('TPR', fontsize=16, fontfamily='serif')\n",
    "plt.grid()\n",
    "plt.legend()\n",
    "plt.show();"
   ]
  },
  {
   "cell_type": "code",
   "execution_count": 24,
   "metadata": {},
   "outputs": [
    {
     "data": {
      "image/png": "[encoded data removed]",
      "text/plain": [
       "<Figure size 432x288 with 2 Axes>"
      ]
     },
     "metadata": {
      "needs_background": "light"
     },
     "output_type": "display_data"
    }
   ],
   "source": [
    "# https://stackoverflow.com/questions/19233771/sklearn-plot-confusion-matrix-with-labels\n",
    "\n",
    "# cm = metrics.confusion_matrix(y_test, clf.predict(X_te))\n",
    "# cmd = metrics.ConfusionMatrixDisplay(cm, display_labels=['0','1'])\n",
    "\n",
    "metrics.plot_confusion_matrix(clf, X_te, y_test, cmap='Greens');"
   ]
  },
  {
   "cell_type": "code",
   "execution_count": 25,
   "metadata": {},
   "outputs": [
    {
     "name": "stdout",
     "output_type": "stream",
     "text": [
      "========== Top 20 positive features ==========\n",
      "['price', 'teacher_number_of_previously_posted_projects', 'mrs', 'literacy_language', 'grades_prek_2', 'math_science', 'ms', 'grades_3_5', 'literacy', 'mathematics', 'literature_writing', 'grades_6_8', 'ca', 'health_sports', 'specialneeds', 'specialneeds', 'appliedlearning', 'grades_9_12', 'appliedsciences', 'mr']\n",
      "\n",
      " ========== Top 20 negative features ==========\n",
      "['price', 'teacher_number_of_previously_posted_projects', 'mrs', 'literacy_language', 'grades_prek_2', 'math_science', 'ms', 'grades_3_5', 'mathematics', 'literacy', 'literature_writing', 'grades_6_8', 'specialneeds', 'specialneeds', 'ca', 'health_sports', 'appliedlearning', 'appliedsciences', 'grades_9_12', 'mr']\n"
     ]
    }
   ],
   "source": [
    "all_featur_names = np.array(all_featur_names)\n",
    "\n",
    "print(10*'=', 'Top 20 positive features', 10*'=')\n",
    "top_20_positive_features = all_featur_names[np.argsort(clf.feature_log_prob_[1])[::-1][:20]].tolist()\n",
    "print(top_20_positive_features)\n",
    "\n",
    "print('\\n', 10*'=', 'Top 20 negative features', 10*'=')\n",
    "top_20_negative_features = all_featur_names[np.argsort(clf.feature_log_prob_[0])[::-1][:20]].tolist()\n",
    "print(top_20_negative_features)"
   ]
  },
  {
   "cell_type": "markdown",
   "metadata": {
    "colab_type": "text",
    "id": "lS9hIHdib3dp"
   },
   "source": [
    "<h1>3. Summary</h1>\n",
    "\n",
    "<table style=\"width:50%\", border=1>\n",
    "  <tr>\n",
    "    <th>Vectorizer</th>\n",
    "    <th>Model</th>\n",
    "    <th>Hyper Parameter</th>\n",
    "    <th>AUC</th>\n",
    "  </tr>\n",
    "  <tr>\n",
    "    <td>BOW</td>\n",
    "    <td>MultinomialNB</td>\n",
    "    <td>10</td>\n",
    "    <td>0.696</td>\n",
    "  </tr>\n",
    "  <tr>\n",
    "    <td>TF-IDF</td>\n",
    "    <td>MultinomialNB</td>\n",
    "    <td>0.1</td>\n",
    "    <td>0.689</td>\n",
    "  </tr>\n",
    "</table>"
   ]
  }
 ],
 "metadata": {
  "colab": {
   "collapsed_sections": [],
   "name": "6_Assignment_NB_Instructions.ipynb",
   "provenance": []
  },
  "kernelspec": {
   "display_name": "Python 3",
   "language": "python",
   "name": "python3"
  },
  "language_info": {
   "codemirror_mode": {
    "name": "ipython",
    "version": 3
   },
   "file_extension": ".py",
   "mimetype": "text/x-python",
   "name": "python",
   "nbconvert_exporter": "python",
   "pygments_lexer": "ipython3",
   "version": "3.7.1"
  }
 },
 "nbformat": 4,
 "nbformat_minor": 1
}
