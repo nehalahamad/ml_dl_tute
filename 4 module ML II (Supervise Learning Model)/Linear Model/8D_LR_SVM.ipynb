{
 "cells": [
  {
   "cell_type": "markdown",
   "metadata": {
    "colab_type": "text",
    "id": "86Tvnj5UblTy"
   },
   "source": [
    "## Task-D: Collinear features and their effect on linear models"
   ]
  },
  {
   "cell_type": "code",
   "execution_count": 222,
   "metadata": {
    "colab": {},
    "colab_type": "code",
    "id": "qn_eOn2EblT3"
   },
   "outputs": [],
   "source": [
    "%matplotlib inline\n",
    "import warnings\n",
    "warnings.filterwarnings(\"ignore\")\n",
    "import pandas as pd\n",
    "import numpy as np\n",
    "from sklearn.datasets import load_iris\n",
    "from sklearn.linear_model import SGDClassifier\n",
    "from sklearn.model_selection import GridSearchCV, StratifiedKFold\n",
    "\n",
    "import seaborn as sns\n",
    "import matplotlib.pyplot as plt"
   ]
  },
  {
   "cell_type": "code",
   "execution_count": 223,
   "metadata": {
    "colab": {},
    "colab_type": "code",
    "id": "VMoYWIayblUB"
   },
   "outputs": [
    {
     "data": {
      "text/plain": [
       "(100, 8)"
      ]
     },
     "execution_count": 223,
     "metadata": {},
     "output_type": "execute_result"
    }
   ],
   "source": [
    "data = pd.read_csv('task_d.csv')\n",
    "data.shape"
   ]
  },
  {
   "cell_type": "code",
   "execution_count": 224,
   "metadata": {
    "colab": {},
    "colab_type": "code",
    "id": "RfStXG4tblUI",
    "outputId": "ddf4eec6-7f53-4d28-914f-23133957d6d5"
   },
   "outputs": [
    {
     "data": {
      "text/html": [
       "<div>\n",
       "<style scoped>\n",
       "    .dataframe tbody tr th:only-of-type {\n",
       "        vertical-align: middle;\n",
       "    }\n",
       "\n",
       "    .dataframe tbody tr th {\n",
       "        vertical-align: top;\n",
       "    }\n",
       "\n",
       "    .dataframe thead th {\n",
       "        text-align: right;\n",
       "    }\n",
       "</style>\n",
       "<table border=\"1\" class=\"dataframe\">\n",
       "  <thead>\n",
       "    <tr style=\"text-align: right;\">\n",
       "      <th></th>\n",
       "      <th>x</th>\n",
       "      <th>y</th>\n",
       "      <th>z</th>\n",
       "      <th>x*x</th>\n",
       "      <th>2*y</th>\n",
       "      <th>2*z+3*x*x</th>\n",
       "      <th>w</th>\n",
       "      <th>target</th>\n",
       "    </tr>\n",
       "  </thead>\n",
       "  <tbody>\n",
       "    <tr>\n",
       "      <th>0</th>\n",
       "      <td>-0.581066</td>\n",
       "      <td>0.841837</td>\n",
       "      <td>-1.012978</td>\n",
       "      <td>-0.604025</td>\n",
       "      <td>0.841837</td>\n",
       "      <td>-0.665927</td>\n",
       "      <td>-0.536277</td>\n",
       "      <td>0</td>\n",
       "    </tr>\n",
       "    <tr>\n",
       "      <th>1</th>\n",
       "      <td>-0.894309</td>\n",
       "      <td>-0.207835</td>\n",
       "      <td>-1.012978</td>\n",
       "      <td>-0.883052</td>\n",
       "      <td>-0.207835</td>\n",
       "      <td>-0.917054</td>\n",
       "      <td>-0.522364</td>\n",
       "      <td>0</td>\n",
       "    </tr>\n",
       "    <tr>\n",
       "      <th>2</th>\n",
       "      <td>-1.207552</td>\n",
       "      <td>0.212034</td>\n",
       "      <td>-1.082312</td>\n",
       "      <td>-1.150918</td>\n",
       "      <td>0.212034</td>\n",
       "      <td>-1.166507</td>\n",
       "      <td>0.205738</td>\n",
       "      <td>0</td>\n",
       "    </tr>\n",
       "    <tr>\n",
       "      <th>3</th>\n",
       "      <td>-1.364174</td>\n",
       "      <td>0.002099</td>\n",
       "      <td>-0.943643</td>\n",
       "      <td>-1.280666</td>\n",
       "      <td>0.002099</td>\n",
       "      <td>-1.266540</td>\n",
       "      <td>-0.665720</td>\n",
       "      <td>0</td>\n",
       "    </tr>\n",
       "    <tr>\n",
       "      <th>4</th>\n",
       "      <td>-0.737687</td>\n",
       "      <td>1.051772</td>\n",
       "      <td>-1.012978</td>\n",
       "      <td>-0.744934</td>\n",
       "      <td>1.051772</td>\n",
       "      <td>-0.792746</td>\n",
       "      <td>-0.735054</td>\n",
       "      <td>0</td>\n",
       "    </tr>\n",
       "  </tbody>\n",
       "</table>\n",
       "</div>"
      ],
      "text/plain": [
       "          x         y         z       x*x       2*y  2*z+3*x*x         w  \\\n",
       "0 -0.581066  0.841837 -1.012978 -0.604025  0.841837  -0.665927 -0.536277   \n",
       "1 -0.894309 -0.207835 -1.012978 -0.883052 -0.207835  -0.917054 -0.522364   \n",
       "2 -1.207552  0.212034 -1.082312 -1.150918  0.212034  -1.166507  0.205738   \n",
       "3 -1.364174  0.002099 -0.943643 -1.280666  0.002099  -1.266540 -0.665720   \n",
       "4 -0.737687  1.051772 -1.012978 -0.744934  1.051772  -0.792746 -0.735054   \n",
       "\n",
       "   target  \n",
       "0       0  \n",
       "1       0  \n",
       "2       0  \n",
       "3       0  \n",
       "4       0  "
      ]
     },
     "execution_count": 224,
     "metadata": {},
     "output_type": "execute_result"
    }
   ],
   "source": [
    "data.head()"
   ]
  },
  {
   "cell_type": "code",
   "execution_count": 225,
   "metadata": {
    "colab": {},
    "colab_type": "code",
    "id": "JIIuomCkblUP"
   },
   "outputs": [],
   "source": [
    "X = data.drop(['target'], axis=1).values\n",
    "Y = data['target'].values"
   ]
  },
  {
   "cell_type": "markdown",
   "metadata": {
    "colab_type": "text",
    "id": "Ydm98u3EblUU"
   },
   "source": [
    "### Doing perturbation test to check the presence of collinearity  \n",
    "\n",
    "#### Task: 1 Logistic Regression\n",
    "<pre>\n",
    "\n",
    "\n",
    "1. <b>Finding the Correlation between the features</b>\n",
    "    a. check the correlation between the features\n",
    "    b. plot heat map of correlation matrix using seaborn heatmap\n",
    "2. <b>Finding the best model for the given data</b>\n",
    "    a. Train Logistic regression on data(X,Y) that we have created in the above cell\n",
    "    b. Find the best hyper prameter alpha with hyper parameter tuning using k-fold cross validation (grid search CV or         \n",
    "    random search CV make sure you choose the alpha in log space)\n",
    "    c. Creat a new Logistic regression with the best alpha\n",
    "    (search for how to get the best hyper parameter value), name the best model as 'best_model'\n",
    "    \n",
    "3. <b>Getting the weights with the original data</b>\n",
    "    a. train the 'best_model' with X, Y\n",
    "    b. Check the accuracy of the model 'best_model_accuracy'\n",
    "    c. Get the weights W using best_model.coef_\n",
    "\n",
    "4. <b>Modifying original data</b>\n",
    "    a. Add a noise(order of 10^-2) to each element of X \n",
    "    and get the new data set X' (X' = X + e)\n",
    "    b. Train the same 'best_model' with data (X', Y)\n",
    "    c. Check the accuracy of the model 'best_model_accuracy_edited'\n",
    "    d. Get the weights W' using best_model.coef_\n",
    "    \n",
    "5. <b> Checking deviations in metric and weights </b>\n",
    "    a. find the difference between 'best_model_accuracy_edited' and 'best_model_accuracy'\n",
    "    b. find the absolute change between each value of W and W' ==> |(W-W')|\n",
    "    c. print the top 4 features which have higher % change in weights \n",
    "    compare to the other feature\n",
    "\n",
    "</pre>\n",
    "\n",
    "#### Task: 2 Linear SVM\n",
    "\n",
    "<pre>\n",
    "1. Do the same steps (2, 3, 4, 5) we have done in the above task 1.\n",
    "</pre>\n",
    "\n",
    "<strong><font color='red'>Do write the observations based on the results you get from the deviations of weights in both Logistic Regression and linear SVM</font></strong>"
   ]
  },
  {
   "cell_type": "code",
   "execution_count": 226,
   "metadata": {},
   "outputs": [
    {
     "data": {
      "text/plain": [
       "array(['x', 'y', 'z', 'x*x', '2*y', '2*z+3*x*x', 'w'], dtype='<U9')"
      ]
     },
     "execution_count": 226,
     "metadata": {},
     "output_type": "execute_result"
    }
   ],
   "source": [
    "features = np.array(data.columns.tolist()[:-1])\n",
    "features"
   ]
  },
  {
   "cell_type": "code",
   "execution_count": 227,
   "metadata": {
    "colab": {},
    "colab_type": "code",
    "id": "Lai8wXU1pmSb"
   },
   "outputs": [
    {
     "data": {
      "image/png": "[encoded data removed]",
      "text/plain": [
       "<Figure size 432x288 with 2 Axes>"
      ]
     },
     "metadata": {
      "needs_background": "light"
     },
     "output_type": "display_data"
    }
   ],
   "source": [
    "sns.heatmap(data.iloc[:, :-1].corr(), annot=True)\n",
    "plt.title('Heatmap representation of Correlation among the features', fontsize=18, fontfamily='serif');"
   ]
  },
  {
   "cell_type": "markdown",
   "metadata": {},
   "source": [
    "## Observation\n",
    "<pre>\n",
    "(1)   x, x*x, 2*z+3*x*x are highly correlated to eachother\n",
    "(2)   y, 2*y are highly correlated to eachother, actually y and 2*y are not two different featues but the are the same features written twice, i.e. y==2*y\n",
    "</pre>"
   ]
  },
  {
   "cell_type": "markdown",
   "metadata": {},
   "source": [
    "# Logistic Regression"
   ]
  },
  {
   "cell_type": "code",
   "execution_count": 228,
   "metadata": {},
   "outputs": [
    {
     "data": {
      "text/plain": [
       "GridSearchCV(cv=StratifiedKFold(n_splits=5, random_state=None, shuffle=False),\n",
       "             estimator=SGDClassifier(loss='log', n_jobs=-1, random_state=40),\n",
       "             n_jobs=-1,\n",
       "             param_grid={'alpha': [0.0001, 0.001, 0.01, 0.1, 1, 10, 20, 50, 100,\n",
       "                                   200]},\n",
       "             return_train_score=True)"
      ]
     },
     "execution_count": 228,
     "metadata": {},
     "output_type": "execute_result"
    }
   ],
   "source": [
    "lr_clf = SGDClassifier(loss='log', n_jobs=-1, random_state=40)\n",
    "skf = StratifiedKFold()\n",
    "params = {'alpha':[0.0001, 0.001, 0.01, 0.1, 1, 10, 20, 50, 100, 200]}\n",
    "\n",
    "gs = GridSearchCV(lr_clf, cv=skf, param_grid=params, n_jobs=-1, return_train_score=True)\n",
    "gs.fit(X, Y)"
   ]
  },
  {
   "cell_type": "code",
   "execution_count": 229,
   "metadata": {},
   "outputs": [
    {
     "data": {
      "image/png": "[encoded data removed]",
      "text/plain": [
       "<Figure size 432x288 with 1 Axes>"
      ]
     },
     "metadata": {
      "needs_background": "light"
     },
     "output_type": "display_data"
    }
   ],
   "source": [
    "plt.plot(np.log10(params['alpha']), gs.cv_results_['mean_train_score'], label='train accuracy')\n",
    "plt.plot(np.log10(params['alpha']), gs.cv_results_['mean_test_score'], label='cv accuracy')\n",
    "\n",
    "plt.title('Logistic Regression: Train vs CV accuracy', fontsize=18, fontfamily='serif')\n",
    "plt.xlabel('log(alpha) : hyperparameter', fontsize=16, fontfamily='serif')\n",
    "plt.ylabel('Accuracy', fontsize=16, fontfamily='serif')\n",
    "plt.grid()\n",
    "plt.legend();"
   ]
  },
  {
   "cell_type": "code",
   "execution_count": 230,
   "metadata": {},
   "outputs": [
    {
     "name": "stdout",
     "output_type": "stream",
     "text": [
      "Train accuracy =  1.0\n",
      "Weight in Logistic Regression before adding noise:\n",
      " [ 0.17128698 -0.18676813  0.25988441  0.16747661 -0.18676813  0.18210691\n",
      "  0.15115333]\n"
     ]
    }
   ],
   "source": [
    "lr_best_alpha = 1\n",
    "\n",
    "lr_best_model = SGDClassifier(loss='log', alpha=lr_best_alpha, random_state=40)\n",
    "lr_best_model.fit(X,Y)\n",
    "y_pred = lr_best_model\n",
    "\n",
    "best_model_accuracy = lr_best_model.score(X,Y)\n",
    "lr_w1 = lr_best_model.coef_[0]\n",
    "\n",
    "print('Train accuracy = ', best_model_accuracy)\n",
    "print(\"Weight in Logistic Regression before adding noise:\\n\", lr_w1)"
   ]
  },
  {
   "cell_type": "code",
   "execution_count": 231,
   "metadata": {},
   "outputs": [
    {
     "name": "stdout",
     "output_type": "stream",
     "text": [
      "Train accuracy =  1.0\n",
      "Weight in Logistic Regression after adding noise:\n",
      " [ 0.17115784 -0.18699788  0.25970141  0.16734567 -0.18699788  0.18197286\n",
      "  0.15096434]\n"
     ]
    }
   ],
   "source": [
    "noise = 0.01\n",
    "X_new = X + noise\n",
    "\n",
    "lr_best_model.fit(X_new, Y)\n",
    "\n",
    "best_model_accuracy_edited = lr_best_model.score(X,Y)\n",
    "lr_w2 = lr_best_model.coef_[0]\n",
    "\n",
    "print('Train accuracy = ', best_model_accuracy)\n",
    "print(\"Weight in Logistic Regression after adding noise:\\n\", lr_w2)"
   ]
  },
  {
   "cell_type": "code",
   "execution_count": 232,
   "metadata": {},
   "outputs": [
    {
     "name": "stdout",
     "output_type": "stream",
     "text": [
      "Change in train accuracy before and after adding the noise:\n",
      " 0.0\n"
     ]
    }
   ],
   "source": [
    "lr_diff_accuracy = best_model_accuracy_edited - best_model_accuracy\n",
    "print('Change in train accuracy before and after adding the noise:\\n', svm_diff_accuracy)"
   ]
  },
  {
   "cell_type": "code",
   "execution_count": 233,
   "metadata": {},
   "outputs": [
    {
     "name": "stdout",
     "output_type": "stream",
     "text": [
      "Absolute change in weights before and after adding the noise:\n",
      " [0.00012914 0.00022975 0.00018301 0.00013094 0.00022975 0.00013404\n",
      " 0.00018899]\n"
     ]
    }
   ],
   "source": [
    "lr_diff_w = np.abs(lr_w1 - lr_w2)\n",
    "print('Absolute change in weights before and after adding the noise:\\n', lr_diff_w)"
   ]
  },
  {
   "cell_type": "code",
   "execution_count": 234,
   "metadata": {},
   "outputs": [
    {
     "name": "stdout",
     "output_type": "stream",
     "text": [
      "Top 4 features which have higher % change in weights are:\n"
     ]
    },
    {
     "data": {
      "text/plain": [
       "['2*z+3*x*x', 'x', 'x*x', 'w']"
      ]
     },
     "execution_count": 234,
     "metadata": {},
     "output_type": "execute_result"
    }
   ],
   "source": [
    "print('Top 4 features which have higher % change in weights are:')\n",
    "features[np.argsort(lr_diff_w/lr_w1*100)[-4::]].tolist()"
   ]
  },
  {
   "cell_type": "markdown",
   "metadata": {},
   "source": [
    "## Observation:\n",
    "<pre>\n",
    "since features  '2*z+3*x*x',  'x'  and  'x*x'  are highly correlated, that is why theese features are in top four features having higher % change in weights\n",
    "</pre>"
   ]
  },
  {
   "cell_type": "markdown",
   "metadata": {},
   "source": [
    "# SVM"
   ]
  },
  {
   "cell_type": "code",
   "execution_count": 236,
   "metadata": {},
   "outputs": [
    {
     "data": {
      "text/plain": [
       "GridSearchCV(cv=StratifiedKFold(n_splits=5, random_state=None, shuffle=False),\n",
       "             estimator=SGDClassifier(n_jobs=-1, random_state=40), n_jobs=-1,\n",
       "             param_grid={'alpha': [0.0001, 0.001, 0.01, 0.1, 1, 10, 20, 50, 100,\n",
       "                                   200]},\n",
       "             return_train_score=True)"
      ]
     },
     "execution_count": 236,
     "metadata": {},
     "output_type": "execute_result"
    }
   ],
   "source": [
    "svm_clf = SGDClassifier(loss='hinge', n_jobs=-1, random_state=40)\n",
    "skf = StratifiedKFold()\n",
    "params = {'alpha':[0.0001, 0.001, 0.01, 0.1, 1, 10, 20, 50, 100, 200]}\n",
    "\n",
    "gs = GridSearchCV(svm_clf, cv=skf, param_grid=params, n_jobs=-1, return_train_score=True)\n",
    "gs.fit(X, Y)"
   ]
  },
  {
   "cell_type": "code",
   "execution_count": 237,
   "metadata": {},
   "outputs": [
    {
     "data": {
      "image/png": "[encoded data removed]",
      "text/plain": [
       "<Figure size 432x288 with 1 Axes>"
      ]
     },
     "metadata": {
      "needs_background": "light"
     },
     "output_type": "display_data"
    }
   ],
   "source": [
    "plt.plot(np.log10(params['alpha']), gs.cv_results_['mean_train_score'], label='train accuracy')\n",
    "plt.plot(np.log10(params['alpha']), gs.cv_results_['mean_test_score'], label='cv accuracy')\n",
    "\n",
    "plt.title('SVM: Train vs CV accuracy', fontsize=18, fontfamily='serif')\n",
    "plt.xlabel('log(alpha) : hyperparameter', fontsize=16, fontfamily='serif')\n",
    "plt.ylabel('Accuracy', fontsize=16, fontfamily='serif')\n",
    "plt.grid()\n",
    "plt.legend();"
   ]
  },
  {
   "cell_type": "code",
   "execution_count": 238,
   "metadata": {},
   "outputs": [
    {
     "name": "stdout",
     "output_type": "stream",
     "text": [
      "Train accuracy =  1.0\n",
      "Weights in SVM before adding noise:\n",
      " [ 0.16820631 -0.2238531   0.35667768  0.16073787 -0.2238531   0.18772804\n",
      "  0.13398037]\n"
     ]
    }
   ],
   "source": [
    "svm_best_alpha = 1\n",
    "\n",
    "svm_best_model = SGDClassifier(loss='hinge', alpha=svm_best_alpha, random_state=40)\n",
    "svm_best_model.fit(X,Y)\n",
    "\n",
    "best_model_accuracy = svm_best_model.score(X,Y)\n",
    "\n",
    "svm_w1 = svm_best_model.coef_[0]\n",
    "\n",
    "print('Train accuracy = ', best_model_accuracy)\n",
    "print(\"Weights in SVM before adding noise:\\n\", svm_w1)"
   ]
  },
  {
   "cell_type": "code",
   "execution_count": 239,
   "metadata": {},
   "outputs": [
    {
     "name": "stdout",
     "output_type": "stream",
     "text": [
      "Train accuracy =  1.0\n",
      "Weights in SVM after adding noise:\n",
      " [ 0.1660081  -0.22344469  0.35550689  0.15879637 -0.22344469  0.18585499\n",
      "  0.13544447]\n"
     ]
    }
   ],
   "source": [
    "noise = 0.01\n",
    "X_new = X + noise\n",
    "\n",
    "svm_best_model.fit(X_new, Y)\n",
    "\n",
    "best_model_accuracy_edited = svm_best_model.score(X_new,Y)\n",
    "svm_w2 = svm_best_model.coef_[0]\n",
    "\n",
    "print('Train accuracy = ', best_model_accuracy_edited)\n",
    "print(\"Weights in SVM after adding noise:\\n\", svm_w2)"
   ]
  },
  {
   "cell_type": "code",
   "execution_count": 240,
   "metadata": {},
   "outputs": [
    {
     "name": "stdout",
     "output_type": "stream",
     "text": [
      "Change in train accuracy before and after adding the noise:\n",
      " 0.0\n"
     ]
    }
   ],
   "source": [
    "svm_diff_accuracy = best_model_accuracy_edited - best_model_accuracy\n",
    "print('Change in train accuracy before and after adding the noise:\\n', svm_diff_accuracy)"
   ]
  },
  {
   "cell_type": "code",
   "execution_count": 241,
   "metadata": {},
   "outputs": [
    {
     "name": "stdout",
     "output_type": "stream",
     "text": [
      "Absolute change in weights before and after adding the noise:\n",
      " [0.00219821 0.00040841 0.00117079 0.0019415  0.00040841 0.00187305\n",
      " 0.0014641 ]\n"
     ]
    }
   ],
   "source": [
    "svm_diff_w = np.abs(svm_w1 - svm_w2)\n",
    "print('Absolute change in weights before and after adding the noise:\\n', svm_diff_w)"
   ]
  },
  {
   "cell_type": "code",
   "execution_count": 242,
   "metadata": {},
   "outputs": [
    {
     "name": "stdout",
     "output_type": "stream",
     "text": [
      "Top 4 features which have higher % change in weights are:\n"
     ]
    },
    {
     "data": {
      "text/plain": [
       "['2*z+3*x*x', 'w', 'x*x', 'x']"
      ]
     },
     "execution_count": 242,
     "metadata": {},
     "output_type": "execute_result"
    }
   ],
   "source": [
    "print('Top 4 features which have higher % change in weights are:')\n",
    "features[np.argsort(svm_diff_w/svm_w1*100)[-4::]].tolist()"
   ]
  },
  {
   "cell_type": "markdown",
   "metadata": {},
   "source": [
    "## Observation:\n",
    "<pre>\n",
    "since features '2*z+3*x*x', 'x' and 'x*x' are highly correlated, that is why theese features are in top four features having higher % change in weights, maximum % change is found to be in feature 'x'.\n",
    "</pre>"
   ]
  }
 ],
 "metadata": {
  "colab": {
   "name": "8D_LR_SVM.ipynb",
   "provenance": []
  },
  "kernelspec": {
   "display_name": "Python 3",
   "language": "python",
   "name": "python3"
  },
  "language_info": {
   "codemirror_mode": {
    "name": "ipython",
    "version": 3
   },
   "file_extension": ".py",
   "mimetype": "text/x-python",
   "name": "python",
   "nbconvert_exporter": "python",
   "pygments_lexer": "ipython3",
   "version": "3.7.1"
  }
 },
 "nbformat": 4,
 "nbformat_minor": 1
}
