{
 "cells": [
  {
   "cell_type": "markdown",
   "metadata": {
    "colab_type": "text",
    "id": "fct-NTjcYNZ0"
   },
   "source": [
    "# Empirical bootstrap based Confidence Interval"
   ]
  },
  {
   "cell_type": "code",
   "execution_count": 2,
   "metadata": {
    "colab": {},
    "colab_type": "code",
    "id": "1Z7NCqEcYNZ4",
    "outputId": "04b1a8a4-89e4-4edb-cc7b-504947fc3116"
   },
   "outputs": [],
   "source": [
    "import numpy as np\n",
    "from pandas import read_csv\n",
    "from sklearn.utils import resample\n",
    "from sklearn.metrics import accuracy_score\n",
    "from matplotlib import pyplot"
   ]
  },
  {
   "cell_type": "code",
   "execution_count": 8,
   "metadata": {
    "colab": {},
    "colab_type": "code",
    "id": "1Z7NCqEcYNZ4",
    "outputId": "04b1a8a4-89e4-4edb-cc7b-504947fc3116"
   },
   "outputs": [
    {
     "data": {
      "image/png": "[encoded data removed]",
      "text/plain": [
       "<Figure size 432x288 with 1 Axes>"
      ]
     },
     "metadata": {
      "needs_background": "light"
     },
     "output_type": "display_data"
    },
    {
     "name": "stdout",
     "output_type": "stream",
     "text": [
      "95.0 confidence interval 162.0 and 176.0\n"
     ]
    }
   ],
   "source": [
    "# load dataset\n",
    "x = numpy.array([180,162,158,172,168,150,171,183,165,176])\n",
    "\n",
    "# configure bootstrap\n",
    "n_iterations = 1000\n",
    "n_size = int(len(x))\n",
    "\n",
    "# run bootstrap\n",
    "medians = list()\n",
    "for i in range(n_iterations):\n",
    "    # prepare train and test sets\n",
    "    s = resample(x, n_samples=n_size);\n",
    "    m = np.median(s);\n",
    "    #print(m)\n",
    "    medians.append(m)\n",
    "\n",
    "# plot scores\n",
    "pyplot.hist(medians)\n",
    "pyplot.show()\n",
    "\n",
    "# confidence intervals\n",
    "alpha = 0.95\n",
    "p = ((1.0-alpha)/2.0) * 100\n",
    "lower =  numpy.percentile(medians, p)\n",
    "\n",
    "p = (alpha+((1.0-alpha)/2.0)) * 100\n",
    "upper =  numpy.percentile(medians, p)\n",
    "\n",
    "print('%.1f confidence interval %.1f and %.1f' % (alpha*100, lower, upper))"
   ]
  },
  {
   "cell_type": "code",
   "execution_count": 0,
   "metadata": {
    "colab": {},
    "colab_type": "code",
    "id": "0GdCL0KzYNZ_"
   },
   "outputs": [],
   "source": []
  }
 ],
 "metadata": {
  "colab": {
   "name": "12.23.ipynb",
   "provenance": [],
   "version": "0.3.2"
  },
  "kernelspec": {
   "display_name": "Python 3",
   "language": "python",
   "name": "python3"
  },
  "language_info": {
   "codemirror_mode": {
    "name": "ipython",
    "version": 3
   },
   "file_extension": ".py",
   "mimetype": "text/x-python",
   "name": "python",
   "nbconvert_exporter": "python",
   "pygments_lexer": "ipython3",
   "version": "3.7.1"
  }
 },
 "nbformat": 4,
 "nbformat_minor": 1
}
