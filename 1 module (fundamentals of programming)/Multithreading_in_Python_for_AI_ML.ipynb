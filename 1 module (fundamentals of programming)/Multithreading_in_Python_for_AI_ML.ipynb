{
 "cells": [
  {
   "cell_type": "markdown",
   "metadata": {
    "colab": {},
    "colab_type": "code",
    "id": "BiIrUwlc5vxg"
   },
   "source": [
    "By AppliedAICourse.com"
   ]
  },
  {
   "cell_type": "code",
   "execution_count": 4,
   "metadata": {
    "colab": {
     "base_uri": "https://localhost:8080/",
     "height": 448
    },
    "colab_type": "code",
    "id": "BWtzAAvL6DOK",
    "outputId": "87d08196-2e5f-4ca0-fc5e-3a807addff14"
   },
   "outputs": [
    {
     "name": "stderr",
     "output_type": "stream",
     "text": [
      "'lscpu' is not recognized as an internal or external command,\n",
      "operable program or batch file.\n"
     ]
    }
   ],
   "source": [
    "# Number of CPUs and Threads in Linux.\n",
    "# Refer: https://linux.die.net/man/1/lscpu\n",
    "!lscpu"
   ]
  },
  {
   "cell_type": "code",
   "execution_count": 5,
   "metadata": {},
   "outputs": [
    {
     "name": "stderr",
     "output_type": "stream",
     "text": [
      "'system_profiler' is not recognized as an internal or external command,\n",
      "operable program or batch file.\n"
     ]
    }
   ],
   "source": [
    "# for Mac\n",
    "!system_profiler SPHardwareDataType; "
   ]
  },
  {
   "cell_type": "markdown",
   "metadata": {
    "colab_type": "text",
    "id": "d6rvY6mU9Ngm"
   },
   "source": [
    "## Mean of 100 Million observations"
   ]
  },
  {
   "cell_type": "code",
   "execution_count": 6,
   "metadata": {
    "colab": {
     "base_uri": "https://localhost:8080/",
     "height": 34
    },
    "colab_type": "code",
    "id": "3KofCQBP6zbT",
    "outputId": "53b60bdb-2155-4c3c-c667-b749d19ae9ae"
   },
   "outputs": [
    {
     "name": "stdout",
     "output_type": "stream",
     "text": [
      "(100000000,)\n"
     ]
    }
   ],
   "source": [
    "# Generate random 100MM data points \n",
    "import numpy as np\n",
    "n =100000000\n",
    "d = np.random.rand(n)\n",
    "print(d.shape)"
   ]
  },
  {
   "cell_type": "code",
   "execution_count": 8,
   "metadata": {
    "colab": {
     "base_uri": "https://localhost:8080/",
     "height": 51
    },
    "colab_type": "code",
    "id": "okpN0WRo9qYk",
    "outputId": "e6f38c2a-bab8-4253-9810-e7e9d93132f7"
   },
   "outputs": [
    {
     "name": "stdout",
     "output_type": "stream",
     "text": [
      "41.727845191955566\n",
      "0.5000068503162394\n"
     ]
    }
   ],
   "source": [
    "import time\n",
    "def mean(d):\n",
    "#     Sum using for loops. We can use inbuilt NumPy Sum opeartion for better speed.\n",
    "    sum = 0\n",
    "    n = d.size\n",
    "    for i in range(n):\n",
    "        sum +=d[i]\n",
    "    return sum/n\n",
    "\n",
    "#Time the execution\n",
    "start_time = time.time()\n",
    "m = mean(d)\n",
    "end_time = time.time()\n",
    "\n",
    "print (end_time-start_time)\n",
    "print(m)"
   ]
  },
  {
   "cell_type": "markdown",
   "metadata": {
    "colab_type": "text",
    "id": "vic-5rdM-j27"
   },
   "source": [
    "### Multi-Processing Code"
   ]
  },
  {
   "cell_type": "code",
   "execution_count": 10,
   "metadata": {
    "colab": {
     "base_uri": "https://localhost:8080/",
     "height": 34
    },
    "colab_type": "code",
    "id": "f4m9X5dw-Pvh",
    "outputId": "1e7f4eb5-2063-41b8-f475-4df24e4a0a88"
   },
   "outputs": [
    {
     "name": "stdout",
     "output_type": "stream",
     "text": [
      "0.1887812614440918\n",
      "0.0\n"
     ]
    }
   ],
   "source": [
    "#Refer: https://docs.python.org/3/library/multiprocessing.html\n",
    "from multiprocessing import Process, Queue\n",
    "import math\n",
    "\n",
    "def mean_MP(s, e, q ):\n",
    "\n",
    "  #Sum using for loops. We can use inbuilt NumPy Sum opeartion for better speed.\n",
    "  sum = 0\n",
    "  for i in range(s,e+1):\n",
    "    sum +=d[i]\n",
    "\n",
    "  #Mean\n",
    "  mean = sum/(e-s+1)\n",
    "  q.put(mean)\n",
    "  return \n",
    "\n",
    "n1 = math.floor(n/2)\n",
    "\n",
    "q = Queue() #Queues are thread and process safe. For communicating between processes and threads.\n",
    "\n",
    "p1 = Process(target=mean_MP, args=(0, n1,q )) \n",
    "p2 = Process(target=mean_MP, args=(n1+1,n-1, q)) \n",
    "\n",
    "\n",
    "#Time the execution\n",
    "start_time = time.time()\n",
    "\n",
    "p1.start()\n",
    "p2.start()\n",
    "\n",
    "p1.join() # Wait till p1 finishes\n",
    "p2.join() \n",
    "\n",
    "m=0;\n",
    "while not q.empty():\n",
    "     m += q.get()\n",
    "\n",
    "m /= 2;\n",
    "    \n",
    "end_time = time.time()\n",
    "print (end_time-start_time)\n",
    "print(m)\n"
   ]
  },
  {
   "cell_type": "markdown",
   "metadata": {},
   "source": [
    "### Multi-Threaded Code"
   ]
  },
  {
   "cell_type": "code",
   "execution_count": 17,
   "metadata": {},
   "outputs": [
    {
     "name": "stdout",
     "output_type": "stream",
     "text": [
      "19.538660049438477\n",
      "0.4999477716457993\n"
     ]
    }
   ],
   "source": [
    "#Refer: https://docs.python.org/3/library/threading.html\n",
    "from threading import Thread\n",
    "\n",
    "\n",
    "means = [0,0];\n",
    "\n",
    "def mean_MT(s, e, threadNum ):\n",
    "\n",
    "  #Sum using for loops. We can use inbuilt NumPy Sum opeartion for better speed.\n",
    "  sum = 0\n",
    "  for i in range(s,e+1):\n",
    "    sum +=d[i]\n",
    "\n",
    "  #Mean\n",
    "  mean = sum/(e-s+1)\n",
    "  means[threadNum] = mean; # means is a shared varibale between the threads\n",
    "\n",
    "  return \n",
    "\n",
    "n1 = math.floor(n/2)\n",
    "\n",
    "t1 = Thread(target=mean_MT, args=(0, n1,0 ))  # Third apram is the thread number\n",
    "t2 = Thread(target=mean_MT, args=(n1+1,n-1,1)) \n",
    "\n",
    "#Time the execution\n",
    "start_time = time.time()\n",
    "\n",
    "t1.start()\n",
    "t2.start()\n",
    "\n",
    "t1.join() # Wait till t1 finishes\n",
    "t2.join() \n",
    "\n",
    "m = (means[0]+means[1])/2\n",
    "    \n",
    "end_time = time.time()\n",
    "print (end_time-start_time)\n",
    "print(m)\n",
    "\n"
   ]
  },
  {
   "cell_type": "markdown",
   "metadata": {},
   "source": [
    "## Joblib\n"
   ]
  },
  {
   "cell_type": "markdown",
   "metadata": {},
   "source": [
    "### Caching of function output values"
   ]
  },
  {
   "cell_type": "code",
   "execution_count": 19,
   "metadata": {},
   "outputs": [
    {
     "name": "stdout",
     "output_type": "stream",
     "text": [
      "________________________________________________________________________________\n",
      "[Memory] Calling square...\n",
      "square(array([[0., 0., 1.],\n",
      "       [1., 1., 1.],\n",
      "       [4., 2., 1.]]))\n",
      "___________________________________________________________square - 0.0s, 0.0min\n"
     ]
    }
   ],
   "source": [
    "\n",
    "#Transparent and fast disk-caching of output value\n",
    "# Refer: https://joblib.readthedocs.io/en/latest/\n",
    "from joblib import Memory\n",
    "cachedir = './'\n",
    "mem = Memory(cachedir)\n",
    "\n",
    "import numpy as np\n",
    "a = np.vander(np.arange(3)).astype(np.float)\n",
    "square = mem.cache(np.square)\n",
    "b = square(a)                                   "
   ]
  },
  {
   "cell_type": "code",
   "execution_count": 20,
   "metadata": {},
   "outputs": [],
   "source": [
    "c = square(a)\n",
    "# The above call did not trigger an evaluation"
   ]
  },
  {
   "cell_type": "markdown",
   "metadata": {},
   "source": [
    "### Simple Parallel programming for Loops"
   ]
  },
  {
   "cell_type": "code",
   "execution_count": 12,
   "metadata": {},
   "outputs": [
    {
     "name": "stdout",
     "output_type": "stream",
     "text": [
      "43.22844648361206\n"
     ]
    }
   ],
   "source": [
    "# Refer: https://joblib.readthedocs.io/en/latest/generated/joblib.Parallel.html\n",
    "import time\n",
    "from math import sqrt # inbuilt fucntion\n",
    "\n",
    "def f(i):\n",
    "    # some computations  that take time\n",
    "    x=10000\n",
    "    p =1;\n",
    "    for j in range(x):\n",
    "        for k in range(j):\n",
    "            p *= k\n",
    "    return sqrt(i ** 2)\n",
    "# --------------------------------------\n",
    "# Find sqrt of first n numbers\n",
    "n=10\n",
    "start_time = time.time()\n",
    "for i in range(n):\n",
    "    f(i)\n",
    "end_time = time.time()\n",
    "print (end_time-start_time)"
   ]
  },
  {
   "cell_type": "code",
   "execution_count": 18,
   "metadata": {},
   "outputs": [
    {
     "name": "stdout",
     "output_type": "stream",
     "text": [
      "[0.0, 1.0, 2.0, 3.0, 4.0, 5.0, 6.0, 7.0, 8.0, 9.0]\n",
      "41.712177991867065\n"
     ]
    }
   ],
   "source": [
    "from joblib import Parallel, delayed\n",
    "\n",
    "start_time = time.time()\n",
    "\n",
    "a = Parallel(n_jobs=2)(delayed(f)(i) for i in range(n)) \n",
    "print(a)\n",
    "# Why we need dealyed(): https://stackoverflow.com/questions/42220458/what-does-the-delayed-function-do-when-used-with-joblib-in-python\n",
    "\n",
    "end_time = time.time()\n",
    "print (end_time-start_time)"
   ]
  },
  {
   "cell_type": "code",
   "execution_count": 19,
   "metadata": {},
   "outputs": [
    {
     "name": "stdout",
     "output_type": "stream",
     "text": [
      "46.12398409843445\n"
     ]
    }
   ],
   "source": [
    "# Multi threading: GIL is an issue\n",
    "start_time = time.time()\n",
    "\n",
    "a = Parallel(n_jobs=2,prefer=\"threads\")(delayed(f)(i ** 2) for i in range(n))\n",
    "\n",
    "end_time = time.time()\n",
    "print (end_time-start_time)"
   ]
  },
  {
   "cell_type": "code",
   "execution_count": 20,
   "metadata": {},
   "outputs": [
    {
     "name": "stdout",
     "output_type": "stream",
     "text": [
      "23.46148705482483\n"
     ]
    }
   ],
   "source": [
    "\n",
    "# 6 jobs\n",
    "\n",
    "from joblib import Parallel, delayed\n",
    "\n",
    "start_time = time.time()\n",
    "\n",
    "a = Parallel(n_jobs=6)(delayed(f)(i ** 2) for i in range(n)) \n",
    "\n",
    "# Why we need dealyed(): https://stackoverflow.com/questions/42220458/what-does-the-delayed-function-do-when-used-with-joblib-in-python\n",
    "\n",
    "end_time = time.time()\n",
    "print (end_time-start_time)"
   ]
  },
  {
   "cell_type": "code",
   "execution_count": null,
   "metadata": {},
   "outputs": [],
   "source": []
  },
  {
   "cell_type": "code",
   "execution_count": null,
   "metadata": {},
   "outputs": [],
   "source": []
  },
  {
   "cell_type": "code",
   "execution_count": null,
   "metadata": {},
   "outputs": [],
   "source": []
  },
  {
   "cell_type": "code",
   "execution_count": null,
   "metadata": {},
   "outputs": [],
   "source": []
  },
  {
   "cell_type": "code",
   "execution_count": null,
   "metadata": {},
   "outputs": [],
   "source": []
  },
  {
   "cell_type": "code",
   "execution_count": 22,
   "metadata": {},
   "outputs": [],
   "source": [
    "import nltk\n",
    "import networkx as nx\n",
    "import itertools\n",
    "from nltk.stem import PorterStemmer\n",
    "from sklearn.feature_extraction.text import TfidfVectorizer\n",
    "import numpy as np \n",
    "import pandas as pd "
   ]
  },
  {
   "cell_type": "code",
   "execution_count": 30,
   "metadata": {},
   "outputs": [
    {
     "name": "stdout",
     "output_type": "stream",
     "text": [
      "the wander earth, describ as china’ first big-budget scienc fiction thriller, quietli made it onto screen at amc theater in north america thi weekend, and it show a new side of chines filmmak — one focus toward futurist spectacl rather than china’ tradit grand, massiv histor epics.\n",
      "At the same time, the wander earth feel like a throwback to a few familiar era of american filmmaking.\n",
      "while the film’ cast, setting, and tone are all chinese, longtim scienc fiction fan are go to see a lot on the screen that remind them of other movies, for better or worse.\n"
     ]
    }
   ],
   "source": [
    "st = PorterStemmer()\n",
    "\n",
    "text = \"The Wandering Earth, described as China’s first big-budget science fiction thriller, quietly made it onto screens at AMC theaters in North America this weekend, and it shows a new side of Chinese filmmaking — one focused toward futuristic spectacles rather than China’s traditionally grand, massive historical epics. At the same time, The Wandering Earth feels like a throwback to a few familiar eras of American filmmaking. While the film’s cast, setting, and tone are all Chinese, longtime science fiction fans are going to see a lot on the screen that reminds them of other movies, for better or worse.\"\n",
    "sen = nltk.tokenize.sent_tokenize(text)\n",
    "output = []\n",
    "for sentence in sen:\n",
    "    output.append(\" \".join([st.stem(i) for i in sentence.split()]))\n",
    "for item in output:\n",
    "    print(item)"
   ]
  },
  {
   "cell_type": "code",
   "execution_count": 34,
   "metadata": {},
   "outputs": [
    {
     "data": {
      "text/html": [
       "<div>\n",
       "<style scoped>\n",
       "    .dataframe tbody tr th:only-of-type {\n",
       "        vertical-align: middle;\n",
       "    }\n",
       "\n",
       "    .dataframe tbody tr th {\n",
       "        vertical-align: top;\n",
       "    }\n",
       "\n",
       "    .dataframe thead th {\n",
       "        text-align: right;\n",
       "    }\n",
       "</style>\n",
       "<table border=\"1\" class=\"dataframe\">\n",
       "  <thead>\n",
       "    <tr style=\"text-align: right;\">\n",
       "      <th></th>\n",
       "      <th>sentences</th>\n",
       "    </tr>\n",
       "  </thead>\n",
       "  <tbody>\n",
       "    <tr>\n",
       "      <th>0</th>\n",
       "      <td>the wander earth, describ as china’ first big-...</td>\n",
       "    </tr>\n",
       "    <tr>\n",
       "      <th>1</th>\n",
       "      <td>At the same time, the wander earth feel like a...</td>\n",
       "    </tr>\n",
       "    <tr>\n",
       "      <th>2</th>\n",
       "      <td>while the film’ cast, setting, and tone are al...</td>\n",
       "    </tr>\n",
       "  </tbody>\n",
       "</table>\n",
       "</div>"
      ],
      "text/plain": [
       "                                           sentences\n",
       "0  the wander earth, describ as china’ first big-...\n",
       "1  At the same time, the wander earth feel like a...\n",
       "2  while the film’ cast, setting, and tone are al..."
      ]
     },
     "execution_count": 34,
     "metadata": {},
     "output_type": "execute_result"
    }
   ],
   "source": [
    "df = pd.DataFrame(output, columns=['sentences'])\n",
    "df"
   ]
  },
  {
   "cell_type": "code",
   "execution_count": 43,
   "metadata": {},
   "outputs": [
    {
     "data": {
      "text/html": [
       "<div>\n",
       "<style scoped>\n",
       "    .dataframe tbody tr th:only-of-type {\n",
       "        vertical-align: middle;\n",
       "    }\n",
       "\n",
       "    .dataframe tbody tr th {\n",
       "        vertical-align: top;\n",
       "    }\n",
       "\n",
       "    .dataframe thead th {\n",
       "        text-align: right;\n",
       "    }\n",
       "</style>\n",
       "<table border=\"1\" class=\"dataframe\">\n",
       "  <thead>\n",
       "    <tr style=\"text-align: right;\">\n",
       "      <th></th>\n",
       "      <th>sentences</th>\n",
       "      <th>sentences_Cat</th>\n",
       "    </tr>\n",
       "  </thead>\n",
       "  <tbody>\n",
       "    <tr>\n",
       "      <th>0</th>\n",
       "      <td>the wander earth, describ as china’ first big-...</td>\n",
       "      <td>0</td>\n",
       "    </tr>\n",
       "    <tr>\n",
       "      <th>1</th>\n",
       "      <td>At the same time, the wander earth feel like a...</td>\n",
       "      <td>1</td>\n",
       "    </tr>\n",
       "    <tr>\n",
       "      <th>2</th>\n",
       "      <td>while the film’ cast, setting, and tone are al...</td>\n",
       "      <td>2</td>\n",
       "    </tr>\n",
       "  </tbody>\n",
       "</table>\n",
       "</div>"
      ],
      "text/plain": [
       "                                           sentences  sentences_Cat\n",
       "0  the wander earth, describ as china’ first big-...              0\n",
       "1  At the same time, the wander earth feel like a...              1\n",
       "2  while the film’ cast, setting, and tone are al...              2"
      ]
     },
     "execution_count": 43,
     "metadata": {},
     "output_type": "execute_result"
    }
   ],
   "source": [
    "from sklearn import preprocessing \n",
    "# ------------label_encoder object knows how to understand word labels. \n",
    "label_encoder = preprocessing.LabelEncoder() \n",
    "# ------------Assigning numerical values and storing in another column\n",
    "df['sentences_Cat'] = sorted(label_encoder.fit_transform(df['sentences']))\n",
    "# df['sentences_Cat'] = label_encoder.fit_transform(df['sentences'])\n",
    "df"
   ]
  },
  {
   "cell_type": "code",
   "execution_count": 44,
   "metadata": {},
   "outputs": [
    {
     "name": "stdout",
     "output_type": "stream",
     "text": [
      "[[0.         0.08440483 0.06838615]\n",
      " [0.08440483 0.         0.08126475]\n",
      " [0.06838615 0.08126475 0.        ]]\n"
     ]
    }
   ],
   "source": [
    "from sklearn.metrics.pairwise import cosine_similarity\n",
    "\n",
    "sim_mat = np.zeros([len(df.sentences), len(df.sentences)])\n",
    "vectorizer = TfidfVectorizer(norm = False, smooth_idf = False)\n",
    "sentence_vectors = vectorizer.fit_transform(df['sentences'])\n",
    "for i in range(len(df.sentences)):\n",
    "    for j in range(len(df.sentences)):\n",
    "        if i != j:\n",
    "            sim_mat[i][j] = cosine_similarity(sentence_vectors[i], sentence_vectors[j])[0,0]\n",
    "print(sim_mat)"
   ]
  },
  {
   "cell_type": "code",
   "execution_count": 111,
   "metadata": {},
   "outputs": [
    {
     "data": {
      "image/png": "[encoded data removed]",
      "text/plain": [
       "<Figure size 432x288 with 1 Axes>"
      ]
     },
     "metadata": {},
     "output_type": "display_data"
    }
   ],
   "source": [
    "def build_graph(nodes):\n",
    "    gr = nx.Graph()  # initialize an undirected graph\n",
    "    gr = nx.from_numpy_matrix(sim_mat, create_using=nx.Graph)\n",
    "    gr.add_nodes_from(nodes)\n",
    "    \n",
    "    nodePairs = list(itertools.combinations(nodes, 2))\n",
    "    \n",
    "    # -----------add edges to the graph \n",
    "    for pair in nodePairs:\n",
    "        gr.add_edge(pair[0], pair[1])\n",
    "        \n",
    "    #-----------plot(gr, bbox=(500,500),margin=30, vertex_label = sentence)\n",
    "    nx.draw(gr, width=1, linewidths=1,node_size=1500, labels={node: node for node in gr.nodes()})\n",
    "    \n",
    "    labels = nx.get_edge_attributes(gr, \"weight\")   #Get weights of each edge and assign to labels\n",
    "    nx.draw_networkx_edge_labels(gr, pos=nx.spring_layout(gr), edge_labels=labels) #-Draw edge labels using layout and list of labels\n",
    "    \n",
    "    return gr\n",
    "\n",
    "graph = build_graph(list(df.sentences_Cat))"
   ]
  }
 ],
 "metadata": {
  "colab": {
   "collapsed_sections": [],
   "name": "Multithreading in Python for AI/ML.ipynb",
   "provenance": []
  },
  "kernelspec": {
   "display_name": "Python 3",
   "language": "python",
   "name": "python3"
  },
  "language_info": {
   "codemirror_mode": {
    "name": "ipython",
    "version": 3
   },
   "file_extension": ".py",
   "mimetype": "text/x-python",
   "name": "python",
   "nbconvert_exporter": "python",
   "pygments_lexer": "ipython3",
   "version": "3.7.1"
  }
 },
 "nbformat": 4,
 "nbformat_minor": 1
}
