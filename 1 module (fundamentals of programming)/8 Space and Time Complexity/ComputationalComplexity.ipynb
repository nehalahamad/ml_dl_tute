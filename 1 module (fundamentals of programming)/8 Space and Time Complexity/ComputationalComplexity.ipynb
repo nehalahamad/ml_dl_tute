{
 "cells": [
  {
   "cell_type": "code",
   "execution_count": 1,
   "metadata": {
    "colab": {},
    "colab_type": "code",
    "id": "bZw5VY9fXvdu",
    "outputId": "d1bdfd52-9af6-4330-efb9-9ebb703ee79d"
   },
   "outputs": [
    {
     "name": "stdout",
     "output_type": "stream",
     "text": [
      "[75, 60, 84, 55, 62, 73, 1, 90, 70, 0, 85, 80, 78, 16, 35, 5, 72, 45, 24, 40, 88, 69, 94, 22, 50, 43, 77, 32, 38, 12, 92, 87, 59, 9, 98, 64, 31, 91, 2, 51, 3, 14, 66, 17, 11, 7, 33, 41, 39, 34, 37, 47, 54, 67, 28, 68, 30, 89, 61, 86, 48, 44, 36, 65, 63, 46, 21, 58, 56, 76, 26, 29, 20, 93, 49, 79, 18, 95, 10, 96, 6, 57, 74, 99, 8, 81, 15, 27, 42, 25, 82, 19, 13, 52, 23, 83, 71, 53, 97, 4]\n"
     ]
    }
   ],
   "source": [
    "import numpy as np , random\n",
    "\n",
    "l = list(range(100))\n",
    "random.shuffle(l)\n",
    "\n",
    "print(l)"
   ]
  },
  {
   "cell_type": "code",
   "execution_count": 2,
   "metadata": {
    "colab": {},
    "colab_type": "code",
    "id": "QBhWRfIaXvd3",
    "outputId": "c2d20f56-420e-44e6-a63f-ab10056d1e19"
   },
   "outputs": [
    {
     "name": "stdout",
     "output_type": "stream",
     "text": [
      "Found\n"
     ]
    }
   ],
   "source": [
    "# search for an elemnt q in the list: O(n) where n is the length of the list\n",
    "q = 31\n",
    "isFound=False;\n",
    "for ele in l:\n",
    "    if ele==31:\n",
    "        print(\"Found\")\n",
    "        isFound=True\n",
    "        break;\n",
    "if isFound == False:\n",
    "    print(\"Not Found\")"
   ]
  },
  {
   "cell_type": "code",
   "execution_count": 9,
   "metadata": {
    "colab": {},
    "colab_type": "code",
    "id": "JvSHC5wDXvd8",
    "outputId": "155594e9-0a86-4f6a-df8b-c409fd737d42"
   },
   "outputs": [
    {
     "name": "stdout",
     "output_type": "stream",
     "text": [
      "31\n"
     ]
    }
   ],
   "source": [
    "#What if the list is sorted? Can we search faster?\n",
    "# Show O(log n)\n",
    "import math\n",
    "#Source: http://www.geeksforgeeks.org/binary-search/ \n",
    "#Returns index of x in arr if present, else -1\n",
    "def binarySearch (arr, l, r, x):\n",
    "    if l <= r:\n",
    "        mid = l + math.floor((r - l)/2)\n",
    "        if arr[mid] == x:\n",
    "            return mid\n",
    "        elif x < arr[mid]:\n",
    "            return binarySearch(arr, l, mid-1, x)\n",
    "        else:\n",
    "            return binarySearch(arr, mid+1, r, x)\n",
    "    else:\n",
    "        print('Element is not present in the array')\n",
    "        return -1\n",
    "# ----------------------------------------------------\n",
    "l.sort()\n",
    "arr = l\n",
    "q =31\n",
    "print(binarySearch(arr,0,len(arr)-1,q))"
   ]
  },
  {
   "cell_type": "code",
   "execution_count": 10,
   "metadata": {
    "colab": {},
    "colab_type": "code",
    "collapsed": true,
    "id": "N43KYlGTXveA",
    "outputId": "1e6c9de5-fe78-486c-9a67-b1f5f379064e"
   },
   "outputs": [
    {
     "name": "stdout",
     "output_type": "stream",
     "text": [
      "39\n",
      "42\n",
      "10\n",
      "44\n",
      "47\n",
      "21\n",
      "6\n",
      "11\n",
      "34\n",
      "8\n",
      "33\n",
      "32\n",
      "38\n",
      "45\n",
      "18\n",
      "36\n",
      "5\n",
      "15\n",
      "35\n",
      "26\n",
      "24\n",
      "9\n",
      "49\n",
      "46\n",
      "12\n",
      "20\n",
      "30\n",
      "37\n",
      "28\n",
      "22\n",
      "3\n",
      "13\n",
      "14\n",
      "4\n",
      "31\n",
      "29\n",
      "19\n",
      "7\n",
      "27\n",
      "41\n",
      "17\n",
      "16\n",
      "1\n",
      "25\n",
      "48\n",
      "2\n",
      "40\n",
      "0\n",
      "23\n",
      "43\n",
      "Number of common elements: 50\n"
     ]
    }
   ],
   "source": [
    "# Find elements common in two lists:\n",
    "l1 = list(range(100))\n",
    "random.shuffle(l1)\n",
    "\n",
    "l2 = list(range(50))\n",
    "random.shuffle(l2)\n",
    "\n",
    "# find common elements : O(n*m)\n",
    "cnt=0;\n",
    "for i in l1:\n",
    "    for j in l2:\n",
    "        if i==j:\n",
    "            print(i)\n",
    "            cnt += 1;\n",
    "print(\"Number of common elements:\", cnt)                      "
   ]
  },
  {
   "cell_type": "code",
   "execution_count": 11,
   "metadata": {
    "colab": {},
    "colab_type": "code",
    "id": "kIQGrDDlXveD",
    "outputId": "7bbd6294-f7e5-47ed-9eb6-eb71d64a3e9d"
   },
   "outputs": [
    {
     "name": "stdout",
     "output_type": "stream",
     "text": [
      "9\n",
      "21\n",
      "20\n",
      "44\n",
      "38\n",
      "49\n",
      "13\n",
      "10\n",
      "43\n",
      "48\n",
      "32\n",
      "42\n",
      "14\n",
      "22\n",
      "41\n",
      "11\n",
      "1\n",
      "24\n",
      "17\n",
      "36\n",
      "23\n",
      "31\n",
      "3\n",
      "28\n",
      "34\n",
      "29\n",
      "5\n",
      "45\n",
      "30\n",
      "7\n",
      "2\n",
      "46\n",
      "4\n",
      "37\n",
      "8\n",
      "25\n",
      "27\n",
      "39\n",
      "47\n",
      "33\n",
      "0\n",
      "6\n",
      "18\n",
      "15\n",
      "19\n",
      "35\n",
      "26\n",
      "12\n",
      "40\n",
      "16\n",
      "Number of common elements: 50\n"
     ]
    }
   ],
   "source": [
    "# Find elements common in two lists:\n",
    "l1 = list(range(100))\n",
    "random.shuffle(l1)\n",
    "\n",
    "l2 = list(range(50))\n",
    "random.shuffle(l2)\n",
    "\n",
    "# find common elemnts in lists in O(n) time and O(m) space if m<n\n",
    "\n",
    "## add all elements in the smallest list into a hashtable/Dict: O(m) space\n",
    "smallList = {}\n",
    "for ele in l2:\n",
    "    smallList[ele] = 1; # any value is OK. Key is important\n",
    "    \n",
    "# Now find common element \n",
    "cnt=0;\n",
    "for i in l1:\n",
    "    if smallList.get(i) != None: # search happens in constant time.\n",
    "        print(i);\n",
    "        cnt += 1;\n",
    "print(\"Number of common elements:\", cnt)                      "
   ]
  },
  {
   "cell_type": "code",
   "execution_count": 0,
   "metadata": {
    "colab": {},
    "colab_type": "code",
    "id": "6aVBXWL0XveG"
   },
   "outputs": [],
   "source": []
  }
 ],
 "metadata": {
  "colab": {
   "name": "ComputationalComplexity.ipynb",
   "provenance": [],
   "version": "0.3.2"
  },
  "kernelspec": {
   "display_name": "Python 3",
   "language": "python",
   "name": "python3"
  },
  "language_info": {
   "codemirror_mode": {
    "name": "ipython",
    "version": 3
   },
   "file_extension": ".py",
   "mimetype": "text/x-python",
   "name": "python",
   "nbconvert_exporter": "python",
   "pygments_lexer": "ipython3",
   "version": "3.7.1"
  }
 },
 "nbformat": 4,
 "nbformat_minor": 1
}
