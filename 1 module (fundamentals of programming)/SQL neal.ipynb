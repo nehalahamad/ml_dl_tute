{
 "cells": [
  {
   "cell_type": "markdown",
   "metadata": {},
   "source": [
    "# SQL Assignment"
   ]
  },
  {
   "cell_type": "code",
   "execution_count": 1,
   "metadata": {},
   "outputs": [],
   "source": [
    "import pandas as pd\n",
    "import sqlite3"
   ]
  },
  {
   "cell_type": "code",
   "execution_count": 2,
   "metadata": {},
   "outputs": [],
   "source": [
    "conn = sqlite3.connect(\"Db-IMDB-Assignment.db\")"
   ]
  },
  {
   "cell_type": "markdown",
   "metadata": {},
   "source": [
    "## Sample Code"
   ]
  },
  {
   "cell_type": "code",
   "execution_count": 3,
   "metadata": {},
   "outputs": [
    {
     "name": "stdout",
     "output_type": "stream",
     "text": [
      "(85, 1)\n",
      "Wall time: 154 ms\n"
     ]
    }
   ],
   "source": [
    "%%time\n",
    "# Write your sql query below\n",
    "\n",
    "query = \"\"\"\n",
    "        SELECT TRIM(Movie.title) AS 'Movie_Name'\n",
    "        FROM Movie\n",
    "        WHERE Movie.rating < 3\n",
    "        \n",
    "        \"\"\"\n",
    "\n",
    "q = pd.read_sql_query(query, conn)    \n",
    "print(q.shape)\n",
    "q.head()"
   ]
  },
  {
   "cell_type": "markdown",
   "metadata": {},
   "source": [
    "## Q1 --- List all the directors who directed a 'Comedy' movie in a leap year. (You need to check that the genre is 'Comedy’ and year is a leap year) Your query should return director name, the movie name, and the year."
   ]
  },
  {
   "cell_type": "code",
   "execution_count": 20,
   "metadata": {},
   "outputs": [
    {
     "name": "stdout",
     "output_type": "stream",
     "text": [
      "(212, 3)\n"
     ]
    },
    {
     "data": {
      "text/html": [
       "<div>\n",
       "<style scoped>\n",
       "    .dataframe tbody tr th:only-of-type {\n",
       "        vertical-align: middle;\n",
       "    }\n",
       "\n",
       "    .dataframe tbody tr th {\n",
       "        vertical-align: top;\n",
       "    }\n",
       "\n",
       "    .dataframe thead th {\n",
       "        text-align: right;\n",
       "    }\n",
       "</style>\n",
       "<table border=\"1\" class=\"dataframe\">\n",
       "  <thead>\n",
       "    <tr style=\"text-align: right;\">\n",
       "      <th></th>\n",
       "      <th>Name</th>\n",
       "      <th>title</th>\n",
       "      <th>year</th>\n",
       "    </tr>\n",
       "  </thead>\n",
       "  <tbody>\n",
       "    <tr>\n",
       "      <th>0</th>\n",
       "      <td>Milap Zaveri</td>\n",
       "      <td>Mastizaade</td>\n",
       "      <td>2016</td>\n",
       "    </tr>\n",
       "    <tr>\n",
       "      <th>1</th>\n",
       "      <td>Danny Leiner</td>\n",
       "      <td>Harold &amp; Kumar Go to White Castle</td>\n",
       "      <td>2004</td>\n",
       "    </tr>\n",
       "    <tr>\n",
       "      <th>2</th>\n",
       "      <td>Anurag Kashyap</td>\n",
       "      <td>Gangs of Wasseypur</td>\n",
       "      <td>2012</td>\n",
       "    </tr>\n",
       "    <tr>\n",
       "      <th>3</th>\n",
       "      <td>Frank Coraci</td>\n",
       "      <td>Around the World in 80 Days</td>\n",
       "      <td>2004</td>\n",
       "    </tr>\n",
       "    <tr>\n",
       "      <th>4</th>\n",
       "      <td>Griffin Dunne</td>\n",
       "      <td>The Accidental Husband</td>\n",
       "      <td>2008</td>\n",
       "    </tr>\n",
       "  </tbody>\n",
       "</table>\n",
       "</div>"
      ],
      "text/plain": [
       "              Name                              title  year\n",
       "0     Milap Zaveri                         Mastizaade  2016\n",
       "1     Danny Leiner  Harold & Kumar Go to White Castle  2004\n",
       "2   Anurag Kashyap                 Gangs of Wasseypur  2012\n",
       "3     Frank Coraci        Around the World in 80 Days  2004\n",
       "4    Griffin Dunne             The Accidental Husband  2008"
      ]
     },
     "execution_count": 20,
     "metadata": {},
     "output_type": "execute_result"
    }
   ],
   "source": [
    "# %%time\n",
    "# Write your sql query below\n",
    "\n",
    "query = \"\"\"\n",
    "        \n",
    "        SELECT p.Name, m.title, m.year\n",
    "        FROM Person p JOIN M_Director md ON p.PID=md.PID JOIN Movie m ON md.MID=m.MID\n",
    "        WHERE m.MID IN(\n",
    "            SELECT MID FROM M_Genre WHERE GID IN(\n",
    "                SELECT GID FROM Genre WHERE Name like '%Comedy%'))\n",
    "        AND m.year%4==0 AND m.year%100!=0\n",
    "        \n",
    "        \"\"\"\n",
    "\n",
    "# Samreen----------------------------------------\n",
    "#         SELECT p.Name, m.title, m.year\n",
    "#         FROM Person p JOIN M_Director md ON p.PID=md.PID JOIN Movie m ON md.MID=m.MID\n",
    "#         WHERE m.MID IN(\n",
    "#             SELECT MID FROM M_Genre mg Join Genre g On mg.GID=g.GID Join Movie mv On mg.MID=mv.MID\n",
    "#              WHERE g.Name like '%Comedy%'AND mv.year%4==0 AND m.year%100!=0)\n",
    "# \"\"\"\n",
    "q1 = pd.read_sql_query(query, conn)    \n",
    "print(q1.shape)\n",
    "q1.head()"
   ]
  },
  {
   "cell_type": "markdown",
   "metadata": {},
   "source": [
    "## Q2 --- List the names of all the actors who played in the movie 'Anand' (1971)"
   ]
  },
  {
   "cell_type": "code",
   "execution_count": 5,
   "metadata": {},
   "outputs": [
    {
     "name": "stdout",
     "output_type": "stream",
     "text": [
      "(17, 1)\n",
      "                Name\n",
      "0      Rajesh Khanna\n",
      "1   Amitabh Bachchan\n",
      "2      Sumita Sanyal\n",
      "3         Ramesh Deo\n",
      "4          Seema Deo\n",
      "Wall time: 257 ms\n"
     ]
    }
   ],
   "source": [
    "%%time\n",
    "# Write your sql query below\n",
    "\n",
    "query = \"\"\"\n",
    "        SELECT p.Name\n",
    "        FROM Movie m JOIN M_Cast mc ON m.MID=TRIM(mc.MID) JOIN Person p ON p.PID=TRIM(mc.PID)\n",
    "        WHERE m.title='Anand' AND year=1971\n",
    "        \n",
    "        \"\"\"\n",
    "\n",
    "q2 = pd.read_sql_query(query, conn)    \n",
    "print(q2.shape)\n",
    "print(q2.head())"
   ]
  },
  {
   "cell_type": "code",
   "execution_count": 6,
   "metadata": {},
   "outputs": [
    {
     "name": "stdout",
     "output_type": "stream",
     "text": [
      "(17, 1)\n",
      "                Name\n",
      "0   Amitabh Bachchan\n",
      "1      Rajesh Khanna\n",
      "2      Sumita Sanyal\n",
      "3         Ramesh Deo\n",
      "4          Seema Deo\n",
      "Wall time: 56 ms\n"
     ]
    }
   ],
   "source": [
    "%%time\n",
    "# Write your sql query below\n",
    "\n",
    "query = \"\"\"\n",
    "        SELECT Name FROM Person WHERE PID IN(\n",
    "            SELECT TRIM(PID) FROM M_Cast WHERE MID IN(\n",
    "                (SELECT MID FROM Movie WHERE title='Anand' and year=1971)))\n",
    "        \n",
    "        \"\"\"\n",
    "\n",
    "q2 = pd.read_sql_query(query, conn)    \n",
    "print(q2.shape)\n",
    "print(q2.head())"
   ]
  },
  {
   "cell_type": "markdown",
   "metadata": {},
   "source": [
    "## Q3 --- List all the actors who acted in a film before 1970 and in a film after 1990. (That is: < 1970 and > 1990.)"
   ]
  },
  {
   "cell_type": "code",
   "execution_count": 7,
   "metadata": {},
   "outputs": [
    {
     "name": "stdout",
     "output_type": "stream",
     "text": [
      "(333, 1)\n"
     ]
    },
    {
     "data": {
      "text/html": [
       "<div>\n",
       "<style scoped>\n",
       "    .dataframe tbody tr th:only-of-type {\n",
       "        vertical-align: middle;\n",
       "    }\n",
       "\n",
       "    .dataframe tbody tr th {\n",
       "        vertical-align: top;\n",
       "    }\n",
       "\n",
       "    .dataframe thead th {\n",
       "        text-align: right;\n",
       "    }\n",
       "</style>\n",
       "<table border=\"1\" class=\"dataframe\">\n",
       "  <thead>\n",
       "    <tr style=\"text-align: right;\">\n",
       "      <th></th>\n",
       "      <th>Name</th>\n",
       "    </tr>\n",
       "  </thead>\n",
       "  <tbody>\n",
       "    <tr>\n",
       "      <th>0</th>\n",
       "      <td>A.K. Hangal</td>\n",
       "    </tr>\n",
       "    <tr>\n",
       "      <th>1</th>\n",
       "      <td>Aachi Manorama</td>\n",
       "    </tr>\n",
       "    <tr>\n",
       "      <th>2</th>\n",
       "      <td>Abbas</td>\n",
       "    </tr>\n",
       "    <tr>\n",
       "      <th>3</th>\n",
       "      <td>Abdul</td>\n",
       "    </tr>\n",
       "    <tr>\n",
       "      <th>4</th>\n",
       "      <td>Abhi Bhattacharya</td>\n",
       "    </tr>\n",
       "  </tbody>\n",
       "</table>\n",
       "</div>"
      ],
      "text/plain": [
       "                 Name\n",
       "0         A.K. Hangal\n",
       "1      Aachi Manorama\n",
       "2               Abbas\n",
       "3               Abdul\n",
       "4   Abhi Bhattacharya"
      ]
     },
     "execution_count": 7,
     "metadata": {},
     "output_type": "execute_result"
    }
   ],
   "source": [
    "# %%time\n",
    "# Write your sql query below\n",
    "\n",
    "query = \"\"\"\n",
    "       SELECT Name\n",
    "       FROM(\n",
    "           SELECT Name, PID FROM Person WHERE PID IN(\n",
    "                SELECT TRIM(PID) FROM M_Cast\n",
    "                WHERE MID IN (SELECT MID FROM Movie WHERE year<1970)\n",
    "           )\n",
    "           \n",
    "           INTERSECT\n",
    "           \n",
    "           SELECT Name, PID FROM Person WHERE PID IN(\n",
    "                SELECT TRIM(PID) FROM M_Cast\n",
    "                WHERE MID IN (SELECT MID FROM Movie WHERE year>1990)\n",
    "           )\n",
    "        )\n",
    "        \"\"\"\n",
    "\"\"\"---samreen--Please check the syntax of not between and its inclusive propertt of it either it include year 1970 an 1990 or not--\n",
    "\n",
    "               SELECT Name FROM Person WHERE PID IN(SELECT TRIM(PID) FROM M_Cast\n",
    "                                                 WHERE MID IN (SELECT MID FROM Movie WHERE year NOT BETWEEN 1970 to 1990)\n",
    "           \n",
    "           \n",
    "        \"\"\"\n",
    "q3 = pd.read_sql_query(query, conn)    \n",
    "print(q3.shape)\n",
    "q3.head()"
   ]
  },
  {
   "cell_type": "markdown",
   "metadata": {},
   "source": [
    "## Q4 --- List all directors who directed 10 movies or more, in descending order of the number of movies they directed. Return the directors' names and the number of movies each of them directed."
   ]
  },
  {
   "cell_type": "code",
   "execution_count": 8,
   "metadata": {},
   "outputs": [
    {
     "name": "stdout",
     "output_type": "stream",
     "text": [
      "(58, 2)\n"
     ]
    },
    {
     "data": {
      "text/html": [
       "<div>\n",
       "<style scoped>\n",
       "    .dataframe tbody tr th:only-of-type {\n",
       "        vertical-align: middle;\n",
       "    }\n",
       "\n",
       "    .dataframe tbody tr th {\n",
       "        vertical-align: top;\n",
       "    }\n",
       "\n",
       "    .dataframe thead th {\n",
       "        text-align: right;\n",
       "    }\n",
       "</style>\n",
       "<table border=\"1\" class=\"dataframe\">\n",
       "  <thead>\n",
       "    <tr style=\"text-align: right;\">\n",
       "      <th></th>\n",
       "      <th>Name</th>\n",
       "      <th>Number_of_Movies</th>\n",
       "    </tr>\n",
       "  </thead>\n",
       "  <tbody>\n",
       "    <tr>\n",
       "      <th>0</th>\n",
       "      <td>David Dhawan</td>\n",
       "      <td>39</td>\n",
       "    </tr>\n",
       "    <tr>\n",
       "      <th>1</th>\n",
       "      <td>Mahesh Bhatt</td>\n",
       "      <td>36</td>\n",
       "    </tr>\n",
       "    <tr>\n",
       "      <th>2</th>\n",
       "      <td>Ram Gopal Varma</td>\n",
       "      <td>30</td>\n",
       "    </tr>\n",
       "    <tr>\n",
       "      <th>3</th>\n",
       "      <td>Priyadarshan</td>\n",
       "      <td>30</td>\n",
       "    </tr>\n",
       "    <tr>\n",
       "      <th>4</th>\n",
       "      <td>Vikram Bhatt</td>\n",
       "      <td>29</td>\n",
       "    </tr>\n",
       "  </tbody>\n",
       "</table>\n",
       "</div>"
      ],
      "text/plain": [
       "               Name  Number_of_Movies\n",
       "0      David Dhawan                39\n",
       "1      Mahesh Bhatt                36\n",
       "2   Ram Gopal Varma                30\n",
       "3      Priyadarshan                30\n",
       "4      Vikram Bhatt                29"
      ]
     },
     "execution_count": 8,
     "metadata": {},
     "output_type": "execute_result"
    }
   ],
   "source": [
    "# %%time\n",
    "\n",
    "query = \"\"\"\n",
    "        SELECT p.Name, COUNT(title) AS Number_of_Movies\n",
    "        FROM Person p JOIN M_Director md ON p.PID=md.PID JOIN Movie m ON m.MID=md.MID \n",
    "        GROUP BY p.Name\n",
    "        HAVING Number_of_Movies >= 10\n",
    "        ORDER BY Number_of_Movies DESC\n",
    "        \n",
    "        \"\"\"\n",
    "\n",
    "q4 = pd.read_sql_query(query, conn)    \n",
    "print(q4.shape)\n",
    "q4.head()"
   ]
  },
  {
   "cell_type": "markdown",
   "metadata": {},
   "source": [
    "## Q5.a --- For each year, count the number of movies in that year that had only female actors."
   ]
  },
  {
   "cell_type": "code",
   "execution_count": 9,
   "metadata": {},
   "outputs": [
    {
     "name": "stdout",
     "output_type": "stream",
     "text": [
      "(125, 2)\n"
     ]
    },
    {
     "data": {
      "text/html": [
       "<div>\n",
       "<style scoped>\n",
       "    .dataframe tbody tr th:only-of-type {\n",
       "        vertical-align: middle;\n",
       "    }\n",
       "\n",
       "    .dataframe tbody tr th {\n",
       "        vertical-align: top;\n",
       "    }\n",
       "\n",
       "    .dataframe thead th {\n",
       "        text-align: right;\n",
       "    }\n",
       "</style>\n",
       "<table border=\"1\" class=\"dataframe\">\n",
       "  <thead>\n",
       "    <tr style=\"text-align: right;\">\n",
       "      <th></th>\n",
       "      <th>year</th>\n",
       "      <th>Number_of_Movies</th>\n",
       "    </tr>\n",
       "  </thead>\n",
       "  <tbody>\n",
       "    <tr>\n",
       "      <th>0</th>\n",
       "      <td>1931</td>\n",
       "      <td>3</td>\n",
       "    </tr>\n",
       "    <tr>\n",
       "      <th>1</th>\n",
       "      <td>1936</td>\n",
       "      <td>19</td>\n",
       "    </tr>\n",
       "    <tr>\n",
       "      <th>2</th>\n",
       "      <td>1939</td>\n",
       "      <td>18</td>\n",
       "    </tr>\n",
       "    <tr>\n",
       "      <th>3</th>\n",
       "      <td>1941</td>\n",
       "      <td>7</td>\n",
       "    </tr>\n",
       "    <tr>\n",
       "      <th>4</th>\n",
       "      <td>1943</td>\n",
       "      <td>3</td>\n",
       "    </tr>\n",
       "  </tbody>\n",
       "</table>\n",
       "</div>"
      ],
      "text/plain": [
       "   year  Number_of_Movies\n",
       "0  1931                 3\n",
       "1  1936                19\n",
       "2  1939                18\n",
       "3  1941                 7\n",
       "4  1943                 3"
      ]
     },
     "execution_count": 9,
     "metadata": {},
     "output_type": "execute_result"
    }
   ],
   "source": [
    "# %%time\n",
    "# Write your sql query below\n",
    "\n",
    "query = \"\"\"\n",
    "        SELECT year, COUNT(title) AS Number_of_Movies\n",
    "        FROM Person p JOIN M_Cast mc ON p.PID=TRIM(mc.PID) JOIN Movie m ON m.MID=mc.MID\n",
    "        WHERE p.Gender='Female'\n",
    "        GROUP BY year\n",
    "        \n",
    "        \"\"\"\n",
    "\n",
    "q5a = pd.read_sql_query(query, conn)    \n",
    "print(q5a.shape)\n",
    "q5a.head()"
   ]
  },
  {
   "cell_type": "markdown",
   "metadata": {},
   "source": [
    "## Q5.b --- Now include a small change: report for each year the percentage of movies in that year with only female actors, and the total number of movies made that year. For example, one answer will be: 1990 31.81 13522 meaning that in 1990 there were 13,522 movies, and 31.81% had only female actors. You do not need to round your answer."
   ]
  },
  {
   "cell_type": "code",
   "execution_count": 10,
   "metadata": {},
   "outputs": [
    {
     "name": "stdout",
     "output_type": "stream",
     "text": [
      "(125, 3)\n"
     ]
    },
    {
     "data": {
      "text/html": [
       "<div>\n",
       "<style scoped>\n",
       "    .dataframe tbody tr th:only-of-type {\n",
       "        vertical-align: middle;\n",
       "    }\n",
       "\n",
       "    .dataframe tbody tr th {\n",
       "        vertical-align: top;\n",
       "    }\n",
       "\n",
       "    .dataframe thead th {\n",
       "        text-align: right;\n",
       "    }\n",
       "</style>\n",
       "<table border=\"1\" class=\"dataframe\">\n",
       "  <thead>\n",
       "    <tr style=\"text-align: right;\">\n",
       "      <th></th>\n",
       "      <th>year</th>\n",
       "      <th>% of Female Actors Movies</th>\n",
       "      <th>Number_of_Movies</th>\n",
       "    </tr>\n",
       "  </thead>\n",
       "  <tbody>\n",
       "    <tr>\n",
       "      <th>0</th>\n",
       "      <td>1931</td>\n",
       "      <td>33.333333</td>\n",
       "      <td>9</td>\n",
       "    </tr>\n",
       "    <tr>\n",
       "      <th>1</th>\n",
       "      <td>1936</td>\n",
       "      <td>40.425532</td>\n",
       "      <td>47</td>\n",
       "    </tr>\n",
       "    <tr>\n",
       "      <th>2</th>\n",
       "      <td>1939</td>\n",
       "      <td>40.000000</td>\n",
       "      <td>45</td>\n",
       "    </tr>\n",
       "    <tr>\n",
       "      <th>3</th>\n",
       "      <td>1941</td>\n",
       "      <td>12.962963</td>\n",
       "      <td>54</td>\n",
       "    </tr>\n",
       "    <tr>\n",
       "      <th>4</th>\n",
       "      <td>1943</td>\n",
       "      <td>21.428571</td>\n",
       "      <td>14</td>\n",
       "    </tr>\n",
       "  </tbody>\n",
       "</table>\n",
       "</div>"
      ],
      "text/plain": [
       "   year  % of Female Actors Movies  Number_of_Movies\n",
       "0  1931                  33.333333                 9\n",
       "1  1936                  40.425532                47\n",
       "2  1939                  40.000000                45\n",
       "3  1941                  12.962963                54\n",
       "4  1943                  21.428571                14"
      ]
     },
     "execution_count": 10,
     "metadata": {},
     "output_type": "execute_result"
    }
   ],
   "source": [
    "# %%time\n",
    "# Write your sql query below\n",
    "\n",
    "query = \"\"\"\n",
    "        SELECT t1.year, (t1.Number_of_Movies*100.0/t2.Number_of_Movies) AS [% of Female Actors Movies], t2.Number_of_Movies\n",
    "        FROM\n",
    "        (SELECT year, COUNT(title) AS Number_of_Movies\n",
    "        FROM Person p JOIN M_Cast mc ON p.PID=TRIM(mc.PID) JOIN Movie m ON m.MID=mc.MID\n",
    "        WHERE p.Gender='Female'\n",
    "        GROUP BY year) AS t1\n",
    "        JOIN\n",
    "        (SELECT year, COUNT(title) AS Number_of_Movies\n",
    "        FROM Person p JOIN M_Cast mc ON p.PID=TRIM(mc.PID) JOIN Movie m ON m.MID=mc.MID\n",
    "        GROUP BY year) AS t2\n",
    "        ON t1.year=t2.year\n",
    "        \"\"\"\n",
    "\n",
    "q5b = pd.read_sql_query(query, conn)    \n",
    "print(q5b.shape)\n",
    "q5b.head()"
   ]
  },
  {
   "cell_type": "markdown",
   "metadata": {},
   "source": [
    "## Q6 --- Find the film(s) with the largest cast. Return the movie title and the size of the cast. By \"cast size\" we mean the number of distinct actors that played in that movie: if an actor played multiple roles, or if it simply occurs multiple times in casts, we still count her/him only once."
   ]
  },
  {
   "cell_type": "code",
   "execution_count": 11,
   "metadata": {},
   "outputs": [
    {
     "name": "stdout",
     "output_type": "stream",
     "text": [
      "(3342, 2)\n"
     ]
    },
    {
     "data": {
      "text/html": [
       "<div>\n",
       "<style scoped>\n",
       "    .dataframe tbody tr th:only-of-type {\n",
       "        vertical-align: middle;\n",
       "    }\n",
       "\n",
       "    .dataframe tbody tr th {\n",
       "        vertical-align: top;\n",
       "    }\n",
       "\n",
       "    .dataframe thead th {\n",
       "        text-align: right;\n",
       "    }\n",
       "</style>\n",
       "<table border=\"1\" class=\"dataframe\">\n",
       "  <thead>\n",
       "    <tr style=\"text-align: right;\">\n",
       "      <th></th>\n",
       "      <th>title</th>\n",
       "      <th>cast_size</th>\n",
       "    </tr>\n",
       "  </thead>\n",
       "  <tbody>\n",
       "    <tr>\n",
       "      <th>0</th>\n",
       "      <td>Ocean's Eight</td>\n",
       "      <td>238</td>\n",
       "    </tr>\n",
       "    <tr>\n",
       "      <th>1</th>\n",
       "      <td>Apaharan</td>\n",
       "      <td>233</td>\n",
       "    </tr>\n",
       "    <tr>\n",
       "      <th>2</th>\n",
       "      <td>Gold</td>\n",
       "      <td>214</td>\n",
       "    </tr>\n",
       "    <tr>\n",
       "      <th>3</th>\n",
       "      <td>My Name Is Khan</td>\n",
       "      <td>213</td>\n",
       "    </tr>\n",
       "    <tr>\n",
       "      <th>4</th>\n",
       "      <td>Captain America: Civil War</td>\n",
       "      <td>191</td>\n",
       "    </tr>\n",
       "  </tbody>\n",
       "</table>\n",
       "</div>"
      ],
      "text/plain": [
       "                        title  cast_size\n",
       "0               Ocean's Eight        238\n",
       "1                    Apaharan        233\n",
       "2                        Gold        214\n",
       "3             My Name Is Khan        213\n",
       "4  Captain America: Civil War        191"
      ]
     },
     "execution_count": 11,
     "metadata": {},
     "output_type": "execute_result"
    }
   ],
   "source": [
    "# %%time\n",
    "\n",
    "query = \"\"\"\n",
    "        SELECT m.title, COUNT(DISTINCT p.name) 'cast_size'\n",
    "        FROM Person p JOIN M_Cast mc ON p.PID=TRIM(mc.PID) JOIN Movie m ON m.MID=mc.MID\n",
    "        GROUP BY m.title\n",
    "        ORDER BY cast_size DESC\n",
    "        \"\"\"\n",
    "\n",
    "q6 = pd.read_sql_query(query, conn)    \n",
    "print(q6.shape)\n",
    "q6.head()"
   ]
  },
  {
   "cell_type": "markdown",
   "metadata": {},
   "source": [
    "## Q7 --- A decade is a sequence of 10 consecutive years. For example, say in your database you have movie information starting from 1965. Then the first decade is 1965, 1966, ..., 1974; the second one is 1967, 1968, ..., 1976 and so on. Find the decade D with the largest number of films and the total number of films in D."
   ]
  },
  {
   "cell_type": "code",
   "execution_count": 12,
   "metadata": {
    "scrolled": true
   },
   "outputs": [
    {
     "name": "stdout",
     "output_type": "stream",
     "text": [
      "(1, 1)\n"
     ]
    },
    {
     "data": {
      "text/html": [
       "<div>\n",
       "<style scoped>\n",
       "    .dataframe tbody tr th:only-of-type {\n",
       "        vertical-align: middle;\n",
       "    }\n",
       "\n",
       "    .dataframe tbody tr th {\n",
       "        vertical-align: top;\n",
       "    }\n",
       "\n",
       "    .dataframe thead th {\n",
       "        text-align: right;\n",
       "    }\n",
       "</style>\n",
       "<table border=\"1\" class=\"dataframe\">\n",
       "  <thead>\n",
       "    <tr style=\"text-align: right;\">\n",
       "      <th></th>\n",
       "      <th>Max(total_no_of_movies_in_a_decade)</th>\n",
       "    </tr>\n",
       "  </thead>\n",
       "  <tbody>\n",
       "    <tr>\n",
       "      <th>0</th>\n",
       "      <td>1018</td>\n",
       "    </tr>\n",
       "  </tbody>\n",
       "</table>\n",
       "</div>"
      ],
      "text/plain": [
       "   Max(total_no_of_movies_in_a_decade)\n",
       "0                                 1018"
      ]
     },
     "execution_count": 12,
     "metadata": {},
     "output_type": "execute_result"
    }
   ],
   "source": [
    "# %%time\n",
    "\n",
    "query = \"\"\"\n",
    "         \n",
    "select Max(total_no_of_movies_in_a_decade)\n",
    "from  (select count(title) as total_no_of_movies_in_a_decade,decade, decade+9\n",
    "       from (select ((year/10) * 10) as decade, title from Movie)  \n",
    "       group by decade\n",
    "       order by total_no_of_movies_in_a_decade DESC)\n",
    "    \n",
    "\"\"\"    \n",
    "      \n",
    "\n",
    "q7 = pd.read_sql_query(query, conn)    \n",
    "print(q7.shape)\n",
    "# q7.tail(130)\n",
    "q7.head()"
   ]
  },
  {
   "cell_type": "code",
   "execution_count": 13,
   "metadata": {},
   "outputs": [],
   "source": [
    "# PRAGMA table_info([Movie]) to see information about table\n",
    "# CAST(version as integer)"
   ]
  },
  {
   "cell_type": "markdown",
   "metadata": {},
   "source": [
    "## Q8 --- Find all the actors that made more movies with Yash Chopra than any other director."
   ]
  },
  {
   "cell_type": "code",
   "execution_count": 18,
   "metadata": {},
   "outputs": [
    {
     "name": "stdout",
     "output_type": "stream",
     "text": [
      "(271, 1)\n"
     ]
    },
    {
     "data": {
      "text/html": [
       "<div>\n",
       "<style scoped>\n",
       "    .dataframe tbody tr th:only-of-type {\n",
       "        vertical-align: middle;\n",
       "    }\n",
       "\n",
       "    .dataframe tbody tr th {\n",
       "        vertical-align: top;\n",
       "    }\n",
       "\n",
       "    .dataframe thead th {\n",
       "        text-align: right;\n",
       "    }\n",
       "</style>\n",
       "<table border=\"1\" class=\"dataframe\">\n",
       "  <thead>\n",
       "    <tr style=\"text-align: right;\">\n",
       "      <th></th>\n",
       "      <th>pname</th>\n",
       "    </tr>\n",
       "  </thead>\n",
       "  <tbody>\n",
       "    <tr>\n",
       "      <th>0</th>\n",
       "      <td>A.K. Hangal</td>\n",
       "    </tr>\n",
       "    <tr>\n",
       "      <th>1</th>\n",
       "      <td>Aamir Khan</td>\n",
       "    </tr>\n",
       "    <tr>\n",
       "      <th>2</th>\n",
       "      <td>Ajit</td>\n",
       "    </tr>\n",
       "    <tr>\n",
       "      <th>3</th>\n",
       "      <td>Akhilendra Mishra</td>\n",
       "    </tr>\n",
       "    <tr>\n",
       "      <th>4</th>\n",
       "      <td>Akshay Kumar</td>\n",
       "    </tr>\n",
       "  </tbody>\n",
       "</table>\n",
       "</div>"
      ],
      "text/plain": [
       "                pname\n",
       "0         A.K. Hangal\n",
       "1          Aamir Khan\n",
       "2                Ajit\n",
       "3   Akhilendra Mishra\n",
       "4        Akshay Kumar"
      ]
     },
     "execution_count": 18,
     "metadata": {},
     "output_type": "execute_result"
    }
   ],
   "source": [
    "# %%time\n",
    "# Write your sql query below\n",
    "\n",
    "query = \"\"\"\n",
    "SELECT t1.pname\n",
    "FROM(\n",
    "    SELECT pname,dname, count(dname) count\n",
    "    FROM(\n",
    "        SELECT p.PID pid, p.Name pname, p1.Name dname\n",
    "        FROM Person p JOIN M_Cast mc ON p.PID=TRIM(mc.PID)\n",
    "            JOIN Movie m ON mc.MID=m.MID\n",
    "            JOIN M_Director md ON m.MID=md.MID\n",
    "            JOIN Person p1 ON md.PID=p1.PID\n",
    "        WHERE p.Gender = 'Male'\n",
    "        )\n",
    "    GROUP BY pname, dname \n",
    "    ) t1\n",
    "WHERE TRIM(t1.dname) == 'Yash Chopra'\n",
    "    AND t1.count >= (\n",
    "        SELECT t2.count\n",
    "        FROM(\n",
    "            SELECT pname, dname, count(dname) count\n",
    "            FROM(\n",
    "                SELECT p.PID pid, p.Name pname, p1.Name dname\n",
    "                FROM Person p JOIN M_Cast mc ON p.PID=TRIM(mc.PID)\n",
    "                    JOIN Movie m ON mc.MID=m.MID\n",
    "                    JOIN M_Director md ON m.MID=md.MID\n",
    "                    JOIN Person p1 ON md.PID=p1.PID\n",
    "                WHERE p.Gender = 'Male'\n",
    "            )\n",
    "        GROUP BY  pname, dname\n",
    "        )\n",
    "    t2)\n",
    " \"\"\"\n",
    "\n",
    "\n",
    "q8 = pd.read_sql_query(query, conn)    \n",
    "print(q8.shape)\n",
    "q8.head()"
   ]
  },
  {
   "cell_type": "markdown",
   "metadata": {},
   "source": [
    "## Q9 --- The Shahrukh number of an actor is the length of the shortest path between the actor and Shahrukh Khan in the \"co-acting\" graph. That is, Shahrukh Khan has Shahrukh number 0; all actors who acted in the same film as Shahrukh have Shahrukh number 1; all actors who acted in the same film as some actor with Shahrukh number 1 have Shahrukh number 2, etc. Return all actors whose Shahrukh number is 2."
   ]
  },
  {
   "cell_type": "code",
   "execution_count": 17,
   "metadata": {},
   "outputs": [
    {
     "name": "stdout",
     "output_type": "stream",
     "text": [
      "(27028, 1)\n"
     ]
    },
    {
     "data": {
      "text/html": [
       "<div>\n",
       "<style scoped>\n",
       "    .dataframe tbody tr th:only-of-type {\n",
       "        vertical-align: middle;\n",
       "    }\n",
       "\n",
       "    .dataframe tbody tr th {\n",
       "        vertical-align: top;\n",
       "    }\n",
       "\n",
       "    .dataframe thead th {\n",
       "        text-align: right;\n",
       "    }\n",
       "</style>\n",
       "<table border=\"1\" class=\"dataframe\">\n",
       "  <thead>\n",
       "    <tr style=\"text-align: right;\">\n",
       "      <th></th>\n",
       "      <th>Name</th>\n",
       "    </tr>\n",
       "  </thead>\n",
       "  <tbody>\n",
       "    <tr>\n",
       "      <th>0</th>\n",
       "      <td>Kristin Scott Thomas</td>\n",
       "    </tr>\n",
       "    <tr>\n",
       "      <th>1</th>\n",
       "      <td>Derek Jacobi</td>\n",
       "    </tr>\n",
       "    <tr>\n",
       "      <th>2</th>\n",
       "      <td>Nick Frost</td>\n",
       "    </tr>\n",
       "    <tr>\n",
       "      <th>3</th>\n",
       "      <td>Walton Goggins</td>\n",
       "    </tr>\n",
       "    <tr>\n",
       "      <th>4</th>\n",
       "      <td>Michael Obiora</td>\n",
       "    </tr>\n",
       "  </tbody>\n",
       "</table>\n",
       "</div>"
      ],
      "text/plain": [
       "                    Name\n",
       "0   Kristin Scott Thomas\n",
       "1           Derek Jacobi\n",
       "2             Nick Frost\n",
       "3         Walton Goggins\n",
       "4         Michael Obiora"
      ]
     },
     "execution_count": 17,
     "metadata": {},
     "output_type": "execute_result"
    }
   ],
   "source": [
    "# %%time\n",
    "# Write your sql query below\n",
    "\n",
    "query = \"\"\"\n",
    "\n",
    "SELECT DISTINCT(p4.Name)\n",
    "FROM Person p4 JOIN M_Cast mc4 ON p4.PID=TRIM(mc4.PID) JOIN Movie m4 ON mc4.MID=m4.MID\n",
    "WHERE m4.title IN (\n",
    "    SELECT DISTINCT(m3.title)\n",
    "    FROM Person p3 JOIN M_Cast mc3 ON p3.PID=TRIM(mc3.PID) JOIN Movie m3 ON mc3.MID=m3.MID\n",
    "    WHERE p3.Name IN(\n",
    "        SELECT DISTINCT(p2.Name)\n",
    "        FROM Person p2 JOIN M_Cast mc2 ON p2.PID=TRIM(mc2.PID) JOIN Movie m2 ON mc2.MID=m2.MID\n",
    "        WHERE m2.title in(\n",
    "            SELECT m1.title\n",
    "            FROM Person p1 JOIN M_Cast mc1 ON p1.PID=TRIM(mc1.PID) JOIN Movie m1 ON mc1.MID=m1.MID\n",
    "            WHERE p1.name like '%Rukh khan%'\n",
    "        )\n",
    "        AND p2.Name not like '%Rukh khan%'\n",
    "    )\n",
    ")               \n",
    "  \n",
    "\"\"\"    \n",
    "\n",
    "q9 = pd.read_sql_query(query, conn)    \n",
    "print(q9.shape)\n",
    "q9.head()"
   ]
  },
  {
   "cell_type": "code",
   "execution_count": null,
   "metadata": {},
   "outputs": [],
   "source": []
  }
 ],
 "metadata": {
  "kernelspec": {
   "display_name": "Python 3",
   "language": "python",
   "name": "python3"
  },
  "language_info": {
   "codemirror_mode": {
    "name": "ipython",
    "version": 3
   },
   "file_extension": ".py",
   "mimetype": "text/x-python",
   "name": "python",
   "nbconvert_exporter": "python",
   "pygments_lexer": "ipython3",
   "version": "3.7.1"
  }
 },
 "nbformat": 4,
 "nbformat_minor": 2
}
