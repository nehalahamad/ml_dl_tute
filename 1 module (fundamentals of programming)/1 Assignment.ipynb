{
 "cells": [
  {
   "cell_type": "markdown",
   "metadata": {},
   "source": [
    "# 1. Table\n",
    "**Write a function that inputs a number and prints the multiplication table of that number**"
   ]
  },
  {
   "cell_type": "code",
   "execution_count": 430,
   "metadata": {},
   "outputs": [
    {
     "name": "stdout",
     "output_type": "stream",
     "text": [
      "[5, 10, 15, 20, 25, 30, 35, 40, 45, 50]\n"
     ]
    }
   ],
   "source": [
    "def mTable(x):\n",
    "    table = [x*i for i in range(1,11)]\n",
    "    print(table)\n",
    "    \n",
    "mTable(5)"
   ]
  },
  {
   "cell_type": "markdown",
   "metadata": {},
   "source": [
    "# 2. Twin Primes\n",
    "**Write a program to print twin primes less than 1000. If two consecutive odd numbers are both prime then they are known as twin primes**"
   ]
  },
  {
   "cell_type": "code",
   "execution_count": 432,
   "metadata": {},
   "outputs": [
    {
     "name": "stdout",
     "output_type": "stream",
     "text": [
      "[(3, 5), (5, 7), (11, 13), (17, 19), (29, 31), (41, 43), (59, 61), (71, 73), (101, 103), (107, 109), (137, 139), (149, 151), (179, 181), (191, 193), (197, 199), (227, 229), (239, 241), (269, 271), (281, 283), (311, 313), (347, 349), (419, 421), (431, 433), (461, 463), (521, 523), (569, 571), (599, 601), (617, 619), (641, 643), (659, 661), (809, 811), (821, 823), (827, 829), (857, 859), (881, 883)]\n"
     ]
    }
   ],
   "source": [
    "def isPrime(num):\n",
    "    is_prime = True\n",
    "    if num == 2 or num == 3:\n",
    "        return is_prime\n",
    "    else:\n",
    "        for i in range(2, num):\n",
    "            if num % i == 0:\n",
    "                is_prime = False\n",
    "                break\n",
    "        return is_prime\n",
    "      \n",
    "def twinPrime(n):\n",
    "    primes = list(filter( isPrime, [i for i in range(2, n)] ))\n",
    "    twin_primes = [(primes[i], primes[i+1]) for i in range(len(primes)-2) if primes[i+1]-primes[i] == 2]\n",
    "    return twin_primes\n",
    "    \n",
    "print(twinPrime(1000))"
   ]
  },
  {
   "cell_type": "markdown",
   "metadata": {},
   "source": [
    "# 3. Prime factors\n",
    "**Write a program to find out the prime factors of a number. Example: prime factors of 56 - 2, 2, 2, 7**"
   ]
  },
  {
   "cell_type": "code",
   "execution_count": 433,
   "metadata": {},
   "outputs": [
    {
     "name": "stdout",
     "output_type": "stream",
     "text": [
      "Enter a number: 56\n",
      "--------------------\n",
      "prime factors of 56 are: [2, 2, 2, 7]\n"
     ]
    }
   ],
   "source": [
    "def primeFactors(num):\n",
    "    if isPrime(num):\n",
    "        return num\n",
    "    primes = list(filter( isPrime, [i for i in range(2, num)] ))\n",
    "    i = 0\n",
    "    p_factors = []\n",
    "    while(num != 1):\n",
    "        if num % primes[i] == 0:\n",
    "            p_factors.append(primes[i])\n",
    "            num /= primes[i]\n",
    "        else:\n",
    "            i += 1\n",
    "    return p_factors\n",
    "\n",
    "# ==================================================    \n",
    "num = int(input('Enter a number: '))\n",
    "print('-'*20)\n",
    "\n",
    "prime_factors = primeFactors(num)\n",
    "print('prime factors of {} are: {}'.format(num, prime_factors))"
   ]
  },
  {
   "cell_type": "markdown",
   "metadata": {},
   "source": [
    "# 4. Permutation and Combination\n",
    "**Write a program to implement these formulae of permutations and combinations.**\n",
    "\n",
    "**Number of permutations of n objects taken r at a time: $P(n, r) = \\frac{n!}{(n-r)!}$.**\n",
    "\n",
    "**Number of combinations of n objects taken r at a time is: $C(n, r) = \\frac{n!}{(r!*(n-r)!)} = \\frac{p(n,r)}{r!}$**"
   ]
  },
  {
   "cell_type": "code",
   "execution_count": 451,
   "metadata": {},
   "outputs": [
    {
     "name": "stdout",
     "output_type": "stream",
     "text": [
      "Enter value of n and r using a space: 10 5\n",
      "--------------------\n",
      "P(10,5) = 30240\n",
      "C(10,5) = 252\n"
     ]
    }
   ],
   "source": [
    "def fact(n):\n",
    "    return 1 if n<=1 else n*fact(n-1)\n",
    "\n",
    "def permutation(n, r):\n",
    "    return fact(n)//fact(n-r)\n",
    "   \n",
    "def combination(n, r):\n",
    "    return permutation(n,r)//fact(r)\n",
    "\n",
    "\n",
    "n, r = list(map(int, input('Enter value of n and r using a space: ').split(' ')))\n",
    "print('-'*20)\n",
    "\n",
    "p = permutation(n, r) \n",
    "print('P({},{}) = {}'.format(n, r, p))\n",
    "\n",
    "c = combination(n, r)\n",
    "print('C({},{}) = {}'.format(n, r, c))"
   ]
  },
  {
   "cell_type": "markdown",
   "metadata": {},
   "source": [
    "# 5. Decimal to Binary\n",
    "**Write a function that converts a decimal number to binary number**"
   ]
  },
  {
   "cell_type": "code",
   "execution_count": 452,
   "metadata": {},
   "outputs": [
    {
     "name": "stdout",
     "output_type": "stream",
     "text": [
      "Enter a decimal number: 12.25\n",
      "--------------------\n",
      "Binary of 12.25 is: 1100.01\n"
     ]
    }
   ],
   "source": [
    "from functools import reduce\n",
    "def BinaryOfDecimal(num):\n",
    "    binary = []\n",
    "    while num!= 0:\n",
    "        binary.insert(0, num % 2)\n",
    "        num //= 2\n",
    "    return reduce(lambda x,y : x*10+y, binary)\n",
    "# -------------------------------------------------\n",
    "\n",
    "def BinaryOfFractional(fract):\n",
    "    if fract == 0:\n",
    "        return 0\n",
    "    fract = float('0.'+str(fract))\n",
    "    fract_list = ['.']\n",
    "    while (fract != 0) and (len(fract_list)<=20):\n",
    "        decimal, fract = str(fract*2).split('.')\n",
    "        fract = float('0.'+str(fract))\n",
    "        fract_list.append(decimal)\n",
    "    return float(''.join(fract_list))\n",
    "\n",
    "# -------------------------------------------------\n",
    "\n",
    "def decimalToBinary(n):\n",
    "    decimal_part, fractional_part = map(int, str(n).split('.'))\n",
    "    return BinaryOfDecimal(decimal_part) + BinaryOfFractional(fractional_part)\n",
    "\n",
    "# ==================================================\n",
    "\n",
    "def main():\n",
    "    num = float(input('Enter a decimal number: '))\n",
    "    print('-'*20)\n",
    "\n",
    "    binary = decimalToBinary(num)\n",
    "    \n",
    "    print('Binary of {} is: {}'.format(num, binary))\n",
    "\n",
    "if __name__ == '__main__':\n",
    "    main()"
   ]
  },
  {
   "cell_type": "markdown",
   "metadata": {},
   "source": [
    "# 6. Armstrong Number\n",
    "**Write a function cubesum() that accepts an integer and returns the sum of the cubes of individual digits of that number.<br>\n",
    "Use this function to make functions PrintArmstrong() and isArmstrong() to print Armstrong numbers and to find whether is an Armstrong number.**"
   ]
  },
  {
   "cell_type": "code",
   "execution_count": 453,
   "metadata": {},
   "outputs": [
    {
     "name": "stdout",
     "output_type": "stream",
     "text": [
      "Enter a number: 153\n",
      "--------------------\n",
      "153 is an armstorng number\n"
     ]
    }
   ],
   "source": [
    "def cubesum(num):\n",
    "    return sum([i**3 for i in map(int, list(str(num)))])\n",
    "    \n",
    "def PrintArmstrong(num):\n",
    "    print(\"{} is an armstorng number\".format(cubesum(num)))\n",
    "    \n",
    "def isArmstrong(num):\n",
    "    return True if num == cubesum(num) else False\n",
    "\n",
    "# =======================================================\n",
    "number = int(input('Enter a number: '))\n",
    "print('-'*20)\n",
    "\n",
    "if isArmstrong(number):\n",
    "    PrintArmstrong(number)\n",
    "else:\n",
    "    print('{} is not an armstrong number'.format(number))"
   ]
  },
  {
   "cell_type": "markdown",
   "metadata": {},
   "source": [
    "# 7. Product of Digits\n",
    "**Write a function prodDigits() that inputs a number and returns the product of digits of that number.**"
   ]
  },
  {
   "cell_type": "code",
   "execution_count": 454,
   "metadata": {},
   "outputs": [
    {
     "name": "stdout",
     "output_type": "stream",
     "text": [
      "Enter a number: 235\n",
      "--------------------\n",
      "product of digits is: 30\n"
     ]
    }
   ],
   "source": [
    "from functools import reduce\n",
    "\n",
    "def prodDigits(num):\n",
    "    if num == int(num):\n",
    "        return reduce(lambda x,y:x*y, map(int, list(str(int(num)))))\n",
    "    return reduce(lambda x,y:x*y, map(int, filter(lambda x: x!='.', list(str(num)))))\n",
    "\n",
    "# ==========================================================\n",
    "num = float(input('Enter a number: '))\n",
    "print('-'*20)\n",
    "product = prodDigits(num)\n",
    "print('product of digits is: {}'.format(product))"
   ]
  },
  {
   "cell_type": "markdown",
   "metadata": {},
   "source": [
    "# 8. Multiplicative Digital Root and Multiplicative Persistance\n",
    "**If all digits of a number n are multiplied by each other repeating with the product, the one digit number obtained at last is called the *multiplicative digital root* of n.\n",
    "The number of times digits need to be multiplied to reach one digit is called the *multiplicative persistance* of n.<br>\n",
    "**Example:**<br>\n",
    "**86 -> 48 -> 32 -> 6 (MDR 6, MPersistence 3)<br>\n",
    "341 -> 12->2 (MDR 2, MPersistence 2)<br>\n",
    "Using the function prodDigits() of previous exercise write functions MDR() and MPersistence() that input a number and return its multiplicative digital root and multiplicative persistence respectively**"
   ]
  },
  {
   "cell_type": "code",
   "execution_count": 295,
   "metadata": {},
   "outputs": [
    {
     "name": "stdout",
     "output_type": "stream",
     "text": [
      "Enter a number: 86\n",
      "--------------------\n",
      "Multiplicative digital root of 86 is: 6\n",
      "Multiplicative persistence of 86 is: 3\n"
     ]
    }
   ],
   "source": [
    "def MDR(n):\n",
    "    while len(str(n)) != 1:\n",
    "        n = prodDigits(n)\n",
    "    return n\n",
    "# ---------------------------------------------\n",
    "def MPersistence(n):\n",
    "    c = 0\n",
    "    while len(str(n)) != 1:\n",
    "        n = prodDigits(n)\n",
    "        c += 1\n",
    "    return c\n",
    "# ============================================\n",
    "\n",
    "num = int(input('Enter a number: '))\n",
    "print('-'*20)\n",
    "print('Multiplicative digital root of {} is: {}'.format(num, MDR(num)))\n",
    "print('Multiplicative persistence of {} is: {}'.format(num, MPersistence(num)))"
   ]
  },
  {
   "cell_type": "markdown",
   "metadata": {},
   "source": [
    "# 9. Sum of Proper Dovisors\n",
    "**Write a function sumPdivisors() that finds the sum of proper divisors of a number. Proper\n",
    "divisors of a number are those numbers by which the number is divisible, except the\n",
    "number itself. For example proper divisors of 36 are 1, 2, 3, 4, 6, 9, 12, 18**"
   ]
  },
  {
   "cell_type": "code",
   "execution_count": 375,
   "metadata": {},
   "outputs": [
    {
     "name": "stdout",
     "output_type": "stream",
     "text": [
      "Enter a number: 36\n",
      "--------------------\n",
      "sum of proper divisior of 36 is: 55\n"
     ]
    }
   ],
   "source": [
    "def sumPdivisiors(n):\n",
    "    return n if (n==1) or (n==0) else sum(list(filter(lambda x: n%x==0, range(1, n))))\n",
    "\n",
    "\n",
    "num = int(input('Enter a number: '))\n",
    "print('-'*20)\n",
    "\n",
    "print('sum of proper divisior of {} is: {}'.format(num, sumPdivisiors(num)))"
   ]
  },
  {
   "cell_type": "markdown",
   "metadata": {},
   "source": [
    "# 10. Perfect Numbers\n",
    "**A number is called perfect if the sum of proper divisors of that number is equal to the number. For example 28 is perfect number, since 1+2+4+7+14=28. Write a program to print all the perfect numbers in a given range**"
   ]
  },
  {
   "cell_type": "code",
   "execution_count": 376,
   "metadata": {},
   "outputs": [
    {
     "name": "stdout",
     "output_type": "stream",
     "text": [
      "Enter a number: 50\n",
      "--------------------\n",
      "all perfect numbers in range(1, 50) are: [1, 6, 28]\n"
     ]
    }
   ],
   "source": [
    "num = int(input('Enter a number: '))\n",
    "print('-'*20)\n",
    "perfect_numbers = list(filter(lambda x: x==sumPdivisiors(x), range(1,num)))\n",
    "\n",
    "print('all perfect numbers in range(1, {}) are: {}'.format(num, perfect_numbers))"
   ]
  },
  {
   "cell_type": "markdown",
   "metadata": {},
   "source": [
    "# 11. Amicable Numbers\n",
    "**Two different numbers are called amicable numbers if the sum of the proper divisors of each is equal to the other number.<br>\n",
    "For example 220 and 284 are amicable numbers.<br>\n",
    "Sum of proper divisors of 220 = 1+2+4+5+10+11+20+22+44+55+110 = 284<br>\n",
    "Sum of proper divisors of 284 = 1+2+4+71+142 = 220<br>\n",
    "Write a function to print pairs of amicable numbers in a range**"
   ]
  },
  {
   "cell_type": "code",
   "execution_count": 378,
   "metadata": {},
   "outputs": [
    {
     "name": "stdout",
     "output_type": "stream",
     "text": [
      "Enter a number: 10000\n",
      "--------------------\n",
      "all pairs of amicalbe numbers in range(1, 10000) are: \n",
      "[(220, 284), (1184, 1210), (2620, 2924), (5020, 5564), (6232, 6368)]\n"
     ]
    }
   ],
   "source": [
    "num = int(input('Enter a number: '))\n",
    "print('-'*20)\n",
    "\n",
    "sum_of_proper_divisors = [sumPdivisiors(i) for i in range(num)]\n",
    "\n",
    "amicable_numbers = []\n",
    "\n",
    "for i in range(num):\n",
    "    for j in range(i+1, num):\n",
    "        if sum_of_proper_divisors[i]==j and sum_of_proper_divisors[j]==i:\n",
    "            amicable_numbers.append((i,j))\n",
    "            \n",
    "if len(amicable_numbers)==0:\n",
    "    print('there is no amicable numbers in range(1, {})'.format(num))\n",
    "else:\n",
    "    print(\"all pairs of amicalbe numbers in range(1, {}) are: \".format(num))            \n",
    "    print(amicable_numbers)"
   ]
  },
  {
   "cell_type": "markdown",
   "metadata": {},
   "source": [
    "# 12. Odd Numbers\n",
    "**Write a program which can filter odd numbers in a list by using filter function**"
   ]
  },
  {
   "cell_type": "code",
   "execution_count": 462,
   "metadata": {},
   "outputs": [
    {
     "name": "stdout",
     "output_type": "stream",
     "text": [
      "Enter a number: 25\n",
      "--------------------\n",
      "list of odd numbers in range(0, 25): \n",
      "[1, 3, 5, 7, 9, 11, 13, 15, 17, 19, 21, 23]\n"
     ]
    }
   ],
   "source": [
    "num = int(input('Enter a number: '))\n",
    "print('-'*20)\n",
    "\n",
    "odd_numbers = list(filter(lambda x:x%2==1, range(num)))\n",
    "\n",
    "print('list of odd numbers in range(0, {}): '.format(num))\n",
    "print(odd_numbers)"
   ]
  },
  {
   "cell_type": "markdown",
   "metadata": {},
   "source": [
    "# 13. Cube of Numbers\n",
    "**Write a program which can map() to make a list whose elements are cube of elements in\n",
    "a given list**"
   ]
  },
  {
   "cell_type": "code",
   "execution_count": 464,
   "metadata": {},
   "outputs": [
    {
     "name": "stdout",
     "output_type": "stream",
     "text": [
      "Enter a number: 10\n",
      "--------------------\n",
      "list of cube of numbers in range(0, 10): \n",
      "[0, 1, 8, 27, 64, 125, 216, 343, 512, 729]\n"
     ]
    }
   ],
   "source": [
    "num = int(input('Enter a number: '))\n",
    "print('-'*20)\n",
    "\n",
    "cube_list = list(map(lambda x:x**3, range(num)))\n",
    "\n",
    "print('list of cube of numbers in range(0, {}): '.format(num))\n",
    "print(cube_list)"
   ]
  },
  {
   "cell_type": "markdown",
   "metadata": {},
   "source": [
    "# 14. Cube of Even Numbers\n",
    "**Write a program which can map() and filter() to make a list whose elements are cube of\n",
    "even number in a given list**"
   ]
  },
  {
   "cell_type": "code",
   "execution_count": 465,
   "metadata": {},
   "outputs": [
    {
     "name": "stdout",
     "output_type": "stream",
     "text": [
      "Enter a number: 25\n",
      "--------------------\n",
      "list of cube of even numbers in range(0, 25): \n",
      "[0, 8, 64, 216, 512, 1000, 1728, 2744, 4096, 5832, 8000, 10648, 13824]\n"
     ]
    }
   ],
   "source": [
    "num = int(input('Enter a number: '))\n",
    "print('-'*20)\n",
    "\n",
    "even_number_cube = list(map(lambda x:x**3, filter(lambda x:x%2==0, range(num))))\n",
    "\n",
    "print('list of cube of even numbers in range(0, {}): '.format(num))\n",
    "print(even_number_cube)"
   ]
  }
 ],
 "metadata": {
  "kernelspec": {
   "display_name": "Python 3",
   "language": "python",
   "name": "python3"
  },
  "language_info": {
   "codemirror_mode": {
    "name": "ipython",
    "version": 3
   },
   "file_extension": ".py",
   "mimetype": "text/x-python",
   "name": "python",
   "nbconvert_exporter": "python",
   "pygments_lexer": "ipython3",
   "version": "3.7.1"
  }
 },
 "nbformat": 4,
 "nbformat_minor": 2
}
